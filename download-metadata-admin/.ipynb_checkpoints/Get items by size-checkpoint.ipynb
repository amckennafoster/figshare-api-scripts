{
 "cells": [
  {
   "cell_type": "markdown",
   "id": "thorough-dictionary",
   "metadata": {},
   "source": [
    "## This retrieves all metadata from a portal and sorts by item size\n"
   ]
  },
  {
   "cell_type": "markdown",
   "id": "pressed-williams",
   "metadata": {},
   "source": [
    "## Import libraries"
   ]
  },
  {
   "cell_type": "code",
   "execution_count": 1,
   "id": "f7e37a43",
   "metadata": {},
   "outputs": [],
   "source": [
    "import json\n",
    "import requests\n",
    "import pandas as pd\n",
    "import csv\n",
    "import datetime"
   ]
  },
  {
   "cell_type": "markdown",
   "id": "authentic-lending",
   "metadata": {},
   "source": [
    "## Set base URL"
   ]
  },
  {
   "cell_type": "code",
   "execution_count": 2,
   "id": "continued-screen",
   "metadata": {},
   "outputs": [],
   "source": [
    "#Set the base URL\n",
    "BASE_URL = 'https://api.figshare.com/v2'\n"
   ]
  },
  {
   "cell_type": "markdown",
   "id": "genuine-blowing",
   "metadata": {},
   "source": [
    "## Retrieve Metadata by Author Name (Note this does not disambiguate people with the same name)"
   ]
  },
  {
   "cell_type": "code",
   "execution_count": 3,
   "id": "eligible-sheet",
   "metadata": {},
   "outputs": [],
   "source": [
    "#author name\n",
    "#name = \"ENTER NAME BETWEEN QUOTES\"\n",
    "\n",
    "#Institution id\n",
    "INST_ID = \"969\" #Example INST_ID = \"658\""
   ]
  },
  {
   "cell_type": "code",
   "execution_count": 4,
   "id": "mental-breast",
   "metadata": {},
   "outputs": [
    {
     "name": "stdout",
     "output_type": "stream",
     "text": [
      "Collected 85 metadata records\n"
     ]
    }
   ],
   "source": [
    "#Retrieve list of metadata\n",
    "#SET THE PAGE SIZE to make sure you get all the records\n",
    "\n",
    "#Gather basic metadata for items (articles) that meet your search criteria\n",
    "\n",
    "query = '{\"search_for\":\"\", \"institution\":' + INST_ID + ', \"page_size\":100}' #Set up string\n",
    "y = json.loads(query) #Convert the string to a dictionary (JSON)\n",
    "#y['search_for'] = ':author: \\\"'+ name + '\\\"' #This add in the name you are searching for in quotes for an exact match\n",
    "\n",
    "#y = json.loads(query) #Figshare API requires json paramaters\n",
    "r=requests.post(BASE_URL + \"/articles/search\", params=y)\n",
    "articles = json.loads(r.text) \n",
    "\n",
    "if r.status_code != 200:\n",
    "    print('Something is wrong:',r.content)\n",
    "else:\n",
    "    print('Collected',len(articles),'metadata records')"
   ]
  },
  {
   "cell_type": "code",
   "execution_count": 5,
   "id": "possible-passage",
   "metadata": {},
   "outputs": [],
   "source": [
    "#Create a list of all the article ids\n",
    "article_ids = [item['id'] for item in articles]"
   ]
  },
  {
   "cell_type": "code",
   "execution_count": 10,
   "id": "democratic-settle",
   "metadata": {},
   "outputs": [],
   "source": [
    "#For each id in the article id list, retrieve all the metadata for the article by visiting the Figshare article API endpoint \n",
    "#This may take a while- for example, 6,000 records takes about 1.5 hours\n",
    "full_articles = []\n",
    "for art_id in article_ids:\n",
    "    article = json.loads(requests.get(BASE_URL + \"/articles/{}\".format(art_id)).content)\n",
    "    article['item_id'] = article.pop('id')\n",
    "    full_articles.append(article)"
   ]
  },
  {
   "cell_type": "code",
   "execution_count": null,
   "id": "arabic-exchange",
   "metadata": {},
   "outputs": [],
   "source": [
    "#Get file info\n",
    "files = pd.json_normalize(\n",
    "    full_articles, \n",
    "    record_path =['files'], \n",
    "    meta=['item_id']\n",
    ")\n",
    "#This reshapes the data so that metadata field names are columns and each row is an id.\n",
    "#files = files.pivot(index=\"id\", columns=\"name\", values=\"value\")"
   ]
  },
  {
   "cell_type": "code",
   "execution_count": 16,
   "id": "deluxe-pakistan",
   "metadata": {},
   "outputs": [
    {
     "data": {
      "text/plain": [
       "item_id\n",
       "14980698     83231784982\n",
       "15026043       542915422\n",
       "15041316     14432019729\n",
       "15050289      2428895453\n",
       "16510584     79333676922\n",
       "16821412    431229976478\n",
       "16850653    486420963506\n",
       "16867417      1745488589\n",
       "16989889         5299603\n",
       "17113883    208139751689\n",
       "Name: size, dtype: int64"
      ]
     },
     "execution_count": 16,
     "metadata": {},
     "output_type": "execute_result"
    }
   ],
   "source": [
    "test = files.groupby(by=['item_id'])['size'].sum()\n",
    "test.to_frame()\n",
    "test.sort_by(by=['size'])\n",
    "test.head(10)"
   ]
  },
  {
   "cell_type": "code",
   "execution_count": 22,
   "id": "minus-station",
   "metadata": {},
   "outputs": [
    {
     "data": {
      "text/html": [
       "<div>\n",
       "<style scoped>\n",
       "    .dataframe tbody tr th:only-of-type {\n",
       "        vertical-align: middle;\n",
       "    }\n",
       "\n",
       "    .dataframe tbody tr th {\n",
       "        vertical-align: top;\n",
       "    }\n",
       "\n",
       "    .dataframe thead th {\n",
       "        text-align: right;\n",
       "    }\n",
       "</style>\n",
       "<table border=\"1\" class=\"dataframe\">\n",
       "  <thead>\n",
       "    <tr style=\"text-align: right;\">\n",
       "      <th></th>\n",
       "      <th>size</th>\n",
       "    </tr>\n",
       "    <tr>\n",
       "      <th>item_id</th>\n",
       "      <th></th>\n",
       "    </tr>\n",
       "  </thead>\n",
       "  <tbody>\n",
       "    <tr>\n",
       "      <th>14980698</th>\n",
       "      <td>83231784982</td>\n",
       "    </tr>\n",
       "    <tr>\n",
       "      <th>15026043</th>\n",
       "      <td>542915422</td>\n",
       "    </tr>\n",
       "    <tr>\n",
       "      <th>15041316</th>\n",
       "      <td>14432019729</td>\n",
       "    </tr>\n",
       "    <tr>\n",
       "      <th>15050289</th>\n",
       "      <td>2428895453</td>\n",
       "    </tr>\n",
       "    <tr>\n",
       "      <th>16510584</th>\n",
       "      <td>79333676922</td>\n",
       "    </tr>\n",
       "  </tbody>\n",
       "</table>\n",
       "</div>"
      ],
      "text/plain": [
       "                 size\n",
       "item_id              \n",
       "14980698  83231784982\n",
       "15026043    542915422\n",
       "15041316  14432019729\n",
       "15050289   2428895453\n",
       "16510584  79333676922"
      ]
     },
     "execution_count": 22,
     "metadata": {},
     "output_type": "execute_result"
    }
   ],
   "source": [
    "testdf = test.to_frame()\n",
    "testdf.rename(index={1: \"size\"}, inplace=True)\n",
    "testdf.head()"
   ]
  },
  {
   "cell_type": "code",
   "execution_count": 25,
   "id": "unexpected-virtue",
   "metadata": {},
   "outputs": [
    {
     "data": {
      "text/html": [
       "<div>\n",
       "<style scoped>\n",
       "    .dataframe tbody tr th:only-of-type {\n",
       "        vertical-align: middle;\n",
       "    }\n",
       "\n",
       "    .dataframe tbody tr th {\n",
       "        vertical-align: top;\n",
       "    }\n",
       "\n",
       "    .dataframe thead th {\n",
       "        text-align: right;\n",
       "    }\n",
       "</style>\n",
       "<table border=\"1\" class=\"dataframe\">\n",
       "  <thead>\n",
       "    <tr style=\"text-align: right;\">\n",
       "      <th></th>\n",
       "      <th>size</th>\n",
       "    </tr>\n",
       "    <tr>\n",
       "      <th>item_id</th>\n",
       "      <th></th>\n",
       "    </tr>\n",
       "  </thead>\n",
       "  <tbody>\n",
       "    <tr>\n",
       "      <th>21375565</th>\n",
       "      <td>1530541492772</td>\n",
       "    </tr>\n",
       "    <tr>\n",
       "      <th>22202866</th>\n",
       "      <td>945730673646</td>\n",
       "    </tr>\n",
       "    <tr>\n",
       "      <th>19310870</th>\n",
       "      <td>510416713884</td>\n",
       "    </tr>\n",
       "    <tr>\n",
       "      <th>16850653</th>\n",
       "      <td>486420963506</td>\n",
       "    </tr>\n",
       "    <tr>\n",
       "      <th>19607172</th>\n",
       "      <td>446685353425</td>\n",
       "    </tr>\n",
       "    <tr>\n",
       "      <th>...</th>\n",
       "      <td>...</td>\n",
       "    </tr>\n",
       "    <tr>\n",
       "      <th>18143735</th>\n",
       "      <td>123663</td>\n",
       "    </tr>\n",
       "    <tr>\n",
       "      <th>21711245</th>\n",
       "      <td>68050</td>\n",
       "    </tr>\n",
       "    <tr>\n",
       "      <th>20492757</th>\n",
       "      <td>51460</td>\n",
       "    </tr>\n",
       "    <tr>\n",
       "      <th>21675005</th>\n",
       "      <td>15832</td>\n",
       "    </tr>\n",
       "    <tr>\n",
       "      <th>21679799</th>\n",
       "      <td>9377</td>\n",
       "    </tr>\n",
       "  </tbody>\n",
       "</table>\n",
       "<p>85 rows × 1 columns</p>\n",
       "</div>"
      ],
      "text/plain": [
       "                   size\n",
       "item_id                \n",
       "21375565  1530541492772\n",
       "22202866   945730673646\n",
       "19310870   510416713884\n",
       "16850653   486420963506\n",
       "19607172   446685353425\n",
       "...                 ...\n",
       "18143735         123663\n",
       "21711245          68050\n",
       "20492757          51460\n",
       "21675005          15832\n",
       "21679799           9377\n",
       "\n",
       "[85 rows x 1 columns]"
      ]
     },
     "execution_count": 25,
     "metadata": {},
     "output_type": "execute_result"
    }
   ],
   "source": [
    "testdf.sort_values(by=['size'], ascending=False)"
   ]
  }
 ],
 "metadata": {
  "kernelspec": {
   "display_name": "Python 3",
   "language": "python",
   "name": "python3"
  },
  "language_info": {
   "codemirror_mode": {
    "name": "ipython",
    "version": 3
   },
   "file_extension": ".py",
   "mimetype": "text/x-python",
   "name": "python",
   "nbconvert_exporter": "python",
   "pygments_lexer": "ipython3",
   "version": "3.9.1"
  }
 },
 "nbformat": 4,
 "nbformat_minor": 5
}
