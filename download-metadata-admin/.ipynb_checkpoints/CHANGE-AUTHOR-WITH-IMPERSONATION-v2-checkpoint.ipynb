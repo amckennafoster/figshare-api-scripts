{
 "cells": [
  {
   "cell_type": "markdown",
   "id": "blind-freight",
   "metadata": {},
   "source": [
    "# Impersonate and change author\n",
    "\n",
    "If you want to replace every instance of an author in a list of records, this script will impersonate the person's account, gather all their records and replace their author. Their account will still own the records.\n",
    "\n",
    "If you unpublish the items first, they won't get a DOI version.\n"
   ]
  },
  {
   "cell_type": "code",
   "execution_count": 1,
   "id": "closing-drive",
   "metadata": {},
   "outputs": [],
   "source": [
    "import json\n",
    "import requests"
   ]
  },
  {
   "cell_type": "code",
   "execution_count": 4,
   "id": "molecular-thickness",
   "metadata": {},
   "outputs": [],
   "source": [
    "#Set the token in the header and base URL\n",
    "\n",
    "text_file = open(\"./././testing-token.txt\", \"r\") #Paste your token in a text file and save it where this notebook is\n",
    "TOKEN = text_file.read()\n",
    "TOKEN.strip() #removes any hidden spaces\n",
    "text_file.close()\n",
    "\n",
    "\n",
    "api_call_headers = {'Authorization': 'token ' + TOKEN}\n",
    "\n",
    "\n",
    "#Get the author info from this endpoint: https://docs.figshare.com/#private_institution_accounts_list\n",
    "account_id = ENTER ACCOUNT ID #This is 'id' in the endpoint output and is the account id for impersonation\n",
    "user_id = ENTER USER ID #this is the user_id in the endpoint output and will be replaced by the new user (author) id later \n",
    " \n",
    "\n",
    "\n",
    "#Set the base URL\n",
    "BASE_URL = 'https://api.figshare.com/v2' #Change this to 'https://api.figsh.com/v2' if you want to test in stage"
   ]
  },
  {
   "cell_type": "markdown",
   "id": "union-horizontal",
   "metadata": {},
   "source": [
    "## Get a list of article ids\n",
    "\n",
    "Get a list of all the articles the account owns."
   ]
  },
  {
   "cell_type": "code",
   "execution_count": 8,
   "id": "strange-constraint",
   "metadata": {},
   "outputs": [
    {
     "name": "stdout",
     "output_type": "stream",
     "text": [
      "15 item ids collected\n"
     ]
    }
   ],
   "source": [
    "#Gather all the article ids\n",
    "\n",
    "s = requests.get(BASE_URL + '/account/articles?page=1&page_size=20&impersonate=' + str(account_id), headers=api_call_headers) \n",
    "metadata=json.loads(s.text)\n",
    "\n",
    "article_ids = []\n",
    "\n",
    "for i in metadata:\n",
    "    if i['published_date'] != None: #if a record has a published date\n",
    "        article_ids.append(i['id'])\n",
    "\n",
    "print(len(article_ids),'item ids collected')\n"
   ]
  },
  {
   "cell_type": "markdown",
   "id": "boring-triangle",
   "metadata": {},
   "source": [
    "## Retrieve Author information\n",
    "The author info is in the same order as the item id list- This is important!"
   ]
  },
  {
   "cell_type": "code",
   "execution_count": 11,
   "id": "sorted-resolution",
   "metadata": {},
   "outputs": [
    {
     "name": "stdout",
     "output_type": "stream",
     "text": [
      "12 author sets collected\n",
      "Unpublish these items: [8324958, 8283932, 8250362, 7658738, 7183908, 7183888, 7183886, 6969378, 6968984, 6968976, 6965540, 5735939]\n"
     ]
    }
   ],
   "source": [
    "#Creates a list dictionaries with the key as the item id and value as a dictionary of authors. \n",
    "\n",
    "author_list = []\n",
    "published_items = []\n",
    "\n",
    "for item_id in article_ids: \n",
    "    s=requests.get(BASE_URL + '/account/articles/' + str(item_id), headers=api_call_headers)\n",
    "    metadata=json.loads(s.text)\n",
    "    if metadata['status'] == 'public': #if a record has a published date\n",
    "        published_items.append(metadata['id'])\n",
    "        authors = metadata['authors']\n",
    "        author_id_list = []\n",
    "        for a in authors:\n",
    "            id_list = {key: a[key] for key in a.keys() & {'id'}} #extracts just the author ids\n",
    "            author_id_list.append(id_list)\n",
    "        author_dict = {}\n",
    "        author_dict['authors'] = author_id_list\n",
    "        author_dict['impersonate'] = account_id\n",
    "        author_list.append(author_dict)\n",
    "\n",
    "print(len(author_list),'author sets collected')\n",
    "print('Unpublish these items:',published_items)"
   ]
  },
  {
   "cell_type": "markdown",
   "id": "restricted-saint",
   "metadata": {},
   "source": [
    "#### Copy and paste the item ids above (ignore the square brackets) and paste into the unpublish field in the administrator page.\n",
    "That will unpublish them and when they are republished below, they will not be DOI versioned"
   ]
  },
  {
   "cell_type": "markdown",
   "id": "structural-paper",
   "metadata": {},
   "source": [
    "## Change id for the appropriate author"
   ]
  },
  {
   "cell_type": "code",
   "execution_count": 12,
   "id": "drawn-father",
   "metadata": {},
   "outputs": [],
   "source": [
    "new_user_id = ENTER USER ID #this is the user_id in the endpoint output\n"
   ]
  },
  {
   "cell_type": "code",
   "execution_count": 13,
   "id": "naval-strain",
   "metadata": {},
   "outputs": [],
   "source": [
    "#Make the author id changes to prepare for upload\n",
    "for i in author_list: #author_list is a list of dictionaries that contain a list of dictionaries\n",
    "    for j in i['authors']: #for each dictionary in the list of author dictionaries\n",
    "        for ids, a_id in j.items(): # for each key value pair \n",
    "            if a_id == user_id: #if the value matches the author id/user id\n",
    "                j[ids] = new_user_id #replace with the new id\n"
   ]
  },
  {
   "cell_type": "code",
   "execution_count": 14,
   "id": "introductory-shift",
   "metadata": {},
   "outputs": [
    {
     "data": {
      "text/plain": [
       "[{'authors': [{'id': 1448415}], 'impersonate': 1128601},\n",
       " {'authors': [{'id': 1448415}], 'impersonate': 1128601},\n",
       " {'authors': [{'id': 1448415}], 'impersonate': 1128601},\n",
       " {'authors': [{'id': 1448415}, {'id': 1002514}, {'id': 1448413}],\n",
       "  'impersonate': 1128601},\n",
       " {'authors': [{'id': 1448415}], 'impersonate': 1128601},\n",
       " {'authors': [{'id': 1448415}, {'id': 2155540}], 'impersonate': 1128601},\n",
       " {'authors': [{'id': 1448415}], 'impersonate': 1128601},\n",
       " {'authors': [{'id': 1448415}, {'id': 1448413}], 'impersonate': 1128601},\n",
       " {'authors': [{'id': 1448415}], 'impersonate': 1128601},\n",
       " {'authors': [{'id': 1448415}], 'impersonate': 1128601},\n",
       " {'authors': [{'id': 1448415}], 'impersonate': 1128601},\n",
       " {'authors': [{'id': 1448415}], 'impersonate': 1128601}]"
      ]
     },
     "execution_count": 14,
     "metadata": {},
     "output_type": "execute_result"
    }
   ],
   "source": [
    "#See the format of the author list\n",
    "author_list"
   ]
  },
  {
   "cell_type": "markdown",
   "id": "another-interference",
   "metadata": {},
   "source": [
    "# Then upload the new author(s)\n",
    "\n",
    "This assumes the lists are ordered in the same way!"
   ]
  },
  {
   "cell_type": "code",
   "execution_count": 76,
   "id": "sought-pressing",
   "metadata": {},
   "outputs": [
    {
     "name": "stdout",
     "output_type": "stream",
     "text": [
      "0 records published.  0 author change fails.  2 publish fails.\n",
      "Change failure details: []\n",
      "Publish failure details: ['b\\'{\"message\": \"Missing mandatory value: Did you add a README file?\", \"code\": \\'', 'b\\'{\"message\": \"Missing mandatory value: Did you add a README file?\", \"code\": \\'']\n"
     ]
    }
   ],
   "source": [
    "#Change and publish records\n",
    "\n",
    "record_change_fails = []\n",
    "record_publish_fails = []\n",
    "success_count = 0\n",
    "item_count = 0\n",
    "\n",
    "for i in article_ids:\n",
    "    \n",
    "    #Change the authors\n",
    "    author_data =  author_list[item_count]\n",
    "    item_count += 1\n",
    "    #format as json\n",
    "    author_json = json.dumps(author_data)\n",
    "    \n",
    "    s = requests.put(BASE_URL + '/account/articles/' + str(i), headers=api_call_headers, data = author_json) \n",
    "    if s.status_code != 205:\n",
    "        record_change_fails.append(str(s.content[0:75])) #Add failed index to list with partial description\n",
    "    else:\n",
    "        #Publish the record\n",
    "        body = '{\"impersonate\":' + str(account_id) + '}'\n",
    "        u = requests.post(BASE_URL + '/account/articles/' + str(i) +'/publish', headers=api_call_headers, data = body)\n",
    "        if u.status_code != 201:\n",
    "            record_publish_fails.append(str(u.content[0:75])) #Add failed index to list with partial description\n",
    "        else:\n",
    "            success_count += 1\n",
    "        \n",
    "print(success_count,'records published. ', len(record_change_fails),'author change fails. ',len(record_publish_fails),'publish fails.')\n",
    "print('Change failure details:',record_change_fails)\n",
    "print('Publish failure details:',record_publish_fails)\n",
    "      \n",
    "      \n",
    "      "
   ]
  },
  {
   "cell_type": "markdown",
   "id": "solar-connection",
   "metadata": {},
   "source": [
    "#### To publish all the records at once and automate the review process, delete the code that publishes the record. Use the Admin Batch Management tool to download the private metadata for your repository. Delete all rows except the drafts you'd like to publish. Re- upload that set of metadata through the Batch Management tool and select publish and automatically review."
   ]
  },
  {
   "cell_type": "code",
   "execution_count": null,
   "id": "prescribed-potato",
   "metadata": {},
   "outputs": [],
   "source": []
  }
 ],
 "metadata": {
  "kernelspec": {
   "display_name": "Python 3",
   "language": "python",
   "name": "python3"
  },
  "language_info": {
   "codemirror_mode": {
    "name": "ipython",
    "version": 3
   },
   "file_extension": ".py",
   "mimetype": "text/x-python",
   "name": "python",
   "nbconvert_exporter": "python",
   "pygments_lexer": "ipython3",
   "version": "3.9.1"
  }
 },
 "nbformat": 4,
 "nbformat_minor": 5
}
