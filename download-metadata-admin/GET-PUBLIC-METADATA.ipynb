{
 "cells": [
  {
   "cell_type": "markdown",
   "id": "pressed-williams",
   "metadata": {},
   "source": [
    "## Import libraries"
   ]
  },
  {
   "cell_type": "code",
   "execution_count": null,
   "id": "f7e37a43",
   "metadata": {},
   "outputs": [],
   "source": [
    "import json\n",
    "import requests\n",
    "import pandas as pd"
   ]
  },
  {
   "cell_type": "markdown",
   "id": "authentic-lending",
   "metadata": {},
   "source": [
    "## Set variables"
   ]
  },
  {
   "cell_type": "code",
   "execution_count": null,
   "id": "62b4d3ec",
   "metadata": {},
   "outputs": [],
   "source": [
    "BASE_URL = \"https://api.figshare.com/v2/\"\n",
    "INST_ID = \"ENTER ID HERE BETWEEN QUOTES\" #Example INST_ID = \"658\""
   ]
  },
  {
   "cell_type": "markdown",
   "id": "genuine-blowing",
   "metadata": {},
   "source": [
    "## Retrieve Metadata\n",
    "1. Retrieve basic metadata\n",
    "2. Pull out a list of article ids\n",
    "3. Use those ids to retrieve all metadata fields for each article\n",
    "4. Convert the resulting JSON to a dataframe\n",
    "5. Save the dataframe to an excel file"
   ]
  },
  {
   "cell_type": "code",
   "execution_count": null,
   "id": "b014b476",
   "metadata": {},
   "outputs": [],
   "source": [
    "#Gather basic metadata for all items (articles) from the Figshare articles API endpoint\n",
    "articles = []\n",
    "for i in range(1,10):\n",
    "    ids = json.loads(requests.get(BASE_URL + \"articles?institution=\"+INST_ID+\"&page_size=1000&page={}\".format(i)).content)\n",
    "    articles.extend(ids)"
   ]
  },
  {
   "cell_type": "code",
   "execution_count": null,
   "id": "70041c4c",
   "metadata": {},
   "outputs": [],
   "source": [
    "#See the number of articles\n",
    "len(articles)"
   ]
  },
  {
   "cell_type": "code",
   "execution_count": null,
   "id": "910a7a14",
   "metadata": {},
   "outputs": [],
   "source": [
    "#Create a list of all the article ids\n",
    "article_ids = [item['id'] for item in articles]"
   ]
  },
  {
   "cell_type": "code",
   "execution_count": null,
   "id": "bac45c32",
   "metadata": {},
   "outputs": [],
   "source": [
    "#For each id in the article id list, retrieve all the metadata for the article by visiting the Figshare article API endpoint \n",
    "#This may take a while- for example, 6,000 records takes about 1.5 hours\n",
    "full_articles = []\n",
    "for art_id in article_ids:\n",
    "    article = json.loads(requests.get(BASE_URL + \"/articles/{}\".format(art_id)).content)\n",
    "    full_articles.append(article)"
   ]
  },
  {
   "cell_type": "code",
   "execution_count": null,
   "id": "020e99ca",
   "metadata": {},
   "outputs": [],
   "source": [
    "#See the number of articles\n",
    "len(full_articles)"
   ]
  },
  {
   "cell_type": "code",
   "execution_count": null,
   "id": "1180acba",
   "metadata": {},
   "outputs": [],
   "source": [
    "#View the metadata for the first article in JSON format\n",
    "full_articles[0]"
   ]
  },
  {
   "cell_type": "code",
   "execution_count": null,
   "id": "2149a183",
   "metadata": {},
   "outputs": [],
   "source": [
    "#Create a dataframe from the JSON formatted data\n",
    "df = pd.DataFrame(full_articles)"
   ]
  },
  {
   "cell_type": "markdown",
   "id": "developed-valentine",
   "metadata": {},
   "source": [
    "## Split out custom metadata fields\n",
    "If a field does not exist for an item, it will show NaN (i.e. null).\n",
    "1. Create a dataframe of custom metadata fields\n",
    "2. Merge that dataframe with the original metadata dataframe\n",
    "3. Save to an excel file"
   ]
  },
  {
   "cell_type": "code",
   "execution_count": null,
   "id": "alleged-cartoon",
   "metadata": {},
   "outputs": [],
   "source": [
    "#The custom fields are all contained within one column called 'custom_fields'. Flatten that column and associate the values\n",
    "#with the proper article id\n",
    "custom = pd.json_normalize(\n",
    "    full_articles, \n",
    "    record_path =['custom_fields'], \n",
    "    meta=['id']\n",
    ")\n",
    "#This reshapes the data so that metadata field names are columns and each row is an id.\n",
    "custom = custom.pivot(index=\"id\", columns=\"name\", values=\"value\")"
   ]
  },
  {
   "cell_type": "code",
   "execution_count": null,
   "id": "violent-error",
   "metadata": {},
   "outputs": [],
   "source": [
    "#Merge the dataframes so that all the custom fields are visible along with all the other metadata\n",
    "custom_split_out = df.merge(custom, how='inner', on='id')"
   ]
  },
  {
   "cell_type": "markdown",
   "id": "informational-pakistan",
   "metadata": {},
   "source": [
    "# Download Metadata"
   ]
  },
  {
   "cell_type": "markdown",
   "id": "detected-focus",
   "metadata": {},
   "source": [
    "## If you are running this in Google Colab"
   ]
  },
  {
   "cell_type": "code",
   "execution_count": null,
   "id": "editorial-distinction",
   "metadata": {},
   "outputs": [],
   "source": [
    "#When you run this cell it will ask you to authenticate so that you can create files to download\n",
    "from google.colab import drive\n",
    "drive.mount('/drive')"
   ]
  },
  {
   "cell_type": "code",
   "execution_count": null,
   "id": "asian-commodity",
   "metadata": {},
   "outputs": [],
   "source": [
    "from google.colab import files\n",
    "custom_split_out.to_csv('public-metadata-'+str(datetime.datetime.now().strftime(\"%Y-%m-%d\"))+'.csv',encoding='utf-8') #create the CSV\n",
    "files.download('public-metadata-'+str(datetime.datetime.now().strftime(\"%Y-%m-%d\"))+'.csv') #download to your computer"
   ]
  },
  {
   "cell_type": "markdown",
   "id": "engaging-tracker",
   "metadata": {},
   "source": [
    "## If you are running this locally\n",
    "That is you downloaded the Jupyter Notebook"
   ]
  },
  {
   "cell_type": "code",
   "execution_count": null,
   "id": "robust-directory",
   "metadata": {},
   "outputs": [],
   "source": [
    "#Save a file of all the metadata with the custom fields split out.\n",
    "save_file = custom_split_out.to_excel(\"metadata-custom-fields-split-out.xlsx\")"
   ]
  }
 ],
 "metadata": {
  "kernelspec": {
   "display_name": "Python 3",
   "language": "python",
   "name": "python3"
  },
  "language_info": {
   "codemirror_mode": {
    "name": "ipython",
    "version": 3
   },
   "file_extension": ".py",
   "mimetype": "text/x-python",
   "name": "python",
   "nbconvert_exporter": "python",
   "pygments_lexer": "ipython3",
   "version": "3.9.1"
  }
 },
 "nbformat": 4,
 "nbformat_minor": 5
}
