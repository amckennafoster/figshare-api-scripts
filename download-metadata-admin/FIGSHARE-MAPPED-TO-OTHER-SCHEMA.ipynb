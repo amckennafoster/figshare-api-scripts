{
 "cells": [
  {
   "cell_type": "markdown",
   "id": "thorough-dictionary",
   "metadata": {},
   "source": [
    "## Map Figshare metadata to another schema\n",
    "This is just an example."
   ]
  },
  {
   "cell_type": "markdown",
   "id": "pressed-williams",
   "metadata": {},
   "source": [
    "## Import libraries"
   ]
  },
  {
   "cell_type": "code",
   "execution_count": 1,
   "id": "f7e37a43",
   "metadata": {},
   "outputs": [],
   "source": [
    "import json\n",
    "import requests\n",
    "import pandas as pd\n",
    "import datetime"
   ]
  },
  {
   "cell_type": "markdown",
   "id": "authentic-lending",
   "metadata": {},
   "source": [
    "## Set Base URL"
   ]
  },
  {
   "cell_type": "code",
   "execution_count": 2,
   "id": "continued-screen",
   "metadata": {},
   "outputs": [],
   "source": [
    "#Set the base URL\n",
    "BASE_URL = 'https://api.figshare.com/v2'"
   ]
  },
  {
   "cell_type": "markdown",
   "id": "growing-breach",
   "metadata": {},
   "source": [
    "## Create list of ids\n",
    "You can get this through a search, from the Administrative Batch Management tool, etc. Or hand enter it"
   ]
  },
  {
   "cell_type": "code",
   "execution_count": 7,
   "id": "silver-tattoo",
   "metadata": {},
   "outputs": [],
   "source": [
    "item_ids = [18621923,23551983,23284910]"
   ]
  },
  {
   "cell_type": "markdown",
   "id": "incomplete-insert",
   "metadata": {},
   "source": [
    "## Download the metadata and map it to new fields"
   ]
  },
  {
   "cell_type": "code",
   "execution_count": 8,
   "id": "amateur-quick",
   "metadata": {},
   "outputs": [],
   "source": [
    "formatted = []\n",
    "\n",
    "for item in item_ids:\n",
    "    m = requests.get(BASE_URL + '/articles/' + str(item))\n",
    "    metadata=json.loads(m.text)\n",
    "    \n",
    "    if m.status_code == 200: #if the record is not a previously published and then unpublished record\n",
    "        \n",
    "        #Process the author metadata\n",
    "        counter = 0\n",
    "        author_list = \"\"\n",
    "        author_count = len(metadata['authors'])\n",
    "        for name in metadata['authors']: #Format author list to be readable\n",
    "            if counter == 0:\n",
    "                author_list = author_list + name['full_name']\n",
    "                counter += 1\n",
    "            elif counter < author_count:\n",
    "                author_list = author_list + ', ' + name['full_name']\n",
    "                counter += 1\n",
    "        \n",
    "        #Get categories\n",
    "        cats = []\n",
    "        for c in metadata['categories']:\n",
    "            cats.append(c['title'])\n",
    "\n",
    "        mapped = dict(\n",
    "        creators = author_list,\n",
    "        date = metadata['timeline']['posted'],\n",
    "        description = metadata['description'],\n",
    "        source = ['Harvested Record'],\n",
    "        identifier = metadata['doi'],\n",
    "        rights = metadata['license']['name'],\n",
    "        subject = [cats],\n",
    "        titles = metadata['title'],\n",
    "        types = metadata['defined_type_name']\n",
    "        )\n",
    "        \n",
    "        formatted.append(mapped)"
   ]
  },
  {
   "cell_type": "code",
   "execution_count": 9,
   "id": "expired-filter",
   "metadata": {},
   "outputs": [
    {
     "data": {
      "text/plain": [
       "[{'creators': 'ICES',\n",
       "  'date': '2023-06-23T10:50:52',\n",
       "  'description': '<h4>Corrigendum (23/06/2023): \\xa0An error in the data used to support primary production estimates was detected and corrected in 2022. Increasing trends in net primary production reported in the highlights, in the graphical summary and in the phytoplankton section are erroneous. Readers should refer to the WGINOR 2023 report (ICES, 2023; https://doi.org/10.17895/ices.pub.22110260) where the error has been corrected.</h4>\\n<p>The task of the Working Group on Integrated Ecosystem Assessments for the Norwegian Sea (WGINOR) is to advance the understanding of the Norwegian Sea ecosystem and to develop an operational approach for integrated ecosystem assessment (IEA) that is applicable to manage-ment. This includes research on functional connections within the ecosystem, compiling relevant time series and develop models suitable for IEA. The current report contains the results from the second meeting of a 3-year term which has six Terms of Reference (ToRs).An interim assessment of the ecosystem (ToR A) shows that since 2016 the water has become fresher and cooled slightly. Primary production has been higher the last 7 years than previously, while zooplankton biomass remains low as it has since 2003. Biomass of the major pelagic stock shows a declining trend and the decline in seabird populations have continued.Further development of the IEA approach include work with classification of trends in time se-ries of physical and biological ecosystem components (to be used for communication) and warn-ing signal analyses based on trend estimation and an outlier detection analysis of the same time series (ToR A). Work has also been done on a framework for forecasting ocean climate based on statistical models (ToR C) and a foodweb based model assessment with hindcast and forecast properties using a chance and necessity modelling approach (ToR D), and a plan has been made for a framework for exploring multispecies harvest control rules for pelagic fish (ToR B). Further work on these issues will be done in the years 2021-2023 through the research project “Sustaina-ble multispecies harvest from the Norwegian Sea and adjacent ecosystems” at the Institute for Marine Research (Norway).Work on revising the Norwegian Sea ecosystem overview (EO) was continued (ToR F). A work-shop involving experts external to WGINOR will follow up this.Science highlights from the meeting includes two model-based studies, one on harvest patterns in zooplankton fisheries and another exploring the population and ecosystem effects of changes in harvest control rules of two target species; mackerel and hake; in the Norwegian Sea and the California Current system</p>',\n",
       "  'source': ['Harvested Record'],\n",
       "  'identifier': '10.17895/ices.pub.8021',\n",
       "  'rights': 'CC BY 4.0',\n",
       "  'subject': [['Norwegian Sea (ICES Ecoregion)']],\n",
       "  'titles': 'Working Group on the Integrated Assessments of the Norwegian Sea (WGINOR; outputs from 2020 meetings)',\n",
       "  'types': 'report'},\n",
       " {'creators': 'Nicola Holden',\n",
       "  'date': '2023-06-22T10:46:49',\n",
       "  'description': '<p>Opinion piece for the Applied Microbiology International society (prev. SfAM) online magazine, The Microbiologist. Publication for the WHO world food safety day, June 2023.\\xa0</p>\\n<p>Short summary: a major food poisoning outbreak\\xa030 years ago\\xa0linked to a\\xa0fast food chain changed how we tackle food safety - so why does the pathogen responsible keep popping up?\\xa0</p>',\n",
       "  'source': ['Harvested Record'],\n",
       "  'identifier': '10.58073/SRUC.23551983.v1',\n",
       "  'rights': 'CC BY 4.0',\n",
       "  'subject': [['Agricultural, veterinary and food sciences',\n",
       "    'Biological sciences',\n",
       "    'Environmental sciences',\n",
       "    'Biomedical and clinical sciences']],\n",
       "  'titles': 'Food poisoning pathogen keeps bouncing back',\n",
       "  'types': 'report'},\n",
       " {'creators': 'Carryn de Moor, Doug Butterworth, Janet Coetzee',\n",
       "  'date': '2023-06-22T09:06:58',\n",
       "  'description': '<p>Extracts pertaining to South African pelagics in the reports by the International Review Panel of International Fisheries Stock Assessment Workshops in Decembers 2012, 2011 and 2010 are given below with responses provided by the authors in red italics.</p>',\n",
       "  'source': ['Harvested Record'],\n",
       "  'identifier': '10.25375/uct.23284910.v1',\n",
       "  'rights': 'CC BY 4.0',\n",
       "  'subject': [['Biological mathematics',\n",
       "    'Applied statistics',\n",
       "    'Biostatistics']],\n",
       "  'titles': 'Report back on previous recommendations by the International Review Panel',\n",
       "  'types': 'report'}]"
      ]
     },
     "execution_count": 9,
     "metadata": {},
     "output_type": "execute_result"
    }
   ],
   "source": [
    "formatted"
   ]
  },
  {
   "cell_type": "markdown",
   "id": "sorted-better",
   "metadata": {},
   "source": [
    "## Export the records as a CSV\n"
   ]
  },
  {
   "cell_type": "code",
   "execution_count": null,
   "id": "synthetic-crash",
   "metadata": {},
   "outputs": [],
   "source": [
    "save_file = formatted.to_csv('formatted-metadata.csv',encoding='utf-8', index=None)"
   ]
  }
 ],
 "metadata": {
  "kernelspec": {
   "display_name": "Python 3",
   "language": "python",
   "name": "python3"
  },
  "language_info": {
   "codemirror_mode": {
    "name": "ipython",
    "version": 3
   },
   "file_extension": ".py",
   "mimetype": "text/x-python",
   "name": "python",
   "nbconvert_exporter": "python",
   "pygments_lexer": "ipython3",
   "version": "3.9.1"
  }
 },
 "nbformat": 4,
 "nbformat_minor": 5
}
