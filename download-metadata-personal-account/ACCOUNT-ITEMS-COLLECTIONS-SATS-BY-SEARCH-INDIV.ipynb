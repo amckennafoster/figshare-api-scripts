{
 "cells": [
  {
   "cell_type": "markdown",
   "id": "thorough-dictionary",
   "metadata": {},
   "source": [
    "## This retrieves all metadata and statistics for an author - items and collections\n",
    "\n",
    "There are two ways to collect records: by name or by ORCID\n",
    "\n"
   ]
  },
  {
   "cell_type": "markdown",
   "id": "pressed-williams",
   "metadata": {},
   "source": [
    "## Import libraries"
   ]
  },
  {
   "cell_type": "code",
   "execution_count": 1,
   "id": "f7e37a43",
   "metadata": {},
   "outputs": [],
   "source": [
    "import json\n",
    "import requests\n",
    "import pandas as pd\n",
    "import csv\n",
    "import datetime"
   ]
  },
  {
   "cell_type": "markdown",
   "id": "authentic-lending",
   "metadata": {},
   "source": [
    "## Set base URL"
   ]
  },
  {
   "cell_type": "code",
   "execution_count": 2,
   "id": "continued-screen",
   "metadata": {},
   "outputs": [],
   "source": [
    "#Set the base URL\n",
    "BASE_URL = 'https://api.figshare.com/v2'\n"
   ]
  },
  {
   "cell_type": "markdown",
   "id": "genuine-blowing",
   "metadata": {},
   "source": [
    "## Retrieve Metadata by Author Name (Note this does not disambiguate people with the same name)"
   ]
  },
  {
   "cell_type": "code",
   "execution_count": 5,
   "id": "eligible-sheet",
   "metadata": {},
   "outputs": [],
   "source": [
    "#author name\n",
    "name = \"ENTER NAME BETWEEN QUOTES\"\n",
    "\n"
   ]
  },
  {
   "cell_type": "code",
   "execution_count": 8,
   "id": "mental-breast",
   "metadata": {},
   "outputs": [
    {
     "name": "stdout",
     "output_type": "stream",
     "text": [
      "Collected 10 metadata records\n"
     ]
    }
   ],
   "source": [
    "#Retrieve list of metadata\n",
    "#SET THE PAGE SIZE to make sure you get all the records\n",
    "\n",
    "#Gather basic metadata for items (articles) that meet your search criteria\n",
    "\n",
    "query = '{\"search_for\":\"\", \"page_size\":100}' #Set up string\n",
    "y = json.loads(query) #Convert the string to a dictionary (JSON)\n",
    "y['search_for'] = ':author: \\\"'+ name + '\\\"' #This add in the name you are searching for in quotes for an exact match\n",
    "\n",
    "#y = json.loads(query) #Figshare API requires json paramaters\n",
    "r=requests.post(BASE_URL + \"/articles/search\", params=y)\n",
    "articles = json.loads(r.text) \n",
    "\n",
    "if r.status_code != 200:\n",
    "    print('Something is wrong:',r.content)\n",
    "else:\n",
    "    print('Collected',len(articles),'metadata records')"
   ]
  },
  {
   "cell_type": "code",
   "execution_count": 9,
   "id": "common-mainland",
   "metadata": {},
   "outputs": [],
   "source": [
    "#Create a dataframe from the JSON formatted data\n",
    "dfbasic = pd.DataFrame(articles)"
   ]
  },
  {
   "cell_type": "markdown",
   "id": "clinical-closing",
   "metadata": {},
   "source": [
    "## Or, Retrieve Metadata by ORCID"
   ]
  },
  {
   "cell_type": "code",
   "execution_count": null,
   "id": "stylish-alarm",
   "metadata": {},
   "outputs": [],
   "source": [
    "#author orcid\n",
    "orcid = \"ENTER ORCID BETWEEN QUOTES\"\n"
   ]
  },
  {
   "cell_type": "code",
   "execution_count": null,
   "id": "timely-brisbane",
   "metadata": {},
   "outputs": [],
   "source": [
    "#Retrieve list of metadata\n",
    "#SET THE PAGE SIZE to make sure you get all the records\n",
    "\n",
    "#Gather basic metadata for items (articles) that meet your search criteria\n",
    "\n",
    "query = '{\"search_for\":\":orcid:' + orcid + '\", \"page_size\":100}' #Set up string\n",
    "y = json.loads(query) #Convert the string to a dictionary (JSON)\n",
    "\n",
    "#y = json.loads(query) #Figshare API requires json paramaters\n",
    "r=requests.post(BASE_URL + \"/articles/search\", params=y)\n",
    "articles = json.loads(r.text) \n",
    "\n",
    "if r.status_code != 200:\n",
    "    print('Something is wrong:',r.content)\n",
    "else:\n",
    "    print('Collected',len(articles),'metadata records')"
   ]
  },
  {
   "cell_type": "code",
   "execution_count": null,
   "id": "serial-birth",
   "metadata": {},
   "outputs": [],
   "source": [
    "#Create a dataframe from the JSON formatted data\n",
    "dfbasic = pd.DataFrame(articles)"
   ]
  },
  {
   "cell_type": "markdown",
   "id": "involved-official",
   "metadata": {},
   "source": [
    "## Collect stats\n",
    "\n"
   ]
  },
  {
   "cell_type": "code",
   "execution_count": 10,
   "id": "bac45c32",
   "metadata": {},
   "outputs": [
    {
     "name": "stdout",
     "output_type": "stream",
     "text": [
      "The resulting dataframe has 10 rows\n"
     ]
    }
   ],
   "source": [
    "# Create a csv file, use an API to gather data, reopen the csv as a dataframe\n",
    "\n",
    "\n",
    "#Create a list of all the article ids\n",
    "article_ids = [item['id'] for item in articles]    \n",
    "\n",
    "#Create csv file\n",
    "metadata=open('article-stats'+str(datetime.datetime.now().strftime(\"%Y-%m-%d\"))+'.csv', 'w', newline='')\n",
    "#Write header row to csv\n",
    "csv.writer(metadata).writerow(['id','views','downloads'])            \n",
    "\n",
    "            \n",
    "for l in article_ids:\n",
    "    s=requests.get('https://stats.figshare.com/total/views/article/'+ str(l))\n",
    "    r=json.loads(s.text)\n",
    "    t=requests.get('https://stats.figshare.com/total/downloads/article/'+ str(l))\n",
    "    q=json.loads(t.text)\n",
    "    \n",
    "    #write the values to the csv file. Dates in json files are seconds from jan 1 1970 so datetime.datetime.fromtimestamp converts\n",
    "    csv.writer(metadata).writerow([\n",
    "        l,\n",
    "        r.get('totals'), #For any of these .get(), adding \",'N/A'\" will fill the null cells with 'N/A'. However, metadata assessment counts non nulls\n",
    "        q.get('totals')]) \n",
    "    \n",
    "    \n",
    "metadata.close() #Close the output file, release all locks\n",
    "\n",
    "#Open up the same file as a dataframe. Encode cp1252 avoids a utf8 error.\n",
    "dfstats = pd.read_csv('article-stats'+str(datetime.datetime.now().strftime(\"%Y-%m-%d\"))+'.csv',encoding='utf8')\n",
    "\n",
    "print('The resulting dataframe has',len(dfstats),'rows')"
   ]
  },
  {
   "cell_type": "markdown",
   "id": "premium-binary",
   "metadata": {},
   "source": [
    "### Merge the dataframes"
   ]
  },
  {
   "cell_type": "code",
   "execution_count": 11,
   "id": "amino-removal",
   "metadata": {},
   "outputs": [
    {
     "data": {
      "text/html": [
       "<div>\n",
       "<style scoped>\n",
       "    .dataframe tbody tr th:only-of-type {\n",
       "        vertical-align: middle;\n",
       "    }\n",
       "\n",
       "    .dataframe tbody tr th {\n",
       "        vertical-align: top;\n",
       "    }\n",
       "\n",
       "    .dataframe thead th {\n",
       "        text-align: right;\n",
       "    }\n",
       "</style>\n",
       "<table border=\"1\" class=\"dataframe\">\n",
       "  <thead>\n",
       "    <tr style=\"text-align: right;\">\n",
       "      <th></th>\n",
       "      <th>project_id</th>\n",
       "      <th>id</th>\n",
       "      <th>title</th>\n",
       "      <th>doi</th>\n",
       "      <th>handle</th>\n",
       "      <th>url</th>\n",
       "      <th>published_date</th>\n",
       "      <th>thumb</th>\n",
       "      <th>defined_type</th>\n",
       "      <th>defined_type_name</th>\n",
       "      <th>group_id</th>\n",
       "      <th>url_private_api</th>\n",
       "      <th>url_public_api</th>\n",
       "      <th>url_private_html</th>\n",
       "      <th>url_public_html</th>\n",
       "      <th>timeline</th>\n",
       "      <th>resource_title</th>\n",
       "      <th>resource_doi</th>\n",
       "      <th>views</th>\n",
       "      <th>downloads</th>\n",
       "    </tr>\n",
       "  </thead>\n",
       "  <tbody>\n",
       "    <tr>\n",
       "      <th>0</th>\n",
       "      <td>None</td>\n",
       "      <td>6876647</td>\n",
       "      <td>Sci-Tech 201: Infographics</td>\n",
       "      <td>10.6084/m9.figshare.6876647.v1</td>\n",
       "      <td></td>\n",
       "      <td>https://api.figshare.com/v2/articles/6876647</td>\n",
       "      <td>2018-07-30T11:03:33Z</td>\n",
       "      <td></td>\n",
       "      <td>7</td>\n",
       "      <td>presentation</td>\n",
       "      <td>None</td>\n",
       "      <td>https://api.figshare.com/v2/account/articles/6...</td>\n",
       "      <td>https://api.figshare.com/v2/articles/6876647</td>\n",
       "      <td>https://figshare.com/account/articles/6876647</td>\n",
       "      <td>https://figshare.com/articles/presentation/Sci...</td>\n",
       "      <td>{'posted': '2018-07-30T11:03:33', 'firstOnline...</td>\n",
       "      <td></td>\n",
       "      <td></td>\n",
       "      <td>118</td>\n",
       "      <td>40</td>\n",
       "    </tr>\n",
       "    <tr>\n",
       "      <th>1</th>\n",
       "      <td>None</td>\n",
       "      <td>20291481</td>\n",
       "      <td>Is there Such Thing as a Typical Day? Libraria...</td>\n",
       "      <td>10.6084/m9.figshare.20291481.v3</td>\n",
       "      <td></td>\n",
       "      <td>https://api.figshare.com/v2/articles/20291481</td>\n",
       "      <td>2022-07-27T16:48:21Z</td>\n",
       "      <td></td>\n",
       "      <td>7</td>\n",
       "      <td>presentation</td>\n",
       "      <td>None</td>\n",
       "      <td>https://api.figshare.com/v2/account/articles/2...</td>\n",
       "      <td>https://api.figshare.com/v2/articles/20291481</td>\n",
       "      <td>https://figshare.com/account/articles/20291481</td>\n",
       "      <td>https://figshare.com/articles/presentation/Is_...</td>\n",
       "      <td>{'posted': '2022-07-27T16:48:21', 'firstOnline...</td>\n",
       "      <td></td>\n",
       "      <td></td>\n",
       "      <td>56</td>\n",
       "      <td>15</td>\n",
       "    </tr>\n",
       "    <tr>\n",
       "      <th>2</th>\n",
       "      <td>None</td>\n",
       "      <td>13382954</td>\n",
       "      <td>Sci-Tech201: Researchers' Barriers to Publishi...</td>\n",
       "      <td>10.6084/m9.figshare.13382954.v1</td>\n",
       "      <td></td>\n",
       "      <td>https://api.figshare.com/v2/articles/13382954</td>\n",
       "      <td>2020-12-15T21:25:55Z</td>\n",
       "      <td>https://s3-eu-west-1.amazonaws.com/pfigshare-u...</td>\n",
       "      <td>7</td>\n",
       "      <td>presentation</td>\n",
       "      <td>None</td>\n",
       "      <td>https://api.figshare.com/v2/account/articles/1...</td>\n",
       "      <td>https://api.figshare.com/v2/articles/13382954</td>\n",
       "      <td>https://figshare.com/account/articles/13382954</td>\n",
       "      <td>https://figshare.com/articles/presentation/Sci...</td>\n",
       "      <td>{'posted': '2020-12-15T21:25:55', 'firstOnline...</td>\n",
       "      <td></td>\n",
       "      <td></td>\n",
       "      <td>35</td>\n",
       "      <td>3</td>\n",
       "    </tr>\n",
       "    <tr>\n",
       "      <th>3</th>\n",
       "      <td>None</td>\n",
       "      <td>6445418</td>\n",
       "      <td>Sci-Tech 101 Global Climate Change Resources -...</td>\n",
       "      <td>10.6084/m9.figshare.6445418.v1</td>\n",
       "      <td></td>\n",
       "      <td>https://api.figshare.com/v2/articles/6445418</td>\n",
       "      <td>2018-06-05T11:30:17Z</td>\n",
       "      <td>https://ndownloader.figshare.com/files/1185359...</td>\n",
       "      <td>7</td>\n",
       "      <td>presentation</td>\n",
       "      <td>None</td>\n",
       "      <td>https://api.figshare.com/v2/account/articles/6...</td>\n",
       "      <td>https://api.figshare.com/v2/articles/6445418</td>\n",
       "      <td>https://figshare.com/account/articles/6445418</td>\n",
       "      <td>https://figshare.com/articles/presentation/Sci...</td>\n",
       "      <td>{'posted': '2018-06-05T11:30:17', 'firstOnline...</td>\n",
       "      <td></td>\n",
       "      <td></td>\n",
       "      <td>435</td>\n",
       "      <td>48</td>\n",
       "    </tr>\n",
       "    <tr>\n",
       "      <th>4</th>\n",
       "      <td>None</td>\n",
       "      <td>6394226</td>\n",
       "      <td>Sci-Tech 101: Global Climate Change Resources-...</td>\n",
       "      <td>10.6084/m9.figshare.6394226.v3</td>\n",
       "      <td></td>\n",
       "      <td>https://api.figshare.com/v2/articles/6394226</td>\n",
       "      <td>2018-06-05T11:30:52Z</td>\n",
       "      <td>https://ndownloader.figshare.com/files/1180448...</td>\n",
       "      <td>7</td>\n",
       "      <td>presentation</td>\n",
       "      <td>None</td>\n",
       "      <td>https://api.figshare.com/v2/account/articles/6...</td>\n",
       "      <td>https://api.figshare.com/v2/articles/6394226</td>\n",
       "      <td>https://figshare.com/account/articles/6394226</td>\n",
       "      <td>https://figshare.com/articles/presentation/Sci...</td>\n",
       "      <td>{'posted': '2018-06-05T11:30:52', 'firstOnline...</td>\n",
       "      <td></td>\n",
       "      <td></td>\n",
       "      <td>487</td>\n",
       "      <td>96</td>\n",
       "    </tr>\n",
       "  </tbody>\n",
       "</table>\n",
       "</div>"
      ],
      "text/plain": [
       "  project_id        id                                              title  \\\n",
       "0       None   6876647                         Sci-Tech 201: Infographics   \n",
       "1       None  20291481  Is there Such Thing as a Typical Day? Libraria...   \n",
       "2       None  13382954  Sci-Tech201: Researchers' Barriers to Publishi...   \n",
       "3       None   6445418  Sci-Tech 101 Global Climate Change Resources -...   \n",
       "4       None   6394226  Sci-Tech 101: Global Climate Change Resources-...   \n",
       "\n",
       "                               doi handle  \\\n",
       "0   10.6084/m9.figshare.6876647.v1          \n",
       "1  10.6084/m9.figshare.20291481.v3          \n",
       "2  10.6084/m9.figshare.13382954.v1          \n",
       "3   10.6084/m9.figshare.6445418.v1          \n",
       "4   10.6084/m9.figshare.6394226.v3          \n",
       "\n",
       "                                             url        published_date  \\\n",
       "0   https://api.figshare.com/v2/articles/6876647  2018-07-30T11:03:33Z   \n",
       "1  https://api.figshare.com/v2/articles/20291481  2022-07-27T16:48:21Z   \n",
       "2  https://api.figshare.com/v2/articles/13382954  2020-12-15T21:25:55Z   \n",
       "3   https://api.figshare.com/v2/articles/6445418  2018-06-05T11:30:17Z   \n",
       "4   https://api.figshare.com/v2/articles/6394226  2018-06-05T11:30:52Z   \n",
       "\n",
       "                                               thumb  defined_type  \\\n",
       "0                                                                7   \n",
       "1                                                                7   \n",
       "2  https://s3-eu-west-1.amazonaws.com/pfigshare-u...             7   \n",
       "3  https://ndownloader.figshare.com/files/1185359...             7   \n",
       "4  https://ndownloader.figshare.com/files/1180448...             7   \n",
       "\n",
       "  defined_type_name group_id  \\\n",
       "0      presentation     None   \n",
       "1      presentation     None   \n",
       "2      presentation     None   \n",
       "3      presentation     None   \n",
       "4      presentation     None   \n",
       "\n",
       "                                     url_private_api  \\\n",
       "0  https://api.figshare.com/v2/account/articles/6...   \n",
       "1  https://api.figshare.com/v2/account/articles/2...   \n",
       "2  https://api.figshare.com/v2/account/articles/1...   \n",
       "3  https://api.figshare.com/v2/account/articles/6...   \n",
       "4  https://api.figshare.com/v2/account/articles/6...   \n",
       "\n",
       "                                  url_public_api  \\\n",
       "0   https://api.figshare.com/v2/articles/6876647   \n",
       "1  https://api.figshare.com/v2/articles/20291481   \n",
       "2  https://api.figshare.com/v2/articles/13382954   \n",
       "3   https://api.figshare.com/v2/articles/6445418   \n",
       "4   https://api.figshare.com/v2/articles/6394226   \n",
       "\n",
       "                                 url_private_html  \\\n",
       "0   https://figshare.com/account/articles/6876647   \n",
       "1  https://figshare.com/account/articles/20291481   \n",
       "2  https://figshare.com/account/articles/13382954   \n",
       "3   https://figshare.com/account/articles/6445418   \n",
       "4   https://figshare.com/account/articles/6394226   \n",
       "\n",
       "                                     url_public_html  \\\n",
       "0  https://figshare.com/articles/presentation/Sci...   \n",
       "1  https://figshare.com/articles/presentation/Is_...   \n",
       "2  https://figshare.com/articles/presentation/Sci...   \n",
       "3  https://figshare.com/articles/presentation/Sci...   \n",
       "4  https://figshare.com/articles/presentation/Sci...   \n",
       "\n",
       "                                            timeline resource_title  \\\n",
       "0  {'posted': '2018-07-30T11:03:33', 'firstOnline...                  \n",
       "1  {'posted': '2022-07-27T16:48:21', 'firstOnline...                  \n",
       "2  {'posted': '2020-12-15T21:25:55', 'firstOnline...                  \n",
       "3  {'posted': '2018-06-05T11:30:17', 'firstOnline...                  \n",
       "4  {'posted': '2018-06-05T11:30:52', 'firstOnline...                  \n",
       "\n",
       "  resource_doi  views  downloads  \n",
       "0                 118         40  \n",
       "1                  56         15  \n",
       "2                  35          3  \n",
       "3                 435         48  \n",
       "4                 487         96  "
      ]
     },
     "execution_count": 11,
     "metadata": {},
     "output_type": "execute_result"
    }
   ],
   "source": [
    "dfmerged = dfbasic.merge(dfstats, how='inner', on='id')\n",
    "dfmerged.head()"
   ]
  },
  {
   "cell_type": "markdown",
   "id": "voluntary-screen",
   "metadata": {},
   "source": [
    "### If you have Collections run this next cell. Otherwise skip it."
   ]
  },
  {
   "cell_type": "code",
   "execution_count": null,
   "id": "discrete-finish",
   "metadata": {},
   "outputs": [],
   "source": [
    "#Retrieve list of private metadata- this is for unpublished and published records.\n",
    "#SET THE PAGE SIZE to make sure you get all the records\n",
    "\n",
    "#Get collections\n",
    "query = '{\"search_for\":\"\", \"institution\":' + INST_ID + ', \"page_size\":100}' #Set up string\n",
    "y = json.loads(query) #Convert the string to a dictionary (JSON)\n",
    "y['search_for'] = ':author: \\\"'+ name + '\\\"' #Add in the name you are searcing for in quotes for an exact match\n",
    "\n",
    "#y = json.loads(query) #Figshare API requires json paramaters\n",
    "r=requests.post(BASE_URL + \"/collections/search\", params=y)\n",
    "collections = json.loads(r.text)\n",
    "\n",
    "#Create a dataframe from the JSON formatted data\n",
    "dfcollbasic = pd.DataFrame(collections)\n",
    "\n",
    "#Gather Stats\n",
    "#Create a list of all the article ids\n",
    "coll_ids = [item['id'] for item in collections]    \n",
    "\n",
    "#Create csv file\n",
    "metadata=open('collection-stats'+str(datetime.datetime.now().strftime(\"%Y-%m-%d\"))+'.csv', 'w', newline='')\n",
    "#Write header row to csv\n",
    "csv.writer(metadata).writerow(['id','views','downloads'])            \n",
    "\n",
    "            \n",
    "for l in coll_ids:\n",
    "    s=requests.get('https://stats.figshare.com/total/views/article/'+ str(l))\n",
    "    r=json.loads(s.text)\n",
    "    t=requests.get('https://stats.figshare.com/total/downloads/article/'+ str(l))\n",
    "    q=json.loads(t.text)\n",
    "    \n",
    "    #write the values to the csv file. Dates in json files are seconds from jan 1 1970 so datetime.datetime.fromtimestamp converts\n",
    "    csv.writer(metadata).writerow([\n",
    "        l,\n",
    "        r.get('totals'), #For any of these .get(), adding \",'N/A'\" will fill the null cells with 'N/A'. However, metadata assessment counts non nulls\n",
    "        q.get('totals')]) \n",
    "    \n",
    "    \n",
    "metadata.close() #Close the output file, release all locks\n",
    "\n",
    "#Open up the same file as a dataframe. Encode cp1252 avoids a utf8 error.\n",
    "dfcollstats = pd.read_csv('collection-stats'+str(datetime.datetime.now().strftime(\"%Y-%m-%d\"))+'.csv',encoding='utf8')\n",
    "\n",
    "dfcollmerged = dfcollbasic.merge(dfcollstats, how='inner', on='id')\n",
    "\n",
    "#Append the collections rows to the article dataframe\n",
    "dfmerged = dfmerged.append(dfcollmerged)\n"
   ]
  },
  {
   "cell_type": "markdown",
   "id": "universal-recipient",
   "metadata": {},
   "source": [
    "### Format the dates column"
   ]
  },
  {
   "cell_type": "code",
   "execution_count": 12,
   "id": "thick-preliminary",
   "metadata": {},
   "outputs": [
    {
     "name": "stdout",
     "output_type": "stream",
     "text": [
      "Dates split out and merged\n"
     ]
    }
   ],
   "source": [
    "#The dates are all contained within one column called 'timeline'. \n",
    "#Use the JSON to create a better format and then merge with the dataframe\n",
    "#with the proper article id in a new dataframe\n",
    "\n",
    "temp_date_list = []\n",
    "\n",
    "for item in articles:\n",
    "    dateitem = item['timeline']\n",
    "    dateitem['id'] = item['id']\n",
    "    temp_date_list.append(dateitem)\n",
    "\n",
    "df_dates_items = pd.json_normalize(\n",
    "    temp_date_list \n",
    ")\n",
    "\n",
    "\n",
    "#Have to use 'try' here just in case you ran the Collection cell above\n",
    "try:\n",
    "    #Get a dates dataframe\n",
    "    temp_coll_date_list = []\n",
    "\n",
    "    for item in collections:\n",
    "        dateitem = item['timeline']\n",
    "        dateitem['id'] = item['id']\n",
    "        temp_coll_date_list.append(dateitem)\n",
    "\n",
    "    df_coll_dates_coll = pd.json_normalize(\n",
    "        temp_coll_date_list \n",
    "    )\n",
    "# catch when published_coll_records is None\n",
    "except AttributeError:\n",
    "    pass\n",
    "# catch when it hasn't even been defined\n",
    "except NameError:\n",
    "    pass\n",
    "\n",
    "\n",
    "#Append the dataframes (if collections have been found)\n",
    "try:\n",
    "    #Append the dates dataframes\n",
    "    df_dates = df_dates_items.append(df_dates_coll)\n",
    "# catch when df_dates_coll is None\n",
    "except AttributeError:\n",
    "    df_dates = df_dates_items\n",
    "# catch when it hasn't even been defined\n",
    "except NameError:\n",
    "    df_dates = df_dates_items\n",
    "    \n",
    "#Merge the date dataframe with the metadata dataframe\n",
    "df_formatted = dfmerged.merge(df_dates, how='outer', on='id')\n",
    "\n",
    "print(\"Dates split out and merged\")"
   ]
  },
  {
   "cell_type": "markdown",
   "id": "human-means",
   "metadata": {},
   "source": [
    "### View Totals"
   ]
  },
  {
   "cell_type": "code",
   "execution_count": 13,
   "id": "former-vocabulary",
   "metadata": {},
   "outputs": [
    {
     "name": "stdout",
     "output_type": "stream",
     "text": [
      "Total views = 1674 and total downloads = 330\n"
     ]
    }
   ],
   "source": [
    "#See your summarized stats\n",
    "print('Total views =', df_formatted['views'].sum(),'and total downloads =',df_formatted['downloads'].sum())\n"
   ]
  },
  {
   "cell_type": "markdown",
   "id": "confused-robinson",
   "metadata": {},
   "source": [
    "## Get a breakdown of views by country by item"
   ]
  },
  {
   "cell_type": "code",
   "execution_count": 14,
   "id": "sized-walker",
   "metadata": {},
   "outputs": [],
   "source": [
    "#Set the base URL\n",
    "BASE_URL2 = 'https://stats.figshare.com/'"
   ]
  },
  {
   "cell_type": "code",
   "execution_count": 19,
   "id": "pregnant-bangladesh",
   "metadata": {},
   "outputs": [],
   "source": [
    "#Collect views by group by geolocation for the last month\n",
    "breakdown = []\n",
    "for i in articles:\n",
    "    URL = BASE_URL2 + '/breakdown/total/views/article/' + str(i['id']) #by not specifying timeframe, will retrieve for the last month\n",
    "    r = requests.get(URL)\n",
    "    result=json.loads(r.text)\n",
    "    result['item_id'] = i['id']\n",
    "    breakdown.append(result)"
   ]
  },
  {
   "cell_type": "code",
   "execution_count": 22,
   "id": "tropical-ultimate",
   "metadata": {},
   "outputs": [
    {
     "data": {
      "text/html": [
       "<div>\n",
       "<style scoped>\n",
       "    .dataframe tbody tr th:only-of-type {\n",
       "        vertical-align: middle;\n",
       "    }\n",
       "\n",
       "    .dataframe tbody tr th {\n",
       "        vertical-align: top;\n",
       "    }\n",
       "\n",
       "    .dataframe thead th {\n",
       "        text-align: right;\n",
       "    }\n",
       "</style>\n",
       "<table border=\"1\" class=\"dataframe\">\n",
       "  <thead>\n",
       "    <tr style=\"text-align: right;\">\n",
       "      <th></th>\n",
       "      <th>item_id</th>\n",
       "      <th>country</th>\n",
       "      <th>total</th>\n",
       "    </tr>\n",
       "  </thead>\n",
       "  <tbody>\n",
       "    <tr>\n",
       "      <th>0</th>\n",
       "      <td>6876647</td>\n",
       "      <td>United States</td>\n",
       "      <td>17</td>\n",
       "    </tr>\n",
       "    <tr>\n",
       "      <th>1</th>\n",
       "      <td>6876647</td>\n",
       "      <td>China</td>\n",
       "      <td>8</td>\n",
       "    </tr>\n",
       "    <tr>\n",
       "      <th>2</th>\n",
       "      <td>6876647</td>\n",
       "      <td>Singapore</td>\n",
       "      <td>4</td>\n",
       "    </tr>\n",
       "    <tr>\n",
       "      <th>3</th>\n",
       "      <td>6876647</td>\n",
       "      <td>Ireland</td>\n",
       "      <td>2</td>\n",
       "    </tr>\n",
       "    <tr>\n",
       "      <th>4</th>\n",
       "      <td>6876647</td>\n",
       "      <td>Japan</td>\n",
       "      <td>2</td>\n",
       "    </tr>\n",
       "    <tr>\n",
       "      <th>5</th>\n",
       "      <td>20291481</td>\n",
       "      <td>United States</td>\n",
       "      <td>46</td>\n",
       "    </tr>\n",
       "    <tr>\n",
       "      <th>6</th>\n",
       "      <td>20291481</td>\n",
       "      <td>Japan</td>\n",
       "      <td>4</td>\n",
       "    </tr>\n",
       "    <tr>\n",
       "      <th>7</th>\n",
       "      <td>20291481</td>\n",
       "      <td>Singapore</td>\n",
       "      <td>2</td>\n",
       "    </tr>\n",
       "    <tr>\n",
       "      <th>8</th>\n",
       "      <td>20291481</td>\n",
       "      <td>China</td>\n",
       "      <td>1</td>\n",
       "    </tr>\n",
       "    <tr>\n",
       "      <th>9</th>\n",
       "      <td>20291481</td>\n",
       "      <td>Iceland</td>\n",
       "      <td>1</td>\n",
       "    </tr>\n",
       "    <tr>\n",
       "      <th>10</th>\n",
       "      <td>20291481</td>\n",
       "      <td>India</td>\n",
       "      <td>1</td>\n",
       "    </tr>\n",
       "    <tr>\n",
       "      <th>11</th>\n",
       "      <td>20291481</td>\n",
       "      <td>South Korea</td>\n",
       "      <td>1</td>\n",
       "    </tr>\n",
       "    <tr>\n",
       "      <th>12</th>\n",
       "      <td>13382954</td>\n",
       "      <td>United States</td>\n",
       "      <td>9</td>\n",
       "    </tr>\n",
       "    <tr>\n",
       "      <th>13</th>\n",
       "      <td>13382954</td>\n",
       "      <td>Germany</td>\n",
       "      <td>2</td>\n",
       "    </tr>\n",
       "    <tr>\n",
       "      <th>14</th>\n",
       "      <td>13382954</td>\n",
       "      <td>China</td>\n",
       "      <td>1</td>\n",
       "    </tr>\n",
       "    <tr>\n",
       "      <th>15</th>\n",
       "      <td>13382954</td>\n",
       "      <td>Japan</td>\n",
       "      <td>1</td>\n",
       "    </tr>\n",
       "    <tr>\n",
       "      <th>16</th>\n",
       "      <td>6445418</td>\n",
       "      <td>United States</td>\n",
       "      <td>23</td>\n",
       "    </tr>\n",
       "    <tr>\n",
       "      <th>17</th>\n",
       "      <td>6445418</td>\n",
       "      <td>Singapore</td>\n",
       "      <td>4</td>\n",
       "    </tr>\n",
       "    <tr>\n",
       "      <th>18</th>\n",
       "      <td>6445418</td>\n",
       "      <td>Ireland</td>\n",
       "      <td>3</td>\n",
       "    </tr>\n",
       "    <tr>\n",
       "      <th>19</th>\n",
       "      <td>6445418</td>\n",
       "      <td>China</td>\n",
       "      <td>2</td>\n",
       "    </tr>\n",
       "  </tbody>\n",
       "</table>\n",
       "</div>"
      ],
      "text/plain": [
       "     item_id        country  total\n",
       "0    6876647  United States     17\n",
       "1    6876647          China      8\n",
       "2    6876647      Singapore      4\n",
       "3    6876647        Ireland      2\n",
       "4    6876647          Japan      2\n",
       "5   20291481  United States     46\n",
       "6   20291481          Japan      4\n",
       "7   20291481      Singapore      2\n",
       "8   20291481          China      1\n",
       "9   20291481        Iceland      1\n",
       "10  20291481          India      1\n",
       "11  20291481    South Korea      1\n",
       "12  13382954  United States      9\n",
       "13  13382954        Germany      2\n",
       "14  13382954          China      1\n",
       "15  13382954          Japan      1\n",
       "16   6445418  United States     23\n",
       "17   6445418      Singapore      4\n",
       "18   6445418        Ireland      3\n",
       "19   6445418          China      2"
      ]
     },
     "execution_count": 22,
     "metadata": {},
     "output_type": "execute_result"
    }
   ],
   "source": [
    "#The results may have nested values for cities. Just get the totals by country and create a dataframe\n",
    "country_totals = []\n",
    "for record in breakdown:\n",
    "    for item in record['breakdown']['total']:\n",
    "        country_totals.append({'item_id':record['item_id'],'country':item,'total':record['breakdown']['total'][item]['total']})\n",
    "df_geoviews = pd.DataFrame(country_totals)\n",
    "df_geoviews.head(20)"
   ]
  },
  {
   "cell_type": "markdown",
   "id": "ecological-thing",
   "metadata": {},
   "source": [
    "### Map the views"
   ]
  },
  {
   "cell_type": "code",
   "execution_count": 31,
   "id": "musical-agriculture",
   "metadata": {},
   "outputs": [
    {
     "data": {
      "text/html": [
       "<div>\n",
       "<style scoped>\n",
       "    .dataframe tbody tr th:only-of-type {\n",
       "        vertical-align: middle;\n",
       "    }\n",
       "\n",
       "    .dataframe tbody tr th {\n",
       "        vertical-align: top;\n",
       "    }\n",
       "\n",
       "    .dataframe thead th {\n",
       "        text-align: right;\n",
       "    }\n",
       "</style>\n",
       "<table border=\"1\" class=\"dataframe\">\n",
       "  <thead>\n",
       "    <tr style=\"text-align: right;\">\n",
       "      <th></th>\n",
       "      <th>country</th>\n",
       "      <th>total</th>\n",
       "    </tr>\n",
       "  </thead>\n",
       "  <tbody>\n",
       "    <tr>\n",
       "      <th>0</th>\n",
       "      <td>China</td>\n",
       "      <td>22</td>\n",
       "    </tr>\n",
       "    <tr>\n",
       "      <th>1</th>\n",
       "      <td>Denmark</td>\n",
       "      <td>8</td>\n",
       "    </tr>\n",
       "    <tr>\n",
       "      <th>2</th>\n",
       "      <td>Germany</td>\n",
       "      <td>5</td>\n",
       "    </tr>\n",
       "    <tr>\n",
       "      <th>3</th>\n",
       "      <td>Iceland</td>\n",
       "      <td>1</td>\n",
       "    </tr>\n",
       "    <tr>\n",
       "      <th>4</th>\n",
       "      <td>India</td>\n",
       "      <td>1</td>\n",
       "    </tr>\n",
       "  </tbody>\n",
       "</table>\n",
       "</div>"
      ],
      "text/plain": [
       "   country  total\n",
       "0    China     22\n",
       "1  Denmark      8\n",
       "2  Germany      5\n",
       "3  Iceland      1\n",
       "4    India      1"
      ]
     },
     "execution_count": 31,
     "metadata": {},
     "output_type": "execute_result"
    }
   ],
   "source": [
    "df_geototals = df_geoviews.groupby(by='country')['total'].sum().reset_index()\n",
    "df_geototals.head()"
   ]
  },
  {
   "cell_type": "code",
   "execution_count": 23,
   "id": "unknown-booking",
   "metadata": {},
   "outputs": [],
   "source": [
    "import plotly.express as px"
   ]
  },
  {
   "cell_type": "code",
   "execution_count": 33,
   "id": "intellectual-catering",
   "metadata": {},
   "outputs": [
    {
     "data": {
      "application/vnd.plotly.v1+json": {
       "config": {
        "plotlyServerURL": "https://plot.ly"
       },
       "data": [
        {
         "coloraxis": "coloraxis",
         "geo": "geo",
         "geojson": "https://raw.githubusercontent.com/python-visualization/folium/master/examples/data/world-countries.json",
         "hovertemplate": "country=%{location}<br>total=%{z}<extra></extra>",
         "locationmode": "country names",
         "locations": [
          "China",
          "Denmark",
          "Germany",
          "Iceland",
          "India",
          "Ireland",
          "Israel",
          "Japan",
          "Russia",
          "Singapore",
          "South Africa",
          "South Korea",
          "United States"
         ],
         "name": "",
         "type": "choropleth",
         "z": [
          22,
          8,
          5,
          1,
          1,
          10,
          1,
          19,
          8,
          20,
          1,
          1,
          216
         ]
        }
       ],
       "layout": {
        "coloraxis": {
         "colorbar": {
          "title": {
           "text": "total"
          }
         },
         "colorscale": [
          [
           0,
           "#0d0887"
          ],
          [
           0.1111111111111111,
           "#46039f"
          ],
          [
           0.2222222222222222,
           "#7201a8"
          ],
          [
           0.3333333333333333,
           "#9c179e"
          ],
          [
           0.4444444444444444,
           "#bd3786"
          ],
          [
           0.5555555555555556,
           "#d8576b"
          ],
          [
           0.6666666666666666,
           "#ed7953"
          ],
          [
           0.7777777777777778,
           "#fb9f3a"
          ],
          [
           0.8888888888888888,
           "#fdca26"
          ],
          [
           1,
           "#f0f921"
          ]
         ]
        },
        "geo": {
         "center": {},
         "domain": {
          "x": [
           0,
           1
          ],
          "y": [
           0,
           1
          ]
         }
        },
        "legend": {
         "tracegroupgap": 0
        },
        "margin": {
         "t": 60
        },
        "template": {
         "data": {
          "bar": [
           {
            "error_x": {
             "color": "#2a3f5f"
            },
            "error_y": {
             "color": "#2a3f5f"
            },
            "marker": {
             "line": {
              "color": "#E5ECF6",
              "width": 0.5
             },
             "pattern": {
              "fillmode": "overlay",
              "size": 10,
              "solidity": 0.2
             }
            },
            "type": "bar"
           }
          ],
          "barpolar": [
           {
            "marker": {
             "line": {
              "color": "#E5ECF6",
              "width": 0.5
             },
             "pattern": {
              "fillmode": "overlay",
              "size": 10,
              "solidity": 0.2
             }
            },
            "type": "barpolar"
           }
          ],
          "carpet": [
           {
            "aaxis": {
             "endlinecolor": "#2a3f5f",
             "gridcolor": "white",
             "linecolor": "white",
             "minorgridcolor": "white",
             "startlinecolor": "#2a3f5f"
            },
            "baxis": {
             "endlinecolor": "#2a3f5f",
             "gridcolor": "white",
             "linecolor": "white",
             "minorgridcolor": "white",
             "startlinecolor": "#2a3f5f"
            },
            "type": "carpet"
           }
          ],
          "choropleth": [
           {
            "colorbar": {
             "outlinewidth": 0,
             "ticks": ""
            },
            "type": "choropleth"
           }
          ],
          "contour": [
           {
            "colorbar": {
             "outlinewidth": 0,
             "ticks": ""
            },
            "colorscale": [
             [
              0,
              "#0d0887"
             ],
             [
              0.1111111111111111,
              "#46039f"
             ],
             [
              0.2222222222222222,
              "#7201a8"
             ],
             [
              0.3333333333333333,
              "#9c179e"
             ],
             [
              0.4444444444444444,
              "#bd3786"
             ],
             [
              0.5555555555555556,
              "#d8576b"
             ],
             [
              0.6666666666666666,
              "#ed7953"
             ],
             [
              0.7777777777777778,
              "#fb9f3a"
             ],
             [
              0.8888888888888888,
              "#fdca26"
             ],
             [
              1,
              "#f0f921"
             ]
            ],
            "type": "contour"
           }
          ],
          "contourcarpet": [
           {
            "colorbar": {
             "outlinewidth": 0,
             "ticks": ""
            },
            "type": "contourcarpet"
           }
          ],
          "heatmap": [
           {
            "colorbar": {
             "outlinewidth": 0,
             "ticks": ""
            },
            "colorscale": [
             [
              0,
              "#0d0887"
             ],
             [
              0.1111111111111111,
              "#46039f"
             ],
             [
              0.2222222222222222,
              "#7201a8"
             ],
             [
              0.3333333333333333,
              "#9c179e"
             ],
             [
              0.4444444444444444,
              "#bd3786"
             ],
             [
              0.5555555555555556,
              "#d8576b"
             ],
             [
              0.6666666666666666,
              "#ed7953"
             ],
             [
              0.7777777777777778,
              "#fb9f3a"
             ],
             [
              0.8888888888888888,
              "#fdca26"
             ],
             [
              1,
              "#f0f921"
             ]
            ],
            "type": "heatmap"
           }
          ],
          "heatmapgl": [
           {
            "colorbar": {
             "outlinewidth": 0,
             "ticks": ""
            },
            "colorscale": [
             [
              0,
              "#0d0887"
             ],
             [
              0.1111111111111111,
              "#46039f"
             ],
             [
              0.2222222222222222,
              "#7201a8"
             ],
             [
              0.3333333333333333,
              "#9c179e"
             ],
             [
              0.4444444444444444,
              "#bd3786"
             ],
             [
              0.5555555555555556,
              "#d8576b"
             ],
             [
              0.6666666666666666,
              "#ed7953"
             ],
             [
              0.7777777777777778,
              "#fb9f3a"
             ],
             [
              0.8888888888888888,
              "#fdca26"
             ],
             [
              1,
              "#f0f921"
             ]
            ],
            "type": "heatmapgl"
           }
          ],
          "histogram": [
           {
            "marker": {
             "pattern": {
              "fillmode": "overlay",
              "size": 10,
              "solidity": 0.2
             }
            },
            "type": "histogram"
           }
          ],
          "histogram2d": [
           {
            "colorbar": {
             "outlinewidth": 0,
             "ticks": ""
            },
            "colorscale": [
             [
              0,
              "#0d0887"
             ],
             [
              0.1111111111111111,
              "#46039f"
             ],
             [
              0.2222222222222222,
              "#7201a8"
             ],
             [
              0.3333333333333333,
              "#9c179e"
             ],
             [
              0.4444444444444444,
              "#bd3786"
             ],
             [
              0.5555555555555556,
              "#d8576b"
             ],
             [
              0.6666666666666666,
              "#ed7953"
             ],
             [
              0.7777777777777778,
              "#fb9f3a"
             ],
             [
              0.8888888888888888,
              "#fdca26"
             ],
             [
              1,
              "#f0f921"
             ]
            ],
            "type": "histogram2d"
           }
          ],
          "histogram2dcontour": [
           {
            "colorbar": {
             "outlinewidth": 0,
             "ticks": ""
            },
            "colorscale": [
             [
              0,
              "#0d0887"
             ],
             [
              0.1111111111111111,
              "#46039f"
             ],
             [
              0.2222222222222222,
              "#7201a8"
             ],
             [
              0.3333333333333333,
              "#9c179e"
             ],
             [
              0.4444444444444444,
              "#bd3786"
             ],
             [
              0.5555555555555556,
              "#d8576b"
             ],
             [
              0.6666666666666666,
              "#ed7953"
             ],
             [
              0.7777777777777778,
              "#fb9f3a"
             ],
             [
              0.8888888888888888,
              "#fdca26"
             ],
             [
              1,
              "#f0f921"
             ]
            ],
            "type": "histogram2dcontour"
           }
          ],
          "mesh3d": [
           {
            "colorbar": {
             "outlinewidth": 0,
             "ticks": ""
            },
            "type": "mesh3d"
           }
          ],
          "parcoords": [
           {
            "line": {
             "colorbar": {
              "outlinewidth": 0,
              "ticks": ""
             }
            },
            "type": "parcoords"
           }
          ],
          "pie": [
           {
            "automargin": true,
            "type": "pie"
           }
          ],
          "scatter": [
           {
            "fillpattern": {
             "fillmode": "overlay",
             "size": 10,
             "solidity": 0.2
            },
            "type": "scatter"
           }
          ],
          "scatter3d": [
           {
            "line": {
             "colorbar": {
              "outlinewidth": 0,
              "ticks": ""
             }
            },
            "marker": {
             "colorbar": {
              "outlinewidth": 0,
              "ticks": ""
             }
            },
            "type": "scatter3d"
           }
          ],
          "scattercarpet": [
           {
            "marker": {
             "colorbar": {
              "outlinewidth": 0,
              "ticks": ""
             }
            },
            "type": "scattercarpet"
           }
          ],
          "scattergeo": [
           {
            "marker": {
             "colorbar": {
              "outlinewidth": 0,
              "ticks": ""
             }
            },
            "type": "scattergeo"
           }
          ],
          "scattergl": [
           {
            "marker": {
             "colorbar": {
              "outlinewidth": 0,
              "ticks": ""
             }
            },
            "type": "scattergl"
           }
          ],
          "scattermapbox": [
           {
            "marker": {
             "colorbar": {
              "outlinewidth": 0,
              "ticks": ""
             }
            },
            "type": "scattermapbox"
           }
          ],
          "scatterpolar": [
           {
            "marker": {
             "colorbar": {
              "outlinewidth": 0,
              "ticks": ""
             }
            },
            "type": "scatterpolar"
           }
          ],
          "scatterpolargl": [
           {
            "marker": {
             "colorbar": {
              "outlinewidth": 0,
              "ticks": ""
             }
            },
            "type": "scatterpolargl"
           }
          ],
          "scatterternary": [
           {
            "marker": {
             "colorbar": {
              "outlinewidth": 0,
              "ticks": ""
             }
            },
            "type": "scatterternary"
           }
          ],
          "surface": [
           {
            "colorbar": {
             "outlinewidth": 0,
             "ticks": ""
            },
            "colorscale": [
             [
              0,
              "#0d0887"
             ],
             [
              0.1111111111111111,
              "#46039f"
             ],
             [
              0.2222222222222222,
              "#7201a8"
             ],
             [
              0.3333333333333333,
              "#9c179e"
             ],
             [
              0.4444444444444444,
              "#bd3786"
             ],
             [
              0.5555555555555556,
              "#d8576b"
             ],
             [
              0.6666666666666666,
              "#ed7953"
             ],
             [
              0.7777777777777778,
              "#fb9f3a"
             ],
             [
              0.8888888888888888,
              "#fdca26"
             ],
             [
              1,
              "#f0f921"
             ]
            ],
            "type": "surface"
           }
          ],
          "table": [
           {
            "cells": {
             "fill": {
              "color": "#EBF0F8"
             },
             "line": {
              "color": "white"
             }
            },
            "header": {
             "fill": {
              "color": "#C8D4E3"
             },
             "line": {
              "color": "white"
             }
            },
            "type": "table"
           }
          ]
         },
         "layout": {
          "annotationdefaults": {
           "arrowcolor": "#2a3f5f",
           "arrowhead": 0,
           "arrowwidth": 1
          },
          "autotypenumbers": "strict",
          "coloraxis": {
           "colorbar": {
            "outlinewidth": 0,
            "ticks": ""
           }
          },
          "colorscale": {
           "diverging": [
            [
             0,
             "#8e0152"
            ],
            [
             0.1,
             "#c51b7d"
            ],
            [
             0.2,
             "#de77ae"
            ],
            [
             0.3,
             "#f1b6da"
            ],
            [
             0.4,
             "#fde0ef"
            ],
            [
             0.5,
             "#f7f7f7"
            ],
            [
             0.6,
             "#e6f5d0"
            ],
            [
             0.7,
             "#b8e186"
            ],
            [
             0.8,
             "#7fbc41"
            ],
            [
             0.9,
             "#4d9221"
            ],
            [
             1,
             "#276419"
            ]
           ],
           "sequential": [
            [
             0,
             "#0d0887"
            ],
            [
             0.1111111111111111,
             "#46039f"
            ],
            [
             0.2222222222222222,
             "#7201a8"
            ],
            [
             0.3333333333333333,
             "#9c179e"
            ],
            [
             0.4444444444444444,
             "#bd3786"
            ],
            [
             0.5555555555555556,
             "#d8576b"
            ],
            [
             0.6666666666666666,
             "#ed7953"
            ],
            [
             0.7777777777777778,
             "#fb9f3a"
            ],
            [
             0.8888888888888888,
             "#fdca26"
            ],
            [
             1,
             "#f0f921"
            ]
           ],
           "sequentialminus": [
            [
             0,
             "#0d0887"
            ],
            [
             0.1111111111111111,
             "#46039f"
            ],
            [
             0.2222222222222222,
             "#7201a8"
            ],
            [
             0.3333333333333333,
             "#9c179e"
            ],
            [
             0.4444444444444444,
             "#bd3786"
            ],
            [
             0.5555555555555556,
             "#d8576b"
            ],
            [
             0.6666666666666666,
             "#ed7953"
            ],
            [
             0.7777777777777778,
             "#fb9f3a"
            ],
            [
             0.8888888888888888,
             "#fdca26"
            ],
            [
             1,
             "#f0f921"
            ]
           ]
          },
          "colorway": [
           "#636efa",
           "#EF553B",
           "#00cc96",
           "#ab63fa",
           "#FFA15A",
           "#19d3f3",
           "#FF6692",
           "#B6E880",
           "#FF97FF",
           "#FECB52"
          ],
          "font": {
           "color": "#2a3f5f"
          },
          "geo": {
           "bgcolor": "white",
           "lakecolor": "white",
           "landcolor": "#E5ECF6",
           "showlakes": true,
           "showland": true,
           "subunitcolor": "white"
          },
          "hoverlabel": {
           "align": "left"
          },
          "hovermode": "closest",
          "mapbox": {
           "style": "light"
          },
          "paper_bgcolor": "white",
          "plot_bgcolor": "#E5ECF6",
          "polar": {
           "angularaxis": {
            "gridcolor": "white",
            "linecolor": "white",
            "ticks": ""
           },
           "bgcolor": "#E5ECF6",
           "radialaxis": {
            "gridcolor": "white",
            "linecolor": "white",
            "ticks": ""
           }
          },
          "scene": {
           "xaxis": {
            "backgroundcolor": "#E5ECF6",
            "gridcolor": "white",
            "gridwidth": 2,
            "linecolor": "white",
            "showbackground": true,
            "ticks": "",
            "zerolinecolor": "white"
           },
           "yaxis": {
            "backgroundcolor": "#E5ECF6",
            "gridcolor": "white",
            "gridwidth": 2,
            "linecolor": "white",
            "showbackground": true,
            "ticks": "",
            "zerolinecolor": "white"
           },
           "zaxis": {
            "backgroundcolor": "#E5ECF6",
            "gridcolor": "white",
            "gridwidth": 2,
            "linecolor": "white",
            "showbackground": true,
            "ticks": "",
            "zerolinecolor": "white"
           }
          },
          "shapedefaults": {
           "line": {
            "color": "#2a3f5f"
           }
          },
          "ternary": {
           "aaxis": {
            "gridcolor": "white",
            "linecolor": "white",
            "ticks": ""
           },
           "baxis": {
            "gridcolor": "white",
            "linecolor": "white",
            "ticks": ""
           },
           "bgcolor": "#E5ECF6",
           "caxis": {
            "gridcolor": "white",
            "linecolor": "white",
            "ticks": ""
           }
          },
          "title": {
           "x": 0.05
          },
          "xaxis": {
           "automargin": true,
           "gridcolor": "white",
           "linecolor": "white",
           "ticks": "",
           "title": {
            "standoff": 15
           },
           "zerolinecolor": "white",
           "zerolinewidth": 2
          },
          "yaxis": {
           "automargin": true,
           "gridcolor": "white",
           "linecolor": "white",
           "ticks": "",
           "title": {
            "standoff": 15
           },
           "zerolinecolor": "white",
           "zerolinewidth": 2
          }
         }
        }
       }
      },
      "text/html": [
       "<div>                            <div id=\"6a4d0dab-0d65-489e-8e48-1770e7c41df9\" class=\"plotly-graph-div\" style=\"height:525px; width:100%;\"></div>            <script type=\"text/javascript\">                require([\"plotly\"], function(Plotly) {                    window.PLOTLYENV=window.PLOTLYENV || {};                                    if (document.getElementById(\"6a4d0dab-0d65-489e-8e48-1770e7c41df9\")) {                    Plotly.newPlot(                        \"6a4d0dab-0d65-489e-8e48-1770e7c41df9\",                        [{\"coloraxis\":\"coloraxis\",\"geo\":\"geo\",\"geojson\":\"https://raw.githubusercontent.com/python-visualization/folium/master/examples/data/world-countries.json\",\"hovertemplate\":\"country=%{location}<br>total=%{z}<extra></extra>\",\"locationmode\":\"country names\",\"locations\":[\"China\",\"Denmark\",\"Germany\",\"Iceland\",\"India\",\"Ireland\",\"Israel\",\"Japan\",\"Russia\",\"Singapore\",\"South Africa\",\"South Korea\",\"United States\"],\"name\":\"\",\"z\":[22,8,5,1,1,10,1,19,8,20,1,1,216],\"type\":\"choropleth\"}],                        {\"template\":{\"data\":{\"histogram2dcontour\":[{\"type\":\"histogram2dcontour\",\"colorbar\":{\"outlinewidth\":0,\"ticks\":\"\"},\"colorscale\":[[0.0,\"#0d0887\"],[0.1111111111111111,\"#46039f\"],[0.2222222222222222,\"#7201a8\"],[0.3333333333333333,\"#9c179e\"],[0.4444444444444444,\"#bd3786\"],[0.5555555555555556,\"#d8576b\"],[0.6666666666666666,\"#ed7953\"],[0.7777777777777778,\"#fb9f3a\"],[0.8888888888888888,\"#fdca26\"],[1.0,\"#f0f921\"]]}],\"choropleth\":[{\"type\":\"choropleth\",\"colorbar\":{\"outlinewidth\":0,\"ticks\":\"\"}}],\"histogram2d\":[{\"type\":\"histogram2d\",\"colorbar\":{\"outlinewidth\":0,\"ticks\":\"\"},\"colorscale\":[[0.0,\"#0d0887\"],[0.1111111111111111,\"#46039f\"],[0.2222222222222222,\"#7201a8\"],[0.3333333333333333,\"#9c179e\"],[0.4444444444444444,\"#bd3786\"],[0.5555555555555556,\"#d8576b\"],[0.6666666666666666,\"#ed7953\"],[0.7777777777777778,\"#fb9f3a\"],[0.8888888888888888,\"#fdca26\"],[1.0,\"#f0f921\"]]}],\"heatmap\":[{\"type\":\"heatmap\",\"colorbar\":{\"outlinewidth\":0,\"ticks\":\"\"},\"colorscale\":[[0.0,\"#0d0887\"],[0.1111111111111111,\"#46039f\"],[0.2222222222222222,\"#7201a8\"],[0.3333333333333333,\"#9c179e\"],[0.4444444444444444,\"#bd3786\"],[0.5555555555555556,\"#d8576b\"],[0.6666666666666666,\"#ed7953\"],[0.7777777777777778,\"#fb9f3a\"],[0.8888888888888888,\"#fdca26\"],[1.0,\"#f0f921\"]]}],\"heatmapgl\":[{\"type\":\"heatmapgl\",\"colorbar\":{\"outlinewidth\":0,\"ticks\":\"\"},\"colorscale\":[[0.0,\"#0d0887\"],[0.1111111111111111,\"#46039f\"],[0.2222222222222222,\"#7201a8\"],[0.3333333333333333,\"#9c179e\"],[0.4444444444444444,\"#bd3786\"],[0.5555555555555556,\"#d8576b\"],[0.6666666666666666,\"#ed7953\"],[0.7777777777777778,\"#fb9f3a\"],[0.8888888888888888,\"#fdca26\"],[1.0,\"#f0f921\"]]}],\"contourcarpet\":[{\"type\":\"contourcarpet\",\"colorbar\":{\"outlinewidth\":0,\"ticks\":\"\"}}],\"contour\":[{\"type\":\"contour\",\"colorbar\":{\"outlinewidth\":0,\"ticks\":\"\"},\"colorscale\":[[0.0,\"#0d0887\"],[0.1111111111111111,\"#46039f\"],[0.2222222222222222,\"#7201a8\"],[0.3333333333333333,\"#9c179e\"],[0.4444444444444444,\"#bd3786\"],[0.5555555555555556,\"#d8576b\"],[0.6666666666666666,\"#ed7953\"],[0.7777777777777778,\"#fb9f3a\"],[0.8888888888888888,\"#fdca26\"],[1.0,\"#f0f921\"]]}],\"surface\":[{\"type\":\"surface\",\"colorbar\":{\"outlinewidth\":0,\"ticks\":\"\"},\"colorscale\":[[0.0,\"#0d0887\"],[0.1111111111111111,\"#46039f\"],[0.2222222222222222,\"#7201a8\"],[0.3333333333333333,\"#9c179e\"],[0.4444444444444444,\"#bd3786\"],[0.5555555555555556,\"#d8576b\"],[0.6666666666666666,\"#ed7953\"],[0.7777777777777778,\"#fb9f3a\"],[0.8888888888888888,\"#fdca26\"],[1.0,\"#f0f921\"]]}],\"mesh3d\":[{\"type\":\"mesh3d\",\"colorbar\":{\"outlinewidth\":0,\"ticks\":\"\"}}],\"scatter\":[{\"fillpattern\":{\"fillmode\":\"overlay\",\"size\":10,\"solidity\":0.2},\"type\":\"scatter\"}],\"parcoords\":[{\"type\":\"parcoords\",\"line\":{\"colorbar\":{\"outlinewidth\":0,\"ticks\":\"\"}}}],\"scatterpolargl\":[{\"type\":\"scatterpolargl\",\"marker\":{\"colorbar\":{\"outlinewidth\":0,\"ticks\":\"\"}}}],\"bar\":[{\"error_x\":{\"color\":\"#2a3f5f\"},\"error_y\":{\"color\":\"#2a3f5f\"},\"marker\":{\"line\":{\"color\":\"#E5ECF6\",\"width\":0.5},\"pattern\":{\"fillmode\":\"overlay\",\"size\":10,\"solidity\":0.2}},\"type\":\"bar\"}],\"scattergeo\":[{\"type\":\"scattergeo\",\"marker\":{\"colorbar\":{\"outlinewidth\":0,\"ticks\":\"\"}}}],\"scatterpolar\":[{\"type\":\"scatterpolar\",\"marker\":{\"colorbar\":{\"outlinewidth\":0,\"ticks\":\"\"}}}],\"histogram\":[{\"marker\":{\"pattern\":{\"fillmode\":\"overlay\",\"size\":10,\"solidity\":0.2}},\"type\":\"histogram\"}],\"scattergl\":[{\"type\":\"scattergl\",\"marker\":{\"colorbar\":{\"outlinewidth\":0,\"ticks\":\"\"}}}],\"scatter3d\":[{\"type\":\"scatter3d\",\"line\":{\"colorbar\":{\"outlinewidth\":0,\"ticks\":\"\"}},\"marker\":{\"colorbar\":{\"outlinewidth\":0,\"ticks\":\"\"}}}],\"scattermapbox\":[{\"type\":\"scattermapbox\",\"marker\":{\"colorbar\":{\"outlinewidth\":0,\"ticks\":\"\"}}}],\"scatterternary\":[{\"type\":\"scatterternary\",\"marker\":{\"colorbar\":{\"outlinewidth\":0,\"ticks\":\"\"}}}],\"scattercarpet\":[{\"type\":\"scattercarpet\",\"marker\":{\"colorbar\":{\"outlinewidth\":0,\"ticks\":\"\"}}}],\"carpet\":[{\"aaxis\":{\"endlinecolor\":\"#2a3f5f\",\"gridcolor\":\"white\",\"linecolor\":\"white\",\"minorgridcolor\":\"white\",\"startlinecolor\":\"#2a3f5f\"},\"baxis\":{\"endlinecolor\":\"#2a3f5f\",\"gridcolor\":\"white\",\"linecolor\":\"white\",\"minorgridcolor\":\"white\",\"startlinecolor\":\"#2a3f5f\"},\"type\":\"carpet\"}],\"table\":[{\"cells\":{\"fill\":{\"color\":\"#EBF0F8\"},\"line\":{\"color\":\"white\"}},\"header\":{\"fill\":{\"color\":\"#C8D4E3\"},\"line\":{\"color\":\"white\"}},\"type\":\"table\"}],\"barpolar\":[{\"marker\":{\"line\":{\"color\":\"#E5ECF6\",\"width\":0.5},\"pattern\":{\"fillmode\":\"overlay\",\"size\":10,\"solidity\":0.2}},\"type\":\"barpolar\"}],\"pie\":[{\"automargin\":true,\"type\":\"pie\"}]},\"layout\":{\"autotypenumbers\":\"strict\",\"colorway\":[\"#636efa\",\"#EF553B\",\"#00cc96\",\"#ab63fa\",\"#FFA15A\",\"#19d3f3\",\"#FF6692\",\"#B6E880\",\"#FF97FF\",\"#FECB52\"],\"font\":{\"color\":\"#2a3f5f\"},\"hovermode\":\"closest\",\"hoverlabel\":{\"align\":\"left\"},\"paper_bgcolor\":\"white\",\"plot_bgcolor\":\"#E5ECF6\",\"polar\":{\"bgcolor\":\"#E5ECF6\",\"angularaxis\":{\"gridcolor\":\"white\",\"linecolor\":\"white\",\"ticks\":\"\"},\"radialaxis\":{\"gridcolor\":\"white\",\"linecolor\":\"white\",\"ticks\":\"\"}},\"ternary\":{\"bgcolor\":\"#E5ECF6\",\"aaxis\":{\"gridcolor\":\"white\",\"linecolor\":\"white\",\"ticks\":\"\"},\"baxis\":{\"gridcolor\":\"white\",\"linecolor\":\"white\",\"ticks\":\"\"},\"caxis\":{\"gridcolor\":\"white\",\"linecolor\":\"white\",\"ticks\":\"\"}},\"coloraxis\":{\"colorbar\":{\"outlinewidth\":0,\"ticks\":\"\"}},\"colorscale\":{\"sequential\":[[0.0,\"#0d0887\"],[0.1111111111111111,\"#46039f\"],[0.2222222222222222,\"#7201a8\"],[0.3333333333333333,\"#9c179e\"],[0.4444444444444444,\"#bd3786\"],[0.5555555555555556,\"#d8576b\"],[0.6666666666666666,\"#ed7953\"],[0.7777777777777778,\"#fb9f3a\"],[0.8888888888888888,\"#fdca26\"],[1.0,\"#f0f921\"]],\"sequentialminus\":[[0.0,\"#0d0887\"],[0.1111111111111111,\"#46039f\"],[0.2222222222222222,\"#7201a8\"],[0.3333333333333333,\"#9c179e\"],[0.4444444444444444,\"#bd3786\"],[0.5555555555555556,\"#d8576b\"],[0.6666666666666666,\"#ed7953\"],[0.7777777777777778,\"#fb9f3a\"],[0.8888888888888888,\"#fdca26\"],[1.0,\"#f0f921\"]],\"diverging\":[[0,\"#8e0152\"],[0.1,\"#c51b7d\"],[0.2,\"#de77ae\"],[0.3,\"#f1b6da\"],[0.4,\"#fde0ef\"],[0.5,\"#f7f7f7\"],[0.6,\"#e6f5d0\"],[0.7,\"#b8e186\"],[0.8,\"#7fbc41\"],[0.9,\"#4d9221\"],[1,\"#276419\"]]},\"xaxis\":{\"gridcolor\":\"white\",\"linecolor\":\"white\",\"ticks\":\"\",\"title\":{\"standoff\":15},\"zerolinecolor\":\"white\",\"automargin\":true,\"zerolinewidth\":2},\"yaxis\":{\"gridcolor\":\"white\",\"linecolor\":\"white\",\"ticks\":\"\",\"title\":{\"standoff\":15},\"zerolinecolor\":\"white\",\"automargin\":true,\"zerolinewidth\":2},\"scene\":{\"xaxis\":{\"backgroundcolor\":\"#E5ECF6\",\"gridcolor\":\"white\",\"linecolor\":\"white\",\"showbackground\":true,\"ticks\":\"\",\"zerolinecolor\":\"white\",\"gridwidth\":2},\"yaxis\":{\"backgroundcolor\":\"#E5ECF6\",\"gridcolor\":\"white\",\"linecolor\":\"white\",\"showbackground\":true,\"ticks\":\"\",\"zerolinecolor\":\"white\",\"gridwidth\":2},\"zaxis\":{\"backgroundcolor\":\"#E5ECF6\",\"gridcolor\":\"white\",\"linecolor\":\"white\",\"showbackground\":true,\"ticks\":\"\",\"zerolinecolor\":\"white\",\"gridwidth\":2}},\"shapedefaults\":{\"line\":{\"color\":\"#2a3f5f\"}},\"annotationdefaults\":{\"arrowcolor\":\"#2a3f5f\",\"arrowhead\":0,\"arrowwidth\":1},\"geo\":{\"bgcolor\":\"white\",\"landcolor\":\"#E5ECF6\",\"subunitcolor\":\"white\",\"showland\":true,\"showlakes\":true,\"lakecolor\":\"white\"},\"title\":{\"x\":0.05},\"mapbox\":{\"style\":\"light\"}}},\"geo\":{\"domain\":{\"x\":[0.0,1.0],\"y\":[0.0,1.0]},\"center\":{}},\"coloraxis\":{\"colorbar\":{\"title\":{\"text\":\"total\"}},\"colorscale\":[[0.0,\"#0d0887\"],[0.1111111111111111,\"#46039f\"],[0.2222222222222222,\"#7201a8\"],[0.3333333333333333,\"#9c179e\"],[0.4444444444444444,\"#bd3786\"],[0.5555555555555556,\"#d8576b\"],[0.6666666666666666,\"#ed7953\"],[0.7777777777777778,\"#fb9f3a\"],[0.8888888888888888,\"#fdca26\"],[1.0,\"#f0f921\"]]},\"legend\":{\"tracegroupgap\":0},\"margin\":{\"t\":60}},                        {\"responsive\": true}                    ).then(function(){\n",
       "                            \n",
       "var gd = document.getElementById('6a4d0dab-0d65-489e-8e48-1770e7c41df9');\n",
       "var x = new MutationObserver(function (mutations, observer) {{\n",
       "        var display = window.getComputedStyle(gd).display;\n",
       "        if (!display || display === 'none') {{\n",
       "            console.log([gd, 'removed!']);\n",
       "            Plotly.purge(gd);\n",
       "            observer.disconnect();\n",
       "        }}\n",
       "}});\n",
       "\n",
       "// Listen for the removal of the full notebook cells\n",
       "var notebookContainer = gd.closest('#notebook-container');\n",
       "if (notebookContainer) {{\n",
       "    x.observe(notebookContainer, {childList: true});\n",
       "}}\n",
       "\n",
       "// Listen for the clearing of the current output cell\n",
       "var outputEl = gd.closest('.output');\n",
       "if (outputEl) {{\n",
       "    x.observe(outputEl, {childList: true});\n",
       "}}\n",
       "\n",
       "                        })                };                });            </script>        </div>"
      ]
     },
     "metadata": {},
     "output_type": "display_data"
    }
   ],
   "source": [
    "#Map it (based on this https://stackoverflow.com/questions/72991306/frequency-map-by-country)\n",
    "\n",
    "url = (\n",
    "    \"https://raw.githubusercontent.com/python-visualization/folium/master/examples/data\"\n",
    ")\n",
    "\n",
    "fig = px.choropleth(df_geototals,\n",
    "                    locations=\"country\",\n",
    "                    locationmode=\"country names\",\n",
    "                    geojson = f\"{url}/world-countries.json\",\n",
    "                    color=\"total\"\n",
    "                   )\n",
    "\n",
    "fig.show()"
   ]
  },
  {
   "cell_type": "markdown",
   "id": "generic-adoption",
   "metadata": {},
   "source": [
    "# Save the spreadsheet"
   ]
  },
  {
   "cell_type": "markdown",
   "id": "artistic-pakistan",
   "metadata": {},
   "source": [
    "## If you are running this in Google Colab"
   ]
  },
  {
   "cell_type": "code",
   "execution_count": null,
   "id": "qualified-monkey",
   "metadata": {},
   "outputs": [],
   "source": [
    "#When you run this cell it will ask you to authenticate so that you can create files to download\n",
    "from google.colab import drive\n",
    "drive.mount('/drive')"
   ]
  },
  {
   "cell_type": "code",
   "execution_count": null,
   "id": "ordered-water",
   "metadata": {},
   "outputs": [],
   "source": [
    "from google.colab import files\n",
    "df_formatted.to_csv(str(name) + '-published_records-'+str(datetime.datetime.now().strftime(\"%Y-%m-%d\"))+'.csv',encoding='utf-8') #create the CSV\n",
    "files.download(str(name) + '-published_records-'+str(datetime.datetime.now().strftime(\"%Y-%m-%d\"))+'.csv') #download to your computer"
   ]
  },
  {
   "cell_type": "markdown",
   "id": "unknown-protein",
   "metadata": {},
   "source": [
    "## If you are running this locally\n",
    "That is you downloaded the Jupyter Notebook file"
   ]
  },
  {
   "cell_type": "code",
   "execution_count": 35,
   "id": "robust-directory",
   "metadata": {},
   "outputs": [],
   "source": [
    "#Save a CSV file of all the metadata. Change the file name if necessary to match dates.\n",
    "save_file = df_formatted.to_csv(str(name) + '-published_records-'+str(datetime.datetime.now().strftime(\"%Y-%m-%d\"))+'.csv',encoding='utf-8')\n",
    "save_file = df_geototals.to_csv(str(name) + '-record-views-country-'+str(datetime.datetime.now().strftime(\"%Y-%m-%d\"))+'.csv',encoding='utf-8')\n"
   ]
  },
  {
   "cell_type": "code",
   "execution_count": null,
   "id": "composite-piano",
   "metadata": {},
   "outputs": [],
   "source": [
    "#Or save an Excel file of all the metadata. Change the file name if necessary to match dates.\n",
    "save_file = df_formatted.to_excel(str(name) + '-published_records-'+str(datetime.datetime.now().strftime(\"%Y-%m-%d\"))+'.xlsx')"
   ]
  },
  {
   "cell_type": "code",
   "execution_count": null,
   "id": "demanding-suggestion",
   "metadata": {},
   "outputs": [],
   "source": [
    "#OPTIONAL: save the json.\n",
    "with open(str(name) + 'published_records-'+str(datetime.datetime.now().strftime(\"%Y-%m-%d\"))+'.json', 'w') as f:\n",
    "    json.dump(published_records, f)"
   ]
  }
 ],
 "metadata": {
  "kernelspec": {
   "display_name": "Python 3",
   "language": "python",
   "name": "python3"
  },
  "language_info": {
   "codemirror_mode": {
    "name": "ipython",
    "version": 3
   },
   "file_extension": ".py",
   "mimetype": "text/x-python",
   "name": "python",
   "nbconvert_exporter": "python",
   "pygments_lexer": "ipython3",
   "version": "3.9.1"
  }
 },
 "nbformat": 4,
 "nbformat_minor": 5
}
