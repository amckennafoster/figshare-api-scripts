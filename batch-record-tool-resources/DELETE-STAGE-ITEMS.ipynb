{
 "cells": [
  {
   "cell_type": "markdown",
   "id": "beginning-bikini",
   "metadata": {},
   "source": [
    "# Unpublish and delete test records in Figshare stage instance\n",
    "\n",
    "This script first gives you a list of item ids for you to unpublish through the admin dashboard in the user interface.\n",
    "\n",
    "This assumes that all the records are owned by one administrator account. Records owned by multiple accounts will need to use impersonation\n"
   ]
  },
  {
   "cell_type": "code",
   "execution_count": null,
   "id": "indirect-dover",
   "metadata": {},
   "outputs": [],
   "source": [
    "import json\n",
    "import requests\n",
    "import pandas as pd\n",
    "import csv"
   ]
  },
  {
   "cell_type": "markdown",
   "id": "defined-baseball",
   "metadata": {},
   "source": [
    "## Use batch management to download all the metadata in your stage instance and save the csv as to-delete.csv"
   ]
  },
  {
   "cell_type": "code",
   "execution_count": null,
   "id": "reported-pricing",
   "metadata": {},
   "outputs": [],
   "source": [
    "##Open the CSV and make a list of the article ids\n",
    "\n",
    "##Running this on your computer (disable if running in Colab):\n",
    "df = pd.read_csv('to-delete.csv')\n",
    "\n",
    "##Running this in Colab enable the line below after uploading a file\n",
    "##Upload a file: On the left side of the screen click the folder icon and then the upload file icon to temporarily upload your file to this session. Right click the uploaded file and copy its path, paste in below if different\n",
    "#df = pd.read_csv('/content/to-delete.csv')\n",
    "\n",
    "#Create lists\n",
    "article_ids = df['article_id'].tolist()\n",
    "\n",
    "print(article_ids)"
   ]
  },
  {
   "cell_type": "markdown",
   "id": "responsible-flower",
   "metadata": {},
   "source": [
    "## Login to your admin account and in the Administration dashboard click the unpublish tab.\n",
    "## Copy the list of ids from above and paste into the unpublish field. Unpublish them.\n",
    "\n",
    "Then run this next cells to delete the draft records"
   ]
  },
  {
   "cell_type": "code",
   "execution_count": null,
   "id": "further-governor",
   "metadata": {},
   "outputs": [],
   "source": [
    "#Set the token in the header.\n",
    "text_file = open(\"faber-admin-key.txt\", \"r\") #Paste your token in a text file and save it where this notebook is\n",
    "TOKEN = text_file.read()\n",
    "TOKEN.strip() #removes any hidden spaces\n",
    "text_file.close()\n",
    "\n",
    "#Or set the token directly (delete the lines above)\n",
    "#TOKEN = 'ENTER TOKEN BETWEEN SINGLE QUOTES'\n",
    "\n",
    "api_call_headers = {'Authorization': 'token ' + TOKEN}\n",
    "\n",
    "#Set the base URL\n",
    "BASE_URL = 'https://api.figsh.com/v2' #Change this if you want the production environment"
   ]
  },
  {
   "cell_type": "code",
   "execution_count": null,
   "id": "prime-texture",
   "metadata": {},
   "outputs": [],
   "source": [
    "delete_article_fails = []\n",
    "\n",
    "for article in article_ids:\n",
    "    r = requests.delete(BASE_URL + '/account/articles/' + str(article), headers=api_call_headers)\n",
    "    if r.status_code != 204:\n",
    "        delete_article_fails.append(str(article) + \":\" + str(r.content[0:75])) #Add failed index to list with partial description\n",
    "\n",
    "print(len(delete_article_fails), 'records failed to delete')\n",
    "print('Fail descriptions:',delete_article_fails)\n",
    "        \n",
    "        "
   ]
  },
  {
   "cell_type": "code",
   "execution_count": null,
   "id": "bulgarian-equality",
   "metadata": {},
   "outputs": [],
   "source": []
  }
 ],
 "metadata": {
  "kernelspec": {
   "display_name": "Python 3",
   "language": "python",
   "name": "python3"
  },
  "language_info": {
   "codemirror_mode": {
    "name": "ipython",
    "version": 3
   },
   "file_extension": ".py",
   "mimetype": "text/x-python",
   "name": "python",
   "nbconvert_exporter": "python",
   "pygments_lexer": "ipython3",
   "version": "3.9.1"
  }
 },
 "nbformat": 4,
 "nbformat_minor": 5
}
