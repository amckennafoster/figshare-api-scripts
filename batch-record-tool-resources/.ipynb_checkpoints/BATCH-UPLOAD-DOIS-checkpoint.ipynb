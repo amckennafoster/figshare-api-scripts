{
 "cells": [
  {
   "cell_type": "markdown",
   "id": "beautiful-thing",
   "metadata": {},
   "source": [
    "# Batch upload existing DOIs to draft records\n",
    "\n",
    "This requires a CSV file called dois.csv with a column titled 'article_id' and a column titled 'doi'"
   ]
  },
  {
   "cell_type": "code",
   "execution_count": 1,
   "id": "sunrise-terminal",
   "metadata": {},
   "outputs": [],
   "source": [
    "import json\n",
    "import requests\n",
    "import pandas as pd\n",
    "import csv"
   ]
  },
  {
   "cell_type": "code",
   "execution_count": 2,
   "id": "piano-grade",
   "metadata": {},
   "outputs": [],
   "source": [
    "##Set the token in the header and base URL\n",
    "\n",
    "## OPTION 1 - use a token saved in a text document somewhere\n",
    "#text_file = open(\"../../../testing-token.txt\", \"r\")\n",
    "#TOKEN = text_file.read()\n",
    "#TOKEN.strip() #removes any hidden spaces\n",
    "#text_file.close()\n",
    "\n",
    "## OPTION 2 - enter the token here\n",
    "TOKEN = str(ENTER TOKEN HERE WITH QUOTES)\n",
    "api_call_headers = {'Authorization': 'token ' + TOKEN}\n",
    "\n",
    "##Set the base URL\n",
    "BASE_URL = 'https://api.figshare.com/v2' #Use 'https://api.figsh.com/v2' for stage"
   ]
  },
  {
   "cell_type": "code",
   "execution_count": 4,
   "id": "historical-tyler",
   "metadata": {},
   "outputs": [],
   "source": [
    "##Open the CSV and make two lists\n",
    "\n",
    "##Running this on your computer (disable if running in Colab):\n",
    "df = pd.read_csv('dois.csv')\n",
    "\n",
    "##Running this in Colab enable the line below after uploading a file\n",
    "##Upload a file: On the left side of the screen click the folder icon and then the upload file icon to temporarily upload your file to this session. Right click the uploaded file and copy its path, paste in below if different\n",
    "#df = pd.read_csv('/content/dois.csv')\n",
    "\n",
    "#Create lists\n",
    "article_ids = df['article_id'].tolist()\n",
    "dois = df['doi'].tolist()"
   ]
  },
  {
   "cell_type": "code",
   "execution_count": 8,
   "id": "descending-measure",
   "metadata": {},
   "outputs": [
    {
     "name": "stdout",
     "output_type": "stream",
     "text": [
      "1 records created and updated. There were 0 records that were not updated.\n",
      "Failed record descriptions: []\n"
     ]
    }
   ],
   "source": [
    "#Upload the dois \n",
    "\n",
    "record_fails = []\n",
    "success_count = 0\n",
    "count = 0 #This just tracks what index value the loop is on and is used to connect the article_id with the DOI update\n",
    "\n",
    "#Upload dois\n",
    "for article in article_ids:\n",
    "    doidict = {}\n",
    "    doidict['doi'] = dois[count]\n",
    "    doijson = json.dumps(doidict) #formats everything with double quotes\n",
    "    r = requests.put(BASE_URL + '/account/articles/'+ str(article), headers=api_call_headers, data = doijson) \n",
    "    if r.status_code != 205:\n",
    "        record_fails.append('Record ' + str(article) + ' failed at doi update: ' + str(r.content[0:75])) #Add failed index to list with partial description         \n",
    "        count += 1\n",
    "    else:\n",
    "        success_count += 1\n",
    "        count += 1\n",
    "\n",
    "        \n",
    "print(success_count,\"records updated. There were\",len(record_fails),\"records that were not updated.\")\n",
    "print(\"Failed record descriptions:\",record_fails)\n"
   ]
  },
  {
   "cell_type": "markdown",
   "id": "accompanied-student",
   "metadata": {},
   "source": [
    "## If review is not turned on in your repository and you are ready to publish, run this to publish all the items you just added a DOI to "
   ]
  },
  {
   "cell_type": "code",
   "execution_count": null,
   "id": "proved-consensus",
   "metadata": {},
   "outputs": [],
   "source": [
    "publish_record_fails = []\n",
    "\n",
    "for article in article_ids:\n",
    "    r = requests.post(BASE_URL + '/account/articles/' + str(article) + '/publish', headers=api_call_headers)\n",
    "    if r.status_code != 201:\n",
    "        publish_record_fails.append(article + \":\" + str(r.content[0:75])) #Add failed index to list with partial description\n",
    "        \n",
    "print(len(publish_record_fails), 'records failed to publish')\n",
    "print('Fail descriptions:',publish_record_fails)"
   ]
  },
  {
   "cell_type": "markdown",
   "id": "important-athletics",
   "metadata": {},
   "source": [
    "## If you do have review on, use batch management to download the metadata for these records, check them, and then reupload that CSV and let batch management publish the records with auto-review"
   ]
  },
  {
   "cell_type": "code",
   "execution_count": null,
   "id": "modular-humanitarian",
   "metadata": {},
   "outputs": [],
   "source": []
  }
 ],
 "metadata": {
  "kernelspec": {
   "display_name": "Python 3",
   "language": "python",
   "name": "python3"
  },
  "language_info": {
   "codemirror_mode": {
    "name": "ipython",
    "version": 3
   },
   "file_extension": ".py",
   "mimetype": "text/x-python",
   "name": "python",
   "nbconvert_exporter": "python",
   "pygments_lexer": "ipython3",
   "version": "3.9.1"
  }
 },
 "nbformat": 4,
 "nbformat_minor": 5
}
