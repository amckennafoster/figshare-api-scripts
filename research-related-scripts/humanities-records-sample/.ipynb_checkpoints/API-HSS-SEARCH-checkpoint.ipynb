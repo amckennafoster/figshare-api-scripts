{
 "cells": [
  {
   "cell_type": "markdown",
   "id": "touched-guidance",
   "metadata": {},
   "source": [
    "## Import libraries"
   ]
  },
  {
   "cell_type": "code",
   "execution_count": 1,
   "id": "f7e37a43",
   "metadata": {},
   "outputs": [],
   "source": [
    "import json\n",
    "import requests\n",
    "import pandas as pd\n",
    "import datetime\n",
    "import csv\n",
    "import numpy as np\n",
    "import matplotlib.pyplot as plt\n",
    "import seaborn as sns"
   ]
  },
  {
   "cell_type": "markdown",
   "id": "educated-share",
   "metadata": {},
   "source": [
    "## Set variables"
   ]
  },
  {
   "cell_type": "code",
   "execution_count": 23,
   "id": "62b4d3ec",
   "metadata": {},
   "outputs": [],
   "source": [
    "BASE_URL = \"https://api.figshare.com/v2\""
   ]
  },
  {
   "cell_type": "code",
   "execution_count": 53,
   "id": "concrete-seafood",
   "metadata": {},
   "outputs": [],
   "source": [
    "categories = [\"'Art'\",\"'Digital Humanities'\",\"'Disability Studies'\",\"'Entertainment'\",\"'Environmental Humanities'\",\n",
    "             \"'Ethnic Studies'\",\"'Gender Studies'\",\"'History'\",\"'Language'\",\"'Law'\",\"'Linguistics'\",\"'Literature'\",\n",
    "             \"'Media Studies'\",\"'Museology'\",\"'Performing Arts'\",\"'Philosophy'\",\"'Rhetoric'\",\"'Religious Studies'\"]"
   ]
  },
  {
   "cell_type": "code",
   "execution_count": 72,
   "id": "enhanced-evolution",
   "metadata": {},
   "outputs": [],
   "source": [
    "test = [\"'Art'\"] #86 and 150 Textile and Fashion Design"
   ]
  },
  {
   "cell_type": "code",
   "execution_count": 77,
   "id": "b014b476",
   "metadata": {},
   "outputs": [
    {
     "name": "stdout",
     "output_type": "stream",
     "text": [
      "22374 articles retrieved\n"
     ]
    }
   ],
   "source": [
    "#Gather basic metadata for items (articles) that meet your search criteria\n",
    "results = []\n",
    "for i in categories:\n",
    "    query = '{\"search_for\":\":category: ' + i + '\"}'\n",
    "    y = json.loads(query) #Figshare API requires json paramaters\n",
    "    for j in range(1,10):\n",
    "        records = json.loads(requests.post(BASE_URL + '/articles/search?page_size=1000&page={}'.format(j), params=y).content)\n",
    "        results.extend(records)\n",
    "    \n",
    "#See the number of articles\n",
    "print(len(results),'articles retrieved')"
   ]
  },
  {
   "cell_type": "code",
   "execution_count": 80,
   "id": "needed-hamilton",
   "metadata": {},
   "outputs": [],
   "source": [
    "#Save the json.\n",
    "with open('humanities-records'+str(datetime.datetime.now().strftime(\"%Y-%m-%d\"))+'.json', 'w') as f:\n",
    "    json.dump(results, f)"
   ]
  },
  {
   "cell_type": "code",
   "execution_count": 112,
   "id": "imported-subdivision",
   "metadata": {},
   "outputs": [],
   "source": [
    "#Create a dataframe from the JSON formatted data\n",
    "dfall = pd.DataFrame(results)"
   ]
  },
  {
   "cell_type": "code",
   "execution_count": 115,
   "id": "swiss-ecology",
   "metadata": {},
   "outputs": [
    {
     "name": "stdout",
     "output_type": "stream",
     "text": [
      "6001 records removed, 16373 unique records remain\n"
     ]
    }
   ],
   "source": [
    "dfunique = dfall.drop_duplicates(subset='id', keep=\"first\")\n",
    "print(len(dfall)-len(df),'records removed,',len(df),'unique records remain')"
   ]
  },
  {
   "cell_type": "code",
   "execution_count": 134,
   "id": "civil-fishing",
   "metadata": {},
   "outputs": [
    {
     "name": "stdout",
     "output_type": "stream",
     "text": [
      "325 records removed, 16048 unique records remain\n"
     ]
    },
    {
     "name": "stderr",
     "output_type": "stream",
     "text": [
      "c:\\users\\andre.desktop-dfg3gu2\\appdata\\local\\programs\\python\\python39\\lib\\site-packages\\pandas\\core\\frame.py:4524: SettingWithCopyWarning: \n",
      "A value is trying to be set on a copy of a slice from a DataFrame\n",
      "\n",
      "See the caveats in the documentation: https://pandas.pydata.org/pandas-docs/stable/user_guide/indexing.html#returning-a-view-versus-a-copy\n",
      "  return super().replace(\n"
     ]
    }
   ],
   "source": [
    "#Remove records that have a handle not a doi\n",
    "nan_value = float(\"NaN\")\n",
    "dfunique = dfunique.replace(\"\", nan_value, inplace=True) #Replace blanks with nan\n",
    "df = dfunique.dropna(subset = [\"doi\"])\n",
    "print(len(dfunique)-len(df),'records removed,',len(df),'unique records remain')"
   ]
  },
  {
   "cell_type": "code",
   "execution_count": 137,
   "id": "absolute-throw",
   "metadata": {},
   "outputs": [],
   "source": [
    "#Save a file of all the metadata\n",
    "save_file = df.to_csv('humanities-metadata'+str(datetime.datetime.now().strftime(\"%Y-%m-%d\"))+'.csv')"
   ]
  },
  {
   "cell_type": "code",
   "execution_count": 19,
   "id": "respiratory-parker",
   "metadata": {},
   "outputs": [],
   "source": [
    "#Open a file if needed\n",
    "df = pd.read_csv('humanities-metadata2022-07-01.csv',encoding='utf8')"
   ]
  },
  {
   "cell_type": "code",
   "execution_count": 20,
   "id": "retained-newcastle",
   "metadata": {},
   "outputs": [],
   "source": [
    "#Create a list of all the article ids\n",
    "article_ids = df['id'].tolist()"
   ]
  },
  {
   "cell_type": "code",
   "execution_count": 21,
   "id": "temporal-breakfast",
   "metadata": {},
   "outputs": [
    {
     "data": {
      "text/plain": [
       "16048"
      ]
     },
     "execution_count": 21,
     "metadata": {},
     "output_type": "execute_result"
    }
   ],
   "source": [
    "#article_ids2 = article_ids[12679:16047]\n",
    "len(article_ids)"
   ]
  },
  {
   "cell_type": "code",
   "execution_count": 12,
   "id": "blond-assist",
   "metadata": {},
   "outputs": [
    {
     "name": "stdout",
     "output_type": "stream",
     "text": [
      "The resulting dataframe has 3368 rows\n"
     ]
    }
   ],
   "source": [
    "# Create a csv file, use an API to gather data, reopen the csv as a dataframe\n",
    "   \n",
    "\n",
    "#Create csv file\n",
    "metadata=open('article-stats'+str(datetime.datetime.now().strftime(\"%Y-%m-%d\"))+'.csv', 'w', newline='')\n",
    "#Write header row to csv\n",
    "csv.writer(metadata).writerow(['id','views','downloads','shares'])            \n",
    "\n",
    "            \n",
    "for l in article_ids:\n",
    "    s=requests.get('https://stats.figshare.com/total/views/article/'+ str(l),headers={\"mailto\":\"andrew@figshare.com\"})\n",
    "    r=json.loads(s.text)\n",
    "    t=requests.get('https://stats.figshare.com/total/downloads/article/'+ str(l),headers={\"mailto\":\"andrew@figshare.com\"})\n",
    "    q=json.loads(t.text)\n",
    "    u=requests.get('https://stats.figshare.com/total/shares/article/'+ str(l),headers={\"mailto\":\"andrew@figshare.com\"})\n",
    "    v=json.loads(u.text)\n",
    "    \n",
    "    #write the values to the csv file. Dates in json files are seconds from jan 1 1970 so datetime.datetime.fromtimestamp converts\n",
    "    csv.writer(metadata).writerow([\n",
    "        l,\n",
    "        r.get('totals'), #For any of these .get(), adding \",'N/A'\" will fill the null cells with 'N/A'. However, metadata assessment counts non nulls\n",
    "        q.get('totals'),\n",
    "        v.get('totals')]) \n",
    "    \n",
    "    \n",
    "metadata.close() #Close the output file, release all locks\n",
    "\n",
    "#Open up the same file as a dataframe. Encode cp1252 avoids a utf8 error.\n",
    "dfstats = pd.read_csv('article-stats'+str(datetime.datetime.now().strftime(\"%Y-%m-%d\"))+'.csv',encoding='utf8')\n",
    "\n",
    "print('The resulting dataframe has',len(dfstats),'rows')"
   ]
  },
  {
   "cell_type": "code",
   "execution_count": 13,
   "id": "unauthorized-blowing",
   "metadata": {},
   "outputs": [],
   "source": [
    "dfstats = pd.read_csv('article-stats-all-2022-07-02.csv',encoding='utf8')"
   ]
  },
  {
   "cell_type": "code",
   "execution_count": 15,
   "id": "regulation-python",
   "metadata": {},
   "outputs": [],
   "source": [
    "df_full1 = df.merge(dfstats, how='left', on='id') #left to keep all records, the stats frame is missing 3"
   ]
  },
  {
   "cell_type": "markdown",
   "id": "integrated-consensus",
   "metadata": {},
   "source": [
    "### Gather keyword, category, funder, license, number of files metadata"
   ]
  },
  {
   "cell_type": "code",
   "execution_count": 30,
   "id": "vietnamese-recommendation",
   "metadata": {},
   "outputs": [
    {
     "name": "stdout",
     "output_type": "stream",
     "text": [
      "16048 records collected\n"
     ]
    }
   ],
   "source": [
    "def exists(obj, chain):\n",
    "    _key = chain.pop(0)\n",
    "    if _key in obj:\n",
    "        return exists(obj[_key], chain) if chain else obj[_key]\n",
    "\n",
    "#-----------------------------Create csv files---------------------------------------\n",
    "metadata=open('extra-metadata.csv', 'w', encoding='utf-8', newline='')\n",
    "#Write header row to csv\n",
    "\n",
    "csv.writer(metadata).writerow(['id','license','categories','tags','funders','count_references','count_files'])\n",
    "\n",
    "\n",
    "for i in article_ids:\n",
    "    record = json.loads(requests.get('https://api.figshare.com/v2/articles/' + str(i)).content)\n",
    "    #Get publish date, title, categories\n",
    "    #First get a list of category names and funder information from record\n",
    "    cats = []\n",
    "    for c in record['categories']:\n",
    "        cats.append(c['title'])\n",
    "    \n",
    "    funders = [] #funder name might be duplicated across multiple grants for an item. Create a dictionary to deduplicate later\n",
    "    for f in record['funding_list']:\n",
    "        entry = {\"id\":i, \"funder_name\":f['funder_name']}\n",
    "        funders.append(entry)\n",
    "\n",
    "    \n",
    "    #Then write to csv\n",
    "    csv.writer(metadata).writerow([\n",
    "                    i,\n",
    "                    record['license']['name'],\n",
    "                    cats,\n",
    "                    record['tags'],\n",
    "                    funders,\n",
    "                    len(exists(record,['references'])) if exists(record,['references'])!=None else 0,\n",
    "                    len(exists(record,['files'])) if exists(record,['files'])!=None else 0\n",
    "                    ])\n",
    "\n",
    "\n",
    "metadata.close() #Close the output file, release all locks\n",
    "\n",
    "\n",
    "#Load file just created as a dataframe\n",
    "metadata = pd.read_csv('extra-metadata.csv')\n",
    "\n",
    "\n",
    "print(len(metadata),\"records collected\")\n",
    "\n"
   ]
  },
  {
   "cell_type": "code",
   "execution_count": 31,
   "id": "numerous-heaven",
   "metadata": {},
   "outputs": [],
   "source": [
    "df_full = df_full1.merge(metadata, how='inner', on='id')"
   ]
  },
  {
   "cell_type": "code",
   "execution_count": 32,
   "id": "chief-ceiling",
   "metadata": {},
   "outputs": [],
   "source": [
    "#Save a file of all the metadata\n",
    "save_file = df_full.to_csv('MASTER-humanities-metadata'+str(datetime.datetime.now().strftime(\"%Y-%m-%d\"))+'.csv')"
   ]
  },
  {
   "cell_type": "code",
   "execution_count": null,
   "id": "regulated-chick",
   "metadata": {},
   "outputs": [],
   "source": []
  },
  {
   "cell_type": "markdown",
   "id": "intimate-medication",
   "metadata": {},
   "source": [
    "## Analysis"
   ]
  },
  {
   "cell_type": "code",
   "execution_count": 22,
   "id": "strategic-identification",
   "metadata": {},
   "outputs": [],
   "source": [
    "#Open a file if needed\n",
    "df_full = pd.read_csv('MASTER-humanities-metadata2022-07-05.csv',encoding='utf8')"
   ]
  },
  {
   "cell_type": "code",
   "execution_count": 58,
   "id": "freelance-terror",
   "metadata": {},
   "outputs": [
    {
     "data": {
      "text/plain": [
       "16048"
      ]
     },
     "execution_count": 58,
     "metadata": {},
     "output_type": "execute_result"
    }
   ],
   "source": [
    "len(df_full)"
   ]
  },
  {
   "cell_type": "code",
   "execution_count": 60,
   "id": "agreed-fleece",
   "metadata": {},
   "outputs": [
    {
     "data": {
      "text/html": [
       "<div>\n",
       "<style scoped>\n",
       "    .dataframe tbody tr th:only-of-type {\n",
       "        vertical-align: middle;\n",
       "    }\n",
       "\n",
       "    .dataframe tbody tr th {\n",
       "        vertical-align: top;\n",
       "    }\n",
       "\n",
       "    .dataframe thead th {\n",
       "        text-align: right;\n",
       "    }\n",
       "</style>\n",
       "<table border=\"1\" class=\"dataframe\">\n",
       "  <thead>\n",
       "    <tr style=\"text-align: right;\">\n",
       "      <th></th>\n",
       "      <th>Unnamed: 0</th>\n",
       "      <th>project_id</th>\n",
       "      <th>id</th>\n",
       "      <th>title</th>\n",
       "      <th>doi</th>\n",
       "      <th>handle</th>\n",
       "      <th>url</th>\n",
       "      <th>published_date</th>\n",
       "      <th>thumb</th>\n",
       "      <th>defined_type</th>\n",
       "      <th>...</th>\n",
       "      <th>resource_doi</th>\n",
       "      <th>views</th>\n",
       "      <th>downloads</th>\n",
       "      <th>shares</th>\n",
       "      <th>license</th>\n",
       "      <th>categories</th>\n",
       "      <th>tags</th>\n",
       "      <th>funders</th>\n",
       "      <th>count_references</th>\n",
       "      <th>count_files</th>\n",
       "    </tr>\n",
       "  </thead>\n",
       "  <tbody>\n",
       "    <tr>\n",
       "      <th>8677</th>\n",
       "      <td>9399</td>\n",
       "      <td>NaN</td>\n",
       "      <td>13696192</td>\n",
       "      <td>Interview with Curtis Martin</td>\n",
       "      <td>10.15786/13696192.v3</td>\n",
       "      <td>NaN</td>\n",
       "      <td>https://api.figshare.com/v2/articles/13696192</td>\n",
       "      <td>2021-11-15T19:18:55Z</td>\n",
       "      <td>https://s3-eu-west-1.amazonaws.com/ppreviews-u...</td>\n",
       "      <td>2</td>\n",
       "      <td>...</td>\n",
       "      <td>NaN</td>\n",
       "      <td>NaN</td>\n",
       "      <td>NaN</td>\n",
       "      <td>NaN</td>\n",
       "      <td>CC BY 4.0</td>\n",
       "      <td>['History']</td>\n",
       "      <td>['Western Wyoming Community College (1989- )',...</td>\n",
       "      <td>[]</td>\n",
       "      <td>0</td>\n",
       "      <td>5</td>\n",
       "    </tr>\n",
       "    <tr>\n",
       "      <th>12678</th>\n",
       "      <td>17833</td>\n",
       "      <td>18224.0</td>\n",
       "      <td>4539143</td>\n",
       "      <td>Russian Wiktionary thesaurus in Gephi format (...</td>\n",
       "      <td>10.6084/m9.figshare.4539143.v1</td>\n",
       "      <td>NaN</td>\n",
       "      <td>https://api.figshare.com/v2/articles/4539143</td>\n",
       "      <td>2017-01-11T05:26:52Z</td>\n",
       "      <td>NaN</td>\n",
       "      <td>3</td>\n",
       "      <td>...</td>\n",
       "      <td>NaN</td>\n",
       "      <td>NaN</td>\n",
       "      <td>NaN</td>\n",
       "      <td>NaN</td>\n",
       "      <td>CC BY 4.0</td>\n",
       "      <td>['Linguistics', 'Computer Graphics']</td>\n",
       "      <td>['thesaurus', 'Gephi', 'Wiktionary']</td>\n",
       "      <td>[{'id': 4539143, 'funder_name': None}]</td>\n",
       "      <td>0</td>\n",
       "      <td>1</td>\n",
       "    </tr>\n",
       "    <tr>\n",
       "      <th>16047</th>\n",
       "      <td>22373</td>\n",
       "      <td>NaN</td>\n",
       "      <td>4684120</td>\n",
       "      <td>Experience as a Catalyst for Healing Ministry:...</td>\n",
       "      <td>10.6084/m9.figshare.4684120.v1</td>\n",
       "      <td>NaN</td>\n",
       "      <td>https://api.figshare.com/v2/articles/4684120</td>\n",
       "      <td>2017-02-23T14:46:22Z</td>\n",
       "      <td>https://s3-eu-west-1.amazonaws.com/pfigshare-u...</td>\n",
       "      <td>14</td>\n",
       "      <td>...</td>\n",
       "      <td>NaN</td>\n",
       "      <td>NaN</td>\n",
       "      <td>NaN</td>\n",
       "      <td>NaN</td>\n",
       "      <td>CC BY 4.0</td>\n",
       "      <td>['History', 'Religious Studies']</td>\n",
       "      <td>['F.F. Bosworth', 'William Branham', 'Miracles...</td>\n",
       "      <td>[]</td>\n",
       "      <td>5</td>\n",
       "      <td>1</td>\n",
       "    </tr>\n",
       "  </tbody>\n",
       "</table>\n",
       "<p>3 rows × 28 columns</p>\n",
       "</div>"
      ],
      "text/plain": [
       "       Unnamed: 0  project_id        id  \\\n",
       "8677         9399         NaN  13696192   \n",
       "12678       17833     18224.0   4539143   \n",
       "16047       22373         NaN   4684120   \n",
       "\n",
       "                                                   title  \\\n",
       "8677                        Interview with Curtis Martin   \n",
       "12678  Russian Wiktionary thesaurus in Gephi format (...   \n",
       "16047  Experience as a Catalyst for Healing Ministry:...   \n",
       "\n",
       "                                  doi  handle  \\\n",
       "8677             10.15786/13696192.v3     NaN   \n",
       "12678  10.6084/m9.figshare.4539143.v1     NaN   \n",
       "16047  10.6084/m9.figshare.4684120.v1     NaN   \n",
       "\n",
       "                                                 url        published_date  \\\n",
       "8677   https://api.figshare.com/v2/articles/13696192  2021-11-15T19:18:55Z   \n",
       "12678   https://api.figshare.com/v2/articles/4539143  2017-01-11T05:26:52Z   \n",
       "16047   https://api.figshare.com/v2/articles/4684120  2017-02-23T14:46:22Z   \n",
       "\n",
       "                                                   thumb  defined_type  ...  \\\n",
       "8677   https://s3-eu-west-1.amazonaws.com/ppreviews-u...             2  ...   \n",
       "12678                                                NaN             3  ...   \n",
       "16047  https://s3-eu-west-1.amazonaws.com/pfigshare-u...            14  ...   \n",
       "\n",
       "      resource_doi  views downloads shares    license  \\\n",
       "8677           NaN    NaN       NaN    NaN  CC BY 4.0   \n",
       "12678          NaN    NaN       NaN    NaN  CC BY 4.0   \n",
       "16047          NaN    NaN       NaN    NaN  CC BY 4.0   \n",
       "\n",
       "                                 categories  \\\n",
       "8677                            ['History']   \n",
       "12678  ['Linguistics', 'Computer Graphics']   \n",
       "16047      ['History', 'Religious Studies']   \n",
       "\n",
       "                                                    tags  \\\n",
       "8677   ['Western Wyoming Community College (1989- )',...   \n",
       "12678               ['thesaurus', 'Gephi', 'Wiktionary']   \n",
       "16047  ['F.F. Bosworth', 'William Branham', 'Miracles...   \n",
       "\n",
       "                                      funders count_references  count_files  \n",
       "8677                                       []                0            5  \n",
       "12678  [{'id': 4539143, 'funder_name': None}]                0            1  \n",
       "16047                                      []                5            1  \n",
       "\n",
       "[3 rows x 28 columns]"
      ]
     },
     "execution_count": 60,
     "metadata": {},
     "output_type": "execute_result"
    }
   ],
   "source": [
    "missing_stats = df_full[df_full['views'].isna()]\n",
    "missing_stats.head()"
   ]
  },
  {
   "cell_type": "code",
   "execution_count": 61,
   "id": "international-newspaper",
   "metadata": {},
   "outputs": [
    {
     "name": "stdout",
     "output_type": "stream",
     "text": [
      "<class 'pandas.core.frame.DataFrame'>\n",
      "Int64Index: 16048 entries, 0 to 16047\n",
      "Data columns (total 28 columns):\n",
      " #   Column             Non-Null Count  Dtype  \n",
      "---  ------             --------------  -----  \n",
      " 0   Unnamed: 0         16048 non-null  int64  \n",
      " 1   project_id         850 non-null    float64\n",
      " 2   id                 16048 non-null  int64  \n",
      " 3   title              16048 non-null  object \n",
      " 4   doi                16048 non-null  object \n",
      " 5   handle             0 non-null      float64\n",
      " 6   url                16048 non-null  object \n",
      " 7   published_date     16048 non-null  object \n",
      " 8   thumb              9415 non-null   object \n",
      " 9   defined_type       16048 non-null  int64  \n",
      " 10  defined_type_name  16048 non-null  object \n",
      " 11  group_id           10146 non-null  float64\n",
      " 12  url_private_api    16048 non-null  object \n",
      " 13  url_public_api     16048 non-null  object \n",
      " 14  url_private_html   16048 non-null  object \n",
      " 15  url_public_html    16048 non-null  object \n",
      " 16  timeline           16048 non-null  object \n",
      " 17  resource_title     3017 non-null   object \n",
      " 18  resource_doi       3017 non-null   object \n",
      " 19  views              16045 non-null  float64\n",
      " 20  downloads          16045 non-null  float64\n",
      " 21  shares             16045 non-null  float64\n",
      " 22  license            16048 non-null  object \n",
      " 23  categories         16048 non-null  object \n",
      " 24  tags               16048 non-null  object \n",
      " 25  funders            16048 non-null  object \n",
      " 26  count_references   16048 non-null  int64  \n",
      " 27  count_files        16048 non-null  int64  \n",
      "dtypes: float64(6), int64(5), object(17)\n",
      "memory usage: 3.6+ MB\n"
     ]
    }
   ],
   "source": [
    "df_full.info()"
   ]
  },
  {
   "cell_type": "markdown",
   "id": "atlantic-walker",
   "metadata": {},
   "source": [
    "## Look at dates"
   ]
  },
  {
   "cell_type": "code",
   "execution_count": 8,
   "id": "sporting-deviation",
   "metadata": {},
   "outputs": [],
   "source": [
    "with open(\"humanities-records2022-07-01.json\", \"r\", encoding='utf8') as read_file: #Replace this with the filename of your choice\n",
    "    full_records = json.load(read_file)\n"
   ]
  },
  {
   "cell_type": "code",
   "execution_count": 62,
   "id": "thermal-pitch",
   "metadata": {},
   "outputs": [],
   "source": [
    "#The dates are all contained within one column called 'timeline'. Flatten that column and associate the values\n",
    "#with the proper article id in a new dataframe\n",
    "\n",
    "temp_date_list = []\n",
    "\n",
    "for item in full_records:\n",
    "    dateitem = item['timeline']\n",
    "    dateitem['id'] = item['id']\n",
    "    dateitem['doi'] = item['doi']\n",
    "    temp_date_list.append(dateitem)\n",
    "\n",
    "df_dates = pd.json_normalize(\n",
    "    temp_date_list \n",
    ")\n",
    "\n",
    "#Have to de-duplicate and remove handles to match df_full\n",
    "dfunique = df_dates.drop_duplicates(subset='id', keep=\"first\")\n",
    "#Remove records that have a handle not a doi\n",
    "df_dates_full = dfunique[dfunique['doi'] != \"\"]\n",
    "\n",
    "\n",
    "#Merge the dataframes\n",
    "df_full = df_full.merge(df_dates_full, how='left', on='id')\n",
    "\n",
    "print(\"Dates split out and merged,\",len(df_full),'records in dataframe')"
   ]
  },
  {
   "cell_type": "code",
   "execution_count": 66,
   "id": "perceived-ghana",
   "metadata": {},
   "outputs": [
    {
     "name": "stdout",
     "output_type": "stream",
     "text": [
      "Earliest date: 1970-01-01T00:00:00 ; Most recent date: 2022-07-01T12:12:59\n"
     ]
    }
   ],
   "source": [
    "post_dates = df_full['posted'].tolist()\n",
    "post_dates.sort()\n",
    "first_date = post_dates[0]\n",
    "last_date = post_dates[-1]\n",
    "print('Earliest date:',first_date,'; Most recent date:',last_date)"
   ]
  },
  {
   "cell_type": "code",
   "execution_count": 67,
   "id": "possible-orleans",
   "metadata": {},
   "outputs": [
    {
     "name": "stdout",
     "output_type": "stream",
     "text": [
      "Earliest date: 1960-01-01T00:00:00 ; Most recent date: 2022-07-01T04:15:04\n"
     ]
    }
   ],
   "source": [
    "online_dates = df_full['firstOnline'].tolist()\n",
    "online_dates.sort()\n",
    "first_date = online_dates[0]\n",
    "last_date = online_dates[-1]\n",
    "print('Earliest date:',first_date,'; Most recent date:',last_date)"
   ]
  },
  {
   "cell_type": "code",
   "execution_count": 68,
   "id": "killing-bridal",
   "metadata": {},
   "outputs": [
    {
     "name": "stdout",
     "output_type": "stream",
     "text": [
      "Earliest date: 1970-01-01T00:00:00Z ; Most recent date: 2022-07-01T12:12:59Z\n"
     ]
    }
   ],
   "source": [
    "pub_dates = df_full['published_date'].tolist()\n",
    "pub_dates.sort()\n",
    "first_date = pub_dates[0]\n",
    "last_date = pub_dates[-1]\n",
    "print('Earliest date:',first_date,'; Most recent date:',last_date)"
   ]
  },
  {
   "cell_type": "code",
   "execution_count": 71,
   "id": "first-episode",
   "metadata": {},
   "outputs": [
    {
     "data": {
      "text/plain": [
       "online resource            5231\n",
       "journal contribution       3850\n",
       "dataset                    3250\n",
       "figure                     1143\n",
       "media                       755\n",
       "presentation                543\n",
       "thesis                      358\n",
       "book                        215\n",
       "preprint                    213\n",
       "conference contribution     194\n",
       "poster                      183\n",
       "software                     64\n",
       "report                       22\n",
       "educational resource         13\n",
       "composition                   7\n",
       "chapter                       5\n",
       "model                         1\n",
       "workflow                      1\n",
       "Name: defined_type_name, dtype: int64"
      ]
     },
     "execution_count": 71,
     "metadata": {},
     "output_type": "execute_result"
    }
   ],
   "source": [
    "#Look at item type list\n",
    "df_full['defined_type_name'].value_counts()"
   ]
  },
  {
   "cell_type": "code",
   "execution_count": 72,
   "id": "rapid-enforcement",
   "metadata": {},
   "outputs": [
    {
     "data": {
      "text/html": [
       "<div>\n",
       "<style scoped>\n",
       "    .dataframe tbody tr th:only-of-type {\n",
       "        vertical-align: middle;\n",
       "    }\n",
       "\n",
       "    .dataframe tbody tr th {\n",
       "        vertical-align: top;\n",
       "    }\n",
       "\n",
       "    .dataframe thead th {\n",
       "        text-align: right;\n",
       "    }\n",
       "</style>\n",
       "<table border=\"1\" class=\"dataframe\">\n",
       "  <thead>\n",
       "    <tr style=\"text-align: right;\">\n",
       "      <th></th>\n",
       "      <th>defined_type_name</th>\n",
       "      <th>count</th>\n",
       "      <th>proportion</th>\n",
       "    </tr>\n",
       "  </thead>\n",
       "  <tbody>\n",
       "    <tr>\n",
       "      <th>0</th>\n",
       "      <td>online resource</td>\n",
       "      <td>5231</td>\n",
       "      <td>0.325960</td>\n",
       "    </tr>\n",
       "    <tr>\n",
       "      <th>1</th>\n",
       "      <td>journal contribution</td>\n",
       "      <td>3850</td>\n",
       "      <td>0.239905</td>\n",
       "    </tr>\n",
       "    <tr>\n",
       "      <th>2</th>\n",
       "      <td>dataset</td>\n",
       "      <td>3250</td>\n",
       "      <td>0.202517</td>\n",
       "    </tr>\n",
       "    <tr>\n",
       "      <th>3</th>\n",
       "      <td>figure</td>\n",
       "      <td>1143</td>\n",
       "      <td>0.071224</td>\n",
       "    </tr>\n",
       "    <tr>\n",
       "      <th>4</th>\n",
       "      <td>media</td>\n",
       "      <td>755</td>\n",
       "      <td>0.047046</td>\n",
       "    </tr>\n",
       "    <tr>\n",
       "      <th>5</th>\n",
       "      <td>presentation</td>\n",
       "      <td>543</td>\n",
       "      <td>0.033836</td>\n",
       "    </tr>\n",
       "    <tr>\n",
       "      <th>6</th>\n",
       "      <td>thesis</td>\n",
       "      <td>358</td>\n",
       "      <td>0.022308</td>\n",
       "    </tr>\n",
       "    <tr>\n",
       "      <th>7</th>\n",
       "      <td>book</td>\n",
       "      <td>215</td>\n",
       "      <td>0.013397</td>\n",
       "    </tr>\n",
       "    <tr>\n",
       "      <th>8</th>\n",
       "      <td>preprint</td>\n",
       "      <td>213</td>\n",
       "      <td>0.013273</td>\n",
       "    </tr>\n",
       "    <tr>\n",
       "      <th>9</th>\n",
       "      <td>conference contribution</td>\n",
       "      <td>194</td>\n",
       "      <td>0.012089</td>\n",
       "    </tr>\n",
       "    <tr>\n",
       "      <th>10</th>\n",
       "      <td>poster</td>\n",
       "      <td>183</td>\n",
       "      <td>0.011403</td>\n",
       "    </tr>\n",
       "    <tr>\n",
       "      <th>11</th>\n",
       "      <td>software</td>\n",
       "      <td>64</td>\n",
       "      <td>0.003988</td>\n",
       "    </tr>\n",
       "    <tr>\n",
       "      <th>12</th>\n",
       "      <td>report</td>\n",
       "      <td>22</td>\n",
       "      <td>0.001371</td>\n",
       "    </tr>\n",
       "    <tr>\n",
       "      <th>13</th>\n",
       "      <td>educational resource</td>\n",
       "      <td>13</td>\n",
       "      <td>0.000810</td>\n",
       "    </tr>\n",
       "    <tr>\n",
       "      <th>14</th>\n",
       "      <td>composition</td>\n",
       "      <td>7</td>\n",
       "      <td>0.000436</td>\n",
       "    </tr>\n",
       "    <tr>\n",
       "      <th>15</th>\n",
       "      <td>chapter</td>\n",
       "      <td>5</td>\n",
       "      <td>0.000312</td>\n",
       "    </tr>\n",
       "    <tr>\n",
       "      <th>16</th>\n",
       "      <td>model</td>\n",
       "      <td>1</td>\n",
       "      <td>0.000062</td>\n",
       "    </tr>\n",
       "    <tr>\n",
       "      <th>17</th>\n",
       "      <td>workflow</td>\n",
       "      <td>1</td>\n",
       "      <td>0.000062</td>\n",
       "    </tr>\n",
       "  </tbody>\n",
       "</table>\n",
       "</div>"
      ],
      "text/plain": [
       "          defined_type_name  count  proportion\n",
       "0           online resource   5231    0.325960\n",
       "1      journal contribution   3850    0.239905\n",
       "2                   dataset   3250    0.202517\n",
       "3                    figure   1143    0.071224\n",
       "4                     media    755    0.047046\n",
       "5              presentation    543    0.033836\n",
       "6                    thesis    358    0.022308\n",
       "7                      book    215    0.013397\n",
       "8                  preprint    213    0.013273\n",
       "9   conference contribution    194    0.012089\n",
       "10                   poster    183    0.011403\n",
       "11                 software     64    0.003988\n",
       "12                   report     22    0.001371\n",
       "13     educational resource     13    0.000810\n",
       "14              composition      7    0.000436\n",
       "15                  chapter      5    0.000312\n",
       "16                    model      1    0.000062\n",
       "17                 workflow      1    0.000062"
      ]
     },
     "execution_count": 72,
     "metadata": {},
     "output_type": "execute_result"
    }
   ],
   "source": [
    "df_types = df_full.defined_type_name.value_counts().reset_index().rename(columns={'index': 'defined_type_name', 'defined_type_name': 'count'})\n",
    "df_types['proportion'] = df_types['count']/len(df_full)\n",
    "df_types.sort_values(by='defined_type_name', ascending=False)\n",
    "df_types\n"
   ]
  },
  {
   "cell_type": "code",
   "execution_count": 73,
   "id": "operating-taylor",
   "metadata": {},
   "outputs": [
    {
     "data": {
      "text/html": [
       "<div>\n",
       "<style scoped>\n",
       "    .dataframe tbody tr th:only-of-type {\n",
       "        vertical-align: middle;\n",
       "    }\n",
       "\n",
       "    .dataframe tbody tr th {\n",
       "        vertical-align: top;\n",
       "    }\n",
       "\n",
       "    .dataframe thead th {\n",
       "        text-align: right;\n",
       "    }\n",
       "</style>\n",
       "<table border=\"1\" class=\"dataframe\">\n",
       "  <thead>\n",
       "    <tr style=\"text-align: right;\">\n",
       "      <th></th>\n",
       "      <th>defined_type_name</th>\n",
       "      <th>views</th>\n",
       "      <th>downloads</th>\n",
       "      <th>shares</th>\n",
       "    </tr>\n",
       "  </thead>\n",
       "  <tbody>\n",
       "    <tr>\n",
       "      <th>7</th>\n",
       "      <td>journal contribution</td>\n",
       "      <td>1378418.0</td>\n",
       "      <td>863003.0</td>\n",
       "      <td>28020.0</td>\n",
       "    </tr>\n",
       "    <tr>\n",
       "      <th>4</th>\n",
       "      <td>dataset</td>\n",
       "      <td>1044582.0</td>\n",
       "      <td>2031198.0</td>\n",
       "      <td>647.0</td>\n",
       "    </tr>\n",
       "    <tr>\n",
       "      <th>10</th>\n",
       "      <td>online resource</td>\n",
       "      <td>724154.0</td>\n",
       "      <td>80703.0</td>\n",
       "      <td>294.0</td>\n",
       "    </tr>\n",
       "    <tr>\n",
       "      <th>6</th>\n",
       "      <td>figure</td>\n",
       "      <td>499970.0</td>\n",
       "      <td>251009.0</td>\n",
       "      <td>3204.0</td>\n",
       "    </tr>\n",
       "    <tr>\n",
       "      <th>16</th>\n",
       "      <td>thesis</td>\n",
       "      <td>322691.0</td>\n",
       "      <td>264657.0</td>\n",
       "      <td>111.0</td>\n",
       "    </tr>\n",
       "    <tr>\n",
       "      <th>13</th>\n",
       "      <td>presentation</td>\n",
       "      <td>269130.0</td>\n",
       "      <td>104054.0</td>\n",
       "      <td>6536.0</td>\n",
       "    </tr>\n",
       "    <tr>\n",
       "      <th>8</th>\n",
       "      <td>media</td>\n",
       "      <td>172418.0</td>\n",
       "      <td>135844.0</td>\n",
       "      <td>93.0</td>\n",
       "    </tr>\n",
       "    <tr>\n",
       "      <th>12</th>\n",
       "      <td>preprint</td>\n",
       "      <td>107187.0</td>\n",
       "      <td>30929.0</td>\n",
       "      <td>36.0</td>\n",
       "    </tr>\n",
       "    <tr>\n",
       "      <th>11</th>\n",
       "      <td>poster</td>\n",
       "      <td>97577.0</td>\n",
       "      <td>31271.0</td>\n",
       "      <td>353.0</td>\n",
       "    </tr>\n",
       "    <tr>\n",
       "      <th>3</th>\n",
       "      <td>conference contribution</td>\n",
       "      <td>47959.0</td>\n",
       "      <td>17105.0</td>\n",
       "      <td>38.0</td>\n",
       "    </tr>\n",
       "    <tr>\n",
       "      <th>0</th>\n",
       "      <td>book</td>\n",
       "      <td>39152.0</td>\n",
       "      <td>9266.0</td>\n",
       "      <td>41.0</td>\n",
       "    </tr>\n",
       "    <tr>\n",
       "      <th>15</th>\n",
       "      <td>software</td>\n",
       "      <td>25954.0</td>\n",
       "      <td>8825.0</td>\n",
       "      <td>28.0</td>\n",
       "    </tr>\n",
       "    <tr>\n",
       "      <th>14</th>\n",
       "      <td>report</td>\n",
       "      <td>11700.0</td>\n",
       "      <td>6726.0</td>\n",
       "      <td>0.0</td>\n",
       "    </tr>\n",
       "    <tr>\n",
       "      <th>5</th>\n",
       "      <td>educational resource</td>\n",
       "      <td>2162.0</td>\n",
       "      <td>1776.0</td>\n",
       "      <td>0.0</td>\n",
       "    </tr>\n",
       "    <tr>\n",
       "      <th>2</th>\n",
       "      <td>composition</td>\n",
       "      <td>1881.0</td>\n",
       "      <td>546.0</td>\n",
       "      <td>0.0</td>\n",
       "    </tr>\n",
       "    <tr>\n",
       "      <th>1</th>\n",
       "      <td>chapter</td>\n",
       "      <td>1305.0</td>\n",
       "      <td>390.0</td>\n",
       "      <td>0.0</td>\n",
       "    </tr>\n",
       "    <tr>\n",
       "      <th>9</th>\n",
       "      <td>model</td>\n",
       "      <td>437.0</td>\n",
       "      <td>110.0</td>\n",
       "      <td>0.0</td>\n",
       "    </tr>\n",
       "    <tr>\n",
       "      <th>17</th>\n",
       "      <td>workflow</td>\n",
       "      <td>78.0</td>\n",
       "      <td>36.0</td>\n",
       "      <td>0.0</td>\n",
       "    </tr>\n",
       "  </tbody>\n",
       "</table>\n",
       "</div>"
      ],
      "text/plain": [
       "          defined_type_name      views  downloads   shares\n",
       "7      journal contribution  1378418.0   863003.0  28020.0\n",
       "4                   dataset  1044582.0  2031198.0    647.0\n",
       "10          online resource   724154.0    80703.0    294.0\n",
       "6                    figure   499970.0   251009.0   3204.0\n",
       "16                   thesis   322691.0   264657.0    111.0\n",
       "13             presentation   269130.0   104054.0   6536.0\n",
       "8                     media   172418.0   135844.0     93.0\n",
       "12                 preprint   107187.0    30929.0     36.0\n",
       "11                   poster    97577.0    31271.0    353.0\n",
       "3   conference contribution    47959.0    17105.0     38.0\n",
       "0                      book    39152.0     9266.0     41.0\n",
       "15                 software    25954.0     8825.0     28.0\n",
       "14                   report    11700.0     6726.0      0.0\n",
       "5      educational resource     2162.0     1776.0      0.0\n",
       "2               composition     1881.0      546.0      0.0\n",
       "1                   chapter     1305.0      390.0      0.0\n",
       "9                     model      437.0      110.0      0.0\n",
       "17                 workflow       78.0       36.0      0.0"
      ]
     },
     "execution_count": 73,
     "metadata": {},
     "output_type": "execute_result"
    }
   ],
   "source": [
    "df_type_stats = df_full.groupby('defined_type_name')[['views','downloads','shares']].apply(sum).reset_index().sort_values(by='views', ascending=False)\n",
    "df_type_stats\n",
    "\n"
   ]
  },
  {
   "cell_type": "code",
   "execution_count": 74,
   "id": "approximate-individual",
   "metadata": {},
   "outputs": [
    {
     "data": {
      "text/plain": [
       "CC BY 4.0                   9013\n",
       "CC0                         5012\n",
       "In Copyright                1255\n",
       "CC BY-NC-ND 4.0              301\n",
       "CC BY-NC 4.0                 197\n",
       "CC BY + CC0                   98\n",
       "CC BY-NC-SA 4.0               48\n",
       "MIT                           43\n",
       "Author Retains Copyright      35\n",
       "Apache 2.0                     8\n",
       "CC BY-SA 4.0                   7\n",
       "GPL 2.0+                       6\n",
       "GPL 3.0+                       6\n",
       "CC BY-ND 4.0                   4\n",
       "GPL                            4\n",
       "CC BY 3.0                      3\n",
       "4TU General Terms of Use       3\n",
       "CC BY                          3\n",
       "CC BY-SA 2.0                   1\n",
       "Publisher's own licence        1\n",
       "Name: license, dtype: int64"
      ]
     },
     "execution_count": 74,
     "metadata": {},
     "output_type": "execute_result"
    }
   ],
   "source": [
    "#Look at item type list\n",
    "df_full['license'].value_counts()"
   ]
  },
  {
   "cell_type": "code",
   "execution_count": 75,
   "id": "productive-criminal",
   "metadata": {},
   "outputs": [],
   "source": [
    "#Replace the [] with NaN\n",
    "df_full['funders'].replace('[]', np.NaN, inplace = True)\n"
   ]
  },
  {
   "cell_type": "code",
   "execution_count": 76,
   "id": "distributed-interval",
   "metadata": {},
   "outputs": [
    {
     "data": {
      "text/plain": [
       "1253"
      ]
     },
     "execution_count": 76,
     "metadata": {},
     "output_type": "execute_result"
    }
   ],
   "source": [
    "#Count links to funder (this is not just a funder listed, its the name of a funder from Dimensions)\n",
    "df_full['funders'].count()"
   ]
  },
  {
   "cell_type": "code",
   "execution_count": 77,
   "id": "different-allergy",
   "metadata": {},
   "outputs": [
    {
     "data": {
      "text/plain": [
       "2.1975947158524427"
      ]
     },
     "execution_count": 77,
     "metadata": {},
     "output_type": "execute_result"
    }
   ],
   "source": [
    "mean_files = df_full['count_files'].mean()\n",
    "mean_files"
   ]
  },
  {
   "cell_type": "code",
   "execution_count": 78,
   "id": "norwegian-carpet",
   "metadata": {},
   "outputs": [
    {
     "name": "stdout",
     "output_type": "stream",
     "text": [
      "13350 records with one or fewer files; 4952 with zero files; 2698 filesets\n"
     ]
    }
   ],
   "source": [
    "#Number of records with 1 or fewer files\n",
    "print(len(df_full[df_full['count_files'] <= 1]),'records with one or fewer files;',\n",
    "      len(df_full[df_full['count_files'] == 0]),'with zero files;',\n",
    "      len(df_full[df_full['count_files'] > 1]),'filesets')\n",
    "\n",
    "      "
   ]
  },
  {
   "cell_type": "code",
   "execution_count": 79,
   "id": "assigned-training",
   "metadata": {},
   "outputs": [
    {
     "name": "stderr",
     "output_type": "stream",
     "text": [
      "<ipython-input-79-fa608e74ad89>:16: UserWarning: FixedFormatter should only be used together with FixedLocator\n",
      "  ax.set_yticklabels(ax.get_yticks(), fontsize = 12)\n"
     ]
    },
    {
     "data": {
      "text/plain": [
       "[Text(0, 0.0, '0.0'),\n",
       " Text(0, 500.0, '500.0'),\n",
       " Text(0, 1000.0, '1000.0'),\n",
       " Text(0, 1500.0, '1500.0'),\n",
       " Text(0, 2000.0, '2000.0'),\n",
       " Text(0, 2500.0, '2500.0'),\n",
       " Text(0, 3000.0, '3000.0')]"
      ]
     },
     "execution_count": 79,
     "metadata": {},
     "output_type": "execute_result"
    },
    {
     "data": {
      "image/png": "[encoded data removed]",
      "text/plain": [
       "<Figure size 1080x576 with 1 Axes>"
      ]
     },
     "metadata": {
      "needs_background": "light"
     },
     "output_type": "display_data"
    }
   ],
   "source": [
    "#Split the year out and add it as a column\n",
    "year = df_full[\"published_date\"].str.split(\"-\", n = 1, expand = True)\n",
    "df_full['year'] = year[0]\n",
    "\n",
    "#Group by year\n",
    "datechart = df_full.groupby(['year']).count().reset_index()\n",
    "\n",
    "#Chart it all out\n",
    "#sns.color_palette(\"husl\", 8)\n",
    "plt.rcParams[\"figure.figsize\"] = (15,8)\n",
    "ax = sns.barplot(data=datechart, x=\"year\", y=\"id\", palette=[\"C0\"])\n",
    "#ax.set(xlabel='year', ylabel='number of records published')\n",
    "ax.set_ylabel(\"number of records published\", fontsize = 14)\n",
    "ax.set_xlabel(\"year\", fontsize = 14)\n",
    "ax.set_xticklabels(datechart['year'], fontsize = 10, rotation=60, ha=\"right\")\n",
    "ax.set_yticklabels(ax.get_yticks(), fontsize = 12)"
   ]
  },
  {
   "cell_type": "code",
   "execution_count": 80,
   "id": "applied-daily",
   "metadata": {},
   "outputs": [
    {
     "data": {
      "text/plain": [
       "67605"
      ]
     },
     "execution_count": 80,
     "metadata": {},
     "output_type": "execute_result"
    }
   ],
   "source": [
    "tags = df_full['tags'].to_frame()\n",
    "\n",
    "#Clean up the strings so each value is words separated by commas and a space\n",
    "tags['tags_clean'] = tags['tags'].str.replace('[','', regex=False)\n",
    "tags['tags_clean'] = tags['tags_clean'].str.replace(']','', regex=False)\n",
    "tags['tags_clean'] = tags['tags_clean'].str.replace(\"'\",\"\", regex=False)\n",
    "\n",
    "#Create a list to hold the list of words for each row, the tags are added to the sublists based on the ', '\n",
    "tags_clean = []\n",
    "for y in tags['tags_clean']:\n",
    "    value = y.split(', ')\n",
    "    tags_clean.append(value)\n",
    "\n",
    "#Make the list of lists to one list:\n",
    "all_tags = [word for tag in tags_clean for word in tag]\n",
    "len(all_tags)"
   ]
  },
  {
   "cell_type": "code",
   "execution_count": 81,
   "id": "combined-battle",
   "metadata": {},
   "outputs": [],
   "source": [
    "all_tags_df = pd.DataFrame(all_tags, columns = ['tag'])\n",
    "tops = all_tags_df.value_counts()"
   ]
  },
  {
   "cell_type": "code",
   "execution_count": 82,
   "id": "national-spare",
   "metadata": {},
   "outputs": [
    {
     "data": {
      "text/plain": [
       "tag                                       \n",
       "Philosophy                                    499\n",
       "Photography                                   316\n",
       "Stereoscopic                                  297\n",
       "Yellowstone National Park                     297\n",
       "Wyoming                                       297\n",
       "S00033                                        252\n",
       "S00050                                        229\n",
       "Oral history                                  225\n",
       "S00036                                        201\n",
       "S00060                                        182\n",
       "Oral tradition                                164\n",
       "Western Wyoming Community College (1989- )    164\n",
       "digital humanities                            144\n",
       "S00020                                        139\n",
       "S00008                                        138\n",
       "S00030                                        105\n",
       "S00518                                        102\n",
       "History                                        95\n",
       "history                                        94\n",
       "Bioethics                                      93\n",
       "dtype: int64"
      ]
     },
     "execution_count": 82,
     "metadata": {},
     "output_type": "execute_result"
    }
   ],
   "source": [
    "tops.head(20)"
   ]
  },
  {
   "cell_type": "code",
   "execution_count": 83,
   "id": "valuable-delivery",
   "metadata": {},
   "outputs": [
    {
     "data": {
      "text/plain": [
       "5902"
      ]
     },
     "execution_count": 83,
     "metadata": {},
     "output_type": "execute_result"
    }
   ],
   "source": [
    "#How many records are on figshare.com, that is, don't have a group_id\n",
    "test = df_full['group_id'].isna().sum()\n",
    "test"
   ]
  },
  {
   "cell_type": "code",
   "execution_count": null,
   "id": "collectible-dating",
   "metadata": {},
   "outputs": [],
   "source": []
  }
 ],
 "metadata": {
  "kernelspec": {
   "display_name": "Python 3",
   "language": "python",
   "name": "python3"
  },
  "language_info": {
   "codemirror_mode": {
    "name": "ipython",
    "version": 3
   },
   "file_extension": ".py",
   "mimetype": "text/x-python",
   "name": "python",
   "nbconvert_exporter": "python",
   "pygments_lexer": "ipython3",
   "version": "3.9.1"
  }
 },
 "nbformat": 4,
 "nbformat_minor": 5
}
