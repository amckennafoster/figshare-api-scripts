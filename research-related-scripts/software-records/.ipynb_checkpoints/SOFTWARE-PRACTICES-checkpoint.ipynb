{
 "cells": [
  {
   "cell_type": "markdown",
   "id": "talented-holmes",
   "metadata": {},
   "source": [
    "# Gather metadata for software"
   ]
  },
  {
   "cell_type": "markdown",
   "id": "touched-guidance",
   "metadata": {},
   "source": [
    "## Import libraries"
   ]
  },
  {
   "cell_type": "code",
   "execution_count": 1,
   "id": "f7e37a43",
   "metadata": {},
   "outputs": [],
   "source": [
    "import json\n",
    "import requests\n",
    "import pandas as pd\n",
    "import datetime\n",
    "import csv\n",
    "import numpy as np\n",
    "import matplotlib.pyplot as plt\n",
    "import seaborn as sns"
   ]
  },
  {
   "cell_type": "markdown",
   "id": "laden-cleanup",
   "metadata": {},
   "source": [
    "# Collect metadata for 5,000 software records"
   ]
  },
  {
   "cell_type": "markdown",
   "id": "educated-share",
   "metadata": {},
   "source": [
    "## Set variables"
   ]
  },
  {
   "cell_type": "code",
   "execution_count": 2,
   "id": "62b4d3ec",
   "metadata": {},
   "outputs": [],
   "source": [
    "BASE_URL = \"https://api.figshare.com/v2\""
   ]
  },
  {
   "cell_type": "code",
   "execution_count": 7,
   "id": "b014b476",
   "metadata": {},
   "outputs": [
    {
     "name": "stdout",
     "output_type": "stream",
     "text": [
      "5000 articles retrieved\n"
     ]
    }
   ],
   "source": [
    "#Gather basic metadata for items (articles) that meet your search criteria\n",
    "results = []\n",
    "query = '{\"item_type\": 9}' #Search for software\n",
    "y = json.loads(query) #Figshare API requires json paramaters\n",
    "for j in range(1,6):\n",
    "    records = json.loads(requests.post(BASE_URL + '/articles/search?page_size=1000&page={}'.format(j), params=y).content)\n",
    "    results.extend(records)\n",
    "    \n",
    "#See the number of articles\n",
    "print(len(results),'articles retrieved')"
   ]
  },
  {
   "cell_type": "code",
   "execution_count": 8,
   "id": "needed-hamilton",
   "metadata": {},
   "outputs": [],
   "source": [
    "#Save the json.\n",
    "with open('software'+str(datetime.datetime.now().strftime(\"%Y-%m-%d\"))+'.json', 'w') as f:\n",
    "    json.dump(results, f)"
   ]
  },
  {
   "cell_type": "code",
   "execution_count": 9,
   "id": "imported-subdivision",
   "metadata": {},
   "outputs": [],
   "source": [
    "#Create a dataframe from the JSON formatted data\n",
    "dfbasic = pd.DataFrame(results)"
   ]
  },
  {
   "cell_type": "code",
   "execution_count": 10,
   "id": "absolute-throw",
   "metadata": {},
   "outputs": [],
   "source": [
    "#Save a file of all the metadata\n",
    "save_file = dfbasic.to_csv('software-'+str(datetime.datetime.now().strftime(\"%Y-%m-%d\"))+'.csv')"
   ]
  },
  {
   "cell_type": "code",
   "execution_count": 19,
   "id": "respiratory-parker",
   "metadata": {},
   "outputs": [],
   "source": [
    "#Open a file if needed\n",
    "dfbasic = pd.read_csv('software-2023-05-13.csv',encoding='utf8')"
   ]
  },
  {
   "cell_type": "code",
   "execution_count": 11,
   "id": "retained-newcastle",
   "metadata": {},
   "outputs": [],
   "source": [
    "#Create a list of all the article ids\n",
    "article_ids = dfbasic['id'].tolist()"
   ]
  },
  {
   "cell_type": "code",
   "execution_count": 12,
   "id": "temporal-breakfast",
   "metadata": {},
   "outputs": [
    {
     "data": {
      "text/plain": [
       "5000"
      ]
     },
     "execution_count": 12,
     "metadata": {},
     "output_type": "execute_result"
    }
   ],
   "source": [
    "#article_ids2 = article_ids[12679:16047]\n",
    "len(article_ids)"
   ]
  },
  {
   "cell_type": "code",
   "execution_count": 15,
   "id": "uniform-dispute",
   "metadata": {},
   "outputs": [
    {
     "name": "stdout",
     "output_type": "stream",
     "text": [
      "Full metadata for 5000 items retrieved. 0 items had an error\n"
     ]
    }
   ],
   "source": [
    "item_metadata = []\n",
    "author_metadata = []\n",
    "funding_metadata = []\n",
    "categories_metadata = []\n",
    "tags_data = []\n",
    "files_metadata = []\n",
    "error_count = 0\n",
    "\n",
    "for item in article_ids:\n",
    "    m = requests.get(BASE_URL + '/articles/' + str(item))\n",
    "    metadata=json.loads(m.text)\n",
    "    \n",
    "    if m.status_code == 200: #if the record is not a previously published and then unpublished record\n",
    "\n",
    "        views = json.loads(requests.get('https://stats.figshare.com/total/views/article/' + str(item)).content)\n",
    "        #Add views to the full metadata record and add to the main list\n",
    "        metadata['views'] = views['totals']\n",
    "        item_metadata.append(metadata)\n",
    "\n",
    "        #Add item id to each set of content for individual tables\n",
    "        authors = metadata['authors']\n",
    "        for a in authors:\n",
    "            a['item_id'] = item\n",
    "            author_metadata.append(a)\n",
    "\n",
    "        funding = metadata['funding_list']\n",
    "        for f in funding:\n",
    "            f['item_id'] = item\n",
    "            funding_metadata.append(f)\n",
    "    \n",
    "        cats = metadata['categories']\n",
    "        for c in cats:\n",
    "            c['item_id'] = item\n",
    "            categories_metadata.append(c)\n",
    "    \n",
    "        for t in metadata['tags']: #tags are a list so its a bit different\n",
    "            tags = {}\n",
    "            tags['item_id'] = item\n",
    "            tags['name'] = t\n",
    "            tags_data.append(tags)\n",
    "\n",
    "        if metadata['is_embargoed'] == 0: #If the record is not embargoed\n",
    "            if len(metadata['files']) > 0: #If the record is not 'metadata only'\n",
    "                files = metadata['files']\n",
    "                for f in files:\n",
    "                    f['item_id'] = item\n",
    "                    files_metadata.append(f)\n",
    "    else:\n",
    "        error_count += 1\n",
    "    \n",
    "    \n",
    "print('Full metadata for',len(item_metadata),'items retrieved.', error_count,'items had an error')\n"
   ]
  },
  {
   "cell_type": "code",
   "execution_count": 16,
   "id": "defensive-thirty",
   "metadata": {},
   "outputs": [],
   "source": [
    "#save the json. \n",
    "with open('full_records-'+str(datetime.datetime.now().strftime(\"%Y-%m-%d\"))+'.json', 'w') as f:\n",
    "    json.dump(item_metadata, f)\n",
    "\n",
    "with open('author-'+str(datetime.datetime.now().strftime(\"%Y-%m-%d\"))+'.json', 'w') as f:\n",
    "    json.dump(author_metadata, f)\n",
    "\n",
    "with open('funding-'+str(datetime.datetime.now().strftime(\"%Y-%m-%d\"))+'.json', 'w') as f:\n",
    "    json.dump(funding_metadata, f)\n",
    "\n",
    "with open('categories-'+str(datetime.datetime.now().strftime(\"%Y-%m-%d\"))+'.json', 'w') as f:\n",
    "    json.dump(categories_metadata, f)\n",
    "\n",
    "with open('tags-'+str(datetime.datetime.now().strftime(\"%Y-%m-%d\"))+'.json', 'w') as f:\n",
    "    json.dump(tags_data, f)\n",
    "\n",
    "with open('files-'+str(datetime.datetime.now().strftime(\"%Y-%m-%d\"))+'.json', 'w') as f:\n",
    "    json.dump(files_metadata, f)"
   ]
  },
  {
   "cell_type": "code",
   "execution_count": 17,
   "id": "broadband-printer",
   "metadata": {},
   "outputs": [
    {
     "name": "stdout",
     "output_type": "stream",
     "text": [
      "Done!\n"
     ]
    }
   ],
   "source": [
    "#Create a dataframe from the JSON formatted data\n",
    "df = pd.DataFrame(item_metadata)\n",
    "print('Done!')"
   ]
  },
  {
   "cell_type": "markdown",
   "id": "artificial-aerospace",
   "metadata": {},
   "source": [
    "## Format the data"
   ]
  },
  {
   "cell_type": "markdown",
   "id": "furnished-chance",
   "metadata": {},
   "source": [
    "### Split out the dates"
   ]
  },
  {
   "cell_type": "code",
   "execution_count": 18,
   "id": "significant-forty",
   "metadata": {},
   "outputs": [
    {
     "name": "stdout",
     "output_type": "stream",
     "text": [
      "Dates split out and merged\n"
     ]
    }
   ],
   "source": [
    "#The dates are all contained within one column called 'timeline'. Flatten that column and associate the values\n",
    "#with the proper article id in a new dataframe\n",
    "\n",
    "temp_date_list = []\n",
    "\n",
    "for item in item_metadata:\n",
    "    dateitem = item['timeline']\n",
    "    dateitem['id'] = item['id']\n",
    "    temp_date_list.append(dateitem)\n",
    "\n",
    "df_dates = pd.json_normalize(\n",
    "    temp_date_list \n",
    ")\n",
    "\n",
    "df_dates.replace(df_dates.replace(r'^\\s*$', 'null', regex=True, inplace = True)) #Replace blank cells with 'null'\n",
    "\n",
    "#Merge the dataframes\n",
    "df_formatted = df.merge(df_dates, how='outer', on='id')\n",
    "\n",
    "print(\"Dates split out and merged\")"
   ]
  },
  {
   "cell_type": "markdown",
   "id": "square-infection",
   "metadata": {},
   "source": [
    "### Remove columns in main set that are not separate tables"
   ]
  },
  {
   "cell_type": "code",
   "execution_count": 63,
   "id": "genetic-carroll",
   "metadata": {},
   "outputs": [],
   "source": [
    "df_formatted = df_formatted.drop(columns=['files', 'authors','funding','funding_list','tags','categories','timeline'])"
   ]
  },
  {
   "cell_type": "markdown",
   "id": "negative-sunrise",
   "metadata": {},
   "source": [
    "### If group_id is not null, then assign the record a institutional/publisher tag. Otherwise, figshare.com"
   ]
  },
  {
   "cell_type": "code",
   "execution_count": 69,
   "id": "yellow-concept",
   "metadata": {},
   "outputs": [
    {
     "name": "stderr",
     "output_type": "stream",
     "text": [
      "<ipython-input-69-5b552e991963>:3: FutureWarning: The pandas.np module is deprecated and will be removed from pandas in a future version. Import numpy directly instead\n",
      "  df_formatted['edited_group_id'].replace(pd.np.nan, 999999999999, inplace=True)\n"
     ]
    }
   ],
   "source": [
    "df_formatted['origin'] = 'figshare-user' #create a new column and fill with default values\n",
    "df_formatted['edited_group_id'] = df_formatted['group_id']\n",
    "df_formatted['edited_group_id'].replace(np.nan, 999999999999, inplace=True)\n",
    "df_formatted.loc[df_formatted['edited_group_id'] != 999999999999, 'origin'] = 'organization'"
   ]
  },
  {
   "cell_type": "markdown",
   "id": "recent-kitchen",
   "metadata": {},
   "source": [
    "### Replace blanks with 'null' and rename id column"
   ]
  },
  {
   "cell_type": "code",
   "execution_count": 72,
   "id": "vital-habitat",
   "metadata": {},
   "outputs": [],
   "source": [
    "df_formatted.replace(df_formatted.replace(r'^\\s*$', np.nan, regex=True, inplace = True)) #Replace blank cells with 'null'\n",
    "#df_formatted.embargo_date.fillna(value='null', inplace=True)\n",
    "df_formatted.fillna(value='null', inplace=True)\n",
    "df_formatted = df_formatted.rename(columns={'id': 'item_id'}) #Rename id col in main dataframe"
   ]
  },
  {
   "cell_type": "markdown",
   "id": "still-workplace",
   "metadata": {},
   "source": [
    "## Create all other dataframes"
   ]
  },
  {
   "cell_type": "code",
   "execution_count": 10,
   "id": "sticky-slide",
   "metadata": {},
   "outputs": [],
   "source": [
    "authorsdf = pd.json_normalize(author_metadata)\n",
    "authorsdf.replace(authorsdf.replace(r'^\\s*$', 'null', regex=True, inplace = True)) #Replace blank cells with 'null'\n",
    "\n",
    "fundersdf = pd.json_normalize(funding_metadata)\n",
    "fundersdf.replace(fundersdf.replace(r'^\\s*$', 'null', regex=True, inplace = True)) #Replace blank cells with 'null'\n",
    "\n",
    "categoriesdf = pd.json_normalize(categories_metadata)\n",
    "\n",
    "tagsdf = pd.DataFrame(tags_data, columns=[\"item_id\",\"name\"], index=None)\n",
    "\n",
    "filesdf = pd.json_normalize(files_metadata)"
   ]
  },
  {
   "cell_type": "markdown",
   "id": "confidential-gateway",
   "metadata": {},
   "source": [
    "### Save to one excel book"
   ]
  },
  {
   "cell_type": "code",
   "execution_count": 73,
   "id": "ahead-juice",
   "metadata": {},
   "outputs": [],
   "source": [
    "with pd.ExcelWriter(\"metadata.xlsx\") as writer:\n",
    "   \n",
    "    # use to_excel function and specify the sheet_name and index\n",
    "    # to store the dataframe in specified sheet\n",
    "    df_formatted.to_excel(writer, sheet_name=\"main\", index=False)\n",
    "    authorsdf.to_excel(writer, sheet_name=\"authors\", index=False)\n",
    "    fundersdf.to_excel(writer, sheet_name=\"funding\", index=False)\n",
    "    categoriesdf.to_excel(writer, sheet_name=\"categories\", index=False)\n",
    "    tagsdf.to_excel(writer, sheet_name=\"tags\", index=False)\n",
    "    filesdf.to_excel(writer, sheet_name=\"files\", index=False)"
   ]
  },
  {
   "cell_type": "code",
   "execution_count": 11,
   "id": "effective-cable",
   "metadata": {},
   "outputs": [],
   "source": [
    "#Save to separate CSVs if you want\n",
    "save_file = authorsdf.to_csv('authors.csv',encoding='utf-8', index=None)\n",
    "\n",
    "save_file = fundersdf.to_csv('funding.csv',encoding='utf-8', index=None)\n",
    "\n",
    "save_file = categoriesdf.to_csv('categories.csv',encoding='utf-8', index=None)\n",
    "\n",
    "save_file = tagsdf.to_csv('tags.csv',encoding='utf-8', index=None)\n",
    "\n",
    "save_file = filesdf.to_csv('files.csv',encoding='utf-8', index=None)\n",
    "\n",
    "save_file = df_formatted.to_csv('main.csv',encoding='utf-8', index=None)"
   ]
  },
  {
   "cell_type": "code",
   "execution_count": 9,
   "id": "sporting-deviation",
   "metadata": {},
   "outputs": [],
   "source": [
    "#If you need to open json files\n",
    "\n",
    "with open(\"author-2023-05-13.json\", \"r\", encoding='utf8') as read_file: #Replace this with the filename of your choice\n",
    "    author_metadata = json.load(read_file)\n",
    "\n",
    "with open(\"funding-2023-05-13.json\", \"r\", encoding='utf8') as read_file: #Replace this with the filename of your choice\n",
    "    funding_metadata = json.load(read_file)\n",
    "\n",
    "with open(\"categories-2023-05-13.json\", \"r\", encoding='utf8') as read_file: #Replace this with the filename of your choice\n",
    "    categories_metadata = json.load(read_file)\n",
    "    \n",
    "with open(\"tags-2023-05-13.json\", \"r\", encoding='utf8') as read_file: #Replace this with the filename of your choice\n",
    "    tags_data = json.load(read_file)\n",
    "    \n",
    "#For some reason files json never got saved.\n"
   ]
  },
  {
   "cell_type": "markdown",
   "id": "usual-satisfaction",
   "metadata": {},
   "source": [
    "# Analysis"
   ]
  },
  {
   "cell_type": "code",
   "execution_count": null,
   "id": "mobile-partition",
   "metadata": {},
   "outputs": [],
   "source": [
    "#Open a file if needed\n",
    "df = pd.read_csv('main.csv',encoding='utf8')\n",
    "authorsdf = pd.read_csv('authors.csv',encoding='utf8')\n",
    "fundersdf = pd.read_csv('funding.csv',encoding='utf8')\n",
    "categoriesdf = pd.read_csv('categories.csv',encoding='utf8')\n",
    "tagsdf = pd.read_csv('tags.csv',encoding='utf8')\n",
    "filesdf = pd.read_csv('files.csv',encoding='utf8')"
   ]
  },
  {
   "cell_type": "code",
   "execution_count": null,
   "id": "copyrighted-polls",
   "metadata": {},
   "outputs": [],
   "source": [
    "#simplify the dataframe name if you are doing this from the beginning\n",
    "#df = df_formatted"
   ]
  },
  {
   "cell_type": "markdown",
   "id": "organizational-exception",
   "metadata": {},
   "source": [
    "### Set parameters for charts"
   ]
  },
  {
   "cell_type": "code",
   "execution_count": 23,
   "id": "indie-aluminum",
   "metadata": {},
   "outputs": [],
   "source": [
    "#parameters\n",
    "chart_title_font = 25\n",
    "y_axis_label_font = 15\n",
    "x_tick_size = 20\n",
    "y_tick_size = 20\n",
    "startfont = 30\n",
    "\n",
    "#set color properties for box plots https://stackoverflow.com/questions/43434020/black-and-white-boxplots-in-seaborn\n",
    "PROPS = {\n",
    "    'boxprops':{'edgecolor':'black'},\n",
    "    'medianprops':{'color':'black'},\n",
    "    'whiskerprops':{'color':'black'},\n",
    "    'capprops':{'color':'black'}\n",
    "}\n",
    "\n",
    "colors = [\"#D9D9D9\",\"#5A5A5A\"] #\"#FFFFFF\""
   ]
  },
  {
   "cell_type": "markdown",
   "id": "charitable-blair",
   "metadata": {},
   "source": [
    "### What domains are present?"
   ]
  },
  {
   "cell_type": "code",
   "execution_count": 38,
   "id": "median-opinion",
   "metadata": {},
   "outputs": [],
   "source": [
    "from collections import Counter"
   ]
  },
  {
   "cell_type": "code",
   "execution_count": 36,
   "id": "little-cruise",
   "metadata": {},
   "outputs": [],
   "source": [
    "with open(\"software2023-05-13.json\", \"r\", encoding='utf8') as read_file: #Replace this with the filename of your choice\n",
    "    basic_metadata = json.load(read_file)"
   ]
  },
  {
   "cell_type": "code",
   "execution_count": 39,
   "id": "outer-instrument",
   "metadata": {},
   "outputs": [
    {
     "data": {
      "text/plain": [
       "Counter({'figshare.com/a': 3195,\n",
       "         'data.ncl.ac.uk': 41,\n",
       "         'opticapublishi': 99,\n",
       "         'bridges.monash': 37,\n",
       "         'jstagedata.jst': 6,\n",
       "         'rdr.ucl.ac.uk/': 15,\n",
       "         'aacr.figshare.': 1026,\n",
       "         'data.dtu.dk/ar': 12,\n",
       "         'rs.figshare.co': 26,\n",
       "         'smithsonian.fi': 2,\n",
       "         'plos.figshare.': 24,\n",
       "         'researchdata.u': 6,\n",
       "         'figshare.shef.': 26,\n",
       "         'cord.cranfield': 12,\n",
       "         'datahub.hku.hk': 9,\n",
       "         'rmit.figshare.': 5,\n",
       "         'iastate.figsha': 2,\n",
       "         'uvaauas.figsha': 19,\n",
       "         'figshare.scili': 3,\n",
       "         'figshare.manch': 21,\n",
       "         'su.figshare.co': 4,\n",
       "         'kcl.figshare.c': 8,\n",
       "         'arizona.figsha': 5,\n",
       "         'data.4tu.nl/ar': 136,\n",
       "         'repository.lbo': 7,\n",
       "         'springernature': 45,\n",
       "         'dayta.nwu.ac.z': 5,\n",
       "         'melbourne.figs': 35,\n",
       "         'datarepository': 6,\n",
       "         'epa.figshare.c': 4,\n",
       "         'plus.figshare.': 5,\n",
       "         'federation.fig': 1,\n",
       "         'ordo.open.ac.u': 6,\n",
       "         'portal.sds.ox.': 1,\n",
       "         'tandf.figshare': 2,\n",
       "         'royalholloway.': 2,\n",
       "         'adelaide.figsh': 16,\n",
       "         'zivahub.uct.ac': 19,\n",
       "         'researchdata.s': 1,\n",
       "         'sussex.figshar': 1,\n",
       "         'auckland.figsh': 15,\n",
       "         'city.figshare.': 5,\n",
       "         'janelia.figsha': 14,\n",
       "         'caryinstitute.': 2,\n",
       "         'aru.figshare.c': 4,\n",
       "         'leicester.figs': 5,\n",
       "         'kilthub.cmu.ed': 8,\n",
       "         'scholardata.su': 3,\n",
       "         'figshare.dmu.a': 3,\n",
       "         'figshare.wesle': 2,\n",
       "         'gsajournals.fi': 4,\n",
       "         'uu.figshare.co': 4,\n",
       "         'yorksj.figshar': 2,\n",
       "         'data.lib.vt.ed': 8,\n",
       "         'salford.figsha': 1,\n",
       "         'wyoscholar.uwy': 3,\n",
       "         'esango.cput.ac': 1,\n",
       "         'crick.figshare': 9,\n",
       "         'future-science': 1,\n",
       "         'brunel.figshar': 2,\n",
       "         'scilifelab.fig': 2,\n",
       "         'asha.figshare.': 1,\n",
       "         'usn.figshare.c': 3,\n",
       "         'iop.figshare.c': 1,\n",
       "         'sage.figshare.': 1,\n",
       "         'figshare.edgeh': 1})"
      ]
     },
     "execution_count": 39,
     "metadata": {},
     "output_type": "execute_result"
    }
   ],
   "source": [
    "#Look at the institutions represented\n",
    "url = []\n",
    "for s in basic_metadata:\n",
    "    url.append(s['url_public_html'][8:22])\n",
    "\n",
    "unique_domains = Counter(url)\n",
    "unique_domains"
   ]
  },
  {
   "cell_type": "code",
   "execution_count": 42,
   "id": "roman-detection",
   "metadata": {},
   "outputs": [],
   "source": [
    "origindf = df.groupby(by=['origin']).count().reset_index()"
   ]
  },
  {
   "cell_type": "code",
   "execution_count": 44,
   "id": "unable-scanner",
   "metadata": {},
   "outputs": [
    {
     "data": {
      "text/html": [
       "<div>\n",
       "<style scoped>\n",
       "    .dataframe tbody tr th:only-of-type {\n",
       "        vertical-align: middle;\n",
       "    }\n",
       "\n",
       "    .dataframe tbody tr th {\n",
       "        vertical-align: top;\n",
       "    }\n",
       "\n",
       "    .dataframe thead th {\n",
       "        text-align: right;\n",
       "    }\n",
       "</style>\n",
       "<table border=\"1\" class=\"dataframe\">\n",
       "  <thead>\n",
       "    <tr style=\"text-align: right;\">\n",
       "      <th></th>\n",
       "      <th>origin</th>\n",
       "      <th>custom_fields</th>\n",
       "      <th>figshare_url</th>\n",
       "      <th>description</th>\n",
       "      <th>version</th>\n",
       "      <th>status</th>\n",
       "      <th>size</th>\n",
       "      <th>created_date</th>\n",
       "      <th>modified_date</th>\n",
       "      <th>is_public</th>\n",
       "      <th>...</th>\n",
       "      <th>resource_title</th>\n",
       "      <th>resource_doi</th>\n",
       "      <th>views</th>\n",
       "      <th>posted</th>\n",
       "      <th>firstOnline</th>\n",
       "      <th>publisherPublication</th>\n",
       "      <th>publisherAcceptance</th>\n",
       "      <th>edited_group_id</th>\n",
       "      <th>year_posted</th>\n",
       "      <th>month_posted</th>\n",
       "    </tr>\n",
       "  </thead>\n",
       "  <tbody>\n",
       "    <tr>\n",
       "      <th>0</th>\n",
       "      <td>figshare-user</td>\n",
       "      <td>3196</td>\n",
       "      <td>3196</td>\n",
       "      <td>3196</td>\n",
       "      <td>3196</td>\n",
       "      <td>3196</td>\n",
       "      <td>3196</td>\n",
       "      <td>3196</td>\n",
       "      <td>3196</td>\n",
       "      <td>3196</td>\n",
       "      <td>...</td>\n",
       "      <td>2</td>\n",
       "      <td>2</td>\n",
       "      <td>3196</td>\n",
       "      <td>3195</td>\n",
       "      <td>3195</td>\n",
       "      <td>0</td>\n",
       "      <td>0</td>\n",
       "      <td>3196</td>\n",
       "      <td>3195</td>\n",
       "      <td>3195</td>\n",
       "    </tr>\n",
       "    <tr>\n",
       "      <th>1</th>\n",
       "      <td>organization</td>\n",
       "      <td>1804</td>\n",
       "      <td>1804</td>\n",
       "      <td>1804</td>\n",
       "      <td>1804</td>\n",
       "      <td>1804</td>\n",
       "      <td>1804</td>\n",
       "      <td>1804</td>\n",
       "      <td>1803</td>\n",
       "      <td>1804</td>\n",
       "      <td>...</td>\n",
       "      <td>1374</td>\n",
       "      <td>1374</td>\n",
       "      <td>1804</td>\n",
       "      <td>1804</td>\n",
       "      <td>1804</td>\n",
       "      <td>1061</td>\n",
       "      <td>35</td>\n",
       "      <td>1804</td>\n",
       "      <td>1804</td>\n",
       "      <td>1804</td>\n",
       "    </tr>\n",
       "  </tbody>\n",
       "</table>\n",
       "<p>2 rows × 48 columns</p>\n",
       "</div>"
      ],
      "text/plain": [
       "          origin  custom_fields  figshare_url  description  version  status  \\\n",
       "0  figshare-user           3196          3196         3196     3196    3196   \n",
       "1   organization           1804          1804         1804     1804    1804   \n",
       "\n",
       "   size  created_date  modified_date  is_public  ...  resource_title  \\\n",
       "0  3196          3196           3196       3196  ...               2   \n",
       "1  1804          1804           1803       1804  ...            1374   \n",
       "\n",
       "   resource_doi  views  posted  firstOnline  publisherPublication  \\\n",
       "0             2   3196    3195         3195                     0   \n",
       "1          1374   1804    1804         1804                  1061   \n",
       "\n",
       "   publisherAcceptance  edited_group_id  year_posted  month_posted  \n",
       "0                    0             3196         3195          3195  \n",
       "1                   35             1804         1804          1804  \n",
       "\n",
       "[2 rows x 48 columns]"
      ]
     },
     "execution_count": 44,
     "metadata": {},
     "output_type": "execute_result"
    }
   ],
   "source": [
    "origindf\n",
    "\n",
    "#So there is one record that may or may not be figshare.com, but this aligns well with the domains"
   ]
  },
  {
   "cell_type": "markdown",
   "id": "close-canada",
   "metadata": {},
   "source": [
    "### Look at records over time"
   ]
  },
  {
   "cell_type": "code",
   "execution_count": 15,
   "id": "compact-rugby",
   "metadata": {},
   "outputs": [
    {
     "name": "stderr",
     "output_type": "stream",
     "text": [
      "<ipython-input-15-620fbb069599>:23: UserWarning: FixedFormatter should only be used together with FixedLocator\n",
      "  ax.set_yticklabels(ax.get_yticks(), fontsize = 12)\n"
     ]
    },
    {
     "data": {
      "text/plain": [
       "[Text(0, 0.0, '0.0'),\n",
       " Text(0, 500.0, '500.0'),\n",
       " Text(0, 1000.0, '1000.0'),\n",
       " Text(0, 1500.0, '1500.0'),\n",
       " Text(0, 2000.0, '2000.0'),\n",
       " Text(0, 2500.0, '2500.0')]"
      ]
     },
     "execution_count": 15,
     "metadata": {},
     "output_type": "execute_result"
    },
    {
     "data": {
      "image/png": "[encoded data removed]",
      "text/plain": [
       "<Figure size 1080x576 with 1 Axes>"
      ]
     },
     "metadata": {
      "needs_background": "light"
     },
     "output_type": "display_data"
    }
   ],
   "source": [
    "#Use the posted date because the firstOnline date may not align with the actual Figshare record. \n",
    "#The posted date as this is the date posted on Figshare.\n",
    "\n",
    "#Add year and month posted columns\n",
    "df['year_posted'] = pd.DatetimeIndex(df['posted']).year\n",
    "df['month_posted'] = pd.DatetimeIndex(df['posted']).month\n",
    "\n",
    "#Another way to do it...Split the year out and add it as a column\n",
    "#year = df_full[\"firstOnline\"].str.split(\"-\", n = 1, expand = True)\n",
    "#df_full['year'] = year[0]\n",
    "\n",
    "#Group by year\n",
    "datechart = df.groupby(['year_posted']).count().reset_index()\n",
    "\n",
    "#Chart it all out\n",
    "#sns.color_palette(\"husl\", 8)\n",
    "plt.rcParams[\"figure.figsize\"] = (15,8)\n",
    "ax = sns.barplot(data=datechart, x=\"year_posted\", y=\"item_id\", palette=[\"C0\"])\n",
    "#ax.set(xlabel='year', ylabel='number of records published')\n",
    "ax.set_ylabel(\"number of records published\", fontsize = 14)\n",
    "ax.set_xlabel(\"year_posted\", fontsize = 14)\n",
    "ax.set_xticklabels(datechart['year_posted'], fontsize = 10, rotation=60, ha=\"right\")\n",
    "ax.set_yticklabels(ax.get_yticks(), fontsize = 12)"
   ]
  },
  {
   "cell_type": "markdown",
   "id": "understanding-converter",
   "metadata": {},
   "source": [
    "## Views per time\n",
    "Really should use first online date. see this example: https://figshare.shef.ac.uk/articles/dataset/CoVid_Plots_and_Analysis/12328226 If things are versioned then the posted date and views no longer align it seems"
   ]
  },
  {
   "cell_type": "code",
   "execution_count": 16,
   "id": "fleet-spanking",
   "metadata": {},
   "outputs": [],
   "source": [
    "dfviews = df.copy() "
   ]
  },
  {
   "cell_type": "code",
   "execution_count": 20,
   "id": "accessory-transportation",
   "metadata": {},
   "outputs": [],
   "source": [
    "#There is at least one missing firstOnline date so replace that with the posted date just in this dataframe\n",
    "dfviews['firstOnline'].fillna(dfviews['posted'], inplace=True)"
   ]
  },
  {
   "cell_type": "code",
   "execution_count": 21,
   "id": "conservative-powder",
   "metadata": {},
   "outputs": [
    {
     "name": "stderr",
     "output_type": "stream",
     "text": [
      "c:\\users\\andre.desktop-dfg3gu2\\appdata\\local\\programs\\python\\python39\\lib\\site-packages\\pandas\\core\\arraylike.py:358: RuntimeWarning: divide by zero encountered in log\n",
      "  result = getattr(ufunc, method)(*inputs, **kwargs)\n"
     ]
    }
   ],
   "source": [
    "#----!!!!!!!! Adjust the values for your data collection date\n",
    "\n",
    "current_month = 5\n",
    "current_year = 2023\n",
    "\n",
    "def calc(row):\n",
    "    if row['month_posted'] != current_month and row['year_posted'] == current_year: #number of months from current year\n",
    "        return (current_month-row['month_posted'])\n",
    "    elif row['month_posted'] == current_month and row['year_posted'] == current_year: #If published in current month and year\n",
    "        return 0.75 #data was collected on Oct 26 so if item posted this september just assign it 0.75\n",
    "    else:\n",
    "        return ((current_year-(row['year_posted']+1))*12)+(12-row['month_posted'])+current_month #add 1 to the posted year first then subtract to get full years, then add the months from posted year, then months for current year\n",
    "\n",
    "    \n",
    "dfviews['months_since_posted'] = dfviews.apply(calc, axis=1)\n",
    "\n",
    "\n",
    "dfviews['views_per_month'] = dfviews['views']/dfviews['months_since_posted']\n",
    "dfviews['log_views_per_month'] = np.log(dfviews['views_per_month'])\n",
    "#df['downloads_per_month'] = df['downloads']/df['months_since_posted']\n",
    "\n",
    "#Save to CSV\n",
    "#dfviews.to_csv('DeleteExamineViews.csv', index = False, header=True)"
   ]
  },
  {
   "cell_type": "code",
   "execution_count": 24,
   "id": "progressive-toronto",
   "metadata": {},
   "outputs": [
    {
     "name": "stderr",
     "output_type": "stream",
     "text": [
      "c:\\users\\andre.desktop-dfg3gu2\\appdata\\local\\programs\\python\\python39\\lib\\site-packages\\numpy\\lib\\function_base.py:3961: RuntimeWarning: invalid value encountered in subtract\n",
      "  diff_b_a = subtract(b, a)\n"
     ]
    },
    {
     "data": {
      "text/plain": [
       "Text(0.5, 1.0, 'Log Views per Month')"
      ]
     },
     "execution_count": 24,
     "metadata": {},
     "output_type": "execute_result"
    },
    {
     "data": {
      "image/png": "[encoded data removed]",
      "text/plain": [
       "<Figure size 1080x576 with 1 Axes>"
      ]
     },
     "metadata": {
      "needs_background": "light"
     },
     "output_type": "display_data"
    }
   ],
   "source": [
    "#Create a chart\n",
    "\n",
    "\n",
    "ax = sns.boxplot(data=dfviews, x='origin', y='log_views_per_month', palette=sns.color_palette(colors, 2),**PROPS)#, palette=\"Blues_d\")\n",
    "ax.set(xlabel=None)\n",
    "xticks = plt.xticks()\n",
    "#wrap_labels(ax,14)\n",
    "ax.set_ylabel('Log Number of Views/Month', fontsize=y_axis_label_font)\n",
    "ax.tick_params(axis='x', which='major', labelsize=x_tick_size)\n",
    "ax.tick_params(axis='y', which='major', labelsize=y_tick_size)\n",
    "ax.set_title('Log Views per Month', fontsize=chart_title_font)\n",
    "#ax.text(0.5, 0.8,'*', ha='center', fontsize = startfont, transform=ax6.transAxes)\n",
    "\n",
    "\n",
    "#Save Figure\n",
    "#plt.savefig('viewsmonth-color-pres.jpg', dpi=180, format=\"jpg\")"
   ]
  },
  {
   "cell_type": "markdown",
   "id": "overhead-possibility",
   "metadata": {},
   "source": [
    "### Examine Files"
   ]
  },
  {
   "cell_type": "code",
   "execution_count": 30,
   "id": "beginning-virginia",
   "metadata": {},
   "outputs": [
    {
     "name": "stdout",
     "output_type": "stream",
     "text": [
      "<class 'pandas.core.frame.DataFrame'>\n",
      "RangeIndex: 12636 entries, 0 to 12635\n",
      "Data columns (total 8 columns):\n",
      " #   Column        Non-Null Count  Dtype \n",
      "---  ------        --------------  ----- \n",
      " 0   id            12636 non-null  int64 \n",
      " 1   name          12633 non-null  object\n",
      " 2   size          12636 non-null  int64 \n",
      " 3   is_link_only  12636 non-null  bool  \n",
      " 4   download_url  12636 non-null  object\n",
      " 5   supplied_md5  12593 non-null  object\n",
      " 6   computed_md5  12523 non-null  object\n",
      " 7   item_id       12636 non-null  int64 \n",
      "dtypes: bool(1), int64(3), object(4)\n",
      "memory usage: 703.5+ KB\n"
     ]
    }
   ],
   "source": [
    "filesdf.info()"
   ]
  },
  {
   "cell_type": "code",
   "execution_count": 45,
   "id": "worst-procedure",
   "metadata": {},
   "outputs": [
    {
     "data": {
      "text/html": [
       "<div>\n",
       "<style scoped>\n",
       "    .dataframe tbody tr th:only-of-type {\n",
       "        vertical-align: middle;\n",
       "    }\n",
       "\n",
       "    .dataframe tbody tr th {\n",
       "        vertical-align: top;\n",
       "    }\n",
       "\n",
       "    .dataframe thead th {\n",
       "        text-align: right;\n",
       "    }\n",
       "</style>\n",
       "<table border=\"1\" class=\"dataframe\">\n",
       "  <thead>\n",
       "    <tr style=\"text-align: right;\">\n",
       "      <th></th>\n",
       "      <th>is_link_only</th>\n",
       "      <th>id</th>\n",
       "      <th>name</th>\n",
       "      <th>size</th>\n",
       "      <th>download_url</th>\n",
       "      <th>supplied_md5</th>\n",
       "      <th>computed_md5</th>\n",
       "      <th>item_id</th>\n",
       "      <th>ext_pullout</th>\n",
       "      <th>extension</th>\n",
       "    </tr>\n",
       "  </thead>\n",
       "  <tbody>\n",
       "    <tr>\n",
       "      <th>0</th>\n",
       "      <td>False</td>\n",
       "      <td>12593</td>\n",
       "      <td>12593</td>\n",
       "      <td>12593</td>\n",
       "      <td>12593</td>\n",
       "      <td>12593</td>\n",
       "      <td>12523</td>\n",
       "      <td>12593</td>\n",
       "      <td>12593</td>\n",
       "      <td>12444</td>\n",
       "    </tr>\n",
       "    <tr>\n",
       "      <th>1</th>\n",
       "      <td>True</td>\n",
       "      <td>43</td>\n",
       "      <td>40</td>\n",
       "      <td>43</td>\n",
       "      <td>43</td>\n",
       "      <td>0</td>\n",
       "      <td>0</td>\n",
       "      <td>43</td>\n",
       "      <td>40</td>\n",
       "      <td>7</td>\n",
       "    </tr>\n",
       "  </tbody>\n",
       "</table>\n",
       "</div>"
      ],
      "text/plain": [
       "   is_link_only     id   name   size  download_url  supplied_md5  \\\n",
       "0         False  12593  12593  12593         12593         12593   \n",
       "1          True     43     40     43            43             0   \n",
       "\n",
       "   computed_md5  item_id  ext_pullout  extension  \n",
       "0         12523    12593        12593      12444  \n",
       "1             0       43           40          7  "
      ]
     },
     "execution_count": 45,
     "metadata": {},
     "output_type": "execute_result"
    }
   ],
   "source": [
    "linked_record = filesdf.groupby(by=['is_link_only']).count().reset_index()\n",
    "linked_record"
   ]
  },
  {
   "cell_type": "markdown",
   "id": "detected-degree",
   "metadata": {},
   "source": [
    "### Look for README\n"
   ]
  },
  {
   "cell_type": "code",
   "execution_count": 31,
   "id": "proper-accident",
   "metadata": {},
   "outputs": [
    {
     "name": "stdout",
     "output_type": "stream",
     "text": [
      "221 files are named README or readme\n",
      "Representing 211 records\n"
     ]
    }
   ],
   "source": [
    "\n",
    "readme1 = filesdf[filesdf['name'].str.contains(\"README\") | filesdf['name'].str.contains(\"readme\")]\n",
    "\n",
    "prop_readmes = (len(readme1['item_id'].unique()))/len(filesdf)\n",
    "\n",
    "print(len(readme1), \"files are named README or readme\")\n",
    "print('Representing',len(readme1['item_id'].unique()),'records')"
   ]
  },
  {
   "cell_type": "code",
   "execution_count": null,
   "id": "brilliant-insulin",
   "metadata": {},
   "outputs": [],
   "source": []
  },
  {
   "cell_type": "markdown",
   "id": "peripheral-constant",
   "metadata": {},
   "source": [
    "### File extensions"
   ]
  },
  {
   "cell_type": "code",
   "execution_count": 34,
   "id": "alike-hardwood",
   "metadata": {},
   "outputs": [],
   "source": [
    "#\n",
    "filesdf['ext_pullout'] = filesdf['name'].str[-6:] #create col with last six digits\n",
    "temp_df = filesdf['ext_pullout'].str.split(\".\", n = 1, expand = True)  # Split string once on the period, expand to new columns in new df  \n",
    "filesdf['extension'] = temp_df[1] #Then add the extension column from the temp df to the current df\n",
    "\n",
    "extensions = filesdf['extension'].value_counts().to_frame().reset_index().rename(\n",
    "           columns={'index': 'file_type', 'extension': 'count'})\n",
    "\n",
    "extensions['proportion'] = extensions['count']/len(filesdf) #Add a proportion col"
   ]
  },
  {
   "cell_type": "code",
   "execution_count": 35,
   "id": "precise-weather",
   "metadata": {},
   "outputs": [
    {
     "data": {
      "text/html": [
       "<div>\n",
       "<style scoped>\n",
       "    .dataframe tbody tr th:only-of-type {\n",
       "        vertical-align: middle;\n",
       "    }\n",
       "\n",
       "    .dataframe tbody tr th {\n",
       "        vertical-align: top;\n",
       "    }\n",
       "\n",
       "    .dataframe thead th {\n",
       "        text-align: right;\n",
       "    }\n",
       "</style>\n",
       "<table border=\"1\" class=\"dataframe\">\n",
       "  <thead>\n",
       "    <tr style=\"text-align: right;\">\n",
       "      <th></th>\n",
       "      <th>file_type</th>\n",
       "      <th>count</th>\n",
       "      <th>proportion</th>\n",
       "    </tr>\n",
       "  </thead>\n",
       "  <tbody>\n",
       "    <tr>\n",
       "      <th>0</th>\n",
       "      <td>zip</td>\n",
       "      <td>2783</td>\n",
       "      <td>0.220244</td>\n",
       "    </tr>\n",
       "    <tr>\n",
       "      <th>1</th>\n",
       "      <td>m</td>\n",
       "      <td>1823</td>\n",
       "      <td>0.144270</td>\n",
       "    </tr>\n",
       "    <tr>\n",
       "      <th>2</th>\n",
       "      <td>R</td>\n",
       "      <td>1252</td>\n",
       "      <td>0.099082</td>\n",
       "    </tr>\n",
       "    <tr>\n",
       "      <th>3</th>\n",
       "      <td>py</td>\n",
       "      <td>705</td>\n",
       "      <td>0.055793</td>\n",
       "    </tr>\n",
       "    <tr>\n",
       "      <th>4</th>\n",
       "      <td>txt</td>\n",
       "      <td>686</td>\n",
       "      <td>0.054289</td>\n",
       "    </tr>\n",
       "    <tr>\n",
       "      <th>5</th>\n",
       "      <td>gz</td>\n",
       "      <td>373</td>\n",
       "      <td>0.029519</td>\n",
       "    </tr>\n",
       "    <tr>\n",
       "      <th>6</th>\n",
       "      <td>ipynb</td>\n",
       "      <td>371</td>\n",
       "      <td>0.029361</td>\n",
       "    </tr>\n",
       "    <tr>\n",
       "      <th>7</th>\n",
       "      <td>csv</td>\n",
       "      <td>334</td>\n",
       "      <td>0.026432</td>\n",
       "    </tr>\n",
       "    <tr>\n",
       "      <th>8</th>\n",
       "      <td>sigml</td>\n",
       "      <td>328</td>\n",
       "      <td>0.025958</td>\n",
       "    </tr>\n",
       "    <tr>\n",
       "      <th>9</th>\n",
       "      <td>pdf</td>\n",
       "      <td>270</td>\n",
       "      <td>0.021368</td>\n",
       "    </tr>\n",
       "    <tr>\n",
       "      <th>10</th>\n",
       "      <td>Rmd</td>\n",
       "      <td>256</td>\n",
       "      <td>0.020260</td>\n",
       "    </tr>\n",
       "    <tr>\n",
       "      <th>11</th>\n",
       "      <td>mat</td>\n",
       "      <td>228</td>\n",
       "      <td>0.018044</td>\n",
       "    </tr>\n",
       "    <tr>\n",
       "      <th>12</th>\n",
       "      <td>rar</td>\n",
       "      <td>139</td>\n",
       "      <td>0.011000</td>\n",
       "    </tr>\n",
       "    <tr>\n",
       "      <th>13</th>\n",
       "      <td>tsv</td>\n",
       "      <td>134</td>\n",
       "      <td>0.010605</td>\n",
       "    </tr>\n",
       "    <tr>\n",
       "      <th>14</th>\n",
       "      <td>jpg</td>\n",
       "      <td>127</td>\n",
       "      <td>0.010051</td>\n",
       "    </tr>\n",
       "    <tr>\n",
       "      <th>15</th>\n",
       "      <td>html</td>\n",
       "      <td>121</td>\n",
       "      <td>0.009576</td>\n",
       "    </tr>\n",
       "    <tr>\n",
       "      <th>16</th>\n",
       "      <td>xlsx</td>\n",
       "      <td>117</td>\n",
       "      <td>0.009259</td>\n",
       "    </tr>\n",
       "    <tr>\n",
       "      <th>17</th>\n",
       "      <td>sh</td>\n",
       "      <td>99</td>\n",
       "      <td>0.007835</td>\n",
       "    </tr>\n",
       "    <tr>\n",
       "      <th>18</th>\n",
       "      <td>jl</td>\n",
       "      <td>98</td>\n",
       "      <td>0.007756</td>\n",
       "    </tr>\n",
       "    <tr>\n",
       "      <th>19</th>\n",
       "      <td>vdf</td>\n",
       "      <td>86</td>\n",
       "      <td>0.006806</td>\n",
       "    </tr>\n",
       "  </tbody>\n",
       "</table>\n",
       "</div>"
      ],
      "text/plain": [
       "   file_type  count  proportion\n",
       "0        zip   2783    0.220244\n",
       "1          m   1823    0.144270\n",
       "2          R   1252    0.099082\n",
       "3         py    705    0.055793\n",
       "4        txt    686    0.054289\n",
       "5         gz    373    0.029519\n",
       "6      ipynb    371    0.029361\n",
       "7        csv    334    0.026432\n",
       "8      sigml    328    0.025958\n",
       "9        pdf    270    0.021368\n",
       "10       Rmd    256    0.020260\n",
       "11       mat    228    0.018044\n",
       "12       rar    139    0.011000\n",
       "13       tsv    134    0.010605\n",
       "14       jpg    127    0.010051\n",
       "15      html    121    0.009576\n",
       "16      xlsx    117    0.009259\n",
       "17        sh     99    0.007835\n",
       "18        jl     98    0.007756\n",
       "19       vdf     86    0.006806"
      ]
     },
     "execution_count": 35,
     "metadata": {},
     "output_type": "execute_result"
    }
   ],
   "source": [
    "extensions.head(20)"
   ]
  },
  {
   "cell_type": "markdown",
   "id": "italian-theta",
   "metadata": {},
   "source": [
    "### Github References"
   ]
  },
  {
   "cell_type": "code",
   "execution_count": 33,
   "id": "postal-heather",
   "metadata": {},
   "outputs": [
    {
     "name": "stdout",
     "output_type": "stream",
     "text": [
      "572 items have at least one github reference\n",
      "Representing 572 records\n"
     ]
    }
   ],
   "source": [
    "#Look in the references field - this is number of ITEMS with at least one github reference in references\n",
    "gitref = df[df['references'].str.contains(\"github\")]\n",
    "\n",
    "\n",
    "print(len(gitref), \"items have at least one github reference\")\n",
    "print('Representing',len(gitref['item_id'].unique()),'records')"
   ]
  },
  {
   "cell_type": "code",
   "execution_count": 60,
   "id": "final-nickname",
   "metadata": {},
   "outputs": [
    {
     "name": "stdout",
     "output_type": "stream",
     "text": [
      "200 items have at least one github reference\n",
      "Representing 200 records\n"
     ]
    }
   ],
   "source": [
    "#Look in the description field\n",
    "gitdesc = df[df['description'].str.contains(\".github\")]\n",
    "\n",
    "print(len(gitdesc), \"items have at least one github reference\")\n",
    "print('Representing',len(gitdesc['item_id'].unique()),'records')"
   ]
  },
  {
   "cell_type": "code",
   "execution_count": 62,
   "id": "compound-small",
   "metadata": {},
   "outputs": [
    {
     "data": {
      "text/plain": [
       "132"
      ]
     },
     "execution_count": 62,
     "metadata": {},
     "output_type": "execute_result"
    }
   ],
   "source": [
    "#Okay, how many records wtih github in description don't have a reference?\n",
    "ref_id_list = gitref['item_id'].tolist()\n",
    "desc_id_list = gitdesc['item_id'].tolist()\n",
    "#This next line coverts to sets and returns a list of unique entries from the first list.\n",
    "desc_uniques = list(set(desc_id_list) - set(ref_id_list))\n",
    "len(desc_uniques)"
   ]
  },
  {
   "cell_type": "markdown",
   "id": "polyphonic-finland",
   "metadata": {},
   "source": [
    "#### So a total of 704 (572+132) items have at least one .github link in either the description or references"
   ]
  },
  {
   "cell_type": "code",
   "execution_count": 63,
   "id": "recreational-string",
   "metadata": {},
   "outputs": [
    {
     "data": {
      "text/plain": [
       "5000"
      ]
     },
     "execution_count": 63,
     "metadata": {},
     "output_type": "execute_result"
    }
   ],
   "source": [
    "len(df)"
   ]
  },
  {
   "cell_type": "markdown",
   "id": "constant-joshua",
   "metadata": {},
   "source": [
    "### What are the common domains in references?"
   ]
  },
  {
   "cell_type": "code",
   "execution_count": 46,
   "id": "another-message",
   "metadata": {},
   "outputs": [],
   "source": [
    "with open(\"full_records-2023-05-13.json\", \"r\", encoding='utf8') as read_file: #Replace this with the filename of your choice\n",
    "    full_metadata = json.load(read_file)"
   ]
  },
  {
   "cell_type": "code",
   "execution_count": 56,
   "id": "dying-appendix",
   "metadata": {},
   "outputs": [
    {
     "data": {
      "text/plain": [
       "392"
      ]
     },
     "execution_count": 56,
     "metadata": {},
     "output_type": "execute_result"
    }
   ],
   "source": [
    "#Look at the institutions represented\n",
    "url = []\n",
    "for s in full_metadata:\n",
    "    if len(s['references']) > 0:\n",
    "        for r in s['references']:\n",
    "            url.append(r[8:14])\n",
    "\n",
    "unique_domains = Counter(url)\n",
    "len(unique_domains)"
   ]
  },
  {
   "cell_type": "code",
   "execution_count": 59,
   "id": "downtown-central",
   "metadata": {},
   "outputs": [
    {
     "data": {
      "text/html": [
       "<div>\n",
       "<style scoped>\n",
       "    .dataframe tbody tr th:only-of-type {\n",
       "        vertical-align: middle;\n",
       "    }\n",
       "\n",
       "    .dataframe tbody tr th {\n",
       "        vertical-align: top;\n",
       "    }\n",
       "\n",
       "    .dataframe thead th {\n",
       "        text-align: right;\n",
       "    }\n",
       "</style>\n",
       "<table border=\"1\" class=\"dataframe\">\n",
       "  <thead>\n",
       "    <tr style=\"text-align: right;\">\n",
       "      <th></th>\n",
       "      <th>url</th>\n",
       "      <th>count</th>\n",
       "    </tr>\n",
       "  </thead>\n",
       "  <tbody>\n",
       "    <tr>\n",
       "      <th>0</th>\n",
       "      <td>github</td>\n",
       "      <td>580</td>\n",
       "    </tr>\n",
       "    <tr>\n",
       "      <th>3</th>\n",
       "      <td>doi.or</td>\n",
       "      <td>276</td>\n",
       "    </tr>\n",
       "    <tr>\n",
       "      <th>43</th>\n",
       "      <td>gitlab</td>\n",
       "      <td>38</td>\n",
       "    </tr>\n",
       "    <tr>\n",
       "      <th>6</th>\n",
       "      <td>arxiv.</td>\n",
       "      <td>35</td>\n",
       "    </tr>\n",
       "    <tr>\n",
       "      <th>39</th>\n",
       "      <td>esolve</td>\n",
       "      <td>19</td>\n",
       "    </tr>\n",
       "    <tr>\n",
       "      <th>63</th>\n",
       "      <td>journa</td>\n",
       "      <td>18</td>\n",
       "    </tr>\n",
       "    <tr>\n",
       "      <th>36</th>\n",
       "      <td>m9.fig</td>\n",
       "      <td>15</td>\n",
       "    </tr>\n",
       "    <tr>\n",
       "      <th>159</th>\n",
       "      <td>scienc</td>\n",
       "      <td>13</td>\n",
       "    </tr>\n",
       "    <tr>\n",
       "      <th>26</th>\n",
       "      <td>www.bi</td>\n",
       "      <td>12</td>\n",
       "    </tr>\n",
       "    <tr>\n",
       "      <th>254</th>\n",
       "      <td>jama.2</td>\n",
       "      <td>12</td>\n",
       "    </tr>\n",
       "  </tbody>\n",
       "</table>\n",
       "</div>"
      ],
      "text/plain": [
       "        url  count\n",
       "0    github    580\n",
       "3    doi.or    276\n",
       "43   gitlab     38\n",
       "6    arxiv.     35\n",
       "39   esolve     19\n",
       "63   journa     18\n",
       "36   m9.fig     15\n",
       "159  scienc     13\n",
       "26   www.bi     12\n",
       "254  jama.2     12"
      ]
     },
     "execution_count": 59,
     "metadata": {},
     "output_type": "execute_result"
    }
   ],
   "source": [
    "#The github value here is a little bigger than above becuase items have more than one github reference\n",
    "refs = pd.DataFrame.from_dict(unique_domains, orient='index').reset_index().rename(\n",
    "           columns={'index': 'url', 0: 'count'})\n",
    "refs = refs.sort_values(by='count', ascending=False)\n",
    "refs.head(10)"
   ]
  },
  {
   "cell_type": "markdown",
   "id": "every-jumping",
   "metadata": {},
   "source": [
    "### Look at licenses"
   ]
  },
  {
   "cell_type": "code",
   "execution_count": 64,
   "id": "approximate-individual",
   "metadata": {},
   "outputs": [
    {
     "data": {
      "text/plain": [
       "{'value': 1, 'name': 'CC BY 4.0', 'url': 'https://creativecommons.org/licenses/by/4.0/'}                                                      2911\n",
       "{'value': 52, 'name': 'CC BY', 'url': 'https://creativecommons.org/licenses/by/4.0/'}                                                         1031\n",
       "{'value': 3, 'name': 'MIT', 'url': 'https://opensource.org/licenses/MIT'}                                                                      454\n",
       "{'value': 6, 'name': 'GPL 3.0+', 'url': 'https://www.gnu.org/licenses/gpl-3.0.html'}                                                           197\n",
       "{'value': 2, 'name': 'CC0', 'url': 'https://creativecommons.org/publicdomain/zero/1.0/'}                                                       160\n",
       "{'value': 7, 'name': 'Apache 2.0', 'url': 'https://www.apache.org/licenses/LICENSE-2.0.html'}                                                   68\n",
       "{'value': 94, 'name': 'GPL-3.0', 'url': 'https://www.gnu.org/licenses/gpl-3.0.html'}                                                            30\n",
       "{'value': 10, 'name': 'CC BY-NC 4.0', 'url': 'https://creativecommons.org/licenses/by-nc/4.0/'}                                                 29\n",
       "{'value': 4, 'name': 'GPL', 'url': 'https://www.gnu.org/copyleft/gpl.html'}                                                                     28\n",
       "{'value': 5, 'name': 'GPL 2.0+', 'url': 'https://www.gnu.org/licenses/gpl-2.0.html'}                                                            19\n",
       "{'value': 145, 'name': 'Apache-2.0', 'url': 'https://www.apache.org/licenses/LICENSE-2.0.html'}                                                 13\n",
       "{'value': 12, 'name': 'CC BY-NC-ND 4.0', 'url': 'https://creativecommons.org/licenses/by-nc-nd/4.0/'}                                           12\n",
       "{'value': 11, 'name': 'CC BY-NC-SA 4.0', 'url': 'https://creativecommons.org/licenses/by-nc-sa/4.0/'}                                            9\n",
       "{'value': 47, 'name': 'CC BY + CC0', 'url': 'https://creativecommons.org/licenses/by/4.0/'}                                                      7\n",
       "{'value': 99, 'name': 'EUPL-1.2', 'url': 'https://opensource.org/licenses/EUPL-1.2'}                                                             6\n",
       "{'value': 13, 'name': 'BSD 3-Clause', 'url': 'https://opensource.org/licenses/BSD-3-Clause'}                                                     5\n",
       "{'value': 148, 'name': 'BSD-3-Clause', 'url': 'https://opensource.org/licenses/BSD-3-Clause'}                                                    4\n",
       "{'value': 8, 'name': 'CC BY-SA 4.0', 'url': 'https://creativecommons.org/licenses/by-sa/4.0/'}                                                   3\n",
       "{'value': 55, 'name': 'Restrictive license', 'url': 'http://rdm.uva.nl/en/support/confidential-data.html'}                                       3\n",
       "{'value': 43, 'name': 'In Copyright', 'url': 'http://rightsstatements.org/vocab/InC/1.0/'}                                                       3\n",
       "{'value': 88, 'name': 'GPL-2.0', 'url': 'https://www.gnu.org/licenses/old-licenses/gpl-2.0.html'}                                                3\n",
       "{'value': 95, 'name': 'CC0 1.0 Universal (CC0 1.0) Public Domain Dedication', 'url': 'https://creativecommons.org/publicdomain/zero/1.0/'}       1\n",
       "{'value': 133, 'name': 'Reuse noncommercially and re-share (CC-BY-NC-SA)', 'url': 'https://creativecommons.org/licenses/by-nc-sa/4.0/'}          1\n",
       "{'value': 73, 'name': 'BSD 2-Clause', 'url': 'https://opensource.org/licenses/BSD-2-Clause'}                                                     1\n",
       "{'value': 49, 'name': 'CC BY 3.0', 'url': 'https://creativecommons.org/licenses/by/3.0/'}                                                        1\n",
       "{'value': 9, 'name': 'CC BY-ND 4.0', 'url': 'https://creativecommons.org/licenses/by-nd/4.0/'}                                                   1\n",
       "Name: license, dtype: int64"
      ]
     },
     "execution_count": 64,
     "metadata": {},
     "output_type": "execute_result"
    }
   ],
   "source": [
    "#Look at license list\n",
    "df['license'].value_counts()"
   ]
  },
  {
   "cell_type": "markdown",
   "id": "addressed-norfolk",
   "metadata": {},
   "source": [
    "### A look at tags"
   ]
  },
  {
   "cell_type": "code",
   "execution_count": 70,
   "id": "combined-battle",
   "metadata": {},
   "outputs": [
    {
     "data": {
      "text/html": [
       "<div>\n",
       "<style scoped>\n",
       "    .dataframe tbody tr th:only-of-type {\n",
       "        vertical-align: middle;\n",
       "    }\n",
       "\n",
       "    .dataframe tbody tr th {\n",
       "        vertical-align: top;\n",
       "    }\n",
       "\n",
       "    .dataframe thead th {\n",
       "        text-align: right;\n",
       "    }\n",
       "</style>\n",
       "<table border=\"1\" class=\"dataframe\">\n",
       "  <thead>\n",
       "    <tr style=\"text-align: right;\">\n",
       "      <th></th>\n",
       "      <th>name</th>\n",
       "    </tr>\n",
       "  </thead>\n",
       "  <tbody>\n",
       "    <tr>\n",
       "      <th>Bioinformatics</th>\n",
       "      <td>234</td>\n",
       "    </tr>\n",
       "    <tr>\n",
       "      <th>Immunology</th>\n",
       "      <td>217</td>\n",
       "    </tr>\n",
       "    <tr>\n",
       "      <th>Carcinogenesis</th>\n",
       "      <td>189</td>\n",
       "    </tr>\n",
       "    <tr>\n",
       "      <th>Progression, Invasion &amp; Metastasis</th>\n",
       "      <td>183</td>\n",
       "    </tr>\n",
       "    <tr>\n",
       "      <th>Preclinical Models</th>\n",
       "      <td>171</td>\n",
       "    </tr>\n",
       "    <tr>\n",
       "      <th>Gastrointestinal Cancers</th>\n",
       "      <td>157</td>\n",
       "    </tr>\n",
       "    <tr>\n",
       "      <th>Cell Signaling</th>\n",
       "      <td>155</td>\n",
       "    </tr>\n",
       "    <tr>\n",
       "      <th>Small Molecule Agents</th>\n",
       "      <td>147</td>\n",
       "    </tr>\n",
       "    <tr>\n",
       "      <th>Breast Cancer</th>\n",
       "      <td>146</td>\n",
       "    </tr>\n",
       "    <tr>\n",
       "      <th>Animal models of cancer</th>\n",
       "      <td>131</td>\n",
       "    </tr>\n",
       "    <tr>\n",
       "      <th>Drug Targets</th>\n",
       "      <td>128</td>\n",
       "    </tr>\n",
       "    <tr>\n",
       "      <th>Drug Mechanisms</th>\n",
       "      <td>126</td>\n",
       "    </tr>\n",
       "    <tr>\n",
       "      <th>Genitourinary Cancers</th>\n",
       "      <td>125</td>\n",
       "    </tr>\n",
       "    <tr>\n",
       "      <th>Immunotherapy</th>\n",
       "      <td>114</td>\n",
       "    </tr>\n",
       "    <tr>\n",
       "      <th>Biomarkers</th>\n",
       "      <td>113</td>\n",
       "    </tr>\n",
       "    <tr>\n",
       "      <th>Computer Software</th>\n",
       "      <td>111</td>\n",
       "    </tr>\n",
       "    <tr>\n",
       "      <th>Cell Cycle</th>\n",
       "      <td>106</td>\n",
       "    </tr>\n",
       "    <tr>\n",
       "      <th>Neuroscience</th>\n",
       "      <td>98</td>\n",
       "    </tr>\n",
       "    <tr>\n",
       "      <th>Immune responses to cancer</th>\n",
       "      <td>97</td>\n",
       "    </tr>\n",
       "    <tr>\n",
       "      <th>Prostate cancer</th>\n",
       "      <td>97</td>\n",
       "    </tr>\n",
       "  </tbody>\n",
       "</table>\n",
       "</div>"
      ],
      "text/plain": [
       "                                    name\n",
       "Bioinformatics                       234\n",
       "Immunology                           217\n",
       "Carcinogenesis                       189\n",
       "Progression, Invasion & Metastasis   183\n",
       "Preclinical Models                   171\n",
       "Gastrointestinal Cancers             157\n",
       "Cell Signaling                       155\n",
       "Small Molecule Agents                147\n",
       "Breast Cancer                        146\n",
       "Animal models of cancer              131\n",
       "Drug Targets                         128\n",
       "Drug Mechanisms                      126\n",
       "Genitourinary Cancers                125\n",
       "Immunotherapy                        114\n",
       "Biomarkers                           113\n",
       "Computer Software                    111\n",
       "Cell Cycle                           106\n",
       "Neuroscience                          98\n",
       "Immune responses to cancer            97\n",
       "Prostate cancer                       97"
      ]
     },
     "execution_count": 70,
     "metadata": {},
     "output_type": "execute_result"
    }
   ],
   "source": [
    "tops = tagsdf['name'].value_counts() #this is a series\n",
    "tops = tops.to_frame()\n",
    "tops.sort_values(by='name', ascending=False)\n",
    "\n",
    "tops.head(20)"
   ]
  },
  {
   "cell_type": "markdown",
   "id": "cordless-consultancy",
   "metadata": {},
   "source": [
    "### Look at categories"
   ]
  },
  {
   "cell_type": "code",
   "execution_count": 73,
   "id": "circular-emergency",
   "metadata": {},
   "outputs": [
    {
     "data": {
      "text/html": [
       "<div>\n",
       "<style scoped>\n",
       "    .dataframe tbody tr th:only-of-type {\n",
       "        vertical-align: middle;\n",
       "    }\n",
       "\n",
       "    .dataframe tbody tr th {\n",
       "        vertical-align: top;\n",
       "    }\n",
       "\n",
       "    .dataframe thead th {\n",
       "        text-align: right;\n",
       "    }\n",
       "</style>\n",
       "<table border=\"1\" class=\"dataframe\">\n",
       "  <thead>\n",
       "    <tr style=\"text-align: right;\">\n",
       "      <th></th>\n",
       "      <th>title</th>\n",
       "    </tr>\n",
       "  </thead>\n",
       "  <tbody>\n",
       "    <tr>\n",
       "      <th>Cancer</th>\n",
       "      <td>1039</td>\n",
       "    </tr>\n",
       "    <tr>\n",
       "      <th>Therapeutic Research and Development</th>\n",
       "      <td>393</td>\n",
       "    </tr>\n",
       "    <tr>\n",
       "      <th>Molecular and Cellular Biology</th>\n",
       "      <td>390</td>\n",
       "    </tr>\n",
       "    <tr>\n",
       "      <th>Bioinformatics and computational biology not elsewhere classified</th>\n",
       "      <td>374</td>\n",
       "    </tr>\n",
       "    <tr>\n",
       "      <th>Methods and Technology</th>\n",
       "      <td>310</td>\n",
       "    </tr>\n",
       "    <tr>\n",
       "      <th>Tumor Biology</th>\n",
       "      <td>269</td>\n",
       "    </tr>\n",
       "    <tr>\n",
       "      <th>Immuno-oncology</th>\n",
       "      <td>253</td>\n",
       "    </tr>\n",
       "    <tr>\n",
       "      <th>Cancer Biology</th>\n",
       "      <td>250</td>\n",
       "    </tr>\n",
       "    <tr>\n",
       "      <th>Software engineering not elsewhere classified</th>\n",
       "      <td>216</td>\n",
       "    </tr>\n",
       "    <tr>\n",
       "      <th>Ecology not elsewhere classified</th>\n",
       "      <td>153</td>\n",
       "    </tr>\n",
       "    <tr>\n",
       "      <th>Cancer Detection and Diagnosis</th>\n",
       "      <td>108</td>\n",
       "    </tr>\n",
       "    <tr>\n",
       "      <th>Neurosciences not elsewhere classified</th>\n",
       "      <td>105</td>\n",
       "    </tr>\n",
       "    <tr>\n",
       "      <th>Cancer Prevention</th>\n",
       "      <td>84</td>\n",
       "    </tr>\n",
       "    <tr>\n",
       "      <th>Clinical Research and Trials</th>\n",
       "      <td>76</td>\n",
       "    </tr>\n",
       "    <tr>\n",
       "      <th>Applications in life sciences</th>\n",
       "      <td>73</td>\n",
       "    </tr>\n",
       "    <tr>\n",
       "      <th>Bioinformatic methods development</th>\n",
       "      <td>71</td>\n",
       "    </tr>\n",
       "    <tr>\n",
       "      <th>Genomics</th>\n",
       "      <td>69</td>\n",
       "    </tr>\n",
       "    <tr>\n",
       "      <th>Community ecology (excl. invasive species ecology)</th>\n",
       "      <td>67</td>\n",
       "    </tr>\n",
       "    <tr>\n",
       "      <th>Applied computing not elsewhere classified</th>\n",
       "      <td>66</td>\n",
       "    </tr>\n",
       "    <tr>\n",
       "      <th>Statistics not elsewhere classified</th>\n",
       "      <td>64</td>\n",
       "    </tr>\n",
       "  </tbody>\n",
       "</table>\n",
       "</div>"
      ],
      "text/plain": [
       "                                                    title\n",
       "Cancer                                               1039\n",
       "Therapeutic Research and Development                  393\n",
       "Molecular and Cellular Biology                        390\n",
       "Bioinformatics and computational biology not el...    374\n",
       "Methods and Technology                                310\n",
       "Tumor Biology                                         269\n",
       "Immuno-oncology                                       253\n",
       "Cancer Biology                                        250\n",
       "Software engineering not elsewhere classified         216\n",
       "Ecology not elsewhere classified                      153\n",
       "Cancer Detection and Diagnosis                        108\n",
       "Neurosciences not elsewhere classified                105\n",
       "Cancer Prevention                                      84\n",
       "Clinical Research and Trials                           76\n",
       "Applications in life sciences                          73\n",
       "Bioinformatic methods development                      71\n",
       "Genomics                                               69\n",
       "Community ecology (excl. invasive species ecology)     67\n",
       "Applied computing not elsewhere classified             66\n",
       "Statistics not elsewhere classified                    64"
      ]
     },
     "execution_count": 73,
     "metadata": {},
     "output_type": "execute_result"
    }
   ],
   "source": [
    "tops = categoriesdf['title'].value_counts() #this is a series\n",
    "tops = tops.to_frame()\n",
    "tops.sort_values(by='title', ascending=False)\n",
    "\n",
    "tops.head(20)"
   ]
  },
  {
   "cell_type": "markdown",
   "id": "medieval-performance",
   "metadata": {},
   "source": [
    "# OLD"
   ]
  },
  {
   "cell_type": "code",
   "execution_count": 74,
   "id": "agreed-fleece",
   "metadata": {},
   "outputs": [
    {
     "data": {
      "text/html": [
       "<div>\n",
       "<style scoped>\n",
       "    .dataframe tbody tr th:only-of-type {\n",
       "        vertical-align: middle;\n",
       "    }\n",
       "\n",
       "    .dataframe tbody tr th {\n",
       "        vertical-align: top;\n",
       "    }\n",
       "\n",
       "    .dataframe thead th {\n",
       "        text-align: right;\n",
       "    }\n",
       "</style>\n",
       "<table border=\"1\" class=\"dataframe\">\n",
       "  <thead>\n",
       "    <tr style=\"text-align: right;\">\n",
       "      <th></th>\n",
       "      <th>custom_fields</th>\n",
       "      <th>figshare_url</th>\n",
       "      <th>description</th>\n",
       "      <th>version</th>\n",
       "      <th>status</th>\n",
       "      <th>size</th>\n",
       "      <th>created_date</th>\n",
       "      <th>modified_date</th>\n",
       "      <th>is_public</th>\n",
       "      <th>is_confidential</th>\n",
       "      <th>...</th>\n",
       "      <th>resource_doi</th>\n",
       "      <th>views</th>\n",
       "      <th>posted</th>\n",
       "      <th>firstOnline</th>\n",
       "      <th>publisherPublication</th>\n",
       "      <th>publisherAcceptance</th>\n",
       "      <th>origin</th>\n",
       "      <th>edited_group_id</th>\n",
       "      <th>year_posted</th>\n",
       "      <th>month_posted</th>\n",
       "    </tr>\n",
       "  </thead>\n",
       "  <tbody>\n",
       "  </tbody>\n",
       "</table>\n",
       "<p>0 rows × 48 columns</p>\n",
       "</div>"
      ],
      "text/plain": [
       "Empty DataFrame\n",
       "Columns: [custom_fields, figshare_url, description, version, status, size, created_date, modified_date, is_public, is_confidential, is_metadata_record, confidential_reason, metadata_reason, license, references, has_linked_file, citation, is_embargoed, embargo_date, embargo_type, embargo_title, embargo_reason, embargo_options, item_id, title, doi, handle, url, published_date, thumb, defined_type, defined_type_name, group_id, url_private_api, url_public_api, url_private_html, url_public_html, resource_title, resource_doi, views, posted, firstOnline, publisherPublication, publisherAcceptance, origin, edited_group_id, year_posted, month_posted]\n",
       "Index: []\n",
       "\n",
       "[0 rows x 48 columns]"
      ]
     },
     "execution_count": 74,
     "metadata": {},
     "output_type": "execute_result"
    }
   ],
   "source": [
    "#Are any missing stats?\n",
    "missing_stats = df[df['views'].isna()]\n",
    "missing_stats.head()"
   ]
  },
  {
   "cell_type": "code",
   "execution_count": null,
   "id": "administrative-aircraft",
   "metadata": {},
   "outputs": [],
   "source": []
  }
 ],
 "metadata": {
  "kernelspec": {
   "display_name": "Python 3",
   "language": "python",
   "name": "python3"
  },
  "language_info": {
   "codemirror_mode": {
    "name": "ipython",
    "version": 3
   },
   "file_extension": ".py",
   "mimetype": "text/x-python",
   "name": "python",
   "nbconvert_exporter": "python",
   "pygments_lexer": "ipython3",
   "version": "3.9.1"
  }
 },
 "nbformat": 4,
 "nbformat_minor": 5
}
