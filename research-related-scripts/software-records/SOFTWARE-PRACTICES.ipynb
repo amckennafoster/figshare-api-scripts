{
 "cells": [
  {
   "cell_type": "markdown",
   "id": "talented-holmes",
   "metadata": {},
   "source": [
    "# Gather metadata for software"
   ]
  },
  {
   "cell_type": "markdown",
   "id": "touched-guidance",
   "metadata": {},
   "source": [
    "## Import libraries"
   ]
  },
  {
   "cell_type": "code",
   "execution_count": 1,
   "id": "f7e37a43",
   "metadata": {},
   "outputs": [],
   "source": [
    "import json\n",
    "import requests\n",
    "import pandas as pd\n",
    "import datetime\n",
    "import csv\n",
    "import numpy as np\n",
    "import matplotlib.pyplot as plt\n",
    "import seaborn as sns"
   ]
  },
  {
   "cell_type": "markdown",
   "id": "laden-cleanup",
   "metadata": {},
   "source": [
    "# Collect metadata for 5,000 software records\n",
    "Originally I tried collecting all 5,000 at once, but they are from 2020-2022 and there are a ton of records from aacr.figshare that are figures and tables mislabelled as software. So do it by year. But you can't limit to published before, only published since. Need to use order by to get older dates."
   ]
  },
  {
   "cell_type": "markdown",
   "id": "educated-share",
   "metadata": {},
   "source": [
    "## Set variables"
   ]
  },
  {
   "cell_type": "code",
   "execution_count": 2,
   "id": "62b4d3ec",
   "metadata": {},
   "outputs": [],
   "source": [
    "BASE_URL = \"https://api.figshare.com/v2\""
   ]
  },
  {
   "cell_type": "code",
   "execution_count": 85,
   "id": "b014b476",
   "metadata": {},
   "outputs": [
    {
     "name": "stdout",
     "output_type": "stream",
     "text": [
      "6000 articles retrieved\n"
     ]
    }
   ],
   "source": [
    "#Gather basic metadata for items (articles) that meet your search criteria\n",
    "results = []\n",
    "\n",
    "#Get newer records\n",
    "query = '{\"item_type\": 9}' #Search for software\n",
    "y = json.loads(query) #Figshare API requires json paramaters\n",
    "for j in range(1,4): #Collect 3,000 records \n",
    "    records = json.loads(requests.post(BASE_URL + '/articles/search?page_size=1000&page={}'.format(j), params=y).content)\n",
    "    results.extend(records)\n",
    "    \n",
    "#Get older records\n",
    "query = '{\"item_type\": 9, \"order\": \"published_date\", \"order_direction\": \"asc\", \"published_since\": \"2013-01-01\"}' #Search for software \n",
    "y = json.loads(query) #Figshare API requires json paramaters\n",
    "for j in range(1,4): #Collect 3,000 records\n",
    "    records = json.loads(requests.post(BASE_URL + '/articles/search?page_size=1000&page={}'.format(j), params=y).content)\n",
    "    results.extend(records)\n",
    "    \n",
    "#See the number of articles\n",
    "print(len(results),'articles retrieved')"
   ]
  },
  {
   "cell_type": "markdown",
   "id": "endangered-reflection",
   "metadata": {},
   "source": [
    "## Clean the records"
   ]
  },
  {
   "cell_type": "code",
   "execution_count": 87,
   "id": "confidential-dining",
   "metadata": {},
   "outputs": [
    {
     "name": "stdout",
     "output_type": "stream",
     "text": [
      "0 records removed\n"
     ]
    }
   ],
   "source": [
    "#Remove any duplicates\n",
    "dforiginal = pd.DataFrame(results)\n",
    "df_basic = dforiginal.drop_duplicates(subset=['id'])\n",
    "print(len(dforiginal)-len(df_basic),'records removed')"
   ]
  },
  {
   "cell_type": "code",
   "execution_count": 7,
   "id": "strange-monday",
   "metadata": {},
   "outputs": [
    {
     "name": "stdout",
     "output_type": "stream",
     "text": [
      "1026 to remove\n"
     ]
    }
   ],
   "source": [
    "#Remove the aacr.figshare records\n",
    "tempdf = df_basic[['id','url_public_html']]\n",
    "item_ids_to_remove = tempdf[tempdf['url_public_html'].str.contains(\"aacr.figs\")]\n",
    "item_ids_to_remove_list = item_ids_to_remove['id'].tolist()\n",
    "print(len(item_ids_to_remove_list), 'to remove')"
   ]
  },
  {
   "cell_type": "code",
   "execution_count": 20,
   "id": "suitable-bahamas",
   "metadata": {},
   "outputs": [],
   "source": [
    "#Save the removed ids. This saves the series (rather than the list)\n",
    "save_file = item_ids_to_remove['id'].to_csv('removed.csv',encoding='utf-8', index=None)"
   ]
  },
  {
   "cell_type": "code",
   "execution_count": 93,
   "id": "individual-butterfly",
   "metadata": {},
   "outputs": [
    {
     "name": "stdout",
     "output_type": "stream",
     "text": [
      "-1026 items deleted\n"
     ]
    }
   ],
   "source": [
    "df_basic_cleaned = df_basic[~df_basic['id'].isin(item_ids_to_remove_list)]\n",
    "print(len(df_basic)-len(df_basic_cleaned),'items deleted')"
   ]
  },
  {
   "cell_type": "code",
   "execution_count": 18,
   "id": "hundred-level",
   "metadata": {},
   "outputs": [
    {
     "name": "stdout",
     "output_type": "stream",
     "text": [
      "1026 records removed\n"
     ]
    }
   ],
   "source": [
    "#Remove those records from the json\n",
    "software_basic = []\n",
    "\n",
    "for element in results:\n",
    "    if element['id'] not in item_ids_to_remove_list: #If he item id is not in the list of things to remove\n",
    "        software_basic.append(element)    \n",
    "print(len(results)-len(software_basic),'records removed')"
   ]
  },
  {
   "cell_type": "code",
   "execution_count": 95,
   "id": "needed-hamilton",
   "metadata": {},
   "outputs": [],
   "source": [
    "#Save the uncleaned json.\n",
    "with open('software-uncleaned-'+str(datetime.datetime.now().strftime(\"%Y-%m-%d\"))+'.json', 'w') as f:\n",
    "    json.dump(results, f)"
   ]
  },
  {
   "cell_type": "code",
   "execution_count": 22,
   "id": "lucky-chosen",
   "metadata": {},
   "outputs": [],
   "source": [
    "#Save the cleaned json.\n",
    "with open('software-cleaned-'+str(datetime.datetime.now().strftime(\"%Y-%m-%d\"))+'.json', 'w') as f:\n",
    "    json.dump(software_basic, f)"
   ]
  },
  {
   "cell_type": "code",
   "execution_count": 97,
   "id": "absolute-throw",
   "metadata": {},
   "outputs": [],
   "source": [
    "#Save a file of all the metadata\n",
    "save_file = df_basic_cleaned.to_csv('software-basic-cleaned'+str(datetime.datetime.now().strftime(\"%Y-%m-%d\"))+'.csv')"
   ]
  },
  {
   "cell_type": "markdown",
   "id": "distributed-infrared",
   "metadata": {},
   "source": [
    "## Check the records for dates"
   ]
  },
  {
   "cell_type": "code",
   "execution_count": 23,
   "id": "finished-gospel",
   "metadata": {},
   "outputs": [
    {
     "name": "stdout",
     "output_type": "stream",
     "text": [
      "Dates split out and merged\n"
     ]
    }
   ],
   "source": [
    "#The dates are all contained within one column called 'timeline'. Flatten that column and associate the values\n",
    "#with the proper article id in a new dataframe\n",
    "\n",
    "temp_date_list = []\n",
    "\n",
    "for item in software_basic:\n",
    "    dateitem = item['timeline']\n",
    "    dateitem['id'] = item['id']\n",
    "    temp_date_list.append(dateitem)\n",
    "\n",
    "df_dates = pd.json_normalize(\n",
    "    temp_date_list \n",
    ")\n",
    "\n",
    "df_dates.replace(df_dates.replace(r'^\\s*$', 'null', regex=True, inplace = True)) #Replace blank cells with 'null'\n",
    "\n",
    "#Merge the dataframes\n",
    "dfbasic = df.merge(df_dates, how='outer', on='id')\n",
    "\n",
    "print(\"Dates split out and merged\")"
   ]
  },
  {
   "cell_type": "code",
   "execution_count": 25,
   "id": "taken-astrology",
   "metadata": {},
   "outputs": [
    {
     "name": "stderr",
     "output_type": "stream",
     "text": [
      "<ipython-input-25-35b174f69ea6>:23: UserWarning: FixedFormatter should only be used together with FixedLocator\n",
      "  ax.set_yticklabels(ax.get_yticks(), fontsize = 12)\n"
     ]
    },
    {
     "data": {
      "text/plain": [
       "[Text(0, 0.0, '0.0'),\n",
       " Text(0, 200.0, '200.0'),\n",
       " Text(0, 400.0, '400.0'),\n",
       " Text(0, 600.0, '600.0'),\n",
       " Text(0, 800.0, '800.0'),\n",
       " Text(0, 1000.0, '1000.0'),\n",
       " Text(0, 1200.0, '1200.0')]"
      ]
     },
     "execution_count": 25,
     "metadata": {},
     "output_type": "execute_result"
    },
    {
     "data": {
      "image/png": "[encoded data removed]",
      "text/plain": [
       "<Figure size 1080x576 with 1 Axes>"
      ]
     },
     "metadata": {
      "needs_background": "light"
     },
     "output_type": "display_data"
    }
   ],
   "source": [
    "#Use the posted date because the firstOnline date may not align with the actual Figshare record. \n",
    "#The posted date as this is the date posted on Figshare.\n",
    "\n",
    "#Add year and month posted columns\n",
    "dfbasic['year_posted'] = pd.DatetimeIndex(dfbasic['posted']).year\n",
    "dfbasic['month_posted'] = pd.DatetimeIndex(dfbasic['posted']).month\n",
    "\n",
    "#Another way to do it...Split the year out and add it as a column\n",
    "#year = df_full[\"firstOnline\"].str.split(\"-\", n = 1, expand = True)\n",
    "#df_full['year'] = year[0]\n",
    "\n",
    "#Group by year\n",
    "datechart = dfbasic.groupby(['year_posted']).count().reset_index()\n",
    "\n",
    "#Chart it all out\n",
    "#sns.color_palette(\"husl\", 8)\n",
    "plt.rcParams[\"figure.figsize\"] = (15,8)\n",
    "ax = sns.barplot(data=datechart, x=\"year_posted\", y=\"id\", palette=[\"C0\"])\n",
    "#ax.set(xlabel='year', ylabel='number of records published')\n",
    "ax.set_ylabel(\"number of records published\", fontsize = 14)\n",
    "ax.set_xlabel(\"year_posted\", fontsize = 14)\n",
    "ax.set_xticklabels(datechart['year_posted'], fontsize = 10, rotation=60, ha=\"right\")\n",
    "ax.set_yticklabels(ax.get_yticks(), fontsize = 12)"
   ]
  },
  {
   "cell_type": "markdown",
   "id": "desperate-quest",
   "metadata": {},
   "source": [
    "There are just over 10,000 software items from 2013 to now based on a figshare.com search. So this dataset seems to represent that pretty well. Missing 2021 and 2022 posted items (3,162 items). There are 955 items from 2019 so not complete there. But can still use this for a high level comparison across time."
   ]
  },
  {
   "cell_type": "code",
   "execution_count": 9,
   "id": "imported-subdivision",
   "metadata": {},
   "outputs": [],
   "source": [
    "#Create a dataframe from the JSON formatted data\n",
    "#dfbasic = pd.DataFrame(results)"
   ]
  },
  {
   "cell_type": "code",
   "execution_count": 19,
   "id": "respiratory-parker",
   "metadata": {},
   "outputs": [],
   "source": [
    "#Open a file if needed\n",
    "#dfbasic = pd.read_csv('software-2023-05-13.csv',encoding='utf8')"
   ]
  },
  {
   "cell_type": "code",
   "execution_count": 26,
   "id": "retained-newcastle",
   "metadata": {},
   "outputs": [],
   "source": [
    "#Create a list of all the article ids\n",
    "article_ids = dfbasic['id'].tolist()"
   ]
  },
  {
   "cell_type": "code",
   "execution_count": 27,
   "id": "temporal-breakfast",
   "metadata": {},
   "outputs": [
    {
     "data": {
      "text/plain": [
       "4974"
      ]
     },
     "execution_count": 27,
     "metadata": {},
     "output_type": "execute_result"
    }
   ],
   "source": [
    "#article_ids2 = article_ids[12679:16047]\n",
    "len(article_ids)"
   ]
  },
  {
   "cell_type": "code",
   "execution_count": 28,
   "id": "uniform-dispute",
   "metadata": {},
   "outputs": [
    {
     "name": "stdout",
     "output_type": "stream",
     "text": [
      "Full metadata for 4972 items retrieved. 2 items had an error\n"
     ]
    }
   ],
   "source": [
    "item_metadata = []\n",
    "author_metadata = []\n",
    "funding_metadata = []\n",
    "categories_metadata = []\n",
    "tags_data = []\n",
    "files_metadata = []\n",
    "error_count = 0\n",
    "\n",
    "for item in article_ids:\n",
    "    m = requests.get(BASE_URL + '/articles/' + str(item))\n",
    "    metadata=json.loads(m.text)\n",
    "    \n",
    "    if m.status_code == 200: #if the record is retrievable\n",
    "\n",
    "        views = json.loads(requests.get('https://stats.figshare.com/total/views/article/' + str(item)).content)\n",
    "        #Add views to the full metadata record and add to the main list\n",
    "        metadata['views'] = views['totals']\n",
    "        item_metadata.append(metadata)\n",
    "\n",
    "        #Add item id to each set of content for individual tables\n",
    "        authors = metadata['authors']\n",
    "        for a in authors:\n",
    "            a['item_id'] = item\n",
    "            author_metadata.append(a)\n",
    "\n",
    "        funding = metadata['funding_list']\n",
    "        for f in funding:\n",
    "            f['item_id'] = item\n",
    "            funding_metadata.append(f)\n",
    "    \n",
    "        cats = metadata['categories']\n",
    "        for c in cats:\n",
    "            c['item_id'] = item\n",
    "            categories_metadata.append(c)\n",
    "    \n",
    "        for t in metadata['tags']: #tags are a list so its a bit different\n",
    "            tags = {}\n",
    "            tags['item_id'] = item\n",
    "            tags['name'] = t\n",
    "            tags_data.append(tags)\n",
    "\n",
    "        if metadata['is_embargoed'] == 0: #If the record is not embargoed\n",
    "            if len(metadata['files']) > 0: #If the record is not 'metadata only'\n",
    "                files = metadata['files']\n",
    "                for f in files:\n",
    "                    f['item_id'] = item\n",
    "                    files_metadata.append(f)\n",
    "    else:\n",
    "        error_count += 1\n",
    "    \n",
    "    \n",
    "print('Full metadata for',len(item_metadata),'items retrieved.', error_count,'items had an error')\n"
   ]
  },
  {
   "cell_type": "code",
   "execution_count": 29,
   "id": "defensive-thirty",
   "metadata": {},
   "outputs": [],
   "source": [
    "#save the json. \n",
    "with open('full_records-'+str(datetime.datetime.now().strftime(\"%Y-%m-%d\"))+'.json', 'w') as f:\n",
    "    json.dump(item_metadata, f)\n",
    "\n",
    "with open('author-'+str(datetime.datetime.now().strftime(\"%Y-%m-%d\"))+'.json', 'w') as f:\n",
    "    json.dump(author_metadata, f)\n",
    "\n",
    "with open('funding-'+str(datetime.datetime.now().strftime(\"%Y-%m-%d\"))+'.json', 'w') as f:\n",
    "    json.dump(funding_metadata, f)\n",
    "\n",
    "with open('categories-'+str(datetime.datetime.now().strftime(\"%Y-%m-%d\"))+'.json', 'w') as f:\n",
    "    json.dump(categories_metadata, f)\n",
    "\n",
    "with open('tags-'+str(datetime.datetime.now().strftime(\"%Y-%m-%d\"))+'.json', 'w') as f:\n",
    "    json.dump(tags_data, f)\n",
    "\n",
    "with open('files-'+str(datetime.datetime.now().strftime(\"%Y-%m-%d\"))+'.json', 'w') as f:\n",
    "    json.dump(files_metadata, f)"
   ]
  },
  {
   "cell_type": "code",
   "execution_count": 50,
   "id": "broadband-printer",
   "metadata": {},
   "outputs": [
    {
     "name": "stdout",
     "output_type": "stream",
     "text": [
      "Done!\n"
     ]
    }
   ],
   "source": [
    "#Create a dataframe from the JSON formatted data\n",
    "df_metadata = pd.DataFrame(item_metadata)\n",
    "print('Done!')"
   ]
  },
  {
   "cell_type": "code",
   "execution_count": 9,
   "id": "sporting-deviation",
   "metadata": {},
   "outputs": [],
   "source": [
    "#If you need to open json files\n",
    "\n",
    "with open(\"author-2023-05-13.json\", \"r\", encoding='utf8') as read_file: #Replace this with the filename of your choice\n",
    "    author_metadata = json.load(read_file)\n",
    "\n",
    "with open(\"funding-2023-05-13.json\", \"r\", encoding='utf8') as read_file: #Replace this with the filename of your choice\n",
    "    funding_metadata = json.load(read_file)\n",
    "\n",
    "with open(\"categories-2023-05-13.json\", \"r\", encoding='utf8') as read_file: #Replace this with the filename of your choice\n",
    "    categories_metadata = json.load(read_file)\n",
    "    \n",
    "with open(\"tags-2023-05-13.json\", \"r\", encoding='utf8') as read_file: #Replace this with the filename of your choice\n",
    "    tags_data = json.load(read_file)\n",
    "    \n",
    "#For some reason files json never got saved.\n"
   ]
  },
  {
   "cell_type": "markdown",
   "id": "artificial-aerospace",
   "metadata": {},
   "source": [
    "## Format the data"
   ]
  },
  {
   "cell_type": "markdown",
   "id": "furnished-chance",
   "metadata": {},
   "source": [
    "### Split out the dates"
   ]
  },
  {
   "cell_type": "code",
   "execution_count": 51,
   "id": "significant-forty",
   "metadata": {},
   "outputs": [
    {
     "name": "stdout",
     "output_type": "stream",
     "text": [
      "Dates split out and merged\n"
     ]
    }
   ],
   "source": [
    "#The dates are all contained within one column called 'timeline'. Flatten that column and associate the values\n",
    "#with the proper article id in a new dataframe\n",
    "\n",
    "temp_date_list = []\n",
    "\n",
    "for item in item_metadata:\n",
    "    dateitem = item['timeline']\n",
    "    dateitem['id'] = item['id']\n",
    "    temp_date_list.append(dateitem)\n",
    "\n",
    "df_dates = pd.json_normalize(\n",
    "    temp_date_list \n",
    ")\n",
    "\n",
    "df_dates.replace(df_dates.replace(r'^\\s*$', None, regex=True, inplace = True)) #Replace blank cells with None (used to do 'null' but that didnt work)\n",
    "#Merge the dataframes\n",
    "df = df_metadata.merge(df_dates, how='outer', on='id')\n",
    "\n",
    "print(\"Dates split out and merged\")"
   ]
  },
  {
   "cell_type": "markdown",
   "id": "square-infection",
   "metadata": {},
   "source": [
    "### Remove columns in main set that are separate tables"
   ]
  },
  {
   "cell_type": "code",
   "execution_count": 52,
   "id": "genetic-carroll",
   "metadata": {},
   "outputs": [],
   "source": [
    "df = df.drop(columns=['files', 'authors','funding','funding_list','tags','categories','timeline'])"
   ]
  },
  {
   "cell_type": "markdown",
   "id": "negative-sunrise",
   "metadata": {},
   "source": [
    "### If group_id is not null, then assign the record a institutional/publisher tag. Otherwise, figshare.com"
   ]
  },
  {
   "cell_type": "code",
   "execution_count": 54,
   "id": "yellow-concept",
   "metadata": {},
   "outputs": [],
   "source": [
    "df['origin'] = 'figshare-user' #create a new column and fill with default values\n",
    "df['edited_group_id'] = df['group_id']\n",
    "df['edited_group_id'].replace(np.nan, 999999999999, inplace=True)\n",
    "df.loc[df['edited_group_id'] != 999999999999, 'origin'] = 'organization'"
   ]
  },
  {
   "cell_type": "markdown",
   "id": "recent-kitchen",
   "metadata": {},
   "source": [
    "### Replace blanks with 'null' and rename id column"
   ]
  },
  {
   "cell_type": "code",
   "execution_count": null,
   "id": "vital-habitat",
   "metadata": {},
   "outputs": [],
   "source": [
    "df.replace(df.replace(r'^\\s*$', np.nan, regex=True, inplace = True)) #Replace blank cells with 'null'\n",
    "#df.fillna(value='null', inplace=True) #Note- why do this??? why not leave as nan?\n",
    "df = df.rename(columns={'id': 'item_id'}) #Rename id col in main dataframe"
   ]
  },
  {
   "cell_type": "markdown",
   "id": "still-workplace",
   "metadata": {},
   "source": [
    "## Create all other dataframes"
   ]
  },
  {
   "cell_type": "code",
   "execution_count": 35,
   "id": "sticky-slide",
   "metadata": {},
   "outputs": [],
   "source": [
    "authorsdf = pd.json_normalize(author_metadata)\n",
    "authorsdf.replace(authorsdf.replace(r'^\\s*$', 'null', regex=True, inplace = True)) #Replace blank cells with 'null'\n",
    "\n",
    "fundersdf = pd.json_normalize(funding_metadata)\n",
    "fundersdf.replace(fundersdf.replace(r'^\\s*$', 'null', regex=True, inplace = True)) #Replace blank cells with 'null'\n",
    "\n",
    "categoriesdf = pd.json_normalize(categories_metadata)\n",
    "\n",
    "tagsdf = pd.DataFrame(tags_data, columns=[\"item_id\",\"name\"], index=None)\n",
    "\n",
    "filesdf = pd.json_normalize(files_metadata)"
   ]
  },
  {
   "cell_type": "markdown",
   "id": "confidential-gateway",
   "metadata": {},
   "source": [
    "### Save to one excel book and/or separate csvs"
   ]
  },
  {
   "cell_type": "code",
   "execution_count": 59,
   "id": "ahead-juice",
   "metadata": {},
   "outputs": [],
   "source": [
    "#Some of the contents has unicode which excel won't accept. Need to replace (https://stackoverflow.com/questions/28837057/pandas-writing-an-excel-file-containing-unicode-illegalcharactererror)\n",
    "df = df.applymap(lambda x: x.encode('unicode_escape').\n",
    "                 decode('utf-8') if isinstance(x, str) else x)\n",
    "\n",
    "fundersdf = fundersdf.applymap(lambda x: x.encode('unicode_escape').\n",
    "                 decode('utf-8') if isinstance(x, str) else x)\n",
    "\n",
    "with pd.ExcelWriter(\"metadata.xlsx\") as writer:\n",
    "   \n",
    "    # use to_excel function and specify the sheet_name and index\n",
    "    # to store the dataframe in specified sheet\n",
    "    df.to_excel(writer, sheet_name=\"main\", index=False)\n",
    "    authorsdf.to_excel(writer, sheet_name=\"authors\", index=False)\n",
    "    fundersdf.to_excel(writer, sheet_name=\"funding\", index=False)\n",
    "    categoriesdf.to_excel(writer, sheet_name=\"categories\", index=False)\n",
    "    tagsdf.to_excel(writer, sheet_name=\"tags\", index=False)\n",
    "    filesdf.to_excel(writer, sheet_name=\"files\", index=False)"
   ]
  },
  {
   "cell_type": "code",
   "execution_count": 37,
   "id": "effective-cable",
   "metadata": {},
   "outputs": [],
   "source": [
    "#Save to separate CSVs if you want\n",
    "save_file = authorsdf.to_csv('authors.csv',encoding='utf-8', index=None)\n",
    "\n",
    "save_file = fundersdf.to_csv('funding.csv',encoding='utf-8', index=None)\n",
    "\n",
    "save_file = categoriesdf.to_csv('categories.csv',encoding='utf-8', index=None)\n",
    "\n",
    "save_file = tagsdf.to_csv('tags.csv',encoding='utf-8', index=None)\n",
    "\n",
    "save_file = filesdf.to_csv('files.csv',encoding='utf-8', index=None)\n",
    "\n",
    "save_file = df.to_csv('main.csv',encoding='utf-8', index=None)"
   ]
  },
  {
   "cell_type": "markdown",
   "id": "usual-satisfaction",
   "metadata": {},
   "source": [
    "# Analysis"
   ]
  },
  {
   "cell_type": "code",
   "execution_count": 2,
   "id": "mobile-partition",
   "metadata": {},
   "outputs": [],
   "source": [
    "#Open a file if needed\n",
    "df = pd.read_csv('main.csv',encoding='utf8')\n",
    "authorsdf = pd.read_csv('authors.csv',encoding='utf8')\n",
    "fundersdf = pd.read_csv('funding.csv',encoding='utf8')\n",
    "categoriesdf = pd.read_csv('categories.csv',encoding='utf8')\n",
    "tagsdf = pd.read_csv('tags.csv',encoding='utf8')\n",
    "filesdf = pd.read_csv('files.csv',encoding='utf8')"
   ]
  },
  {
   "cell_type": "markdown",
   "id": "organizational-exception",
   "metadata": {},
   "source": [
    "### Set parameters for charts"
   ]
  },
  {
   "cell_type": "code",
   "execution_count": 3,
   "id": "indie-aluminum",
   "metadata": {},
   "outputs": [],
   "source": [
    "#parameters\n",
    "chart_title_font = 25\n",
    "y_axis_label_font = 15\n",
    "x_tick_size = 20\n",
    "y_tick_size = 20\n",
    "startfont = 30\n",
    "\n",
    "#set color properties for box plots https://stackoverflow.com/questions/43434020/black-and-white-boxplots-in-seaborn\n",
    "PROPS = {\n",
    "    'boxprops':{'edgecolor':'black'},\n",
    "    'medianprops':{'color':'black'},\n",
    "    'whiskerprops':{'color':'black'},\n",
    "    'capprops':{'color':'black'}\n",
    "}\n",
    "\n",
    "colors = [\"#D9D9D9\",\"#5A5A5A\"] #\"#FFFFFF\""
   ]
  },
  {
   "cell_type": "markdown",
   "id": "charitable-blair",
   "metadata": {},
   "source": [
    "### What domains are present?"
   ]
  },
  {
   "cell_type": "code",
   "execution_count": 43,
   "id": "median-opinion",
   "metadata": {},
   "outputs": [],
   "source": [
    "from collections import Counter"
   ]
  },
  {
   "cell_type": "code",
   "execution_count": 36,
   "id": "little-cruise",
   "metadata": {},
   "outputs": [],
   "source": [
    "#Open json if needed\n",
    "with open(\"software-cleaned-2023-06-02.json\", \"r\", encoding='utf8') as read_file: #Replace this with the filename of your choice\n",
    "    software_basic = json.load(read_file)"
   ]
  },
  {
   "cell_type": "code",
   "execution_count": 44,
   "id": "outer-instrument",
   "metadata": {},
   "outputs": [
    {
     "data": {
      "text/plain": [
       "Counter({'figshare.com/a': 4215,\n",
       "         'opticapublishi': 108,\n",
       "         'royalholloway.': 6,\n",
       "         'auckland.figsh': 23,\n",
       "         'su.figshare.co': 2,\n",
       "         'plos.figshare.': 22,\n",
       "         'figshare.shef.': 55,\n",
       "         'bridges.monash': 42,\n",
       "         'melbourne.figs': 19,\n",
       "         'uvaauas.figsha': 13,\n",
       "         'caryinstitute.': 2,\n",
       "         'zivahub.uct.ac': 12,\n",
       "         'figshare.manch': 10,\n",
       "         'kilthub.cmu.ed': 3,\n",
       "         'springernature': 109,\n",
       "         'data.ncl.ac.uk': 17,\n",
       "         'jstagedata.jst': 2,\n",
       "         'rdr.ucl.ac.uk/': 11,\n",
       "         'data.dtu.dk/ar': 12,\n",
       "         'rs.figshare.co': 33,\n",
       "         'smithsonian.fi': 5,\n",
       "         'researchdata.u': 3,\n",
       "         'cord.cranfield': 16,\n",
       "         'datahub.hku.hk': 5,\n",
       "         'rmit.figshare.': 3,\n",
       "         'iastate.figsha': 1,\n",
       "         'figshare.scili': 3,\n",
       "         'kcl.figshare.c': 5,\n",
       "         'arizona.figsha': 3,\n",
       "         'data.4tu.nl/ar': 57,\n",
       "         'repository.lbo': 20,\n",
       "         'dayta.nwu.ac.z': 2,\n",
       "         'datarepository': 5,\n",
       "         'epa.figshare.c': 10,\n",
       "         'plus.figshare.': 4,\n",
       "         'federation.fig': 1,\n",
       "         'ordo.open.ac.u': 7,\n",
       "         'portal.sds.ox.': 1,\n",
       "         'tandf.figshare': 3,\n",
       "         'adelaide.figsh': 24,\n",
       "         'researchdata.s': 3,\n",
       "         'sussex.figshar': 4,\n",
       "         'city.figshare.': 3,\n",
       "         'janelia.figsha': 5,\n",
       "         'aru.figshare.c': 1,\n",
       "         'figshare.le.ac': 1,\n",
       "         'scholardata.su': 1,\n",
       "         'figshare.dmu.a': 2,\n",
       "         'figshare.wesle': 1,\n",
       "         'gsajournals.fi': 5,\n",
       "         'leicester.figs': 4,\n",
       "         'uu.figshare.co': 1,\n",
       "         'vivo.figshare.': 1,\n",
       "         'osapublishing.': 26,\n",
       "         'brunel.figshar': 7,\n",
       "         'salford.figsha': 3,\n",
       "         'esip.figshare.': 2,\n",
       "         'orcid.figshare': 2,\n",
       "         'sage.figshare.': 1,\n",
       "         'spinebiomechan': 1,\n",
       "         'surrey.figshar': 1,\n",
       "         'figshare.cardi': 3,\n",
       "         'data.lincoln.a': 1,\n",
       "         'asha.figshare.': 1})"
      ]
     },
     "execution_count": 44,
     "metadata": {},
     "output_type": "execute_result"
    }
   ],
   "source": [
    "#Look at the institutions represented\n",
    "url = []\n",
    "for s in software_basic:\n",
    "    url.append(s['url_public_html'][8:22])\n",
    "\n",
    "unique_domains = Counter(url)\n",
    "unique_domains"
   ]
  },
  {
   "cell_type": "code",
   "execution_count": 47,
   "id": "roman-detection",
   "metadata": {},
   "outputs": [],
   "source": [
    "origindf = df.groupby(by=['origin']).count().reset_index()"
   ]
  },
  {
   "cell_type": "code",
   "execution_count": 48,
   "id": "unable-scanner",
   "metadata": {},
   "outputs": [
    {
     "data": {
      "text/html": [
       "<div>\n",
       "<style scoped>\n",
       "    .dataframe tbody tr th:only-of-type {\n",
       "        vertical-align: middle;\n",
       "    }\n",
       "\n",
       "    .dataframe tbody tr th {\n",
       "        vertical-align: top;\n",
       "    }\n",
       "\n",
       "    .dataframe thead th {\n",
       "        text-align: right;\n",
       "    }\n",
       "</style>\n",
       "<table border=\"1\" class=\"dataframe\">\n",
       "  <thead>\n",
       "    <tr style=\"text-align: right;\">\n",
       "      <th></th>\n",
       "      <th>origin</th>\n",
       "      <th>custom_fields</th>\n",
       "      <th>figshare_url</th>\n",
       "      <th>description</th>\n",
       "      <th>version</th>\n",
       "      <th>status</th>\n",
       "      <th>size</th>\n",
       "      <th>created_date</th>\n",
       "      <th>modified_date</th>\n",
       "      <th>is_public</th>\n",
       "      <th>...</th>\n",
       "      <th>resource_title</th>\n",
       "      <th>resource_doi</th>\n",
       "      <th>views</th>\n",
       "      <th>posted</th>\n",
       "      <th>firstOnline</th>\n",
       "      <th>publisherPublication</th>\n",
       "      <th>publisherAcceptance</th>\n",
       "      <th>revision</th>\n",
       "      <th>submission</th>\n",
       "      <th>edited_group_id</th>\n",
       "    </tr>\n",
       "  </thead>\n",
       "  <tbody>\n",
       "    <tr>\n",
       "      <th>0</th>\n",
       "      <td>figshare-user</td>\n",
       "      <td>4216</td>\n",
       "      <td>4216</td>\n",
       "      <td>4216</td>\n",
       "      <td>4216</td>\n",
       "      <td>4216</td>\n",
       "      <td>4216</td>\n",
       "      <td>4216</td>\n",
       "      <td>4216</td>\n",
       "      <td>4216</td>\n",
       "      <td>...</td>\n",
       "      <td>4216</td>\n",
       "      <td>4216</td>\n",
       "      <td>4216</td>\n",
       "      <td>4216</td>\n",
       "      <td>4216</td>\n",
       "      <td>4216</td>\n",
       "      <td>4216</td>\n",
       "      <td>4216</td>\n",
       "      <td>4216</td>\n",
       "      <td>4216</td>\n",
       "    </tr>\n",
       "    <tr>\n",
       "      <th>1</th>\n",
       "      <td>organization</td>\n",
       "      <td>756</td>\n",
       "      <td>756</td>\n",
       "      <td>756</td>\n",
       "      <td>756</td>\n",
       "      <td>756</td>\n",
       "      <td>756</td>\n",
       "      <td>756</td>\n",
       "      <td>756</td>\n",
       "      <td>756</td>\n",
       "      <td>...</td>\n",
       "      <td>756</td>\n",
       "      <td>756</td>\n",
       "      <td>756</td>\n",
       "      <td>756</td>\n",
       "      <td>756</td>\n",
       "      <td>756</td>\n",
       "      <td>756</td>\n",
       "      <td>756</td>\n",
       "      <td>756</td>\n",
       "      <td>756</td>\n",
       "    </tr>\n",
       "  </tbody>\n",
       "</table>\n",
       "<p>2 rows × 49 columns</p>\n",
       "</div>"
      ],
      "text/plain": [
       "          origin  custom_fields  figshare_url  description  version  status  \\\n",
       "0  figshare-user           4216          4216         4216     4216    4216   \n",
       "1   organization            756           756          756      756     756   \n",
       "\n",
       "   size  created_date  modified_date  is_public  ...  resource_title  \\\n",
       "0  4216          4216           4216       4216  ...            4216   \n",
       "1   756           756            756        756  ...             756   \n",
       "\n",
       "   resource_doi  views  posted  firstOnline  publisherPublication  \\\n",
       "0          4216   4216    4216         4216                  4216   \n",
       "1           756    756     756          756                   756   \n",
       "\n",
       "   publisherAcceptance  revision  submission  edited_group_id  \n",
       "0                 4216      4216        4216             4216  \n",
       "1                  756       756         756              756  \n",
       "\n",
       "[2 rows x 49 columns]"
      ]
     },
     "execution_count": 48,
     "metadata": {},
     "output_type": "execute_result"
    }
   ],
   "source": [
    "origindf\n",
    "\n",
    "#So there is one record that may or may not be figshare.com, but this aligns well with the domains"
   ]
  },
  {
   "cell_type": "markdown",
   "id": "close-canada",
   "metadata": {},
   "source": [
    "### Look at records over time"
   ]
  },
  {
   "cell_type": "code",
   "execution_count": 60,
   "id": "compact-rugby",
   "metadata": {},
   "outputs": [
    {
     "name": "stderr",
     "output_type": "stream",
     "text": [
      "<ipython-input-60-620fbb069599>:23: UserWarning: FixedFormatter should only be used together with FixedLocator\n",
      "  ax.set_yticklabels(ax.get_yticks(), fontsize = 12)\n"
     ]
    },
    {
     "data": {
      "text/plain": [
       "[Text(0, 0.0, '0.0'),\n",
       " Text(0, 200.0, '200.0'),\n",
       " Text(0, 400.0, '400.0'),\n",
       " Text(0, 600.0, '600.0'),\n",
       " Text(0, 800.0, '800.0'),\n",
       " Text(0, 1000.0, '1000.0'),\n",
       " Text(0, 1200.0, '1200.0')]"
      ]
     },
     "execution_count": 60,
     "metadata": {},
     "output_type": "execute_result"
    },
    {
     "data": {
      "image/png": "[encoded data removed]",
      "text/plain": [
       "<Figure size 1080x576 with 1 Axes>"
      ]
     },
     "metadata": {
      "needs_background": "light"
     },
     "output_type": "display_data"
    }
   ],
   "source": [
    "#Use the posted date because the firstOnline date may not align with the actual Figshare record. \n",
    "#The posted date as this is the date posted on Figshare.\n",
    "\n",
    "#Add year and month posted columns\n",
    "df['year_posted'] = pd.DatetimeIndex(df['posted']).year\n",
    "df['month_posted'] = pd.DatetimeIndex(df['posted']).month\n",
    "\n",
    "#Another way to do it...Split the year out and add it as a column\n",
    "#year = df_full[\"firstOnline\"].str.split(\"-\", n = 1, expand = True)\n",
    "#df_full['year'] = year[0]\n",
    "\n",
    "#Group by year\n",
    "datechart = df.groupby(['year_posted']).count().reset_index()\n",
    "\n",
    "#Chart it all out\n",
    "#sns.color_palette(\"husl\", 8)\n",
    "plt.rcParams[\"figure.figsize\"] = (15,8)\n",
    "ax = sns.barplot(data=datechart, x=\"year_posted\", y=\"item_id\", palette=[\"C0\"])\n",
    "#ax.set(xlabel='year', ylabel='number of records published')\n",
    "ax.set_ylabel(\"number of records published\", fontsize = 14)\n",
    "ax.set_xlabel(\"year_posted\", fontsize = 14)\n",
    "ax.set_xticklabels(datechart['year_posted'], fontsize = 10, rotation=60, ha=\"right\")\n",
    "ax.set_yticklabels(ax.get_yticks(), fontsize = 12)"
   ]
  },
  {
   "cell_type": "markdown",
   "id": "understanding-converter",
   "metadata": {},
   "source": [
    "## Views per time\n",
    "Really should use first online date. see this example: https://figshare.shef.ac.uk/articles/dataset/CoVid_Plots_and_Analysis/12328226 If things are versioned then the posted date and views no longer align it seems"
   ]
  },
  {
   "cell_type": "code",
   "execution_count": 61,
   "id": "fleet-spanking",
   "metadata": {},
   "outputs": [],
   "source": [
    "dfviews = df.copy() "
   ]
  },
  {
   "cell_type": "code",
   "execution_count": 62,
   "id": "accessory-transportation",
   "metadata": {},
   "outputs": [],
   "source": [
    "#There is at least one missing firstOnline date so replace that with the posted date just in this dataframe\n",
    "dfviews['firstOnline'].fillna(dfviews['posted'], inplace=True)"
   ]
  },
  {
   "cell_type": "code",
   "execution_count": 63,
   "id": "conservative-powder",
   "metadata": {},
   "outputs": [
    {
     "name": "stderr",
     "output_type": "stream",
     "text": [
      "c:\\users\\andre.desktop-dfg3gu2\\appdata\\local\\programs\\python\\python39\\lib\\site-packages\\pandas\\core\\arraylike.py:358: RuntimeWarning: divide by zero encountered in log\n",
      "  result = getattr(ufunc, method)(*inputs, **kwargs)\n"
     ]
    }
   ],
   "source": [
    "#----!!!!!!!! Adjust the values for your data collection date\n",
    "\n",
    "current_month = 6\n",
    "current_year = 2023\n",
    "\n",
    "def calc(row):\n",
    "    if row['month_posted'] != current_month and row['year_posted'] == current_year: #number of months from current year\n",
    "        return (current_month-row['month_posted'])\n",
    "    elif row['month_posted'] == current_month and row['year_posted'] == current_year: #If published in current month and year\n",
    "        return 0.75 #data was collected on Oct 26 so if item posted this september just assign it 0.75\n",
    "    else:\n",
    "        return ((current_year-(row['year_posted']+1))*12)+(12-row['month_posted'])+current_month #add 1 to the posted year first then subtract to get full years, then add the months from posted year, then months for current year\n",
    "\n",
    "    \n",
    "dfviews['months_since_posted'] = dfviews.apply(calc, axis=1)\n",
    "\n",
    "\n",
    "dfviews['views_per_month'] = dfviews['views']/dfviews['months_since_posted']\n",
    "dfviews['log_views_per_month'] = np.log(dfviews['views_per_month'])\n",
    "#df['downloads_per_month'] = df['downloads']/df['months_since_posted']\n",
    "\n",
    "#Save to CSV\n",
    "#dfviews.to_csv('DeleteExamineViews.csv', index = False, header=True)"
   ]
  },
  {
   "cell_type": "code",
   "execution_count": 64,
   "id": "progressive-toronto",
   "metadata": {},
   "outputs": [
    {
     "data": {
      "text/plain": [
       "Text(0.5, 1.0, 'Log Views per Month')"
      ]
     },
     "execution_count": 64,
     "metadata": {},
     "output_type": "execute_result"
    },
    {
     "data": {
      "image/png": "[encoded data removed]",
      "text/plain": [
       "<Figure size 1080x576 with 1 Axes>"
      ]
     },
     "metadata": {
      "needs_background": "light"
     },
     "output_type": "display_data"
    }
   ],
   "source": [
    "#Create a chart\n",
    "\n",
    "\n",
    "ax = sns.boxplot(data=dfviews, x='origin', y='log_views_per_month', palette=sns.color_palette(colors, 2),**PROPS)#, palette=\"Blues_d\")\n",
    "ax.set(xlabel=None)\n",
    "xticks = plt.xticks()\n",
    "#wrap_labels(ax,14)\n",
    "ax.set_ylabel('Log Number of Views/Month', fontsize=y_axis_label_font)\n",
    "ax.tick_params(axis='x', which='major', labelsize=x_tick_size)\n",
    "ax.tick_params(axis='y', which='major', labelsize=y_tick_size)\n",
    "ax.set_title('Log Views per Month', fontsize=chart_title_font)\n",
    "#ax.text(0.5, 0.8,'*', ha='center', fontsize = startfont, transform=ax6.transAxes)\n",
    "\n",
    "\n",
    "#Save Figure\n",
    "#plt.savefig('viewsmonth-color-pres.jpg', dpi=180, format=\"jpg\")"
   ]
  },
  {
   "cell_type": "markdown",
   "id": "overhead-possibility",
   "metadata": {},
   "source": [
    "### Examine Files"
   ]
  },
  {
   "cell_type": "code",
   "execution_count": 65,
   "id": "beginning-virginia",
   "metadata": {},
   "outputs": [
    {
     "name": "stdout",
     "output_type": "stream",
     "text": [
      "<class 'pandas.core.frame.DataFrame'>\n",
      "RangeIndex: 13425 entries, 0 to 13424\n",
      "Data columns (total 8 columns):\n",
      " #   Column        Non-Null Count  Dtype \n",
      "---  ------        --------------  ----- \n",
      " 0   id            13425 non-null  int64 \n",
      " 1   name          13425 non-null  object\n",
      " 2   size          13425 non-null  int64 \n",
      " 3   is_link_only  13425 non-null  bool  \n",
      " 4   download_url  13425 non-null  object\n",
      " 5   supplied_md5  13425 non-null  object\n",
      " 6   computed_md5  13425 non-null  object\n",
      " 7   item_id       13425 non-null  int64 \n",
      "dtypes: bool(1), int64(3), object(4)\n",
      "memory usage: 747.4+ KB\n"
     ]
    }
   ],
   "source": [
    "filesdf.info()"
   ]
  },
  {
   "cell_type": "code",
   "execution_count": 66,
   "id": "worst-procedure",
   "metadata": {},
   "outputs": [
    {
     "data": {
      "text/html": [
       "<div>\n",
       "<style scoped>\n",
       "    .dataframe tbody tr th:only-of-type {\n",
       "        vertical-align: middle;\n",
       "    }\n",
       "\n",
       "    .dataframe tbody tr th {\n",
       "        vertical-align: top;\n",
       "    }\n",
       "\n",
       "    .dataframe thead th {\n",
       "        text-align: right;\n",
       "    }\n",
       "</style>\n",
       "<table border=\"1\" class=\"dataframe\">\n",
       "  <thead>\n",
       "    <tr style=\"text-align: right;\">\n",
       "      <th></th>\n",
       "      <th>is_link_only</th>\n",
       "      <th>id</th>\n",
       "      <th>name</th>\n",
       "      <th>size</th>\n",
       "      <th>download_url</th>\n",
       "      <th>supplied_md5</th>\n",
       "      <th>computed_md5</th>\n",
       "      <th>item_id</th>\n",
       "    </tr>\n",
       "  </thead>\n",
       "  <tbody>\n",
       "    <tr>\n",
       "      <th>0</th>\n",
       "      <td>False</td>\n",
       "      <td>13337</td>\n",
       "      <td>13337</td>\n",
       "      <td>13337</td>\n",
       "      <td>13337</td>\n",
       "      <td>13337</td>\n",
       "      <td>13337</td>\n",
       "      <td>13337</td>\n",
       "    </tr>\n",
       "    <tr>\n",
       "      <th>1</th>\n",
       "      <td>True</td>\n",
       "      <td>88</td>\n",
       "      <td>88</td>\n",
       "      <td>88</td>\n",
       "      <td>88</td>\n",
       "      <td>88</td>\n",
       "      <td>88</td>\n",
       "      <td>88</td>\n",
       "    </tr>\n",
       "  </tbody>\n",
       "</table>\n",
       "</div>"
      ],
      "text/plain": [
       "   is_link_only     id   name   size  download_url  supplied_md5  \\\n",
       "0         False  13337  13337  13337         13337         13337   \n",
       "1          True     88     88     88            88            88   \n",
       "\n",
       "   computed_md5  item_id  \n",
       "0         13337    13337  \n",
       "1            88       88  "
      ]
     },
     "execution_count": 66,
     "metadata": {},
     "output_type": "execute_result"
    }
   ],
   "source": [
    "linked_record = filesdf.groupby(by=['is_link_only']).count().reset_index()\n",
    "linked_record"
   ]
  },
  {
   "cell_type": "code",
   "execution_count": 67,
   "id": "cosmetic-tract",
   "metadata": {},
   "outputs": [
    {
     "name": "stdout",
     "output_type": "stream",
     "text": [
      "4886 items have at least one file or a link to a file\n",
      "114 items have no file or link to file\n"
     ]
    }
   ],
   "source": [
    "file_item_list = filesdf['item_id'].unique()\n",
    "print(len(file_item_list),'items have at least one file or a link to a file')\n",
    "print(5000-len(file_item_list), 'items have no file or link to file')"
   ]
  },
  {
   "cell_type": "code",
   "execution_count": 68,
   "id": "mexican-liver",
   "metadata": {},
   "outputs": [
    {
     "name": "stderr",
     "output_type": "stream",
     "text": [
      "<ipython-input-68-bab8f8bf7db1>:2: SettingWithCopyWarning: \n",
      "A value is trying to be set on a copy of a slice from a DataFrame.\n",
      "Try using .loc[row_indexer,col_indexer] = value instead\n",
      "\n",
      "See the caveats in the documentation: https://pandas.pydata.org/pandas-docs/stable/user_guide/indexing.html#returning-a-view-versus-a-copy\n",
      "  pub_date['file_status'] = np.where(pub_date['item_id'].isin(file_item_list), 'Has files or link', 'No files or link')\n"
     ]
    }
   ],
   "source": [
    "pub_date = df[['item_id','year_posted']]\n",
    "pub_date['file_status'] = np.where(pub_date['item_id'].isin(file_item_list), 'Has files or link', 'No files or link')\n"
   ]
  },
  {
   "cell_type": "code",
   "execution_count": 69,
   "id": "bizarre-vector",
   "metadata": {},
   "outputs": [
    {
     "data": {
      "text/html": [
       "<div>\n",
       "<style scoped>\n",
       "    .dataframe tbody tr th:only-of-type {\n",
       "        vertical-align: middle;\n",
       "    }\n",
       "\n",
       "    .dataframe tbody tr th {\n",
       "        vertical-align: top;\n",
       "    }\n",
       "\n",
       "    .dataframe thead th {\n",
       "        text-align: right;\n",
       "    }\n",
       "</style>\n",
       "<table border=\"1\" class=\"dataframe\">\n",
       "  <thead>\n",
       "    <tr style=\"text-align: right;\">\n",
       "      <th></th>\n",
       "      <th>item_id</th>\n",
       "      <th>year_posted</th>\n",
       "      <th>file_status</th>\n",
       "    </tr>\n",
       "  </thead>\n",
       "  <tbody>\n",
       "    <tr>\n",
       "      <th>0</th>\n",
       "      <td>20231718</td>\n",
       "      <td>2023.0</td>\n",
       "      <td>Has files or link</td>\n",
       "    </tr>\n",
       "    <tr>\n",
       "      <th>1</th>\n",
       "      <td>20231682</td>\n",
       "      <td>2023.0</td>\n",
       "      <td>Has files or link</td>\n",
       "    </tr>\n",
       "    <tr>\n",
       "      <th>2</th>\n",
       "      <td>22129361</td>\n",
       "      <td>2023.0</td>\n",
       "      <td>Has files or link</td>\n",
       "    </tr>\n",
       "    <tr>\n",
       "      <th>3</th>\n",
       "      <td>23280182</td>\n",
       "      <td>2023.0</td>\n",
       "      <td>Has files or link</td>\n",
       "    </tr>\n",
       "    <tr>\n",
       "      <th>4</th>\n",
       "      <td>23279966</td>\n",
       "      <td>2023.0</td>\n",
       "      <td>Has files or link</td>\n",
       "    </tr>\n",
       "  </tbody>\n",
       "</table>\n",
       "</div>"
      ],
      "text/plain": [
       "    item_id  year_posted        file_status\n",
       "0  20231718       2023.0  Has files or link\n",
       "1  20231682       2023.0  Has files or link\n",
       "2  22129361       2023.0  Has files or link\n",
       "3  23280182       2023.0  Has files or link\n",
       "4  23279966       2023.0  Has files or link"
      ]
     },
     "execution_count": 69,
     "metadata": {},
     "output_type": "execute_result"
    }
   ],
   "source": [
    "pub_date.head()"
   ]
  },
  {
   "cell_type": "code",
   "execution_count": 70,
   "id": "moderate-weekend",
   "metadata": {},
   "outputs": [
    {
     "data": {
      "text/html": [
       "<div>\n",
       "<style scoped>\n",
       "    .dataframe tbody tr th:only-of-type {\n",
       "        vertical-align: middle;\n",
       "    }\n",
       "\n",
       "    .dataframe tbody tr th {\n",
       "        vertical-align: top;\n",
       "    }\n",
       "\n",
       "    .dataframe thead th {\n",
       "        text-align: right;\n",
       "    }\n",
       "</style>\n",
       "<table border=\"1\" class=\"dataframe\">\n",
       "  <thead>\n",
       "    <tr style=\"text-align: right;\">\n",
       "      <th></th>\n",
       "      <th>year_posted</th>\n",
       "      <th>file_status</th>\n",
       "      <th>item_id</th>\n",
       "      <th>percent</th>\n",
       "    </tr>\n",
       "  </thead>\n",
       "  <tbody>\n",
       "    <tr>\n",
       "      <th>0</th>\n",
       "      <td>2013.0</td>\n",
       "      <td>Has files or link</td>\n",
       "      <td>17</td>\n",
       "      <td>1.000000</td>\n",
       "    </tr>\n",
       "    <tr>\n",
       "      <th>1</th>\n",
       "      <td>2014.0</td>\n",
       "      <td>Has files or link</td>\n",
       "      <td>364</td>\n",
       "      <td>1.000000</td>\n",
       "    </tr>\n",
       "    <tr>\n",
       "      <th>2</th>\n",
       "      <td>2015.0</td>\n",
       "      <td>Has files or link</td>\n",
       "      <td>301</td>\n",
       "      <td>1.000000</td>\n",
       "    </tr>\n",
       "    <tr>\n",
       "      <th>3</th>\n",
       "      <td>2016.0</td>\n",
       "      <td>Has files or link</td>\n",
       "      <td>387</td>\n",
       "      <td>1.000000</td>\n",
       "    </tr>\n",
       "    <tr>\n",
       "      <th>4</th>\n",
       "      <td>2017.0</td>\n",
       "      <td>Has files or link</td>\n",
       "      <td>542</td>\n",
       "      <td>0.994495</td>\n",
       "    </tr>\n",
       "  </tbody>\n",
       "</table>\n",
       "</div>"
      ],
      "text/plain": [
       "   year_posted        file_status  item_id   percent\n",
       "0       2013.0  Has files or link       17  1.000000\n",
       "1       2014.0  Has files or link      364  1.000000\n",
       "2       2015.0  Has files or link      301  1.000000\n",
       "3       2016.0  Has files or link      387  1.000000\n",
       "4       2017.0  Has files or link      542  0.994495"
      ]
     },
     "execution_count": 70,
     "metadata": {},
     "output_type": "execute_result"
    }
   ],
   "source": [
    "pub_chart = pub_date.groupby(['year_posted','file_status']).count().reset_index()\n",
    "pub_chart['percent'] = pub_chart['item_id'] / pub_chart.groupby('year_posted')['item_id'].transform('sum')\n",
    "pub_chart_with_file = pub_chart[pub_chart['file_status'] == 'Has files or link']\n",
    "pub_chart_with_file.head()"
   ]
  },
  {
   "cell_type": "code",
   "execution_count": 196,
   "id": "institutional-banks",
   "metadata": {},
   "outputs": [
    {
     "data": {
      "text/plain": [
       "[Text(0, 0, '2013.0'),\n",
       " Text(1, 0, '2014.0'),\n",
       " Text(2, 0, '2015.0'),\n",
       " Text(3, 0, '2016.0'),\n",
       " Text(4, 0, '2017.0'),\n",
       " Text(5, 0, '2018.0'),\n",
       " Text(6, 0, '2019.0'),\n",
       " Text(7, 0, '2022.0'),\n",
       " Text(8, 0, '2023.0')]"
      ]
     },
     "execution_count": 196,
     "metadata": {},
     "output_type": "execute_result"
    },
    {
     "data": {
      "image/png": "[encoded data removed]",
      "text/plain": [
       "<Figure size 1080x576 with 1 Axes>"
      ]
     },
     "metadata": {
      "needs_background": "light"
     },
     "output_type": "display_data"
    }
   ],
   "source": [
    "\n",
    "#Chart it all out\n",
    "#sns.color_palette(\"husl\", 8)\n",
    "plt.rcParams[\"figure.figsize\"] = (15,8)\n",
    "ax = sns.barplot(data=pub_chart_with_file, x=\"year_posted\", y=\"percent\", hue=\"file_status\", palette=[\"C0\"])\n",
    "#ax.set(xlabel='year', ylabel='number of records published')\n",
    "ax.set_ylabel(\"proportion records published\", fontsize = 14)\n",
    "ax.set_xlabel(\"year_posted\", fontsize = 14)\n",
    "ax.set_xticklabels(datechart['year_posted'], fontsize = 10, rotation=60, ha=\"right\")\n",
    "#ax.set_yticklabels(ax.get_yticks(), fontsize = 12)"
   ]
  },
  {
   "cell_type": "markdown",
   "id": "detected-degree",
   "metadata": {},
   "source": [
    "### Look for README\n"
   ]
  },
  {
   "cell_type": "code",
   "execution_count": 72,
   "id": "proper-accident",
   "metadata": {},
   "outputs": [
    {
     "name": "stdout",
     "output_type": "stream",
     "text": [
      "175 files are named README or readme\n",
      "Representing 152 records\n"
     ]
    }
   ],
   "source": [
    "\n",
    "readme1 = filesdf[filesdf['name'].str.contains(\"README\") | filesdf['name'].str.contains(\"readme\")]\n",
    "\n",
    "prop_readmes = (len(readme1['item_id'].unique()))/len(filesdf)\n",
    "\n",
    "print(len(readme1), \"files are named README or readme\")\n",
    "print('Representing',len(readme1['item_id'].unique()),'records')"
   ]
  },
  {
   "cell_type": "code",
   "execution_count": null,
   "id": "brilliant-insulin",
   "metadata": {},
   "outputs": [],
   "source": []
  },
  {
   "cell_type": "markdown",
   "id": "peripheral-constant",
   "metadata": {},
   "source": [
    "### File extensions"
   ]
  },
  {
   "cell_type": "code",
   "execution_count": 73,
   "id": "alike-hardwood",
   "metadata": {},
   "outputs": [],
   "source": [
    "#\n",
    "filesdf['ext_pullout'] = filesdf['name'].str[-6:] #create col with last six digits\n",
    "temp_df = filesdf['ext_pullout'].str.split(\".\", n = 1, expand = True)  # Split string once on the period, expand to new columns in new df  \n",
    "filesdf['extension'] = temp_df[1] #Then add the extension column from the temp df to the current df\n",
    "\n",
    "extensions = filesdf['extension'].value_counts().to_frame().reset_index().rename(\n",
    "           columns={'index': 'file_type', 'extension': 'count'})\n",
    "\n",
    "extensions['proportion'] = extensions['count']/len(filesdf) #Add a proportion col"
   ]
  },
  {
   "cell_type": "code",
   "execution_count": 74,
   "id": "precise-weather",
   "metadata": {},
   "outputs": [
    {
     "data": {
      "text/html": [
       "<div>\n",
       "<style scoped>\n",
       "    .dataframe tbody tr th:only-of-type {\n",
       "        vertical-align: middle;\n",
       "    }\n",
       "\n",
       "    .dataframe tbody tr th {\n",
       "        vertical-align: top;\n",
       "    }\n",
       "\n",
       "    .dataframe thead th {\n",
       "        text-align: right;\n",
       "    }\n",
       "</style>\n",
       "<table border=\"1\" class=\"dataframe\">\n",
       "  <thead>\n",
       "    <tr style=\"text-align: right;\">\n",
       "      <th></th>\n",
       "      <th>file_type</th>\n",
       "      <th>count</th>\n",
       "      <th>proportion</th>\n",
       "    </tr>\n",
       "  </thead>\n",
       "  <tbody>\n",
       "    <tr>\n",
       "      <th>0</th>\n",
       "      <td>m</td>\n",
       "      <td>2012</td>\n",
       "      <td>0.149870</td>\n",
       "    </tr>\n",
       "    <tr>\n",
       "      <th>1</th>\n",
       "      <td>zip</td>\n",
       "      <td>1944</td>\n",
       "      <td>0.144804</td>\n",
       "    </tr>\n",
       "    <tr>\n",
       "      <th>2</th>\n",
       "      <td>R</td>\n",
       "      <td>1103</td>\n",
       "      <td>0.082160</td>\n",
       "    </tr>\n",
       "    <tr>\n",
       "      <th>3</th>\n",
       "      <td>xlsx</td>\n",
       "      <td>827</td>\n",
       "      <td>0.061601</td>\n",
       "    </tr>\n",
       "    <tr>\n",
       "      <th>4</th>\n",
       "      <td>py</td>\n",
       "      <td>755</td>\n",
       "      <td>0.056238</td>\n",
       "    </tr>\n",
       "    <tr>\n",
       "      <th>5</th>\n",
       "      <td>txt</td>\n",
       "      <td>584</td>\n",
       "      <td>0.043501</td>\n",
       "    </tr>\n",
       "    <tr>\n",
       "      <th>6</th>\n",
       "      <td>sigml</td>\n",
       "      <td>328</td>\n",
       "      <td>0.024432</td>\n",
       "    </tr>\n",
       "    <tr>\n",
       "      <th>7</th>\n",
       "      <td>csv</td>\n",
       "      <td>307</td>\n",
       "      <td>0.022868</td>\n",
       "    </tr>\n",
       "    <tr>\n",
       "      <th>8</th>\n",
       "      <td>ipynb</td>\n",
       "      <td>256</td>\n",
       "      <td>0.019069</td>\n",
       "    </tr>\n",
       "    <tr>\n",
       "      <th>9</th>\n",
       "      <td>gz</td>\n",
       "      <td>235</td>\n",
       "      <td>0.017505</td>\n",
       "    </tr>\n",
       "    <tr>\n",
       "      <th>10</th>\n",
       "      <td>pdf</td>\n",
       "      <td>215</td>\n",
       "      <td>0.016015</td>\n",
       "    </tr>\n",
       "    <tr>\n",
       "      <th>11</th>\n",
       "      <td>mat</td>\n",
       "      <td>186</td>\n",
       "      <td>0.013855</td>\n",
       "    </tr>\n",
       "    <tr>\n",
       "      <th>12</th>\n",
       "      <td>Rmd</td>\n",
       "      <td>177</td>\n",
       "      <td>0.013184</td>\n",
       "    </tr>\n",
       "    <tr>\n",
       "      <th>13</th>\n",
       "      <td>jpg</td>\n",
       "      <td>140</td>\n",
       "      <td>0.010428</td>\n",
       "    </tr>\n",
       "    <tr>\n",
       "      <th>14</th>\n",
       "      <td>rar</td>\n",
       "      <td>131</td>\n",
       "      <td>0.009758</td>\n",
       "    </tr>\n",
       "    <tr>\n",
       "      <th>15</th>\n",
       "      <td>tsv</td>\n",
       "      <td>129</td>\n",
       "      <td>0.009609</td>\n",
       "    </tr>\n",
       "    <tr>\n",
       "      <th>16</th>\n",
       "      <td>sh</td>\n",
       "      <td>122</td>\n",
       "      <td>0.009088</td>\n",
       "    </tr>\n",
       "    <tr>\n",
       "      <th>17</th>\n",
       "      <td>html</td>\n",
       "      <td>113</td>\n",
       "      <td>0.008417</td>\n",
       "    </tr>\n",
       "    <tr>\n",
       "      <th>18</th>\n",
       "      <td>r</td>\n",
       "      <td>112</td>\n",
       "      <td>0.008343</td>\n",
       "    </tr>\n",
       "    <tr>\n",
       "      <th>19</th>\n",
       "      <td>asv</td>\n",
       "      <td>95</td>\n",
       "      <td>0.007076</td>\n",
       "    </tr>\n",
       "  </tbody>\n",
       "</table>\n",
       "</div>"
      ],
      "text/plain": [
       "   file_type  count  proportion\n",
       "0          m   2012    0.149870\n",
       "1        zip   1944    0.144804\n",
       "2          R   1103    0.082160\n",
       "3       xlsx    827    0.061601\n",
       "4         py    755    0.056238\n",
       "5        txt    584    0.043501\n",
       "6      sigml    328    0.024432\n",
       "7        csv    307    0.022868\n",
       "8      ipynb    256    0.019069\n",
       "9         gz    235    0.017505\n",
       "10       pdf    215    0.016015\n",
       "11       mat    186    0.013855\n",
       "12       Rmd    177    0.013184\n",
       "13       jpg    140    0.010428\n",
       "14       rar    131    0.009758\n",
       "15       tsv    129    0.009609\n",
       "16        sh    122    0.009088\n",
       "17      html    113    0.008417\n",
       "18         r    112    0.008343\n",
       "19       asv     95    0.007076"
      ]
     },
     "execution_count": 74,
     "metadata": {},
     "output_type": "execute_result"
    }
   ],
   "source": [
    "extensions.head(20)"
   ]
  },
  {
   "cell_type": "markdown",
   "id": "human-greece",
   "metadata": {},
   "source": [
    "### References"
   ]
  },
  {
   "cell_type": "code",
   "execution_count": 91,
   "id": "proud-operator",
   "metadata": {},
   "outputs": [
    {
     "data": {
      "text/plain": [
       "0                                      []\n",
       "1                                      []\n",
       "2    [https://doi.org/10.1364/AO..000000]\n",
       "3                                      []\n",
       "4                                      []\n",
       "5                                      []\n",
       "6                                      []\n",
       "7                                      []\n",
       "8                                      []\n",
       "9                                      []\n",
       "Name: references, dtype: object"
      ]
     },
     "execution_count": 91,
     "metadata": {},
     "output_type": "execute_result"
    }
   ],
   "source": [
    "test = df['references'][0:10]\n",
    "test"
   ]
  },
  {
   "cell_type": "code",
   "execution_count": 188,
   "id": "postal-heather",
   "metadata": {},
   "outputs": [
    {
     "name": "stdout",
     "output_type": "stream",
     "text": [
      "1703 items have at least one reference\n"
     ]
    }
   ],
   "source": [
    "#Look in the references field - this is number of ITEMS with at least one reference in references\n",
    "count = 0\n",
    "for r in df['references']:\n",
    "    if len(r) == 0:\n",
    "        count += 1\n",
    "zero_refs = count\n",
    "print(len(df) - count, \"items have at least one reference\")"
   ]
  },
  {
   "cell_type": "markdown",
   "id": "italian-theta",
   "metadata": {},
   "source": [
    "### Github References"
   ]
  },
  {
   "cell_type": "code",
   "execution_count": 129,
   "id": "together-queensland",
   "metadata": {},
   "outputs": [
    {
     "name": "stdout",
     "output_type": "stream",
     "text": [
      "833 items have at least one github reference\n"
     ]
    }
   ],
   "source": [
    "count = 0\n",
    "#Look in the references field - this is number of ITEMS with at least one github reference in references\n",
    "for r in df['references']:\n",
    "    if any('github' in sub for sub in r):\n",
    "        count += 1\n",
    "\n",
    "print(count, \"items have at least one github reference\")"
   ]
  },
  {
   "cell_type": "code",
   "execution_count": 178,
   "id": "secondary-samuel",
   "metadata": {},
   "outputs": [
    {
     "name": "stderr",
     "output_type": "stream",
     "text": [
      "<ipython-input-178-4b6964416d01>:3: SettingWithCopyWarning: \n",
      "A value is trying to be set on a copy of a slice from a DataFrame.\n",
      "Try using .loc[row_indexer,col_indexer] = value instead\n",
      "\n",
      "See the caveats in the documentation: https://pandas.pydata.org/pandas-docs/stable/user_guide/indexing.html#returning-a-view-versus-a-copy\n",
      "  gitref['ref_string'] = [','.join(map(str, l)) for l in gitref['references']]\n"
     ]
    },
    {
     "data": {
      "text/plain": [
       "833"
      ]
     },
     "execution_count": 178,
     "metadata": {},
     "output_type": "execute_result"
    }
   ],
   "source": [
    "#This way creates a dataframe of the acutal items referencing github\n",
    "gitref = df[['item_id','references']]\n",
    "gitref['ref_string'] = [','.join(map(str, l)) for l in gitref['references']]\n",
    "gitref_yes = gitref[gitref['ref_string'].str.contains(\".github\")]\n",
    "len(gitref_yes)"
   ]
  },
  {
   "cell_type": "code",
   "execution_count": 130,
   "id": "final-nickname",
   "metadata": {},
   "outputs": [
    {
     "name": "stdout",
     "output_type": "stream",
     "text": [
      "192 items have at least one github reference\n",
      "Representing 192 records\n"
     ]
    }
   ],
   "source": [
    "#Look in the description field\n",
    "gitdesc = df[df['description'].str.contains(\".github\")]\n",
    "\n",
    "\n",
    "print(len(gitdesc), \"items have at least one github reference\")\n",
    "print('Representing',len(gitdesc['item_id'].unique()),'records')"
   ]
  },
  {
   "cell_type": "code",
   "execution_count": 179,
   "id": "compound-small",
   "metadata": {},
   "outputs": [
    {
     "data": {
      "text/plain": [
       "93"
      ]
     },
     "execution_count": 179,
     "metadata": {},
     "output_type": "execute_result"
    }
   ],
   "source": [
    "#Okay, how many records wtih github in description don't have a reference?\n",
    "ref_id_list = gitref_yes['item_id'].tolist()\n",
    "desc_id_list = gitdesc['item_id'].tolist()\n",
    "#This next line coverts to sets and returns a list of unique entries from the first list.\n",
    "desc_uniques = list(set(desc_id_list) - set(ref_id_list))\n",
    "len(desc_uniques)"
   ]
  },
  {
   "cell_type": "markdown",
   "id": "polyphonic-finland",
   "metadata": {},
   "source": [
    "#### So a total of  926 (833+93) items have at least one .github link in either the description or references"
   ]
  },
  {
   "cell_type": "code",
   "execution_count": 192,
   "id": "behavioral-morris",
   "metadata": {},
   "outputs": [
    {
     "name": "stdout",
     "output_type": "stream",
     "text": [
      "0.3425181013676589 proportion of items with at least one reference\n",
      "0.4891368173810922 proportion of references that contain github\n",
      "0.18624296057924378 proportion of items with at least one github reference\n"
     ]
    }
   ],
   "source": [
    "print(1-(zero_refs/len(df)),'proportion of items with at least one reference')\n",
    "print(len(gitref_yes)/(len(df)-zero_refs),'proportion of references that contain github')\n",
    "print((len(desc_uniques)+len(gitref_yes))/len(df),'proportion of items with at least one github reference')"
   ]
  },
  {
   "cell_type": "code",
   "execution_count": 180,
   "id": "recreational-string",
   "metadata": {},
   "outputs": [
    {
     "data": {
      "text/plain": [
       "4972"
      ]
     },
     "execution_count": 180,
     "metadata": {},
     "output_type": "execute_result"
    }
   ],
   "source": [
    "len(df)"
   ]
  },
  {
   "cell_type": "markdown",
   "id": "constant-joshua",
   "metadata": {},
   "source": [
    "### What are the common domains in references?"
   ]
  },
  {
   "cell_type": "code",
   "execution_count": 46,
   "id": "another-message",
   "metadata": {},
   "outputs": [],
   "source": [
    "with open(\"full_records-2023-06-02.json\", \"r\", encoding='utf8') as read_file: #Replace this with the filename of your choice\n",
    "    item_metadata = json.load(read_file)"
   ]
  },
  {
   "cell_type": "code",
   "execution_count": 181,
   "id": "dying-appendix",
   "metadata": {},
   "outputs": [
    {
     "data": {
      "text/plain": [
       "372"
      ]
     },
     "execution_count": 181,
     "metadata": {},
     "output_type": "execute_result"
    }
   ],
   "source": [
    "#Look at the institutions represented\n",
    "url = []\n",
    "for s in item_metadata:\n",
    "    if len(s['references']) > 0:\n",
    "        for r in s['references']:\n",
    "            url.append(r[8:14])\n",
    "\n",
    "unique_domains = Counter(url)\n",
    "len(unique_domains)"
   ]
  },
  {
   "cell_type": "code",
   "execution_count": 183,
   "id": "disciplinary-snake",
   "metadata": {},
   "outputs": [
    {
     "data": {
      "text/plain": [
       "2213"
      ]
     },
     "execution_count": 183,
     "metadata": {},
     "output_type": "execute_result"
    }
   ],
   "source": [
    "len(url)"
   ]
  },
  {
   "cell_type": "code",
   "execution_count": 182,
   "id": "downtown-central",
   "metadata": {},
   "outputs": [
    {
     "data": {
      "text/html": [
       "<div>\n",
       "<style scoped>\n",
       "    .dataframe tbody tr th:only-of-type {\n",
       "        vertical-align: middle;\n",
       "    }\n",
       "\n",
       "    .dataframe tbody tr th {\n",
       "        vertical-align: top;\n",
       "    }\n",
       "\n",
       "    .dataframe thead th {\n",
       "        text-align: right;\n",
       "    }\n",
       "</style>\n",
       "<table border=\"1\" class=\"dataframe\">\n",
       "  <thead>\n",
       "    <tr style=\"text-align: right;\">\n",
       "      <th></th>\n",
       "      <th>url</th>\n",
       "      <th>count</th>\n",
       "    </tr>\n",
       "  </thead>\n",
       "  <tbody>\n",
       "    <tr>\n",
       "      <th>1</th>\n",
       "      <td>github</td>\n",
       "      <td>827</td>\n",
       "    </tr>\n",
       "    <tr>\n",
       "      <th>0</th>\n",
       "      <td>doi.or</td>\n",
       "      <td>517</td>\n",
       "    </tr>\n",
       "    <tr>\n",
       "      <th>46</th>\n",
       "      <td>x.doi.</td>\n",
       "      <td>68</td>\n",
       "    </tr>\n",
       "    <tr>\n",
       "      <th>10</th>\n",
       "      <td>arxiv.</td>\n",
       "      <td>34</td>\n",
       "    </tr>\n",
       "    <tr>\n",
       "      <th>5</th>\n",
       "      <td>gitlab</td>\n",
       "      <td>30</td>\n",
       "    </tr>\n",
       "    <tr>\n",
       "      <th>345</th>\n",
       "      <td>/RG.2.</td>\n",
       "      <td>20</td>\n",
       "    </tr>\n",
       "    <tr>\n",
       "      <th>215</th>\n",
       "      <td>dx.doi</td>\n",
       "      <td>14</td>\n",
       "    </tr>\n",
       "    <tr>\n",
       "      <th>111</th>\n",
       "      <td>rxiv.o</td>\n",
       "      <td>14</td>\n",
       "    </tr>\n",
       "    <tr>\n",
       "      <th>255</th>\n",
       "      <td>theses</td>\n",
       "      <td>12</td>\n",
       "    </tr>\n",
       "    <tr>\n",
       "      <th>156</th>\n",
       "      <td>uelcyc</td>\n",
       "      <td>12</td>\n",
       "    </tr>\n",
       "  </tbody>\n",
       "</table>\n",
       "</div>"
      ],
      "text/plain": [
       "        url  count\n",
       "1    github    827\n",
       "0    doi.or    517\n",
       "46   x.doi.     68\n",
       "10   arxiv.     34\n",
       "5    gitlab     30\n",
       "345  /RG.2.     20\n",
       "215  dx.doi     14\n",
       "111  rxiv.o     14\n",
       "255  theses     12\n",
       "156  uelcyc     12"
      ]
     },
     "execution_count": 182,
     "metadata": {},
     "output_type": "execute_result"
    }
   ],
   "source": [
    "#I think this is off by 6 because there are 6 github urls that don't perfeclty align with the https://github.com url\n",
    "refs = pd.DataFrame.from_dict(unique_domains, orient='index').reset_index().rename(\n",
    "           columns={'index': 'url', 0: 'count'})\n",
    "refs = refs.sort_values(by='count', ascending=False)\n",
    "refs.head(10)"
   ]
  },
  {
   "cell_type": "markdown",
   "id": "polar-niger",
   "metadata": {},
   "source": [
    "### References to a paper"
   ]
  },
  {
   "cell_type": "code",
   "execution_count": 19,
   "id": "looking-reception",
   "metadata": {},
   "outputs": [
    {
     "name": "stdout",
     "output_type": "stream",
     "text": [
      "376\n",
      "0.4973544973544973 proportion items that link to a paper\n"
     ]
    }
   ],
   "source": [
    "#Print the non null refs to a paper for organization records (at the time of this data collection figshare.com records could only access those fields through the API)\n",
    "#coul also use 'related_materials' column and get refs with is_linkout=1\n",
    "print(df[df['origin']=='organization']['resource_doi'].count())\n",
    "\n",
    "print(df[df['origin']=='organization']['resource_doi'].count()/len(df[df['origin']=='organization']), 'proportion items that link to a paper')"
   ]
  },
  {
   "cell_type": "code",
   "execution_count": 29,
   "id": "impressive-forwarding",
   "metadata": {},
   "outputs": [
    {
     "name": "stdout",
     "output_type": "stream",
     "text": [
      "0 items have at least one doi reference\n"
     ]
    }
   ],
   "source": [
    "count = 0\n",
    "#Look in the references field - this is number of ITEMS with at least one github reference in references\n",
    "for r in df['references']:\n",
    "    if any('github' in sub for sub in r):\n",
    "        count += 1\n",
    "\n",
    "print(count, \"items have at least one doi reference\")"
   ]
  },
  {
   "cell_type": "code",
   "execution_count": 36,
   "id": "narrative-belief",
   "metadata": {},
   "outputs": [
    {
     "ename": "TypeError",
     "evalue": "'bool' object is not iterable",
     "output_type": "error",
     "traceback": [
      "\u001b[1;31m---------------------------------------------------------------------------\u001b[0m",
      "\u001b[1;31mTypeError\u001b[0m                                 Traceback (most recent call last)",
      "\u001b[1;32m<ipython-input-36-0bcace4792de>\u001b[0m in \u001b[0;36m<module>\u001b[1;34m\u001b[0m\n\u001b[0;32m      2\u001b[0m \u001b[1;31m#Look in the references field - this is number of ITEMS with at least one github reference in references\u001b[0m\u001b[1;33m\u001b[0m\u001b[1;33m\u001b[0m\u001b[1;33m\u001b[0m\u001b[0m\n\u001b[0;32m      3\u001b[0m \u001b[1;32mfor\u001b[0m \u001b[0mr\u001b[0m \u001b[1;32min\u001b[0m \u001b[0mdf\u001b[0m\u001b[1;33m[\u001b[0m\u001b[1;34m'references'\u001b[0m\u001b[1;33m]\u001b[0m\u001b[1;33m:\u001b[0m\u001b[1;33m\u001b[0m\u001b[1;33m\u001b[0m\u001b[0m\n\u001b[1;32m----> 4\u001b[1;33m     \u001b[1;32mif\u001b[0m \u001b[0many\u001b[0m\u001b[1;33m(\u001b[0m\u001b[1;34m'github'\u001b[0m \u001b[1;32min\u001b[0m \u001b[0mr\u001b[0m\u001b[1;33m)\u001b[0m\u001b[1;33m:\u001b[0m\u001b[1;33m\u001b[0m\u001b[1;33m\u001b[0m\u001b[0m\n\u001b[0m\u001b[0;32m      5\u001b[0m         \u001b[0mcount\u001b[0m \u001b[1;33m+=\u001b[0m \u001b[1;36m1\u001b[0m\u001b[1;33m\u001b[0m\u001b[1;33m\u001b[0m\u001b[0m\n\u001b[0;32m      6\u001b[0m \u001b[1;33m\u001b[0m\u001b[0m\n",
      "\u001b[1;31mTypeError\u001b[0m: 'bool' object is not iterable"
     ]
    }
   ],
   "source": [
    "count = 0\n",
    "#Look in the references field - this is number of ITEMS with at least one github reference in references\n",
    "for r in df['references']:\n",
    "    if any('github' in r):\n",
    "        count += 1\n",
    "\n",
    "print(count, \"items have at least one doi reference\")"
   ]
  },
  {
   "cell_type": "code",
   "execution_count": 39,
   "id": "nervous-retrieval",
   "metadata": {},
   "outputs": [
    {
     "data": {
      "text/plain": [
       "False"
      ]
     },
     "execution_count": 39,
     "metadata": {},
     "output_type": "execute_result"
    }
   ],
   "source": [
    "any('github' in sub for sub in r)"
   ]
  },
  {
   "cell_type": "code",
   "execution_count": 43,
   "id": "opponent-finding",
   "metadata": {},
   "outputs": [
    {
     "data": {
      "text/plain": [
       "[['[]'],\n",
       " ['[]'],\n",
       " ['[]'],\n",
       " ['[]'],\n",
       " ['[]'],\n",
       " [\"['https://github.com/parsa-git/ADAFEST']\"],\n",
       " [\"['https://github.com/parsa-git/CodART']\"],\n",
       " ['[]'],\n",
       " ['[]'],\n",
       " ['[]'],\n",
       " ['[]'],\n",
       " ['[]'],\n",
       " ['[]'],\n",
       " ['[]'],\n",
       " [\"['https://doi.org/10.21105/joss.02891'\",\n",
       "  \" 'https://learningsimulator.org/'\",\n",
       "  \" 'https://doi.org/10.1016/j.beproc.2023.104893']\"],\n",
       " ['[]'],\n",
       " ['[]'],\n",
       " ['[]'],\n",
       " ['[]'],\n",
       " ['[]']]"
      ]
     },
     "execution_count": 43,
     "metadata": {},
     "output_type": "execute_result"
    }
   ],
   "source": [
    "#This way creates a dataframe of the acutal items referencing github\n",
    "pubref = df[['item_id','references']]\n",
    "#pubref['ref_string'] = [','.join(map(str, l)) for l in pubref['references']]\n",
    "for l in pubref['references']:\n",
    "    list_1.append(l.split(','))\n",
    "#pubref_yes = pubref[pubref['ref_string'].str.contains(\".github\")]\n",
    "#len(pubref_yes)\n",
    "list_1[10:30]"
   ]
  },
  {
   "cell_type": "code",
   "execution_count": 45,
   "id": "double-hawaiian",
   "metadata": {},
   "outputs": [
    {
     "name": "stdout",
     "output_type": "stream",
     "text": [
      "0\n"
     ]
    }
   ],
   "source": [
    "count = 0\n",
    "for l in list_1:\n",
    "    if any('github' in sub for sub in r):\n",
    "        count += 1\n",
    "print(count)\n",
    "    "
   ]
  },
  {
   "cell_type": "code",
   "execution_count": 46,
   "id": "auburn-cheese",
   "metadata": {},
   "outputs": [
    {
     "data": {
      "text/plain": [
       "[\"['https://www.nature.com/articles/ncomms15393']\"]"
      ]
     },
     "execution_count": 46,
     "metadata": {},
     "output_type": "execute_result"
    }
   ],
   "source": [
    "l"
   ]
  },
  {
   "cell_type": "code",
   "execution_count": 40,
   "id": "documented-collector",
   "metadata": {},
   "outputs": [
    {
     "ename": "AttributeError",
     "evalue": "'str' object has no attribute 'tolist'",
     "output_type": "error",
     "traceback": [
      "\u001b[1;31m---------------------------------------------------------------------------\u001b[0m",
      "\u001b[1;31mAttributeError\u001b[0m                            Traceback (most recent call last)",
      "\u001b[1;32m<ipython-input-40-c3e347cc3c7b>\u001b[0m in \u001b[0;36m<module>\u001b[1;34m\u001b[0m\n\u001b[1;32m----> 1\u001b[1;33m \u001b[0mtest2\u001b[0m\u001b[1;33m.\u001b[0m\u001b[0mtolist\u001b[0m\u001b[1;33m(\u001b[0m\u001b[1;33m)\u001b[0m\u001b[1;33m\u001b[0m\u001b[1;33m\u001b[0m\u001b[0m\n\u001b[0m",
      "\u001b[1;31mAttributeError\u001b[0m: 'str' object has no attribute 'tolist'"
     ]
    }
   ],
   "source": [
    "test2.tolist()"
   ]
  },
  {
   "cell_type": "code",
   "execution_count": 35,
   "id": "amateur-kingston",
   "metadata": {},
   "outputs": [
    {
     "data": {
      "text/plain": [
       "str"
      ]
     },
     "execution_count": 35,
     "metadata": {},
     "output_type": "execute_result"
    }
   ],
   "source": [
    "type(test2)"
   ]
  },
  {
   "cell_type": "markdown",
   "id": "every-jumping",
   "metadata": {},
   "source": [
    "### Look at licenses"
   ]
  },
  {
   "cell_type": "code",
   "execution_count": 185,
   "id": "approximate-individual",
   "metadata": {},
   "outputs": [
    {
     "data": {
      "text/html": [
       "<div>\n",
       "<style scoped>\n",
       "    .dataframe tbody tr th:only-of-type {\n",
       "        vertical-align: middle;\n",
       "    }\n",
       "\n",
       "    .dataframe tbody tr th {\n",
       "        vertical-align: top;\n",
       "    }\n",
       "\n",
       "    .dataframe thead th {\n",
       "        text-align: right;\n",
       "    }\n",
       "</style>\n",
       "<table border=\"1\" class=\"dataframe\">\n",
       "  <thead>\n",
       "    <tr style=\"text-align: right;\">\n",
       "      <th></th>\n",
       "      <th>license</th>\n",
       "    </tr>\n",
       "  </thead>\n",
       "  <tbody>\n",
       "    <tr>\n",
       "      <th>{'value': 1, 'name': 'CC BY 4.0', 'url': 'https://creativecommons.org/licenses/by/4.0/'}</th>\n",
       "      <td>2965</td>\n",
       "    </tr>\n",
       "    <tr>\n",
       "      <th>{'value': 3, 'name': 'MIT', 'url': 'https://opensource.org/licenses/MIT'}</th>\n",
       "      <td>1310</td>\n",
       "    </tr>\n",
       "    <tr>\n",
       "      <th>{'value': 6, 'name': 'GPL 3.0+', 'url': 'https://www.gnu.org/licenses/gpl-3.0.html'}</th>\n",
       "      <td>206</td>\n",
       "    </tr>\n",
       "    <tr>\n",
       "      <th>{'value': 2, 'name': 'CC0', 'url': 'https://creativecommons.org/publicdomain/zero/1.0/'}</th>\n",
       "      <td>183</td>\n",
       "    </tr>\n",
       "    <tr>\n",
       "      <th>{'value': 7, 'name': 'Apache 2.0', 'url': 'https://www.apache.org/licenses/LICENSE-2.0.html'}</th>\n",
       "      <td>86</td>\n",
       "    </tr>\n",
       "  </tbody>\n",
       "</table>\n",
       "</div>"
      ],
      "text/plain": [
       "                                                    license\n",
       "{'value': 1, 'name': 'CC BY 4.0', 'url': 'https...     2965\n",
       "{'value': 3, 'name': 'MIT', 'url': 'https://ope...     1310\n",
       "{'value': 6, 'name': 'GPL 3.0+', 'url': 'https:...      206\n",
       "{'value': 2, 'name': 'CC0', 'url': 'https://cre...      183\n",
       "{'value': 7, 'name': 'Apache 2.0', 'url': 'http...       86"
      ]
     },
     "execution_count": 185,
     "metadata": {},
     "output_type": "execute_result"
    }
   ],
   "source": [
    "#Look at license list\n",
    "list_license = df['license'].value_counts()\n",
    "\n",
    "df_license = list_license.to_frame()\n",
    "df_license.head()"
   ]
  },
  {
   "cell_type": "markdown",
   "id": "addressed-norfolk",
   "metadata": {},
   "source": [
    "### A look at tags"
   ]
  },
  {
   "cell_type": "code",
   "execution_count": 186,
   "id": "combined-battle",
   "metadata": {},
   "outputs": [
    {
     "data": {
      "text/html": [
       "<div>\n",
       "<style scoped>\n",
       "    .dataframe tbody tr th:only-of-type {\n",
       "        vertical-align: middle;\n",
       "    }\n",
       "\n",
       "    .dataframe tbody tr th {\n",
       "        vertical-align: top;\n",
       "    }\n",
       "\n",
       "    .dataframe thead th {\n",
       "        text-align: right;\n",
       "    }\n",
       "</style>\n",
       "<table border=\"1\" class=\"dataframe\">\n",
       "  <thead>\n",
       "    <tr style=\"text-align: right;\">\n",
       "      <th></th>\n",
       "      <th>name</th>\n",
       "    </tr>\n",
       "  </thead>\n",
       "  <tbody>\n",
       "    <tr>\n",
       "      <th>Bioinformatics</th>\n",
       "      <td>293</td>\n",
       "    </tr>\n",
       "    <tr>\n",
       "      <th>Computer Software</th>\n",
       "      <td>254</td>\n",
       "    </tr>\n",
       "    <tr>\n",
       "      <th>Computational  Biology</th>\n",
       "      <td>165</td>\n",
       "    </tr>\n",
       "    <tr>\n",
       "      <th>Ecology</th>\n",
       "      <td>149</td>\n",
       "    </tr>\n",
       "    <tr>\n",
       "      <th>Artificial Intelligence and Image Processing</th>\n",
       "      <td>142</td>\n",
       "    </tr>\n",
       "    <tr>\n",
       "      <th>Neuroscience</th>\n",
       "      <td>131</td>\n",
       "    </tr>\n",
       "    <tr>\n",
       "      <th>Programming Languages</th>\n",
       "      <td>129</td>\n",
       "    </tr>\n",
       "    <tr>\n",
       "      <th>Evolutionary Biology</th>\n",
       "      <td>127</td>\n",
       "    </tr>\n",
       "    <tr>\n",
       "      <th>Applied Computer Science</th>\n",
       "      <td>114</td>\n",
       "    </tr>\n",
       "    <tr>\n",
       "      <th>Computer Engineering</th>\n",
       "      <td>101</td>\n",
       "    </tr>\n",
       "    <tr>\n",
       "      <th>Software Engineering</th>\n",
       "      <td>98</td>\n",
       "    </tr>\n",
       "    <tr>\n",
       "      <th>Statistics</th>\n",
       "      <td>98</td>\n",
       "    </tr>\n",
       "    <tr>\n",
       "      <th>image analysis</th>\n",
       "      <td>90</td>\n",
       "    </tr>\n",
       "    <tr>\n",
       "      <th>image processing</th>\n",
       "      <td>89</td>\n",
       "    </tr>\n",
       "    <tr>\n",
       "      <th>computer vision</th>\n",
       "      <td>86</td>\n",
       "    </tr>\n",
       "    <tr>\n",
       "      <th>Bioinformatics Software</th>\n",
       "      <td>79</td>\n",
       "    </tr>\n",
       "    <tr>\n",
       "      <th>R</th>\n",
       "      <td>77</td>\n",
       "    </tr>\n",
       "    <tr>\n",
       "      <th>python</th>\n",
       "      <td>75</td>\n",
       "    </tr>\n",
       "    <tr>\n",
       "      <th>Environmental Science</th>\n",
       "      <td>65</td>\n",
       "    </tr>\n",
       "    <tr>\n",
       "      <th>machine learning</th>\n",
       "      <td>55</td>\n",
       "    </tr>\n",
       "  </tbody>\n",
       "</table>\n",
       "</div>"
      ],
      "text/plain": [
       "                                              name\n",
       "Bioinformatics                                 293\n",
       "Computer Software                              254\n",
       "Computational  Biology                         165\n",
       "Ecology                                        149\n",
       "Artificial Intelligence and Image Processing   142\n",
       "Neuroscience                                   131\n",
       "Programming Languages                          129\n",
       "Evolutionary Biology                           127\n",
       "Applied Computer Science                       114\n",
       "Computer Engineering                           101\n",
       "Software Engineering                            98\n",
       "Statistics                                      98\n",
       "image analysis                                  90\n",
       "image processing                                89\n",
       "computer vision                                 86\n",
       "Bioinformatics Software                         79\n",
       "R                                               77\n",
       "python                                          75\n",
       "Environmental Science                           65\n",
       "machine learning                                55"
      ]
     },
     "execution_count": 186,
     "metadata": {},
     "output_type": "execute_result"
    }
   ],
   "source": [
    "tops = tagsdf['name'].value_counts() #this is a series\n",
    "tops = tops.to_frame()\n",
    "tops.sort_values(by='name', ascending=False)\n",
    "\n",
    "tops.head(20)"
   ]
  },
  {
   "cell_type": "markdown",
   "id": "cordless-consultancy",
   "metadata": {},
   "source": [
    "### Look at categories"
   ]
  },
  {
   "cell_type": "code",
   "execution_count": 187,
   "id": "circular-emergency",
   "metadata": {},
   "outputs": [
    {
     "data": {
      "text/html": [
       "<div>\n",
       "<style scoped>\n",
       "    .dataframe tbody tr th:only-of-type {\n",
       "        vertical-align: middle;\n",
       "    }\n",
       "\n",
       "    .dataframe tbody tr th {\n",
       "        vertical-align: top;\n",
       "    }\n",
       "\n",
       "    .dataframe thead th {\n",
       "        text-align: right;\n",
       "    }\n",
       "</style>\n",
       "<table border=\"1\" class=\"dataframe\">\n",
       "  <thead>\n",
       "    <tr style=\"text-align: right;\">\n",
       "      <th></th>\n",
       "      <th>title</th>\n",
       "    </tr>\n",
       "  </thead>\n",
       "  <tbody>\n",
       "    <tr>\n",
       "      <th>Bioinformatics and computational biology not elsewhere classified</th>\n",
       "      <td>509</td>\n",
       "    </tr>\n",
       "    <tr>\n",
       "      <th>Software engineering not elsewhere classified</th>\n",
       "      <td>371</td>\n",
       "    </tr>\n",
       "    <tr>\n",
       "      <th>Ecology not elsewhere classified</th>\n",
       "      <td>204</td>\n",
       "    </tr>\n",
       "    <tr>\n",
       "      <th>Neurosciences not elsewhere classified</th>\n",
       "      <td>148</td>\n",
       "    </tr>\n",
       "    <tr>\n",
       "      <th>Artificial intelligence not elsewhere classified</th>\n",
       "      <td>148</td>\n",
       "    </tr>\n",
       "    <tr>\n",
       "      <th>Programming languages</th>\n",
       "      <td>140</td>\n",
       "    </tr>\n",
       "    <tr>\n",
       "      <th>Evolutionary biology not elsewhere classified</th>\n",
       "      <td>132</td>\n",
       "    </tr>\n",
       "    <tr>\n",
       "      <th>Applied computing not elsewhere classified</th>\n",
       "      <td>123</td>\n",
       "    </tr>\n",
       "    <tr>\n",
       "      <th>Digital processor architectures</th>\n",
       "      <td>114</td>\n",
       "    </tr>\n",
       "    <tr>\n",
       "      <th>Other information and computing sciences not elsewhere classified</th>\n",
       "      <td>109</td>\n",
       "    </tr>\n",
       "    <tr>\n",
       "      <th>Animal physiology - biophysics</th>\n",
       "      <td>108</td>\n",
       "    </tr>\n",
       "    <tr>\n",
       "      <th>Statistics not elsewhere classified</th>\n",
       "      <td>91</td>\n",
       "    </tr>\n",
       "    <tr>\n",
       "      <th>Applications in life sciences</th>\n",
       "      <td>83</td>\n",
       "    </tr>\n",
       "    <tr>\n",
       "      <th>Human biophysics</th>\n",
       "      <td>78</td>\n",
       "    </tr>\n",
       "    <tr>\n",
       "      <th>Bioinformatic methods development</th>\n",
       "      <td>77</td>\n",
       "    </tr>\n",
       "    <tr>\n",
       "      <th>Other environmental sciences not elsewhere classified</th>\n",
       "      <td>74</td>\n",
       "    </tr>\n",
       "    <tr>\n",
       "      <th>Biological Sciences not elsewhere classified</th>\n",
       "      <td>71</td>\n",
       "    </tr>\n",
       "    <tr>\n",
       "      <th>Community ecology (excl. invasive species ecology)</th>\n",
       "      <td>70</td>\n",
       "    </tr>\n",
       "    <tr>\n",
       "      <th>Genomics</th>\n",
       "      <td>61</td>\n",
       "    </tr>\n",
       "    <tr>\n",
       "      <th>Genetics not elsewhere classified</th>\n",
       "      <td>58</td>\n",
       "    </tr>\n",
       "  </tbody>\n",
       "</table>\n",
       "</div>"
      ],
      "text/plain": [
       "                                                    title\n",
       "Bioinformatics and computational biology not el...    509\n",
       "Software engineering not elsewhere classified         371\n",
       "Ecology not elsewhere classified                      204\n",
       "Neurosciences not elsewhere classified                148\n",
       "Artificial intelligence not elsewhere classified      148\n",
       "Programming languages                                 140\n",
       "Evolutionary biology not elsewhere classified         132\n",
       "Applied computing not elsewhere classified            123\n",
       "Digital processor architectures                       114\n",
       "Other information and computing sciences not el...    109\n",
       "Animal physiology - biophysics                        108\n",
       "Statistics not elsewhere classified                    91\n",
       "Applications in life sciences                          83\n",
       "Human biophysics                                       78\n",
       "Bioinformatic methods development                      77\n",
       "Other environmental sciences not elsewhere clas...     74\n",
       "Biological Sciences not elsewhere classified           71\n",
       "Community ecology (excl. invasive species ecology)     70\n",
       "Genomics                                               61\n",
       "Genetics not elsewhere classified                      58"
      ]
     },
     "execution_count": 187,
     "metadata": {},
     "output_type": "execute_result"
    }
   ],
   "source": [
    "tops = categoriesdf['title'].value_counts() #this is a series\n",
    "tops = tops.to_frame()\n",
    "tops.sort_values(by='title', ascending=False)\n",
    "\n",
    "tops.head(20)"
   ]
  },
  {
   "cell_type": "markdown",
   "id": "medieval-performance",
   "metadata": {},
   "source": [
    "# OLD"
   ]
  },
  {
   "cell_type": "code",
   "execution_count": 74,
   "id": "agreed-fleece",
   "metadata": {},
   "outputs": [
    {
     "data": {
      "text/html": [
       "<div>\n",
       "<style scoped>\n",
       "    .dataframe tbody tr th:only-of-type {\n",
       "        vertical-align: middle;\n",
       "    }\n",
       "\n",
       "    .dataframe tbody tr th {\n",
       "        vertical-align: top;\n",
       "    }\n",
       "\n",
       "    .dataframe thead th {\n",
       "        text-align: right;\n",
       "    }\n",
       "</style>\n",
       "<table border=\"1\" class=\"dataframe\">\n",
       "  <thead>\n",
       "    <tr style=\"text-align: right;\">\n",
       "      <th></th>\n",
       "      <th>custom_fields</th>\n",
       "      <th>figshare_url</th>\n",
       "      <th>description</th>\n",
       "      <th>version</th>\n",
       "      <th>status</th>\n",
       "      <th>size</th>\n",
       "      <th>created_date</th>\n",
       "      <th>modified_date</th>\n",
       "      <th>is_public</th>\n",
       "      <th>is_confidential</th>\n",
       "      <th>...</th>\n",
       "      <th>resource_doi</th>\n",
       "      <th>views</th>\n",
       "      <th>posted</th>\n",
       "      <th>firstOnline</th>\n",
       "      <th>publisherPublication</th>\n",
       "      <th>publisherAcceptance</th>\n",
       "      <th>origin</th>\n",
       "      <th>edited_group_id</th>\n",
       "      <th>year_posted</th>\n",
       "      <th>month_posted</th>\n",
       "    </tr>\n",
       "  </thead>\n",
       "  <tbody>\n",
       "  </tbody>\n",
       "</table>\n",
       "<p>0 rows × 48 columns</p>\n",
       "</div>"
      ],
      "text/plain": [
       "Empty DataFrame\n",
       "Columns: [custom_fields, figshare_url, description, version, status, size, created_date, modified_date, is_public, is_confidential, is_metadata_record, confidential_reason, metadata_reason, license, references, has_linked_file, citation, is_embargoed, embargo_date, embargo_type, embargo_title, embargo_reason, embargo_options, item_id, title, doi, handle, url, published_date, thumb, defined_type, defined_type_name, group_id, url_private_api, url_public_api, url_private_html, url_public_html, resource_title, resource_doi, views, posted, firstOnline, publisherPublication, publisherAcceptance, origin, edited_group_id, year_posted, month_posted]\n",
       "Index: []\n",
       "\n",
       "[0 rows x 48 columns]"
      ]
     },
     "execution_count": 74,
     "metadata": {},
     "output_type": "execute_result"
    }
   ],
   "source": [
    "#Are any missing stats?\n",
    "missing_stats = df[df['views'].isna()]\n",
    "missing_stats.head()"
   ]
  },
  {
   "cell_type": "code",
   "execution_count": null,
   "id": "administrative-aircraft",
   "metadata": {},
   "outputs": [],
   "source": []
  }
 ],
 "metadata": {
  "kernelspec": {
   "display_name": "Python 3",
   "language": "python",
   "name": "python3"
  },
  "language_info": {
   "codemirror_mode": {
    "name": "ipython",
    "version": 3
   },
   "file_extension": ".py",
   "mimetype": "text/x-python",
   "name": "python",
   "nbconvert_exporter": "python",
   "pygments_lexer": "ipython3",
   "version": "3.9.1"
  }
 },
 "nbformat": 4,
 "nbformat_minor": 5
}
