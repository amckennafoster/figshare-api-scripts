{
 "cells": [
  {
   "cell_type": "markdown",
   "metadata": {},
   "source": [
    "# Harvest Thesis and Dissertation Metadata related to data from Figshare\n",
    "\n",
    "Collect 1,000 records each for data, media, and figures that show up in search for \"thesis OR dissertation\"\n",
    "\n",
    "Create summary statistics\n",
    "\n",
    "Create figures"
   ]
  },
  {
   "cell_type": "code",
   "execution_count": 1,
   "metadata": {},
   "outputs": [],
   "source": [
    "#import the required libraries\n",
    "import os\n",
    "import csv\n",
    "from collections import Counter\n",
    "import requests\n",
    "import json as json\n",
    "from pandas.io.json import json_normalize\n",
    "import requests\n",
    "from datetime import datetime\n",
    "import datetime\n",
    "import numpy as np\n",
    "import pandas as pd\n",
    "import matplotlib.pyplot as plt\n",
    "from matplotlib import cm\n",
    "import seaborn as sns\n",
    "import textwrap"
   ]
  },
  {
   "cell_type": "code",
   "execution_count": 2,
   "metadata": {},
   "outputs": [],
   "source": [
    "#Set up variables to use in file naming\n",
    "descriptor='etd-data'\n",
    "downloadDate = datetime.datetime.now()\n"
   ]
  },
  {
   "cell_type": "markdown",
   "metadata": {},
   "source": [
    "# Gather data\n"
   ]
  },
  {
   "cell_type": "markdown",
   "metadata": {},
   "source": [
    "#### Get the json from the Figshare api first by getting list, by default, ordered by relavance"
   ]
  },
  {
   "cell_type": "code",
   "execution_count": 4,
   "metadata": {},
   "outputs": [
    {
     "data": {
      "text/plain": [
       "{'id': 9765182,\n",
       " 'title': 'Dissertation Data.xls',\n",
       " 'doi': '10.6084/m9.figshare.9765182.v1',\n",
       " 'handle': '',\n",
       " 'url': 'https://api.figshare.com/v2/articles/9765182',\n",
       " 'published_date': '2019-09-04T00:36:50Z',\n",
       " 'thumb': '',\n",
       " 'defined_type': 1,\n",
       " 'defined_type_name': 'figure',\n",
       " 'group_id': None,\n",
       " 'url_private_api': 'https://api.figshare.com/v2/account/articles/9765182',\n",
       " 'url_public_api': 'https://api.figshare.com/v2/articles/9765182',\n",
       " 'url_private_html': 'https://figshare.com/account/articles/9765182',\n",
       " 'url_public_html': 'https://figshare.com/articles/figure/Dissertation_Data_xls/9765182',\n",
       " 'timeline': {'posted': '2019-09-04T00:36:50',\n",
       "  'firstOnline': '2019-09-04T00:36:50',\n",
       "  'revision': '2019-09-04T00:36:50'},\n",
       " 'resource_title': '',\n",
       " 'resource_doi': ''}"
      ]
     },
     "execution_count": 4,
     "metadata": {},
     "output_type": "execute_result"
    }
   ],
   "source": [
    "#Get Figures\n",
    "query = '{\"search_for\":\"thesis OR dissertation\", \"item_type\":\"1\",\"page_size\":\"1000\"}' #add more using a comma\n",
    "y = json.loads(query) #Figshare API requires json paramaters\n",
    "response = requests.post('https://api.figshare.com/v2/articles/search', params=y)\n",
    "j=json.loads(response.text) #parse the json into a list named j\n",
    "j[0]"
   ]
  },
  {
   "cell_type": "code",
   "execution_count": 5,
   "metadata": {},
   "outputs": [
    {
     "data": {
      "text/plain": [
       "{'id': 7998137,\n",
       " 'title': 'Preparing for new theses formats and the next generation theses - Webinar',\n",
       " 'doi': '10.6084/m9.figshare.7998137.v1',\n",
       " 'handle': '',\n",
       " 'url': 'https://api.figshare.com/v2/articles/7998137',\n",
       " 'published_date': '2019-04-29T14:46:11Z',\n",
       " 'thumb': 'https://s3-eu-west-1.amazonaws.com/pfigshare-u-previews/14892716/thumb.png',\n",
       " 'defined_type': 2,\n",
       " 'defined_type_name': 'media',\n",
       " 'group_id': None,\n",
       " 'url_private_api': 'https://api.figshare.com/v2/account/articles/7998137',\n",
       " 'url_public_api': 'https://api.figshare.com/v2/articles/7998137',\n",
       " 'url_private_html': 'https://figshare.com/account/articles/7998137',\n",
       " 'url_public_html': 'https://figshare.com/articles/media/Preparing_for_new_theses_formats_and_the_next_generation_theses_-_Webinar/7998137',\n",
       " 'timeline': {'posted': '2019-04-29T14:46:11',\n",
       "  'firstOnline': '2019-04-29T14:46:11',\n",
       "  'revision': '2019-04-29T14:46:11'},\n",
       " 'resource_title': '',\n",
       " 'resource_doi': ''}"
      ]
     },
     "execution_count": 5,
     "metadata": {},
     "output_type": "execute_result"
    }
   ],
   "source": [
    "#Get Media - there are only 600 or so\n",
    "query = '{\"search_for\":\"thesis OR dissertation\", \"item_type\":\"2\",\"page_size\":\"1000\"}' #add more using a comma\n",
    "y = json.loads(query) #Figshare API requires json paramaters\n",
    "response = requests.post('https://api.figshare.com/v2/articles/search', params=y)\n",
    "k=json.loads(response.text) #parse the json into a list named k\n",
    "k[0]"
   ]
  },
  {
   "cell_type": "code",
   "execution_count": 6,
   "metadata": {},
   "outputs": [
    {
     "data": {
      "text/plain": [
       "{'id': 14877765,\n",
       " 'title': 'MRI datasets used in the manuscript: \"An End-to-End AI-Based Framework for Automated Discovery of CEST/MT MR Fingerprinting Acquisition Protocols and Quantitative Deep Reconstruction (AutoCEST) \"',\n",
       " 'doi': '10.6084/m9.figshare.14877765.v1',\n",
       " 'handle': '',\n",
       " 'url': 'https://api.figshare.com/v2/articles/14877765',\n",
       " 'published_date': '2021-07-13T00:53:55Z',\n",
       " 'thumb': '',\n",
       " 'defined_type': 3,\n",
       " 'defined_type_name': 'dataset',\n",
       " 'group_id': None,\n",
       " 'url_private_api': 'https://api.figshare.com/v2/account/articles/14877765',\n",
       " 'url_public_api': 'https://api.figshare.com/v2/articles/14877765',\n",
       " 'url_private_html': 'https://figshare.com/account/articles/14877765',\n",
       " 'url_public_html': 'https://figshare.com/articles/dataset/MRI_datasets_used_in_the_manuscript_An_End-to-End_AI-Based_Framework_for_Automated_Discovery_of_CEST_MT_MR_Fingerprinting_Acquisition_Protocols_and_Quantitative_Deep_Reconstruction_AutoCEST_/14877765',\n",
       " 'timeline': {'posted': '2021-07-13T00:53:55',\n",
       "  'firstOnline': '2021-07-13T00:53:55',\n",
       "  'revision': '2021-07-13T00:53:55'},\n",
       " 'resource_title': '',\n",
       " 'resource_doi': ''}"
      ]
     },
     "execution_count": 6,
     "metadata": {},
     "output_type": "execute_result"
    }
   ],
   "source": [
    "#Get Datasets\n",
    "query = '{\"search_for\":\"thesis OR dissertation\", \"item_type\":\"3\",\"page_size\":\"1000\"}' #add more using a comma\n",
    "y = json.loads(query) #Figshare API requires json paramaters\n",
    "response = requests.post('https://api.figshare.com/v2/articles/search', params=y)\n",
    "l=json.loads(response.text) #parse the json into a list named l\n",
    "l[0]"
   ]
  },
  {
   "cell_type": "code",
   "execution_count": 12,
   "metadata": {},
   "outputs": [],
   "source": [
    "sample = []\n",
    "sample = j + k + l"
   ]
  },
  {
   "cell_type": "code",
   "execution_count": 13,
   "metadata": {},
   "outputs": [],
   "source": [
    "#Save Master File\n",
    "with open('sample-types3000.json', \"w\") as write_file:\n",
    "    json.dump(sample, write_file)"
   ]
  },
  {
   "cell_type": "markdown",
   "metadata": {},
   "source": [
    "#### Get the json from the Figshare api then by getting list ordered descending"
   ]
  },
  {
   "cell_type": "code",
   "execution_count": 29,
   "metadata": {},
   "outputs": [
    {
     "name": "stdout",
     "output_type": "stream",
     "text": [
      "The resulting dataframe has 2606 rows\n"
     ]
    }
   ],
   "source": [
    "# Create a csv file of id, figshare_url, doi, title, firstOnline, group_id (if exists)\n",
    "\n",
    "#This function deals with multiply nested json elements in the csv write line below\n",
    "#https://stackoverflow.com/questions/43491287/elegant-way-to-check-if-a-nested-key-exists-in-a-python-dict\n",
    "def exists(obj, chain):\n",
    "    _key = chain.pop(0)\n",
    "    if _key in obj:\n",
    "        return exists(obj[_key], chain) if chain else obj[_key]\n",
    "\n",
    "#Create csv file\n",
    "metadata=open('sample-types3000.csv', 'w', encoding='utf-8', newline='')\n",
    "#Write header row to csv\n",
    "csv.writer(metadata).writerow(['id','title', 'doi', 'handle', 'article_type','figshare_url','date_posted'])            \n",
    "\n",
    "# Get a custom field if exists:\n",
    "#exists(r['metadata'],['custom_fields','Temporal','Period of Time']), #See the function 'exists' above\n",
    "              \n",
    "for s in sample:\n",
    "    #write the values to the csv file.\n",
    "    csv.writer(metadata).writerow([\n",
    "        s['id'],\n",
    "        s['title'],\n",
    "        s['doi'],\n",
    "        s['handle'],\n",
    "        s['defined_type_name'],\n",
    "        s['url_public_html'],\n",
    "        exists(s['timeline'],['posted'])\n",
    "        ])\n",
    "\n",
    "metadata.close() #Close the output file, release all locks\n",
    "\n",
    "#Open up the same file as a dataframe. Encode cp1252 avoids a utf8 error.\n",
    "dfsample = pd.read_csv('sample-types3000.csv',encoding='utf-8')\n",
    "\n",
    "print('The resulting dataframe has',len(dfsample),'rows')"
   ]
  },
  {
   "cell_type": "markdown",
   "metadata": {},
   "source": [
    "## Cull results to Institutions and figshare.com"
   ]
  },
  {
   "cell_type": "markdown",
   "metadata": {},
   "source": [
    "### Open a previous file"
   ]
  },
  {
   "cell_type": "code",
   "execution_count": 3,
   "metadata": {},
   "outputs": [
    {
     "name": "stdout",
     "output_type": "stream",
     "text": [
      "2606 records\n"
     ]
    }
   ],
   "source": [
    "#Open up the same file for reading\n",
    "with open(\"sample-types3000.json\", \"r\", encoding='utf8') as read_file: #Replace this with the filename of your choice\n",
    "    sample = json.load(read_file)\n",
    "\n",
    "print(len(sample),\"records\")\n",
    "\n"
   ]
  },
  {
   "cell_type": "code",
   "execution_count": 24,
   "metadata": {},
   "outputs": [
    {
     "name": "stdout",
     "output_type": "stream",
     "text": [
      "2606 unique ids\n"
     ]
    }
   ],
   "source": [
    "#Make sure the list is all unique ids\n",
    "listasc = []\n",
    "count = 0\n",
    "for item in sample:\n",
    "    if item not in listasc:\n",
    "        count += 1\n",
    "        listasc.append(item)\n",
    "print(len(listasc),\"unique ids\")"
   ]
  },
  {
   "cell_type": "markdown",
   "metadata": {},
   "source": [
    "## Clean Sample"
   ]
  },
  {
   "cell_type": "code",
   "execution_count": 25,
   "metadata": {
    "scrolled": true
   },
   "outputs": [
    {
     "data": {
      "text/plain": [
       "{'id': 9765182,\n",
       " 'title': 'Dissertation Data.xls',\n",
       " 'doi': '10.6084/m9.figshare.9765182.v1',\n",
       " 'handle': '',\n",
       " 'url': 'https://api.figshare.com/v2/articles/9765182',\n",
       " 'published_date': '2019-09-04T00:36:50Z',\n",
       " 'thumb': '',\n",
       " 'defined_type': 1,\n",
       " 'defined_type_name': 'figure',\n",
       " 'group_id': None,\n",
       " 'url_private_api': 'https://api.figshare.com/v2/account/articles/9765182',\n",
       " 'url_public_api': 'https://api.figshare.com/v2/articles/9765182',\n",
       " 'url_private_html': 'https://figshare.com/account/articles/9765182',\n",
       " 'url_public_html': 'https://figshare.com/articles/figure/Dissertation_Data_xls/9765182',\n",
       " 'timeline': {'posted': '2019-09-04T00:36:50',\n",
       "  'firstOnline': '2019-09-04T00:36:50',\n",
       "  'revision': '2019-09-04T00:36:50'},\n",
       " 'resource_title': '',\n",
       " 'resource_doi': ''}"
      ]
     },
     "execution_count": 25,
     "metadata": {},
     "output_type": "execute_result"
    }
   ],
   "source": [
    "#Look at a basic json record\n",
    "sample[0]"
   ]
  },
  {
   "cell_type": "code",
   "execution_count": 17,
   "metadata": {},
   "outputs": [
    {
     "data": {
      "text/plain": [
       "Counter({'10.608': 707,\n",
       "         '10.261': 16,\n",
       "         '10.137': 546,\n",
       "         '10.338': 727,\n",
       "         '10.528': 22,\n",
       "         '10.157': 7,\n",
       "         '10.170': 13,\n",
       "         '': 43,\n",
       "         '10.253': 58,\n",
       "         '10.259': 14,\n",
       "         '10.254': 38,\n",
       "         '10.176': 21,\n",
       "         '10.233': 1,\n",
       "         '10.422': 8,\n",
       "         '10.102': 213,\n",
       "         '10.219': 18,\n",
       "         '10.178': 18,\n",
       "         '10.118': 5,\n",
       "         '10.506': 2,\n",
       "         '10.220': 1,\n",
       "         '10.136': 21,\n",
       "         '10.151': 28,\n",
       "         '10.115': 1,\n",
       "         '10.236': 2,\n",
       "         '10.412': 72,\n",
       "         '10.729': 1,\n",
       "         '10.552': 3})"
      ]
     },
     "execution_count": 17,
     "metadata": {},
     "output_type": "execute_result"
    }
   ],
   "source": [
    "#Look at the prefixes represented\n",
    "prefix = []\n",
    "for s in sample:\n",
    "    prefix.append(s['doi'][0:6])\n",
    "\n",
    "unique_domains = Counter(prefix) #This uses the collections package\n",
    "\n",
    "unique_domains"
   ]
  },
  {
   "cell_type": "code",
   "execution_count": 28,
   "metadata": {},
   "outputs": [
    {
     "data": {
      "text/plain": [
       "Counter({'figshare.com/a': 501,\n",
       "         'melbourne.figs': 12,\n",
       "         'auckland.figsh': 10,\n",
       "         'plos.figshare.': 546,\n",
       "         'frontiersin.fi': 727,\n",
       "         'adisjournals.f': 37,\n",
       "         'zenodo.figshar': 22,\n",
       "         'uwyo.figshare.': 7,\n",
       "         'scielo.figshar': 55,\n",
       "         'repository.lbo': 34,\n",
       "         'indigo.uic.edu': 19,\n",
       "         'springernature': 50,\n",
       "         'zivahub.uct.ac': 37,\n",
       "         'adelaide.figsh': 15,\n",
       "         'researchdata.u': 3,\n",
       "         'iop.figshare.c': 2,\n",
       "         'diabetesjourna': 1,\n",
       "         'datahub.hku.hk': 23,\n",
       "         'leicester.figs': 9,\n",
       "         'bridges.monash': 6,\n",
       "         'future-science': 3,\n",
       "         'acs.figshare.c': 213,\n",
       "         'uvaauas.figsha': 4,\n",
       "         'figshare.edgeh': 2,\n",
       "         'salford.figsha': 2,\n",
       "         'kilthub.cmu.ed': 5,\n",
       "         'dryad.figshare': 2,\n",
       "         'osapublishing.': 37,\n",
       "         'ordo.open.ac.u': 14,\n",
       "         'visualiseyourt': 2,\n",
       "         'cqu.figshare.c': 3,\n",
       "         'karger.figshar': 1,\n",
       "         'mdx.figshare.c': 1,\n",
       "         'data.bathspa.a': 13,\n",
       "         'tandf.figshare': 26,\n",
       "         'rs.figshare.co': 14,\n",
       "         'figshare.shef.': 28,\n",
       "         'sage.figshare.': 4,\n",
       "         'ctsnet.figshar': 3,\n",
       "         'data.dtu.dk/ar': 1,\n",
       "         'cord.cranfield': 3,\n",
       "         'federation.fig': 1,\n",
       "         'acquire.cqu.ed': 2,\n",
       "         'asha.figshare.': 1,\n",
       "         'figshare.arts.': 2,\n",
       "         'kikapu.uwc.ac.': 1,\n",
       "         '4tu.figshare.c': 35,\n",
       "         'data.4tu.nl/ar': 37,\n",
       "         'researchdata.s': 4,\n",
       "         'mendeley.figsh': 12,\n",
       "         'dayta.nwu.ac.z': 1,\n",
       "         'opal.latrobe.e': 3,\n",
       "         'gsajournals.fi': 2,\n",
       "         'unisa.figshare': 2,\n",
       "         'data.lincoln.a': 1,\n",
       "         'data.lib.vt.ed': 1,\n",
       "         'uu.figshare.co': 1,\n",
       "         'rdr.ucl.ac.uk/': 3})"
      ]
     },
     "execution_count": 28,
     "metadata": {},
     "output_type": "execute_result"
    }
   ],
   "source": [
    "#Look at the institutions represented\n",
    "url = []\n",
    "for s in sample:\n",
    "    url.append(s['url_public_html'][8:22])\n",
    "\n",
    "unique_domains = Counter(url)\n",
    "unique_domains"
   ]
  },
  {
   "cell_type": "code",
   "execution_count": 43,
   "metadata": {},
   "outputs": [],
   "source": [
    "dfsample = pd.read_csv('sample-types3000.csv',encoding='utf-8')"
   ]
  },
  {
   "cell_type": "code",
   "execution_count": 44,
   "metadata": {},
   "outputs": [
    {
     "name": "stdout",
     "output_type": "stream",
     "text": [
      "The resulting dataframe has 2606 rows\n",
      "The resulting dataframe has 2598 rows\n",
      "The resulting dataframe has 2596 rows\n",
      "The resulting dataframe has 2570 rows\n",
      "The resulting dataframe has 1844 rows\n",
      "The resulting dataframe has 1807 rows\n",
      "The resulting dataframe has 1785 rows\n",
      "The resulting dataframe has 1735 rows\n",
      "The resulting dataframe has 1698 rows\n",
      "The resulting dataframe has 1695 rows\n",
      "The resulting dataframe has 1683 rows\n",
      "The resulting dataframe has 1681 rows\n",
      "The resulting dataframe has 1667 rows\n",
      "The resulting dataframe has 1454 rows\n",
      "The resulting dataframe has 1454 rows\n",
      "The resulting dataframe has 1453 rows\n",
      "The resulting dataframe has 1450 rows\n",
      "The resulting dataframe has 1448 rows\n",
      "The resulting dataframe has 1447 rows\n"
     ]
    }
   ],
   "source": [
    "#Remove non academic institution domains in the dataframe\n",
    "\n",
    "#Remove journal.pone\n",
    "dfsample = dfsample[~dfsample.figshare_url.str.contains(\"journal.pone\", na=False)]\n",
    "print('The resulting dataframe has',len(dfsample),'rows')\n",
    "\n",
    "#Remove sage\n",
    "dfsample = dfsample[~dfsample.figshare_url.str.contains(\"sage\", na=False)]\n",
    "print('The resulting dataframe has',len(dfsample),'rows')\n",
    "\n",
    "#Remove dryad\n",
    "dfsample = dfsample[~dfsample.figshare_url.str.contains(\"dryad\", na=False)]\n",
    "print('The resulting dataframe has',len(dfsample),'rows')\n",
    "\n",
    "#Remove tandf\n",
    "dfsample = dfsample[~dfsample.figshare_url.str.contains(\"tandf\", na=False)]\n",
    "print('The resulting dataframe has',len(dfsample),'rows')\n",
    "\n",
    "#Remove frontiersin\n",
    "dfsample = dfsample[~dfsample.figshare_url.str.contains(\"frontiersin\", na=False)]\n",
    "print('The resulting dataframe has',len(dfsample),'rows')\n",
    "\n",
    "#Remove frontiersin\n",
    "dfsample = dfsample[~dfsample.figshare_url.str.contains(\"adisjournals\", na=False)]\n",
    "print('The resulting dataframe has',len(dfsample),'rows')\n",
    "\n",
    "#Remove zenodo\n",
    "dfsample = dfsample[~dfsample.figshare_url.str.contains(\"zenodo\", na=False)]\n",
    "print('The resulting dataframe has',len(dfsample),'rows')\n",
    "\n",
    "#Remove springernature\n",
    "dfsample = dfsample[~dfsample.figshare_url.str.contains(\"springernature\", na=False)]\n",
    "print('The resulting dataframe has',len(dfsample),'rows')\n",
    "\n",
    "#Remove osapublishing\n",
    "dfsample = dfsample[~dfsample.figshare_url.str.contains(\"osapublishing\", na=False)]\n",
    "print('The resulting dataframe has',len(dfsample),'rows')\n",
    "\n",
    "#Remove ctsnet\n",
    "dfsample = dfsample[~dfsample.figshare_url.str.contains(\"ctsnet\", na=False)]\n",
    "print('The resulting dataframe has',len(dfsample),'rows')\n",
    "\n",
    "#Remove mendeley\n",
    "dfsample = dfsample[~dfsample.figshare_url.str.contains(\"mendeley\", na=False)]\n",
    "print('The resulting dataframe has',len(dfsample),'rows')\n",
    "\n",
    "#Remove iop.fig\n",
    "dfsample = dfsample[~dfsample.figshare_url.str.contains(\"iop.figshare\", na=False)]\n",
    "print('The resulting dataframe has',len(dfsample),'rows')\n",
    "\n",
    "#Remove rs.figshare\n",
    "dfsample = dfsample[~dfsample.figshare_url.str.contains(\"rs.figshare\", na=False)]\n",
    "print('The resulting dataframe has',len(dfsample),'rows')\n",
    "\n",
    "#Remove acs\n",
    "dfsample = dfsample[~dfsample.doi.str.contains(\"10.1021\", na=False)]\n",
    "print('The resulting dataframe has',len(dfsample),'rows')\n",
    "\n",
    "#Remove frontiers\n",
    "dfsample = dfsample[~dfsample.doi.str.contains(\"10.3389\", na=False)]\n",
    "print('The resulting dataframe has',len(dfsample),'rows')\n",
    "\n",
    "#Remove plos doi\n",
    "dfsample = dfsample[~dfsample.doi.str.contains(\"10.1371\", na=False)]\n",
    "print('The resulting dataframe has',len(dfsample),'rows')\n",
    "\n",
    "#Remove diabetesjourna\n",
    "dfsample = dfsample[~dfsample.figshare_url.str.contains(\"diabetesjourna\", na=False)]\n",
    "print('The resulting dataframe has',len(dfsample),'rows')\n",
    "\n",
    "\n",
    "#Remove future-science\n",
    "dfsample = dfsample[~dfsample.figshare_url.str.contains(\"future-science\", na=False)]\n",
    "print('The resulting dataframe has',len(dfsample),'rows')\n",
    "\n",
    "\n",
    "#Remove gsajournals\n",
    "dfsample = dfsample[~dfsample.figshare_url.str.contains(\"gsajournals\", na=False)]\n",
    "print('The resulting dataframe has',len(dfsample),'rows')\n",
    "\n",
    "#Remove asha.figshare\n",
    "dfsample = dfsample[~dfsample.figshare_url.str.contains(\"asha.figshare\", na=False)]\n",
    "print('The resulting dataframe has',len(dfsample),'rows')\n",
    "\n",
    "#Remove scielo -- added this after the fact and haven't tested\n",
    "dfsample = dfsample[~dfsample.figshare_url.str.contains(\"scielo\", na=False)]\n",
    "print('The resulting dataframe has',len(dfsample),'rows')"
   ]
  },
  {
   "cell_type": "code",
   "execution_count": 45,
   "metadata": {},
   "outputs": [],
   "source": [
    "#Save to CSV\n",
    "dfsample.to_csv('sample-pared.csv', index = False, header=True)"
   ]
  },
  {
   "cell_type": "markdown",
   "metadata": {},
   "source": [
    "## Get Detailed Metadata"
   ]
  },
  {
   "cell_type": "code",
   "execution_count": 47,
   "metadata": {},
   "outputs": [
    {
     "name": "stdout",
     "output_type": "stream",
     "text": [
      "The list has 1447 entries\n"
     ]
    }
   ],
   "source": [
    "#Get list of ids\n",
    "sampleid = dfsample['id']\n",
    "sampleid = sampleid.tolist()\n",
    "sampleid = [str(x) for x in sampleid] #convert to strings\n",
    "print('The list has',len(sampleid),'entries')"
   ]
  },
  {
   "cell_type": "code",
   "execution_count": 50,
   "metadata": {},
   "outputs": [
    {
     "name": "stdout",
     "output_type": "stream",
     "text": [
      "The resulting dataframe has 1447  rows\n"
     ]
    }
   ],
   "source": [
    "# Create a csv file, use an API to gather data, reopen the csv as a dataframe\n",
    "#This takes 2 hours\n",
    "\n",
    "#This function deals with multiply nested json elements in the csv write line below\n",
    "#https://stackoverflow.com/questions/43491287/elegant-way-to-check-if-a-nested-key-exists-in-a-python-dict\n",
    "def exists(obj, chain):\n",
    "    _key = chain.pop(0)\n",
    "    if _key in obj:\n",
    "        return exists(obj[_key], chain) if chain else obj[_key]\n",
    "\n",
    "#Create csv file\n",
    "metadata=open(descriptor+'-fullMETADATA'+str(datetime.datetime.now().strftime(\"%Y-%m-%d\"))+'.csv', 'w', encoding='utf-8', newline='')\n",
    "#Write header row to csv\n",
    "csv.writer(metadata).writerow(['id','description','is_embargoed','license','is_metadata_record','published_date','resource_doi','count_categories','count_references','count_tags'])\n",
    "\n",
    "#This is what one json record looks like: https://api.figshare.com/v2/articles/14182685             \n",
    "                      \n",
    "              \n",
    "for l in sampleid:\n",
    "    s=requests.get('https://api.figshare.com/v2/articles/'+l)\n",
    "    r=json.loads(s.text)\n",
    "    \n",
    "    #write the values to the csv file. Dates in json files are seconds from jan 1 1970 so datetime.datetime.fromtimestamp converts\n",
    "    csv.writer(metadata).writerow([\n",
    "        r['id'],\n",
    "        r.get('description'), #For any of these .get(), adding \",'N/A'\" will fill the null cells with 'N/A'. However, metadata assessment counts non nulls\n",
    "        r.get('is_embargoed'),\n",
    "        exists(r['license'],['name']),\n",
    "        r.get('is_metadata_record'),\n",
    "        r.get('published_date'),\n",
    "        exists(r,['resource_doi']) if exists(r,['resource_doi']) !=None else 0,\n",
    "        len(exists(r,['categories'])) if exists(r,['categories'])!=None else 0,\n",
    "        len(exists(r,['references'])) if exists(r,['references'])!=None else 0,\n",
    "        len(exists(r,['tags'])) if exists(r,['tags'])!=None else 0]) #write one line to csv file\n",
    "    \n",
    "metadata.close() #Close the output file, release all locks\n",
    "\n",
    "#Open up the same file as a dataframe. Encode cp1252 avoids a utf8 error.\n",
    "dffull = pd.read_csv(descriptor+'-fullMETADATA'+str(datetime.datetime.now().strftime(\"%Y-%m-%d\"))+'.csv',encoding='utf8')\n",
    "\n",
    "print('The resulting dataframe has',len(dffull),' rows')"
   ]
  },
  {
   "cell_type": "markdown",
   "metadata": {},
   "source": [
    "## Get Stats"
   ]
  },
  {
   "cell_type": "code",
   "execution_count": 51,
   "metadata": {},
   "outputs": [
    {
     "name": "stdout",
     "output_type": "stream",
     "text": [
      "The resulting dataframe has 1447  rows\n"
     ]
    }
   ],
   "source": [
    "# Create a csv file, use an API to gather data, reopen the csv as a dataframe\n",
    "#This takes about 3.25 hours.\n",
    "#This function deals with multiply nested json elements in the csv write line below\n",
    "#https://stackoverflow.com/questions/43491287/elegant-way-to-check-if-a-nested-key-exists-in-a-python-dict\n",
    "def exists(obj, chain):\n",
    "    _key = chain.pop(0)\n",
    "    if _key in obj:\n",
    "        return exists(obj[_key], chain) if chain else obj[_key]\n",
    "\n",
    "#Create csv file\n",
    "metadata=open(descriptor+'-stats'+str(datetime.datetime.now().strftime(\"%Y-%m-%d\"))+'.csv', 'w', newline='')\n",
    "#Write header row to csv\n",
    "csv.writer(metadata).writerow(['id','views','downloads'])            \n",
    "\n",
    "            \n",
    "for l in sampleid:\n",
    "    s=requests.get('https://stats.figshare.com/total/views/article/'+l)\n",
    "    r=json.loads(s.text)\n",
    "    t=requests.get('https://stats.figshare.com/total/downloads/article/'+l)\n",
    "    q=json.loads(t.text)\n",
    "    \n",
    "    #write the values to the csv file. Dates in json files are seconds from jan 1 1970 so datetime.datetime.fromtimestamp converts\n",
    "    csv.writer(metadata).writerow([\n",
    "        l,\n",
    "        r.get('totals'), #For any of these .get(), adding \",'N/A'\" will fill the null cells with 'N/A'. However, metadata assessment counts non nulls\n",
    "        q.get('totals')]) \n",
    "    \n",
    "    \n",
    "metadata.close() #Close the output file, release all locks\n",
    "\n",
    "#Open up the same file as a dataframe. Encode cp1252 avoids a utf8 error.\n",
    "dfstats = pd.read_csv(descriptor+'-stats'+str(datetime.datetime.now().strftime(\"%Y-%m-%d\"))+'.csv',encoding='utf8')\n",
    "\n",
    "print('The resulting dataframe has',len(dfstats),' rows')"
   ]
  },
  {
   "cell_type": "markdown",
   "metadata": {},
   "source": [
    "## Combine all data and add a few other things"
   ]
  },
  {
   "cell_type": "code",
   "execution_count": null,
   "metadata": {},
   "outputs": [],
   "source": [
    "#Will need to clean the description column of html tags"
   ]
  },
  {
   "cell_type": "code",
   "execution_count": 3,
   "metadata": {},
   "outputs": [],
   "source": [
    "#Open up an existing file\n",
    "dfsample = pd.read_csv('sample-types3000.csv',encoding='utf-8')\n",
    "dffull = pd.read_csv(descriptor+'-fullMETADATA2021-09-09.csv',encoding='utf-8')\n",
    "dfstats = pd.read_csv(descriptor+'-stats2021-09-09.csv',encoding='utf-8')\n"
   ]
  },
  {
   "cell_type": "code",
   "execution_count": 4,
   "metadata": {
    "scrolled": false
   },
   "outputs": [
    {
     "data": {
      "text/html": [
       "<div>\n",
       "<style scoped>\n",
       "    .dataframe tbody tr th:only-of-type {\n",
       "        vertical-align: middle;\n",
       "    }\n",
       "\n",
       "    .dataframe tbody tr th {\n",
       "        vertical-align: top;\n",
       "    }\n",
       "\n",
       "    .dataframe thead th {\n",
       "        text-align: right;\n",
       "    }\n",
       "</style>\n",
       "<table border=\"1\" class=\"dataframe\">\n",
       "  <thead>\n",
       "    <tr style=\"text-align: right;\">\n",
       "      <th></th>\n",
       "      <th>id</th>\n",
       "      <th>title</th>\n",
       "      <th>doi</th>\n",
       "      <th>handle</th>\n",
       "      <th>article_type</th>\n",
       "      <th>figshare_url</th>\n",
       "      <th>date_posted</th>\n",
       "      <th>description</th>\n",
       "      <th>is_embargoed</th>\n",
       "      <th>license</th>\n",
       "      <th>is_metadata_record</th>\n",
       "      <th>published_date</th>\n",
       "      <th>resource_doi</th>\n",
       "      <th>count_categories</th>\n",
       "      <th>count_references</th>\n",
       "      <th>count_tags</th>\n",
       "      <th>views</th>\n",
       "      <th>downloads</th>\n",
       "    </tr>\n",
       "  </thead>\n",
       "  <tbody>\n",
       "    <tr>\n",
       "      <th>0</th>\n",
       "      <td>9765182</td>\n",
       "      <td>Dissertation Data.xls</td>\n",
       "      <td>10.6084/m9.figshare.9765182.v1</td>\n",
       "      <td>NaN</td>\n",
       "      <td>figure</td>\n",
       "      <td>https://figshare.com/articles/figure/Dissertat...</td>\n",
       "      <td>2019-09-04T00:36:50</td>\n",
       "      <td>Include the NRC sentiment analysis results, ex...</td>\n",
       "      <td>False</td>\n",
       "      <td>MIT</td>\n",
       "      <td>False</td>\n",
       "      <td>2019-09-04T00:36:50Z</td>\n",
       "      <td>0</td>\n",
       "      <td>1</td>\n",
       "      <td>0</td>\n",
       "      <td>1</td>\n",
       "      <td>45</td>\n",
       "      <td>186</td>\n",
       "    </tr>\n",
       "    <tr>\n",
       "      <th>1</th>\n",
       "      <td>7293932</td>\n",
       "      <td>Thesis Converter Checklist</td>\n",
       "      <td>10.6084/m9.figshare.7293932.v1</td>\n",
       "      <td>NaN</td>\n",
       "      <td>figure</td>\n",
       "      <td>https://figshare.com/articles/figure/Thesis_Co...</td>\n",
       "      <td>2018-11-14T20:15:46</td>\n",
       "      <td>&lt;div&gt;This decision-making tool empowers schola...</td>\n",
       "      <td>False</td>\n",
       "      <td>CC BY 4.0</td>\n",
       "      <td>False</td>\n",
       "      <td>2018-11-14T20:15:46Z</td>\n",
       "      <td>0</td>\n",
       "      <td>1</td>\n",
       "      <td>0</td>\n",
       "      <td>5</td>\n",
       "      <td>183</td>\n",
       "      <td>71</td>\n",
       "    </tr>\n",
       "    <tr>\n",
       "      <th>2</th>\n",
       "      <td>13125689</td>\n",
       "      <td>Typology of Thesis</td>\n",
       "      <td>10.26188/13125689.v1</td>\n",
       "      <td>NaN</td>\n",
       "      <td>figure</td>\n",
       "      <td>https://melbourne.figshare.com/articles/figure...</td>\n",
       "      <td>2020-10-22T01:19:14</td>\n",
       "      <td>A topological rendering of a PhD thesis. In th...</td>\n",
       "      <td>False</td>\n",
       "      <td>CC BY 4.0</td>\n",
       "      <td>False</td>\n",
       "      <td>2020-10-22T01:19:14Z</td>\n",
       "      <td>0</td>\n",
       "      <td>3</td>\n",
       "      <td>1</td>\n",
       "      <td>4</td>\n",
       "      <td>92</td>\n",
       "      <td>10</td>\n",
       "    </tr>\n",
       "    <tr>\n",
       "      <th>3</th>\n",
       "      <td>8242967</td>\n",
       "      <td>Manipulations thesis</td>\n",
       "      <td>10.6084/m9.figshare.8242967.v1</td>\n",
       "      <td>NaN</td>\n",
       "      <td>figure</td>\n",
       "      <td>https://figshare.com/articles/figure/Manipulat...</td>\n",
       "      <td>2019-06-07T15:13:02</td>\n",
       "      <td>Manipulations of Master Thesis</td>\n",
       "      <td>False</td>\n",
       "      <td>CC BY 4.0</td>\n",
       "      <td>False</td>\n",
       "      <td>2019-06-07T15:13:02Z</td>\n",
       "      <td>0</td>\n",
       "      <td>1</td>\n",
       "      <td>0</td>\n",
       "      <td>1</td>\n",
       "      <td>70</td>\n",
       "      <td>16</td>\n",
       "    </tr>\n",
       "    <tr>\n",
       "      <th>4</th>\n",
       "      <td>1100487</td>\n",
       "      <td>Cardiac cell model development time line</td>\n",
       "      <td>10.6084/m9.figshare.1100487.v1</td>\n",
       "      <td>NaN</td>\n",
       "      <td>figure</td>\n",
       "      <td>https://auckland.figshare.com/articles/figure/...</td>\n",
       "      <td>2014-07-11T23:13:39</td>\n",
       "      <td>&lt;p&gt;Figure 2 from my PhD thesis showing the tim...</td>\n",
       "      <td>False</td>\n",
       "      <td>CC BY 4.0</td>\n",
       "      <td>False</td>\n",
       "      <td>2014-07-11T23:13:39Z</td>\n",
       "      <td>0</td>\n",
       "      <td>1</td>\n",
       "      <td>0</td>\n",
       "      <td>1</td>\n",
       "      <td>530</td>\n",
       "      <td>209</td>\n",
       "    </tr>\n",
       "  </tbody>\n",
       "</table>\n",
       "</div>"
      ],
      "text/plain": [
       "         id                                     title  \\\n",
       "0   9765182                     Dissertation Data.xls   \n",
       "1   7293932                Thesis Converter Checklist   \n",
       "2  13125689                        Typology of Thesis   \n",
       "3   8242967                      Manipulations thesis   \n",
       "4   1100487  Cardiac cell model development time line   \n",
       "\n",
       "                              doi handle article_type  \\\n",
       "0  10.6084/m9.figshare.9765182.v1    NaN       figure   \n",
       "1  10.6084/m9.figshare.7293932.v1    NaN       figure   \n",
       "2            10.26188/13125689.v1    NaN       figure   \n",
       "3  10.6084/m9.figshare.8242967.v1    NaN       figure   \n",
       "4  10.6084/m9.figshare.1100487.v1    NaN       figure   \n",
       "\n",
       "                                        figshare_url          date_posted  \\\n",
       "0  https://figshare.com/articles/figure/Dissertat...  2019-09-04T00:36:50   \n",
       "1  https://figshare.com/articles/figure/Thesis_Co...  2018-11-14T20:15:46   \n",
       "2  https://melbourne.figshare.com/articles/figure...  2020-10-22T01:19:14   \n",
       "3  https://figshare.com/articles/figure/Manipulat...  2019-06-07T15:13:02   \n",
       "4  https://auckland.figshare.com/articles/figure/...  2014-07-11T23:13:39   \n",
       "\n",
       "                                         description  is_embargoed    license  \\\n",
       "0  Include the NRC sentiment analysis results, ex...         False        MIT   \n",
       "1  <div>This decision-making tool empowers schola...         False  CC BY 4.0   \n",
       "2  A topological rendering of a PhD thesis. In th...         False  CC BY 4.0   \n",
       "3                     Manipulations of Master Thesis         False  CC BY 4.0   \n",
       "4  <p>Figure 2 from my PhD thesis showing the tim...         False  CC BY 4.0   \n",
       "\n",
       "   is_metadata_record        published_date resource_doi  count_categories  \\\n",
       "0               False  2019-09-04T00:36:50Z            0                 1   \n",
       "1               False  2018-11-14T20:15:46Z            0                 1   \n",
       "2               False  2020-10-22T01:19:14Z            0                 3   \n",
       "3               False  2019-06-07T15:13:02Z            0                 1   \n",
       "4               False  2014-07-11T23:13:39Z            0                 1   \n",
       "\n",
       "   count_references  count_tags  views  downloads  \n",
       "0                 0           1     45        186  \n",
       "1                 0           5    183         71  \n",
       "2                 1           4     92         10  \n",
       "3                 0           1     70         16  \n",
       "4                 0           1    530        209  "
      ]
     },
     "execution_count": 4,
     "metadata": {},
     "output_type": "execute_result"
    }
   ],
   "source": [
    "merged1 = dfsample.merge(dffull, how='inner', on='id')\n",
    "merged = merged1.merge(dfstats, how='inner', on='id')\n",
    "merged.head()"
   ]
  },
  {
   "cell_type": "code",
   "execution_count": 66,
   "metadata": {},
   "outputs": [
    {
     "name": "stdout",
     "output_type": "stream",
     "text": [
      "The resulting dataframe has 903 rows\n"
     ]
    }
   ],
   "source": [
    "#Remove plos doi that I missed first time\n",
    "merged = merged[~merged.doi.str.contains(\"10.1371\", na=False)]\n",
    "print('The resulting dataframe has',len(merged),'rows')"
   ]
  },
  {
   "cell_type": "code",
   "execution_count": 69,
   "metadata": {},
   "outputs": [],
   "source": [
    "#Save to CSV\n",
    "merged.to_csv(descriptor+'fullDataset.csv', index = False, header=True)"
   ]
  },
  {
   "cell_type": "code",
   "execution_count": 54,
   "metadata": {},
   "outputs": [],
   "source": [
    "df = merged"
   ]
  },
  {
   "cell_type": "markdown",
   "metadata": {},
   "source": [
    "### Had to add authors, files, and funding\n"
   ]
  },
  {
   "cell_type": "code",
   "execution_count": 5,
   "metadata": {},
   "outputs": [
    {
     "name": "stdout",
     "output_type": "stream",
     "text": [
      "903 records\n"
     ]
    }
   ],
   "source": [
    "#Open up the same file for reading\n",
    "df = pd.read_csv(descriptor+'fullDataset.csv',encoding='utf8')\n",
    "\n",
    "print(len(df),\"records\")"
   ]
  },
  {
   "cell_type": "code",
   "execution_count": 22,
   "metadata": {},
   "outputs": [
    {
     "name": "stdout",
     "output_type": "stream",
     "text": [
      "The list has 903 entries\n"
     ]
    }
   ],
   "source": [
    "#Get list of ids\n",
    "ids = df['id'] \n",
    "ids = ids.tolist() #convert from series to list\n",
    "ids = [str(x) for x in ids] #convert to strings\n",
    "print('The list has',len(ids),'entries')"
   ]
  },
  {
   "cell_type": "code",
   "execution_count": 23,
   "metadata": {},
   "outputs": [
    {
     "name": "stdout",
     "output_type": "stream",
     "text": [
      "The resulting dataframe has 903  rows\n"
     ]
    }
   ],
   "source": [
    "# Create a csv file, use an API to gather data, reopen the csv as a dataframe\n",
    "\n",
    "#This function deals with multiply nested json elements in the csv write line below\n",
    "#https://stackoverflow.com/questions/43491287/elegant-way-to-check-if-a-nested-key-exists-in-a-python-dict\n",
    "def exists(obj, chain):\n",
    "    _key = chain.pop(0)\n",
    "    if _key in obj:\n",
    "        return exists(obj[_key], chain) if chain else obj[_key]\n",
    "\n",
    "#Create csv file\n",
    "metadata=open(descriptor+'-authors-refs.csv', 'w', encoding='utf-8', newline='')\n",
    "#Write header row to csv\n",
    "csv.writer(metadata).writerow(['id','first_author_id','references','files','funders'])\n",
    "                      \n",
    "              \n",
    "for l in ids:\n",
    "    s=requests.get('https://api.figshare.com/v2/articles/'+l)\n",
    "    r=json.loads(s.text)\n",
    "    \n",
    "    #write the values to the csv file. Dates in json files are seconds from jan 1 1970 so datetime.datetime.fromtimestamp converts\n",
    "    csv.writer(metadata).writerow([\n",
    "        r['id'],\n",
    "        r['authors'][0]['id'],\n",
    "        exists(r,['references']),\n",
    "        exists(r,['files']) if exists(r,['files']) !=None else 0,\n",
    "        exists(r,['funding_list']) if exists(r,['funding_list']) !=None else 0]) #write one line to csv file\n",
    "    \n",
    "metadata.close() #Close the output file, release all locks\n",
    "\n",
    "#Open up the same file as a dataframe. Encode cp1252 avoids a utf8 error.\n",
    "dfauth = pd.read_csv(descriptor+'-authors-refs.csv',encoding='utf8')\n",
    "\n",
    "print('The resulting dataframe has',len(dfauth),' rows')"
   ]
  },
  {
   "cell_type": "code",
   "execution_count": 33,
   "metadata": {},
   "outputs": [],
   "source": [
    "#Merge the authors and references with the full dataset\n",
    "merged1 = df.merge(dfauth, how='inner', on='id')"
   ]
  },
  {
   "cell_type": "code",
   "execution_count": 34,
   "metadata": {},
   "outputs": [],
   "source": [
    "#Save to CSV\n",
    "merged1.to_csv(descriptor+'fullDataset-authors.csv', index = False, header=True)"
   ]
  },
  {
   "cell_type": "markdown",
   "metadata": {},
   "source": [
    "### Not all of the files are related to actual theses and dissertations- I manually went through and noted actual ETDs. This reduced the number of records to 709\n",
    "\n",
    "### Then I retrieved and added associated Collection information\n",
    "This information came from a separate data collection effort that looked at Collections with dissertation or thesis in their metadata. I retrieve all the item ids associated with each collection, then add the collection id to the main ETD dataframe through a merge. So any items in the main ETD dataframe that were in a collection examined separately, will have a colleciton id in the collection column."
   ]
  },
  {
   "cell_type": "code",
   "execution_count": 60,
   "metadata": {},
   "outputs": [
    {
     "name": "stdout",
     "output_type": "stream",
     "text": [
      "The resulting dataframe has 407 rows\n"
     ]
    }
   ],
   "source": [
    "#How many items were part of a collection from the Collections dataset\n",
    "collectionids = [\"4840710\",\"2860783\",\"4414730\",\"4957097\",\"4840686\",\"5348480\",\"4134497\",\"4773998\",\"3587228\",\"4073576\",\"5293285\",\"5444463\",\"5107955\",\"3898480\",\"5094803\",\"4663709\",\"4244951\",\"4439804\",\"3703504\",\"4275653\",\"5050019\",\"3860194\",\"5209940\",\"5240456\",\"3715489\",\"4844286\",\"4594961\",\"5281559\",\"4372976\",\"4372982\",\"4372994\",\"4372988\",\"4372991\",\"4372985\",\"4373003\",\"4373000\",\"4105043\",\"5254236\",\"5222183\",\"5002535\",\"5398623\",\"5032340\",\"5065451\",\"5065478\",\"5065454\",\"5065415\",\"5065466\",\"5065544\"]\n",
    "\n",
    "    \n",
    "#Create csv file\n",
    "metadata=open('collection-item-ids.csv', 'w', encoding='utf-8', newline='')\n",
    "#Write header row to csv\n",
    "csv.writer(metadata).writerow(['id','collection'])            \n",
    "              \n",
    "for s in collectionids:\n",
    "    response = requests.get('https://api.figshare.com/v2/collections/'+s+'/articles?page=1&page_size=55')\n",
    "    article=json.loads(response.text)\n",
    "    for t in article:\n",
    "        csv.writer(metadata).writerow([\n",
    "            t['id'],\n",
    "            s #add the collection id\n",
    "            ])\n",
    "\n",
    "metadata.close() #Close the output file, release all locks\n",
    "\n",
    "#Open up the same file as a dataframe. Encode cp1252 avoids a utf8 error.\n",
    "dfcollids = pd.read_csv('collection-item-ids.csv',encoding='utf-8')\n",
    "\n",
    "print('The resulting dataframe has',len(dfcollids),'rows')"
   ]
  },
  {
   "cell_type": "code",
   "execution_count": 61,
   "metadata": {},
   "outputs": [],
   "source": [
    "#Merged with etd-datafullDataset-ETDs-only.csv\n",
    "df = df.merge(dfcollids, how='left', on='id') #use left to keep everything in the main datatable and only add matching ids\n",
    "\n",
    "#Save to CSV\n",
    "df.to_csv(descriptor+'fullDataset-ETDs-with-collection.csv', index = False, header=True)"
   ]
  },
  {
   "cell_type": "markdown",
   "metadata": {},
   "source": [
    "## Analyze ETD only dataset"
   ]
  },
  {
   "cell_type": "code",
   "execution_count": 3,
   "metadata": {},
   "outputs": [
    {
     "name": "stdout",
     "output_type": "stream",
     "text": [
      "709 records\n"
     ]
    }
   ],
   "source": [
    "#Open up the same file as a dataframe. Encode cp1252 avoids a utf8 error.\n",
    "df = pd.read_csv('etd-datafullDataset-ETDs-with-collection.csv',encoding='utf8')\n",
    "df['year_posted'] = pd.DatetimeIndex(df['date_posted']).year\n",
    "\n",
    "#Identify Figshare items from Institution items\n",
    "df['repotype'] = df['figshare_url'].str.contains('https://figshare.com') #True/False if item is on figshare.com\n",
    "df.loc[df['repotype'] == True, 'repotype'] = 'figshare.com' #Change values to make charting easier\n",
    "df.loc[df['repotype'] == False, 'repotype'] = 'Institutional Figshare Repository'\n",
    "\n",
    "print(len(df),\"records\")"
   ]
  },
  {
   "cell_type": "code",
   "execution_count": 29,
   "metadata": {},
   "outputs": [
    {
     "data": {
      "text/plain": [
       "CC BY 4.0                   514\n",
       "CC0                          62\n",
       "CC BY-NC 4.0                 45\n",
       "In Copyright                 35\n",
       "CC BY-NC-ND 4.0              18\n",
       "4TU General Terms of Use     17\n",
       "MIT                           6\n",
       "CC BY-ND 4.0                  3\n",
       "CC BY-SA 4.0                  2\n",
       "Apache 2.0                    2\n",
       "CC BY 3.0 US                  1\n",
       "GPL                           1\n",
       "All Rights Reserved           1\n",
       "CQUniversity General 1.0      1\n",
       "CC BY-NC-SA 4.0               1\n",
       "Name: license, dtype: int64"
      ]
     },
     "execution_count": 29,
     "metadata": {},
     "output_type": "execute_result"
    }
   ],
   "source": [
    "#Look at licenses\n",
    "df['license'].value_counts()"
   ]
  },
  {
   "cell_type": "markdown",
   "metadata": {},
   "source": [
    "### Record Types"
   ]
  },
  {
   "cell_type": "code",
   "execution_count": 30,
   "metadata": {},
   "outputs": [
    {
     "data": {
      "text/plain": [
       "dataset    458\n",
       "figure     128\n",
       "media      123\n",
       "Name: article_type, dtype: int64"
      ]
     },
     "execution_count": 30,
     "metadata": {},
     "output_type": "execute_result"
    }
   ],
   "source": [
    "#Types\n",
    "df['article_type'].value_counts()"
   ]
  },
  {
   "cell_type": "code",
   "execution_count": 6,
   "metadata": {},
   "outputs": [
    {
     "data": {
      "text/plain": [
       "dataset    0.645980\n",
       "figure     0.180536\n",
       "media      0.173484\n",
       "Name: article_type, dtype: float64"
      ]
     },
     "execution_count": 6,
     "metadata": {},
     "output_type": "execute_result"
    }
   ],
   "source": [
    "#Types\n",
    "df['article_type'].value_counts(normalize=True)"
   ]
  },
  {
   "cell_type": "markdown",
   "metadata": {},
   "source": [
    "### Linkbacks"
   ]
  },
  {
   "cell_type": "code",
   "execution_count": 31,
   "metadata": {},
   "outputs": [
    {
     "data": {
      "text/plain": [
       "15"
      ]
     },
     "execution_count": 31,
     "metadata": {},
     "output_type": "execute_result"
    }
   ],
   "source": [
    "#Look at links to publications\n",
    "linkbacks = df['resource_doi'].unique()\n",
    "len(linkbacks)"
   ]
  },
  {
   "cell_type": "markdown",
   "metadata": {},
   "source": [
    "### Authors"
   ]
  },
  {
   "cell_type": "code",
   "execution_count": 8,
   "metadata": {},
   "outputs": [
    {
     "data": {
      "text/plain": [
       "434"
      ]
     },
     "execution_count": 8,
     "metadata": {},
     "output_type": "execute_result"
    }
   ],
   "source": [
    "#Unique first authors\n",
    "author = df['first_author_id'].unique()\n",
    "len(author)"
   ]
  },
  {
   "cell_type": "code",
   "execution_count": 9,
   "metadata": {},
   "outputs": [
    {
     "data": {
      "text/plain": [
       "1     369\n",
       "2      29\n",
       "3      16\n",
       "4       5\n",
       "8       3\n",
       "9       3\n",
       "5       1\n",
       "6       1\n",
       "7       1\n",
       "10      1\n",
       "12      1\n",
       "15      1\n",
       "31      1\n",
       "33      1\n",
       "44      1\n",
       "Name: first_author_id, dtype: int64"
      ]
     },
     "execution_count": 9,
     "metadata": {},
     "output_type": "execute_result"
    }
   ],
   "source": [
    "#Authors - The number of authors with various numbers of items\n",
    "authorcounts = df['first_author_id'].value_counts()\n",
    "authorcounts.value_counts()"
   ]
  },
  {
   "cell_type": "markdown",
   "metadata": {},
   "source": [
    "### Overlap with Collection Analysis"
   ]
  },
  {
   "cell_type": "code",
   "execution_count": 10,
   "metadata": {},
   "outputs": [
    {
     "name": "stdout",
     "output_type": "stream",
     "text": [
      "57  items are in a collection and there are  10  collections represented\n"
     ]
    }
   ],
   "source": [
    "#How many are associated with a collection from the Collections analysis\n",
    "collections = df['collection'].unique()\n",
    "itemswcoll = df['collection'].count()\n",
    "\n",
    "print(itemswcoll,\" items are in a collection and there are \",len(collections),\" collections represented\")"
   ]
  },
  {
   "cell_type": "code",
   "execution_count": 11,
   "metadata": {},
   "outputs": [
    {
     "data": {
      "text/plain": [
       "Counter({'figshare.com/a': 40,\n",
       "         '4tu.figshare.c': 10,\n",
       "         'repository.lbo': 3,\n",
       "         'ordo.open.ac.u': 4})"
      ]
     },
     "execution_count": 11,
     "metadata": {},
     "output_type": "execute_result"
    }
   ],
   "source": [
    "#Are items in collections associated with institutions or figshare.com?\n",
    "dfcoll = df[~df['collection'].isnull()]\n",
    "\n",
    "url = []\n",
    "result = [url.append(s[8:22]) for s in dfcoll['figshare_url']]    \n",
    "unique_coll_domains = Counter(url)\n",
    "unique_coll_domains"
   ]
  },
  {
   "cell_type": "code",
   "execution_count": 12,
   "metadata": {},
   "outputs": [
    {
     "name": "stdout",
     "output_type": "stream",
     "text": [
      "avg views: 394.5909732016925  avg downloads: 108.47390691114245\n"
     ]
    }
   ],
   "source": [
    "d = df['downloads'].mean()\n",
    "v = df['views'].mean()\n",
    "print('avg views:',v,' avg downloads:',d)"
   ]
  },
  {
   "cell_type": "code",
   "execution_count": 13,
   "metadata": {},
   "outputs": [
    {
     "name": "stdout",
     "output_type": "stream",
     "text": [
      "avg refs: 0.37940761636107195  avg categories: 1.994358251057828   avg tags: 5.141043723554302\n"
     ]
    }
   ],
   "source": [
    "r = df['count_references'].mean()\n",
    "c = df['count_categories'].mean()\n",
    "t = df['count_tags'].mean()\n",
    "print('avg refs:',r,' avg categories:',c,'  avg tags:',t)"
   ]
  },
  {
   "cell_type": "code",
   "execution_count": 14,
   "metadata": {},
   "outputs": [
    {
     "name": "stdout",
     "output_type": "stream",
     "text": [
      "average words in title: 8.328631875881523\n"
     ]
    }
   ],
   "source": [
    "#Count words in title\n",
    "titles = df['title']\n",
    "words = []\n",
    "for x in titles:\n",
    "    word_list = x.split()\n",
    "    number_of_words = len(word_list)\n",
    "    words.append(number_of_words)\n",
    "dfwords = pd.DataFrame(words,columns=['word_count'])\n",
    "print('average words in title:',dfwords['word_count'].mean())"
   ]
  },
  {
   "cell_type": "code",
   "execution_count": 15,
   "metadata": {},
   "outputs": [
    {
     "data": {
      "text/plain": [
       "<seaborn.axisgrid.FacetGrid at 0x261313fe970>"
      ]
     },
     "execution_count": 15,
     "metadata": {},
     "output_type": "execute_result"
    },
    {
     "data": {
      "image/png": "[encoded data removed]",
      "text/plain": [
       "<Figure size 432x432 with 1 Axes>"
      ]
     },
     "metadata": {},
     "output_type": "display_data"
    }
   ],
   "source": [
    "#Chart number of words\n",
    "dfwords = df[['title','views','year_posted']].copy()\n",
    "dfwords['words'] = dfwords['title'].str.count(' ') + 1\n",
    "\n",
    "sns.set_theme(style=\"white\")\n",
    "sns.relplot(x=\"words\", y=\"views\",\n",
    "            sizes=(4, 400), alpha=.5, palette=\"muted\",\n",
    "            height=6, data=dfwords)"
   ]
  },
  {
   "cell_type": "code",
   "execution_count": 16,
   "metadata": {},
   "outputs": [
    {
     "data": {
      "text/plain": [
       "<AxesSubplot:xlabel='year_posted', ylabel='words'>"
      ]
     },
     "execution_count": 16,
     "metadata": {},
     "output_type": "execute_result"
    },
    {
     "data": {
      "image/png": "[encoded data removed]",
      "text/plain": [
       "<Figure size 432x288 with 1 Axes>"
      ]
     },
     "metadata": {},
     "output_type": "display_data"
    }
   ],
   "source": [
    "#Chart number of words over time\n",
    "sns.set_theme(style=\"white\")\n",
    "sns.barplot(x=\"year_posted\", y=\"words\",\n",
    "            data=dfwords, color=\"gray\")"
   ]
  },
  {
   "cell_type": "code",
   "execution_count": 17,
   "metadata": {},
   "outputs": [
    {
     "data": {
      "text/plain": [
       "False    676\n",
       "True      33\n",
       "Name: is_embargoed, dtype: int64"
      ]
     },
     "execution_count": 17,
     "metadata": {},
     "output_type": "execute_result"
    }
   ],
   "source": [
    "#Look at embargo\n",
    "df['is_embargoed'].value_counts()"
   ]
  },
  {
   "cell_type": "code",
   "execution_count": 18,
   "metadata": {},
   "outputs": [
    {
     "data": {
      "text/plain": [
       "<seaborn.axisgrid.FacetGrid at 0x261544d8e20>"
      ]
     },
     "execution_count": 18,
     "metadata": {},
     "output_type": "execute_result"
    },
    {
     "data": {
      "image/png": "[encoded data removed]",
      "text/plain": [
       "<Figure size 502.225x432 with 1 Axes>"
      ]
     },
     "metadata": {},
     "output_type": "display_data"
    }
   ],
   "source": [
    "#Plot downloads and tag count with views giving circle sizes\n",
    "#First remove the outliers\n",
    "dfpared = df[df['downloads']<30000]\n",
    "\n",
    "sns.set_theme(style=\"white\")\n",
    "sns.relplot(x=\"count_tags\", y=\"downloads\", size=\"views\",\n",
    "            sizes=(4, 400), alpha=.5, palette=\"muted\",\n",
    "            height=6, data=dfpared)"
   ]
  },
  {
   "cell_type": "code",
   "execution_count": 19,
   "metadata": {},
   "outputs": [
    {
     "data": {
      "text/plain": [
       "<seaborn.axisgrid.FacetGrid at 0x26154543070>"
      ]
     },
     "execution_count": 19,
     "metadata": {},
     "output_type": "execute_result"
    },
    {
     "data": {
      "image/png": "[encoded data removed]",
      "text/plain": [
       "<Figure size 502.225x432 with 1 Axes>"
      ]
     },
     "metadata": {},
     "output_type": "display_data"
    }
   ],
   "source": [
    "#Plot downloads and categories count with views giving circle sizes\n",
    "sns.set_theme(style=\"white\")\n",
    "sns.relplot(x=\"count_categories\", y=\"downloads\", size=\"views\",\n",
    "            sizes=(4, 400), alpha=.5, palette=\"muted\",\n",
    "            height=6, data=df)"
   ]
  },
  {
   "cell_type": "code",
   "execution_count": 20,
   "metadata": {},
   "outputs": [
    {
     "data": {
      "text/html": [
       "<div>\n",
       "<style scoped>\n",
       "    .dataframe tbody tr th:only-of-type {\n",
       "        vertical-align: middle;\n",
       "    }\n",
       "\n",
       "    .dataframe tbody tr th {\n",
       "        vertical-align: top;\n",
       "    }\n",
       "\n",
       "    .dataframe thead th {\n",
       "        text-align: right;\n",
       "    }\n",
       "</style>\n",
       "<table border=\"1\" class=\"dataframe\">\n",
       "  <thead>\n",
       "    <tr style=\"text-align: right;\">\n",
       "      <th></th>\n",
       "      <th>id</th>\n",
       "      <th>title</th>\n",
       "      <th>ETD_confirmed</th>\n",
       "      <th>non english</th>\n",
       "      <th>first_author_id</th>\n",
       "      <th>description</th>\n",
       "      <th>funders(partial)</th>\n",
       "      <th>files</th>\n",
       "      <th>doi</th>\n",
       "      <th>handle</th>\n",
       "      <th>...</th>\n",
       "      <th>count_references</th>\n",
       "      <th>count_tags</th>\n",
       "      <th>views</th>\n",
       "      <th>downloads</th>\n",
       "      <th>references</th>\n",
       "      <th>year</th>\n",
       "      <th>figshare_url</th>\n",
       "      <th>collection</th>\n",
       "      <th>year_posted</th>\n",
       "      <th>repotype</th>\n",
       "    </tr>\n",
       "  </thead>\n",
       "  <tbody>\n",
       "    <tr>\n",
       "      <th>366</th>\n",
       "      <td>5236336</td>\n",
       "      <td>Individual evaluation lists for PhD thesis \"Fi...</td>\n",
       "      <td>PhD</td>\n",
       "      <td>NaN</td>\n",
       "      <td>2754682</td>\n",
       "      <td>These are the criteria lists for individual ev...</td>\n",
       "      <td>NaN</td>\n",
       "      <td>[{'id': 8947891, 'name': 'Zhongwen _ literatur...</td>\n",
       "      <td>10.15131/shef.data.5236336.v1</td>\n",
       "      <td>NaN</td>\n",
       "      <td>...</td>\n",
       "      <td>2</td>\n",
       "      <td>2</td>\n",
       "      <td>717</td>\n",
       "      <td>1987</td>\n",
       "      <td>['http://etheses.whiterose.ac.uk/id/eprint/192...</td>\n",
       "      <td>2018</td>\n",
       "      <td>https://figshare.shef.ac.uk/articles/dataset/I...</td>\n",
       "      <td>NaN</td>\n",
       "      <td>2018</td>\n",
       "      <td>Institutional Figshare Repository</td>\n",
       "    </tr>\n",
       "  </tbody>\n",
       "</table>\n",
       "<p>1 rows × 28 columns</p>\n",
       "</div>"
      ],
      "text/plain": [
       "          id                                              title ETD_confirmed  \\\n",
       "366  5236336  Individual evaluation lists for PhD thesis \"Fi...           PhD   \n",
       "\n",
       "    non english  first_author_id  \\\n",
       "366         NaN          2754682   \n",
       "\n",
       "                                           description funders(partial)  \\\n",
       "366  These are the criteria lists for individual ev...              NaN   \n",
       "\n",
       "                                                 files  \\\n",
       "366  [{'id': 8947891, 'name': 'Zhongwen _ literatur...   \n",
       "\n",
       "                               doi handle  ... count_references count_tags  \\\n",
       "366  10.15131/shef.data.5236336.v1    NaN  ...                2          2   \n",
       "\n",
       "     views downloads                                         references  year  \\\n",
       "366    717      1987  ['http://etheses.whiterose.ac.uk/id/eprint/192...  2018   \n",
       "\n",
       "                                          figshare_url  collection  \\\n",
       "366  https://figshare.shef.ac.uk/articles/dataset/I...         NaN   \n",
       "\n",
       "     year_posted                           repotype  \n",
       "366         2018  Institutional Figshare Repository  \n",
       "\n",
       "[1 rows x 28 columns]"
      ]
     },
     "execution_count": 20,
     "metadata": {},
     "output_type": "execute_result"
    }
   ],
   "source": [
    "#Highest download file!\n",
    "high = df[df['downloads']>1980]\n",
    "high.head()"
   ]
  },
  {
   "cell_type": "code",
   "execution_count": 21,
   "metadata": {},
   "outputs": [
    {
     "data": {
      "text/plain": [
       "Counter({'figshare.com/a': 428,\n",
       "         'auckland.figsh': 10,\n",
       "         'figshare.shef.': 11,\n",
       "         'data.bathspa.a': 13,\n",
       "         'ordo.open.ac.u': 14,\n",
       "         'zivahub.uct.ac': 36,\n",
       "         'melbourne.figs': 12,\n",
       "         'visualiseyourt': 2,\n",
       "         'repository.lbo': 13,\n",
       "         'figshare.arts.': 1,\n",
       "         'data.lincoln.a': 1,\n",
       "         'leicester.figs': 9,\n",
       "         'data.4tu.nl/ar': 37,\n",
       "         'datahub.hku.hk': 21,\n",
       "         'adelaide.figsh': 15,\n",
       "         'indigo.uic.edu': 18,\n",
       "         '4tu.figshare.c': 35,\n",
       "         'uvaauas.figsha': 3,\n",
       "         'researchdata.s': 4,\n",
       "         'opal.latrobe.e': 3,\n",
       "         'data.dtu.dk/ar': 1,\n",
       "         'researchdata.u': 3,\n",
       "         'cord.cranfield': 3,\n",
       "         'bridges.monash': 2,\n",
       "         'figshare.edgeh': 1,\n",
       "         'kilthub.cmu.ed': 2,\n",
       "         'rdr.ucl.ac.uk/': 3,\n",
       "         'unisa.figshare': 2,\n",
       "         'federation.fig': 1,\n",
       "         'uu.figshare.co': 1,\n",
       "         'acquire.cqu.ed': 1,\n",
       "         'dayta.nwu.ac.z': 1,\n",
       "         'data.lib.vt.ed': 1,\n",
       "         'uwyo.figshare.': 1})"
      ]
     },
     "execution_count": 21,
     "metadata": {},
     "output_type": "execute_result"
    }
   ],
   "source": [
    "#Look at the institutions represented\n",
    "url = []\n",
    "\n",
    "result = [url.append(s[8:22]) for s in df['figshare_url']]\n",
    "    \n",
    "unique_domains = Counter(url)\n",
    "unique_domains"
   ]
  },
  {
   "cell_type": "code",
   "execution_count": 32,
   "metadata": {},
   "outputs": [
    {
     "name": "stdout",
     "output_type": "stream",
     "text": [
      "33\n"
     ]
    }
   ],
   "source": [
    "#Total institutions represented\n",
    "print(len(unique_domains) - 1) #There are two 4TU domains"
   ]
  },
  {
   "cell_type": "markdown",
   "metadata": {},
   "source": [
    "## Compare figshare.com and Institutions"
   ]
  },
  {
   "cell_type": "code",
   "execution_count": 73,
   "metadata": {},
   "outputs": [
    {
     "name": "stdout",
     "output_type": "stream",
     "text": [
      "709 records\n"
     ]
    }
   ],
   "source": [
    "#Open up the same file as a dataframe. Encode cp1252 avoids a utf8 error.\n",
    "df = pd.read_csv('etd-datafullDataset-ETDs-with-collection.csv',encoding='utf8')\n",
    "df['year_posted'] = pd.DatetimeIndex(df['date_posted']).year\n",
    "\n",
    "#Identify Figshare items from Institution items\n",
    "df['repotype'] = df['figshare_url'].str.contains('https://figshare.com') #True/False if item is on figshare.com\n",
    "df.loc[df['repotype'] == True, 'repotype'] = 'figshare.com' #Change values to make charting easier\n",
    "df.loc[df['repotype'] == False, 'repotype'] = 'Institutional Figshare Repository'\n",
    "\n",
    "print(len(df),\"records\")"
   ]
  },
  {
   "cell_type": "markdown",
   "metadata": {},
   "source": [
    "### Record Types"
   ]
  },
  {
   "cell_type": "code",
   "execution_count": 33,
   "metadata": {},
   "outputs": [
    {
     "name": "stdout",
     "output_type": "stream",
     "text": [
      "dataset    296\n",
      "figure      86\n",
      "media       46\n",
      "Name: article_type, dtype: int64\n",
      "dataset    162\n",
      "media       77\n",
      "figure      42\n",
      "Name: article_type, dtype: int64\n"
     ]
    }
   ],
   "source": [
    "#Types by repo\n",
    "fig = df[df['repotype'] == 'figshare.com'] #set up the figshare.com dataframe\n",
    "inst = df[df['repotype'] == 'Institutional Figshare Repository'] #set up the institution dataframe\n",
    "print(fig['article_type'].value_counts())\n",
    "print(inst['article_type'].value_counts())"
   ]
  },
  {
   "cell_type": "code",
   "execution_count": 34,
   "metadata": {},
   "outputs": [
    {
     "name": "stdout",
     "output_type": "stream",
     "text": [
      "The distributions are different. p-value= 6.061617867360212e-08 and X= 33.23740800938132\n"
     ]
    }
   ],
   "source": [
    "#Pearson's Chi Square\n",
    "\n",
    "from scipy.stats import chi2_contingency\n",
    "\n",
    "obs = np.array([[297, 86, 46], [162, 42, 77]])\n",
    "\n",
    "#chi2_contingency(obs)\n",
    "\n",
    "g, p, dof, expctd = chi2_contingency(obs)#, lambda_=\"log-likelihood\")\n",
    "\n",
    "#g, p\n",
    "\n",
    "if p<0.007:\n",
    "        print('The distributions are different. p-value=',p,'and X=',g)"
   ]
  },
  {
   "cell_type": "code",
   "execution_count": null,
   "metadata": {},
   "outputs": [],
   "source": [
    "\n",
    "\n",
    "fig, axes = plt.subplots(2, 2, figsize=(18, 10))\n",
    "\n",
    "ax1 = sns.boxplot(ax=axes[0,0], data=dftitle,x=\"year_posted\", y=\"words\", hue='repotype', palette=sns.color_palette(colors, 2),**PROPS, linewidth=0.75)#palette=\"Blues_d\")\n",
    "ax1.set_ylabel('Number of Words', fontsize=axis_label_font)\n",
    "ax1.set(xlabel=None)"
   ]
  },
  {
   "cell_type": "markdown",
   "metadata": {},
   "source": [
    "### Publications over time"
   ]
  },
  {
   "cell_type": "code",
   "execution_count": 30,
   "metadata": {},
   "outputs": [
    {
     "data": {
      "image/png": "[encoded data removed]",
      "text/plain": [
       "<Figure size 720x432 with 1 Axes>"
      ]
     },
     "metadata": {
      "needs_background": "light"
     },
     "output_type": "display_data"
    }
   ],
   "source": [
    "#Chart number of items together\n",
    "yr_posted = df.groupby(by=['repotype','year_posted']).count().reset_index()\n",
    "\n",
    "colors = [\"#FFFFFF\", \"#D9D9D9\"]\n",
    "\n",
    "plt.figure(figsize=(10,6))\n",
    "#ax = plt(figsize=(8, 10))\n",
    "#sns.set_theme(style=\"white\")\n",
    "#plt.setp(ax.patches, linewidth=0.75)\n",
    "ax = sns.barplot(x=\"year_posted\", y=\"doi\", data=yr_posted, hue=\"repotype\", color=\"gray\", palette=sns.color_palette(colors, 2), linewidth=0.75, edgecolor=\".1\")#,palette = 'Blues_d')\n",
    "ax.set_ylabel('Number of records', fontsize=14)\n",
    "ax.set_xlabel('Year Posted', fontsize=14)\n",
    "ax.set_xticklabels(ax.get_xticklabels(), fontsize=14) # rotation=45,ha='right',\n",
    "ax.legend(title_fontsize = 16, loc='upper left', fontsize=14) #title='Repository',\n",
    "\n",
    "#Save Figure\n",
    "plt.savefig('fig1.jpg', dpi=1200, format=\"jpg\")\n"
   ]
  },
  {
   "cell_type": "markdown",
   "metadata": {},
   "source": [
    "#### Caveat: Year posted may be imported during migration and can be older than the repository. Make assumption that most are accurate"
   ]
  },
  {
   "cell_type": "markdown",
   "metadata": {},
   "source": [
    "### Funding\n",
    "The funding info is in json format within the spreadsheet. Need to extract that and then convert back to a spreadsheet"
   ]
  },
  {
   "cell_type": "code",
   "execution_count": 35,
   "metadata": {},
   "outputs": [],
   "source": [
    "#Replace NaN values with empty list so it will work with eval()\n",
    "df['funders'].fillna('[{}]', inplace=True)"
   ]
  },
  {
   "cell_type": "code",
   "execution_count": 36,
   "metadata": {},
   "outputs": [],
   "source": [
    "#[{'id': 18653426, 'title': 'Wenner-Gren Foundation Dissertation Fieldwork Grant', 'grant_code': '', 'funder_name': None, 'is_user_defined': 1}, {'id': 18653429, 'title': 'Wenner-Gren Foundation, the National Science Foundation (DDIG 1232370)', 'grant_code': '', 'funder_name': None, 'is_user_defined': 1}, {'id': 18653432, 'title': 'National Institute of Health (NIH/NIA R01AG024119)', 'grant_code': '', 'funder_name': None, 'is_user_defined': 1}]\n",
    "df_json = df.to_json(orient=\"records\")\n",
    "full_articles = json.loads(df_json)\n"
   ]
  },
  {
   "cell_type": "code",
   "execution_count": 37,
   "metadata": {},
   "outputs": [],
   "source": [
    "funding = []\n",
    "for i in full_articles:\n",
    "    info = {\"itemid\": i['id'], \"repotype\":i['repotype'], \"funding_list\": list(eval(i['funders']))} #eval converts the string to a list\n",
    "    funding.append(info)\n",
    "\n",
    "fundingdf = pd.json_normalize(\n",
    "    funding, \n",
    "    record_path =['funding_list'], \n",
    "    meta=['itemid','repotype']\n",
    ")\n"
   ]
  },
  {
   "cell_type": "code",
   "execution_count": 34,
   "metadata": {},
   "outputs": [],
   "source": [
    "#Save to CSV if you want to take a look\n",
    "fundingdf.to_csv('fundingdf.csv', index = False, header=True)"
   ]
  },
  {
   "cell_type": "code",
   "execution_count": 38,
   "metadata": {},
   "outputs": [
    {
     "name": "stdout",
     "output_type": "stream",
     "text": [
      "<class 'pandas.core.frame.DataFrame'>\n",
      "RangeIndex: 815 entries, 0 to 814\n",
      "Data columns (total 8 columns):\n",
      " #   Column           Non-Null Count  Dtype  \n",
      "---  ------           --------------  -----  \n",
      " 0   id               121 non-null    float64\n",
      " 1   title            121 non-null    object \n",
      " 2   grant_code       121 non-null    object \n",
      " 3   funder_name      8 non-null      object \n",
      " 4   is_user_defined  121 non-null    float64\n",
      " 5   url              8 non-null      object \n",
      " 6   itemid           815 non-null    object \n",
      " 7   repotype         815 non-null    object \n",
      "dtypes: float64(2), object(6)\n",
      "memory usage: 51.1+ KB\n"
     ]
    }
   ],
   "source": [
    "fundingdf.info()"
   ]
  },
  {
   "cell_type": "markdown",
   "metadata": {},
   "source": [
    "#### Analyze funding"
   ]
  },
  {
   "cell_type": "code",
   "execution_count": 39,
   "metadata": {},
   "outputs": [
    {
     "name": "stdout",
     "output_type": "stream",
     "text": [
      "0.030373831775700934 proportion figshare.com records list a funder. Total records with funding: 13\n",
      "0.0071174377224199285 proportion institutional records list a funder. Total records with funding: 2\n"
     ]
    }
   ],
   "source": [
    "#Look listing funders overall\n",
    "fig = df[df['repotype'] == 'figshare.com'] #set up the figshare.com dataframe\n",
    "inst = df[df['repotype'] == 'Institutional Figshare Repository'] #set up the institution dataframe\n",
    "fig_fund = fig[fig['funders']!='[{}]']\n",
    "inst_fund = inst[inst['funders']!='[{}]']\n",
    "percentfig = len(fig_fund)/len(fig)\n",
    "percentinst = len(inst_fund)/len(inst)\n",
    "print(percentfig,'proportion figshare.com records list a funder. Total records with funding:',len(fig_fund))\n",
    "print(percentinst,'proportion institutional records list a funder. Total records with funding:',len(inst_fund))"
   ]
  },
  {
   "cell_type": "code",
   "execution_count": 41,
   "metadata": {},
   "outputs": [
    {
     "name": "stdout",
     "output_type": "stream",
     "text": [
      "0.07079646017699115 proportion figshare.com records link to grant record. Total grants listed: 113 , 8 links\n",
      "0.0 proportion institutional records link to grant record. Total grants listed: 8 , 0 links\n"
     ]
    }
   ],
   "source": [
    "#Look at type of funding value\n",
    "figf = fundingdf[fundingdf['repotype'] == 'figshare.com'] #set up the figshare.com dataframe\n",
    "instf = fundingdf[fundingdf['repotype'] == 'Institutional Figshare Repository'] #set up the institution dataframe\n",
    "total_fig_grants = len(figf[figf['id'] > 0]) #count records that have a grant id \n",
    "total_inst_grants = len(instf[instf['id'] > 0]) #count records that have a grant id\n",
    "fig_fund_detail = figf[figf['is_user_defined'] == 0] #Is the funder linked to Dimensions?\n",
    "inst_fund_detail = instf[instf['is_user_defined'] == 0] #Is the funder linked to Dimensions?\n",
    "percentfigf = len(fig_fund_detail)/total_fig_grants\n",
    "percentinstf = len(inst_fund_detail)/total_inst_grants\n",
    "print(percentfigf,'proportion figshare.com records link to grant record. Total grants listed:',total_fig_grants,',',len(fig_fund_detail),'links')\n",
    "print(percentinstf,'proportion institutional records link to grant record. Total grants listed:',total_inst_grants,',',len(inst_fund_detail),'links')"
   ]
  },
  {
   "cell_type": "code",
   "execution_count": 42,
   "metadata": {},
   "outputs": [
    {
     "data": {
      "text/plain": [
       "113"
      ]
     },
     "execution_count": 42,
     "metadata": {},
     "output_type": "execute_result"
    }
   ],
   "source": [
    "total_fig_grants"
   ]
  },
  {
   "cell_type": "markdown",
   "metadata": {},
   "source": [
    "### References and links"
   ]
  },
  {
   "cell_type": "code",
   "execution_count": 7,
   "metadata": {},
   "outputs": [],
   "source": [
    "#Turn off the pandas warning about settingwithcopy\n",
    "pd.options.mode.chained_assignment = None  # default-->'warn'"
   ]
  },
  {
   "cell_type": "code",
   "execution_count": 74,
   "metadata": {},
   "outputs": [
    {
     "data": {
      "text/plain": [
       "0    522\n",
       "1    148\n",
       "2     15\n",
       "4     12\n",
       "3      9\n",
       "5      2\n",
       "6      1\n",
       "Name: count_references, dtype: int64"
      ]
     },
     "execution_count": 74,
     "metadata": {},
     "output_type": "execute_result"
    }
   ],
   "source": [
    "#References\n",
    "df['count_references'].value_counts()"
   ]
  },
  {
   "cell_type": "code",
   "execution_count": 75,
   "metadata": {},
   "outputs": [
    {
     "name": "stdout",
     "output_type": "stream",
     "text": [
      "95 have link in description\n",
      "60 have link in description and no references\n",
      "462 have no link or references 0.6516220028208745 percent\n"
     ]
    }
   ],
   "source": [
    "#How many descriptions have a link and no references\n",
    "desc_link = df[df['description'].str.contains(\"http://\") | df['description'].str.contains(\"https://\") | df['description'].str.contains(\"doi\")]\n",
    "print(len(desc_link), \"have link in description\")\n",
    "\n",
    "desc_link_norefs = desc_link[desc_link['count_references'] == 0] #remove items that have a reference link\n",
    "print(len(desc_link_norefs), \"have link in description and no references\")\n",
    "\n",
    "#Percent with zero refs and no link in description\n",
    "zerorefs = df[df['count_references']==0]\n",
    "num = len(zerorefs)-len(desc_link_norefs)\n",
    "percent = num/len(df)\n",
    "print(num,'have no link or references',percent,'percent')"
   ]
  },
  {
   "cell_type": "code",
   "execution_count": 76,
   "metadata": {},
   "outputs": [
    {
     "data": {
      "text/plain": [
       "0.6954022988505747"
      ]
     },
     "execution_count": 76,
     "metadata": {},
     "output_type": "execute_result"
    }
   ],
   "source": [
    "#Percent figshare.com records with no references \n",
    "fig = zerorefs[zerorefs['figshare_url'].str.contains(\"https://figshare.com\")]\n",
    "len(fig)/len(zerorefs)"
   ]
  },
  {
   "cell_type": "code",
   "execution_count": 77,
   "metadata": {},
   "outputs": [
    {
     "name": "stdout",
     "output_type": "stream",
     "text": [
      "0.8481308411214953 zero refs on figshare.com and 0.5658362989323843 zero refs on IRs\n"
     ]
    }
   ],
   "source": [
    "#Look at zero values for references\n",
    "fig = df[df['repotype'] == 'figshare.com'] #set up the figshare.com dataframe\n",
    "inst = df[df['repotype'] == 'Institutional Figshare Repository'] #set up the institution dataframe\n",
    "figzero = fig[fig['count_references']==0]\n",
    "instzero = inst[inst['count_references']==0]\n",
    "percentfig = len(figzero)/len(fig)\n",
    "percentinst = len(instzero)/len(inst)\n",
    "print(percentfig,\"zero refs on figshare.com and\",percentinst,\"zero refs on IRs\")"
   ]
  },
  {
   "cell_type": "code",
   "execution_count": 78,
   "metadata": {},
   "outputs": [
    {
     "name": "stdout",
     "output_type": "stream",
     "text": [
      "363 ( 0.8481308411214953 ) figshare records have no references 309 ( 0.7219626168224299 ) contain no link or reference and 67 have a link in the description\n",
      "159 ( 0.5658362989323843 ) institutional records have no references 153 ( 0.5444839857651246 ) contain no link or reference and 28 have a link in the description\n"
     ]
    }
   ],
   "source": [
    "fig = df[df['repotype'] == 'figshare.com'] #set up the figshare.com dataframe\n",
    "inst = df[df['repotype'] == 'Institutional Figshare Repository'] #set up the institution dataframe\n",
    "\n",
    "#Figshare\n",
    "fig_link = fig[fig['description'].str.contains(\"http://\") | fig['description'].str.contains(\"https://\") | fig['description'].str.contains(\"doi\")]\n",
    "fig_link_norefs = fig_link[fig_link['count_references'] == 0] #records only have a description link\n",
    "fig_norefs = fig[fig['count_references']==0] #fig records with no refs\n",
    "fig_norefs_link = fig_norefs[fig_norefs['description'].str.contains(\"http://\") | fig_norefs['description'].str.contains(\"https://\") | fig_norefs['description'].str.contains(\"doi\")] #no ref fig records with description\n",
    "\n",
    "fig_nolinksrefs = len(fig_norefs)-len(fig_norefs_link) #no link or refs\n",
    "\n",
    "#Institutions\n",
    "inst_link = inst[inst['description'].str.contains(\"http://\") | inst['description'].str.contains(\"https://\") | inst['description'].str.contains(\"doi\")]\n",
    "inst_link_norefs = inst_link[inst_link['count_references'] == 0]\n",
    "inst_norefs = inst[inst['count_references']==0] #fig records with no refs\n",
    "inst_norefs_link = inst_norefs[inst_norefs['description'].str.contains(\"http://\") | inst_norefs['description'].str.contains(\"https://\") | inst_norefs['description'].str.contains(\"doi\")] #no ref fig records with description\n",
    "\n",
    "inst_nolinksrefs = len(inst_norefs)-len(inst_norefs_link) #no link or refs\n",
    "\n",
    "print(len(fig_norefs),'(',len(fig_norefs)/len(fig),') figshare records have no references',fig_nolinksrefs,'(',fig_nolinksrefs/len(fig),') contain no link or reference and',len(fig_link),'have a link in the description')\n",
    "print(len(inst_norefs),'(',len(inst_norefs)/len(inst),') institutional records have no references',inst_nolinksrefs,'(',inst_nolinksrefs/len(inst),') contain no link or reference and',len(inst_link),'have a link in the description')\n"
   ]
  },
  {
   "cell_type": "code",
   "execution_count": 79,
   "metadata": {},
   "outputs": [
    {
     "data": {
      "text/plain": [
       "<AxesSubplot:xlabel='year_posted', ylabel='count_references'>"
      ]
     },
     "execution_count": 79,
     "metadata": {},
     "output_type": "execute_result"
    },
    {
     "data": {
      "image/png": "[encoded data removed]",
      "text/plain": [
       "<Figure size 432x288 with 1 Axes>"
      ]
     },
     "metadata": {},
     "output_type": "display_data"
    }
   ],
   "source": [
    "#Chart number of references\n",
    "\n",
    "#Chart number of words over time\n",
    "sns.set_theme(style=\"white\")\n",
    "sns.boxplot(x=\"year_posted\", y=\"count_references\", hue='repotype',\n",
    "            data=df, color=\"gray\")"
   ]
  },
  {
   "cell_type": "markdown",
   "metadata": {},
   "source": [
    "### Categories\n",
    "See R analysis"
   ]
  },
  {
   "cell_type": "code",
   "execution_count": 4,
   "metadata": {},
   "outputs": [],
   "source": [
    "#Run this to create a column for later charting\n",
    "df['log_count_categories'] = np.log(df['count_categories'])"
   ]
  },
  {
   "cell_type": "markdown",
   "metadata": {},
   "source": [
    "### Keywords"
   ]
  },
  {
   "cell_type": "code",
   "execution_count": 49,
   "metadata": {},
   "outputs": [
    {
     "data": {
      "text/plain": [
       "1     134\n",
       "3      97\n",
       "4      96\n",
       "5      73\n",
       "2      64\n",
       "6      61\n",
       "7      45\n",
       "13     41\n",
       "8      24\n",
       "9      23\n",
       "10     17\n",
       "16     12\n",
       "14      6\n",
       "11      6\n",
       "15      4\n",
       "12      2\n",
       "17      1\n",
       "21      1\n",
       "32      1\n",
       "64      1\n",
       "Name: count_tags, dtype: int64"
      ]
     },
     "execution_count": 49,
     "metadata": {},
     "output_type": "execute_result"
    }
   ],
   "source": [
    "#tags\n",
    "df['count_tags'].value_counts()"
   ]
  },
  {
   "cell_type": "markdown",
   "metadata": {},
   "source": [
    "### Words in title"
   ]
  },
  {
   "cell_type": "code",
   "execution_count": 64,
   "metadata": {},
   "outputs": [],
   "source": [
    "#How long are titles?\n",
    "dftitle = df[['id','figshare_url','title','year_posted', 'repotype']].copy() #create dataframe to work with\n",
    "#count words and add as a column\n",
    "dftitle['words'] = dftitle['title'].str.count(' ') + 1"
   ]
  },
  {
   "cell_type": "code",
   "execution_count": 65,
   "metadata": {},
   "outputs": [
    {
     "data": {
      "text/plain": [
       "<AxesSubplot:xlabel='year_posted', ylabel='words'>"
      ]
     },
     "execution_count": 65,
     "metadata": {},
     "output_type": "execute_result"
    },
    {
     "data": {
      "image/png": "[encoded data removed]",
      "text/plain": [
       "<Figure size 432x288 with 1 Axes>"
      ]
     },
     "metadata": {},
     "output_type": "display_data"
    }
   ],
   "source": [
    "#Chart number of words in title\n",
    "dftitle = df[['id','title','year_posted', 'repotype']].copy() #create dataframe to work with\n",
    "#count words and add as a column\n",
    "dftitle['words'] = dftitle['title'].str.count(' ') + 1\n",
    "\n",
    "#Chart number of words over time\n",
    "sns.set_theme(style=\"white\")\n",
    "sns.boxplot(x=\"year_posted\", y=\"words\", hue='repotype',\n",
    "            data=dftitle, color=\"gray\")"
   ]
  },
  {
   "cell_type": "markdown",
   "metadata": {},
   "source": [
    "### Length of Descriptions"
   ]
  },
  {
   "cell_type": "code",
   "execution_count": 52,
   "metadata": {},
   "outputs": [
    {
     "name": "stderr",
     "output_type": "stream",
     "text": [
      "<ipython-input-52-74602d9405ac>:4: FutureWarning: The default value of regex will change from True to False in a future version.\n",
      "  dfdesc['description'] = dfdesc['description'].str.replace(\"<.*?>\", \"\") #replace anything between < >\n",
      "<ipython-input-52-74602d9405ac>:4: SettingWithCopyWarning: \n",
      "A value is trying to be set on a copy of a slice from a DataFrame.\n",
      "Try using .loc[row_indexer,col_indexer] = value instead\n",
      "\n",
      "See the caveats in the documentation: https://pandas.pydata.org/pandas-docs/stable/user_guide/indexing.html#returning-a-view-versus-a-copy\n",
      "  dfdesc['description'] = dfdesc['description'].str.replace(\"<.*?>\", \"\") #replace anything between < >\n",
      "<ipython-input-52-74602d9405ac>:6: SettingWithCopyWarning: \n",
      "A value is trying to be set on a copy of a slice from a DataFrame.\n",
      "Try using .loc[row_indexer,col_indexer] = value instead\n",
      "\n",
      "See the caveats in the documentation: https://pandas.pydata.org/pandas-docs/stable/user_guide/indexing.html#returning-a-view-versus-a-copy\n",
      "  dfdesc['words'] = dfdesc['description'].str.count(' ') + 1\n"
     ]
    }
   ],
   "source": [
    "#How long are descriptions?\n",
    "dfdesc = df[['id','figshare_url','description','repotype']] #create dataframe to work with\n",
    "#remove html tags\n",
    "dfdesc['description'] = dfdesc['description'].str.replace(\"<.*?>\", \"\") #replace anything between < >\n",
    "#count words and add as a column\n",
    "dfdesc['words'] = dfdesc['description'].str.count(' ') + 1"
   ]
  },
  {
   "cell_type": "code",
   "execution_count": 53,
   "metadata": {},
   "outputs": [
    {
     "name": "stderr",
     "output_type": "stream",
     "text": [
      "<ipython-input-53-7f8b8fd70a49>:4: FutureWarning: The default value of regex will change from True to False in a future version.\n",
      "  dfdesc['description'] = dfdesc['description'].str.replace(\"<.*?>\", \"\") #replace anything between < >\n",
      "<ipython-input-53-7f8b8fd70a49>:4: SettingWithCopyWarning: \n",
      "A value is trying to be set on a copy of a slice from a DataFrame.\n",
      "Try using .loc[row_indexer,col_indexer] = value instead\n",
      "\n",
      "See the caveats in the documentation: https://pandas.pydata.org/pandas-docs/stable/user_guide/indexing.html#returning-a-view-versus-a-copy\n",
      "  dfdesc['description'] = dfdesc['description'].str.replace(\"<.*?>\", \"\") #replace anything between < >\n",
      "<ipython-input-53-7f8b8fd70a49>:6: SettingWithCopyWarning: \n",
      "A value is trying to be set on a copy of a slice from a DataFrame.\n",
      "Try using .loc[row_indexer,col_indexer] = value instead\n",
      "\n",
      "See the caveats in the documentation: https://pandas.pydata.org/pandas-docs/stable/user_guide/indexing.html#returning-a-view-versus-a-copy\n",
      "  dfdesc['words'] = dfdesc['description'].str.count(' ') + 1\n"
     ]
    },
    {
     "data": {
      "text/plain": [
       "<AxesSubplot:xlabel='year_posted', ylabel='words'>"
      ]
     },
     "execution_count": 53,
     "metadata": {},
     "output_type": "execute_result"
    },
    {
     "data": {
      "image/png": "[encoded data removed]",
      "text/plain": [
       "<Figure size 432x288 with 1 Axes>"
      ]
     },
     "metadata": {},
     "output_type": "display_data"
    }
   ],
   "source": [
    "#Chart number of words in description\n",
    "dfdesc = df[['id','figshare_url','description','repotype', 'year_posted']] #create dataframe to work with\n",
    "#remove html tags\n",
    "dfdesc['description'] = dfdesc['description'].str.replace(\"<.*?>\", \"\") #replace anything between < >\n",
    "#count words and add as a column\n",
    "dfdesc['words'] = dfdesc['description'].str.count(' ') + 1\n",
    "\n",
    "#Chart number of words over time\n",
    "sns.set_theme(style=\"white\")\n",
    "sns.boxplot(x=\"year_posted\", y=\"words\", hue='repotype',\n",
    "            data=dfdesc, color=\"gray\")"
   ]
  },
  {
   "cell_type": "markdown",
   "metadata": {},
   "source": [
    "### Views per time"
   ]
  },
  {
   "cell_type": "code",
   "execution_count": 54,
   "metadata": {},
   "outputs": [],
   "source": [
    "#Add year and month posted columns\n",
    "df['year_posted'] = pd.DatetimeIndex(df['date_posted']).year\n",
    "df['month_posted'] = pd.DatetimeIndex(df['date_posted']).month"
   ]
  },
  {
   "cell_type": "code",
   "execution_count": 55,
   "metadata": {},
   "outputs": [
    {
     "data": {
      "text/plain": [
       "(2010.0, 2021.0)"
      ]
     },
     "execution_count": 55,
     "metadata": {},
     "output_type": "execute_result"
    },
    {
     "data": {
      "image/png": "[encoded data removed]",
      "text/plain": [
       "<Figure size 432x288 with 1 Axes>"
      ]
     },
     "metadata": {},
     "output_type": "display_data"
    }
   ],
   "source": [
    "#Year posted histogram\n",
    "\n",
    "min_val = df['year_posted'].min()\n",
    "max_val = df['year_posted'].max()\n",
    "val_width = max_val - min_val\n",
    "n_bins = 11\n",
    "bin_width = val_width/n_bins\n",
    "\n",
    "sns.set_theme(style=\"white\")\n",
    "sns.histplot(data=df, x=\"year_posted\", bins=n_bins, binwidth=1)\n",
    "plt.xticks(rotation=45, ha=\"center\")\n",
    "plt.xlim(2010, 2021)"
   ]
  },
  {
   "cell_type": "code",
   "execution_count": 56,
   "metadata": {},
   "outputs": [
    {
     "name": "stdout",
     "output_type": "stream",
     "text": [
      "0 points over 3500 removed\n"
     ]
    }
   ],
   "source": [
    "#VIEWS, Remove outliers\n",
    "#dfviews = df[df['views']<3500]\n",
    "dfviews = df.copy() #Makes a deep copy. Otherwise the views per month column gets added to df as well.\n",
    "#How many points were removed?\n",
    "print(len(df)-len(dfviews),'points over 3500 removed')"
   ]
  },
  {
   "cell_type": "code",
   "execution_count": 57,
   "metadata": {},
   "outputs": [],
   "source": [
    "#Look at views per month for figshare.com and institutions\n",
    "\n",
    "# Could use this: current_year = datetime.datetime.now().year but I hard coded in the month and year for the dataset\n",
    "\n",
    "#****Note: This had a +1 not -1 in the else******\n",
    "\n",
    "def calc(row):\n",
    "    if row['month_posted'] != 9 and row['year_posted'] == 2021:\n",
    "        return (9-row['month_posted'])\n",
    "    elif row['month_posted'] == 9 and row['year_posted'] == 2021:\n",
    "        return 0.25 #data was collected on sept 9 so if item posted this september just assign it 0.25\n",
    "    else:\n",
    "        return ((2021-(row['year_posted']+1))*12)+(12-row['month_posted'])+9 #subtract 1 to get the number of full years, then add the months from posted year, then months for current year\n",
    "\n",
    "    \n",
    "dfviews['months_since_posted'] = dfviews.apply(calc, axis=1)\n",
    "    \n",
    "dfviews['views_per_month'] = dfviews['views']/dfviews['months_since_posted']\n",
    "dfviews['log_views_per_month'] = np.log(dfviews['views_per_month'])\n",
    "#df['downloads_per_month'] = df['downloads']/df['months_since_posted']"
   ]
  },
  {
   "cell_type": "markdown",
   "metadata": {},
   "source": [
    "## Set up dataset for R Analysis with Negative Binomial Model\n",
    "You'll need to have get the dftitle, dfdesc, and dfviews to run this. "
   ]
  },
  {
   "cell_type": "code",
   "execution_count": 4,
   "metadata": {},
   "outputs": [
    {
     "data": {
      "text/html": [
       "<div>\n",
       "<style scoped>\n",
       "    .dataframe tbody tr th:only-of-type {\n",
       "        vertical-align: middle;\n",
       "    }\n",
       "\n",
       "    .dataframe tbody tr th {\n",
       "        vertical-align: top;\n",
       "    }\n",
       "\n",
       "    .dataframe thead th {\n",
       "        text-align: right;\n",
       "    }\n",
       "</style>\n",
       "<table border=\"1\" class=\"dataframe\">\n",
       "  <thead>\n",
       "    <tr style=\"text-align: right;\">\n",
       "      <th></th>\n",
       "      <th>id</th>\n",
       "      <th>title</th>\n",
       "      <th>ETD_confirmed</th>\n",
       "      <th>non english</th>\n",
       "      <th>first_author_id</th>\n",
       "      <th>description</th>\n",
       "      <th>funders</th>\n",
       "      <th>files</th>\n",
       "      <th>doi</th>\n",
       "      <th>handle</th>\n",
       "      <th>...</th>\n",
       "      <th>count_references</th>\n",
       "      <th>count_tags</th>\n",
       "      <th>views</th>\n",
       "      <th>downloads</th>\n",
       "      <th>references</th>\n",
       "      <th>year</th>\n",
       "      <th>figshare_url</th>\n",
       "      <th>collection</th>\n",
       "      <th>year_posted</th>\n",
       "      <th>repotype</th>\n",
       "    </tr>\n",
       "  </thead>\n",
       "  <tbody>\n",
       "    <tr>\n",
       "      <th>0</th>\n",
       "      <td>13272836</td>\n",
       "      <td>\"Exploring the use of simultaneous EEG/fMRI to...</td>\n",
       "      <td>PhD</td>\n",
       "      <td>NaN</td>\n",
       "      <td>4074313</td>\n",
       "      <td>Nifti files of main results from the PhD thesi...</td>\n",
       "      <td>NaN</td>\n",
       "      <td>[{'id': 25559822, 'name': 'Figure26C_Changes_t...</td>\n",
       "      <td>10.17608/k6.auckland.13272836.v1</td>\n",
       "      <td>NaN</td>\n",
       "      <td>...</td>\n",
       "      <td>0</td>\n",
       "      <td>7</td>\n",
       "      <td>87</td>\n",
       "      <td>231</td>\n",
       "      <td>[]</td>\n",
       "      <td>2020</td>\n",
       "      <td>https://auckland.figshare.com/articles/figure/...</td>\n",
       "      <td>NaN</td>\n",
       "      <td>2020</td>\n",
       "      <td>Institutional Figshare Repository</td>\n",
       "    </tr>\n",
       "    <tr>\n",
       "      <th>1</th>\n",
       "      <td>12814848</td>\n",
       "      <td>.ipynb_checkpoints</td>\n",
       "      <td>y</td>\n",
       "      <td>NaN</td>\n",
       "      <td>9247385</td>\n",
       "      <td>Thesis model files</td>\n",
       "      <td>NaN</td>\n",
       "      <td>[{'id': 24309271, 'name': 'net_explorer-2d-Und...</td>\n",
       "      <td>10.6084/m9.figshare.12814848.v1</td>\n",
       "      <td>NaN</td>\n",
       "      <td>...</td>\n",
       "      <td>0</td>\n",
       "      <td>1</td>\n",
       "      <td>86</td>\n",
       "      <td>23</td>\n",
       "      <td>[]</td>\n",
       "      <td>2020</td>\n",
       "      <td>https://figshare.com/articles/dataset/_ipynb_c...</td>\n",
       "      <td>NaN</td>\n",
       "      <td>2020</td>\n",
       "      <td>figshare.com</td>\n",
       "    </tr>\n",
       "    <tr>\n",
       "      <th>2</th>\n",
       "      <td>5306578</td>\n",
       "      <td>\"The effect of extensional flow on shear visco...</td>\n",
       "      <td>PhD</td>\n",
       "      <td>NaN</td>\n",
       "      <td>3902464</td>\n",
       "      <td>This repository principally contains stacked P...</td>\n",
       "      <td>NaN</td>\n",
       "      <td>[{'id': 9096262, 'name': 'RH2017Data.zip', 'si...</td>\n",
       "      <td>10.15131/shef.data.5306578.v1</td>\n",
       "      <td>NaN</td>\n",
       "      <td>...</td>\n",
       "      <td>1</td>\n",
       "      <td>10</td>\n",
       "      <td>943</td>\n",
       "      <td>341</td>\n",
       "      <td>['http://etheses.whiterose.ac.uk/id/eprint/183...</td>\n",
       "      <td>2017</td>\n",
       "      <td>https://figshare.shef.ac.uk/articles/dataset/_...</td>\n",
       "      <td>NaN</td>\n",
       "      <td>2017</td>\n",
       "      <td>Institutional Figshare Repository</td>\n",
       "    </tr>\n",
       "    <tr>\n",
       "      <th>3</th>\n",
       "      <td>12968075</td>\n",
       "      <td>[2019-10-16] Upper Impoundment Drone Orthomosa...</td>\n",
       "      <td>y</td>\n",
       "      <td>NaN</td>\n",
       "      <td>4529278</td>\n",
       "      <td>This is the drone orthomosaic, digital surface...</td>\n",
       "      <td>NaN</td>\n",
       "      <td>[{'id': 24705215, 'name': '[2019-10-16]_UpperI...</td>\n",
       "      <td>10.6084/m9.figshare.12968075.v1</td>\n",
       "      <td>NaN</td>\n",
       "      <td>...</td>\n",
       "      <td>0</td>\n",
       "      <td>14</td>\n",
       "      <td>10</td>\n",
       "      <td>1</td>\n",
       "      <td>[]</td>\n",
       "      <td>2021</td>\n",
       "      <td>https://figshare.com/articles/dataset/_2019-10...</td>\n",
       "      <td>5107955.0</td>\n",
       "      <td>2021</td>\n",
       "      <td>figshare.com</td>\n",
       "    </tr>\n",
       "    <tr>\n",
       "      <th>4</th>\n",
       "      <td>12952172</td>\n",
       "      <td>[2019-11-15] Sediment Area Drone Orthomosaic, ...</td>\n",
       "      <td>y</td>\n",
       "      <td>NaN</td>\n",
       "      <td>4529278</td>\n",
       "      <td>This is the drone orthomosaic, digital surface...</td>\n",
       "      <td>NaN</td>\n",
       "      <td>[{'id': 24694424, 'name': '[2019-11-15]_Sedime...</td>\n",
       "      <td>10.6084/m9.figshare.12952172.v1</td>\n",
       "      <td>NaN</td>\n",
       "      <td>...</td>\n",
       "      <td>0</td>\n",
       "      <td>14</td>\n",
       "      <td>9</td>\n",
       "      <td>0</td>\n",
       "      <td>[]</td>\n",
       "      <td>2021</td>\n",
       "      <td>https://figshare.com/articles/dataset/_2019-11...</td>\n",
       "      <td>5107955.0</td>\n",
       "      <td>2021</td>\n",
       "      <td>figshare.com</td>\n",
       "    </tr>\n",
       "  </tbody>\n",
       "</table>\n",
       "<p>5 rows × 28 columns</p>\n",
       "</div>"
      ],
      "text/plain": [
       "         id                                              title ETD_confirmed  \\\n",
       "0  13272836  \"Exploring the use of simultaneous EEG/fMRI to...           PhD   \n",
       "1  12814848                                 .ipynb_checkpoints             y   \n",
       "2   5306578  \"The effect of extensional flow on shear visco...           PhD   \n",
       "3  12968075  [2019-10-16] Upper Impoundment Drone Orthomosa...             y   \n",
       "4  12952172  [2019-11-15] Sediment Area Drone Orthomosaic, ...             y   \n",
       "\n",
       "  non english  first_author_id  \\\n",
       "0         NaN          4074313   \n",
       "1         NaN          9247385   \n",
       "2         NaN          3902464   \n",
       "3         NaN          4529278   \n",
       "4         NaN          4529278   \n",
       "\n",
       "                                         description funders  \\\n",
       "0  Nifti files of main results from the PhD thesi...     NaN   \n",
       "1                                 Thesis model files     NaN   \n",
       "2  This repository principally contains stacked P...     NaN   \n",
       "3  This is the drone orthomosaic, digital surface...     NaN   \n",
       "4  This is the drone orthomosaic, digital surface...     NaN   \n",
       "\n",
       "                                               files  \\\n",
       "0  [{'id': 25559822, 'name': 'Figure26C_Changes_t...   \n",
       "1  [{'id': 24309271, 'name': 'net_explorer-2d-Und...   \n",
       "2  [{'id': 9096262, 'name': 'RH2017Data.zip', 'si...   \n",
       "3  [{'id': 24705215, 'name': '[2019-10-16]_UpperI...   \n",
       "4  [{'id': 24694424, 'name': '[2019-11-15]_Sedime...   \n",
       "\n",
       "                                doi handle  ... count_references count_tags  \\\n",
       "0  10.17608/k6.auckland.13272836.v1    NaN  ...                0          7   \n",
       "1   10.6084/m9.figshare.12814848.v1    NaN  ...                0          1   \n",
       "2     10.15131/shef.data.5306578.v1    NaN  ...                1         10   \n",
       "3   10.6084/m9.figshare.12968075.v1    NaN  ...                0         14   \n",
       "4   10.6084/m9.figshare.12952172.v1    NaN  ...                0         14   \n",
       "\n",
       "   views downloads                                         references  year  \\\n",
       "0     87       231                                                 []  2020   \n",
       "1     86        23                                                 []  2020   \n",
       "2    943       341  ['http://etheses.whiterose.ac.uk/id/eprint/183...  2017   \n",
       "3     10         1                                                 []  2021   \n",
       "4      9         0                                                 []  2021   \n",
       "\n",
       "                                        figshare_url  collection  year_posted  \\\n",
       "0  https://auckland.figshare.com/articles/figure/...         NaN         2020   \n",
       "1  https://figshare.com/articles/dataset/_ipynb_c...         NaN         2020   \n",
       "2  https://figshare.shef.ac.uk/articles/dataset/_...         NaN         2017   \n",
       "3  https://figshare.com/articles/dataset/_2019-10...   5107955.0         2021   \n",
       "4  https://figshare.com/articles/dataset/_2019-11...   5107955.0         2021   \n",
       "\n",
       "                            repotype  \n",
       "0  Institutional Figshare Repository  \n",
       "1                       figshare.com  \n",
       "2  Institutional Figshare Repository  \n",
       "3                       figshare.com  \n",
       "4                       figshare.com  \n",
       "\n",
       "[5 rows x 28 columns]"
      ]
     },
     "execution_count": 4,
     "metadata": {},
     "output_type": "execute_result"
    }
   ],
   "source": [
    "df.head()"
   ]
  },
  {
   "cell_type": "code",
   "execution_count": 72,
   "metadata": {},
   "outputs": [],
   "source": [
    "#Create dataset for R analysis. Have to get the views per month and word counts below before running this.\n",
    "\n",
    "dftitleR = dftitle[['id','words']]\n",
    "dftitleR=dftitleR.rename(columns={\"words\": \"words_title\"})\n",
    "dfdescR = dfdesc[['id','words']]\n",
    "dfdescR=dfdescR.rename(columns={\"words\": \"words_desc\"})\n",
    "dfviewsR = dfviews[['id','views_per_month']]\n",
    "\n",
    "\n",
    "dfR1 = df.merge(dftitleR, how='left', on='id')\n",
    "dfR1 = dfR1.merge(dfdescR, how='left', on='id')\n",
    "dfR1 = dfR1.merge(dfviewsR, how='left', on='id')\n",
    "\n",
    "dfR1 = dfR1[['id','count_categories','count_references','count_tags','words_title','words_desc','views_per_month','repotype']]\n",
    "\n",
    "\n",
    "#Save to CSV\n",
    "dfR.to_csv('data-for-R.csv', index = False, header=True)\n"
   ]
  },
  {
   "cell_type": "markdown",
   "metadata": {},
   "source": [
    "## Chart for poster"
   ]
  },
  {
   "cell_type": "code",
   "execution_count": 3,
   "metadata": {},
   "outputs": [
    {
     "name": "stderr",
     "output_type": "stream",
     "text": [
      "<ipython-input-3-93ad0d2ffa1b>:28: FutureWarning: The default value of regex will change from True to False in a future version.\n",
      "  dfdesc['description'] = dfdesc['description'].str.replace(\"<.*?>\", \"\") #replace anything between < >\n"
     ]
    }
   ],
   "source": [
    "#Run this if you are starting here\n",
    "\n",
    "#Open data as a dataframe.\n",
    "df = pd.read_csv('etd-datafullDataset-ETDs-with-collection.csv',encoding='utf8')\n",
    "\n",
    "df['year_posted'] = pd.DatetimeIndex(df['date_posted']).year\n",
    "df['log_count_categories'] = np.log(df['count_categories'])\n",
    "\n",
    "#Identify Figshare items from Institution items\n",
    "df['repotype'] = df['figshare_url'].str.contains('https://figshare.com') #True/False if item is on figshare.com\n",
    "df.loc[df['repotype'] == True, 'repotype'] = 'figshare.com' #Change values to make charting easier\n",
    "df.loc[df['repotype'] == False, 'repotype'] = 'Institutional Figshare Repository'\n",
    "\n",
    "\n",
    "#Create comparison dataframes as needed\n",
    "\n",
    "#Categories- remove outlier with 93\n",
    "#dfcats = df[df['count-categories']<3500]\n",
    "\n",
    "#Count title words\n",
    "dftitle = df[['id','title','repotype','year_posted']].copy()\n",
    "dftitle['words'] = df['title'].str.count(' ') + 1\n",
    "\n",
    "#Description\n",
    "#How long are descriptions?\n",
    "dfdesc = df[['id','figshare_url','description','repotype','year_posted']].copy() #create dataframe to work with\n",
    "#remove html tags\n",
    "dfdesc['description'] = dfdesc['description'].str.replace(\"<.*?>\", \"\") #replace anything between < >\n",
    "#count words and add as a column\n",
    "dfdesc['words'] = dfdesc['description'].str.count(' ') + 1\n",
    "\n",
    "#Views per month\n",
    "df['month_posted'] = pd.DatetimeIndex(df['date_posted']).month\n",
    "#dfviews = df[df['views']<3500]\n",
    "dfviews = df[['id','views','repotype','year_posted','month_posted']].copy()\n",
    "def calc(row):\n",
    "    if row['month_posted'] != 9 and row['year_posted'] == 2021:\n",
    "        return (9-row['month_posted'])\n",
    "    elif row['month_posted'] == 9 and row['year_posted'] == 2021:\n",
    "        return 0.25 #data was collected on sept 9 so if item posted this september just assign it 1\n",
    "    else:\n",
    "        return ((2021-(row['year_posted']+1))*12)+(12-row['month_posted'])+9\n",
    "\n",
    "dfviews['months_since_posted'] = dfviews.apply(calc, axis=1)\n",
    "    \n",
    "dfviews['views_per_month'] = dfviews['views']/dfviews['months_since_posted']\n",
    "dfviews['log_views_per_month'] = np.log(dfviews['views_per_month'])"
   ]
  },
  {
   "cell_type": "code",
   "execution_count": 4,
   "metadata": {},
   "outputs": [],
   "source": [
    "#https://matplotlib.org/stable/tutorials/colors/colormap-manipulation.html\n",
    "graycm = cm.get_cmap('Greys', 8)"
   ]
  },
  {
   "cell_type": "code",
   "execution_count": 24,
   "metadata": {},
   "outputs": [
    {
     "data": {
      "image/png": "[encoded data removed]",
      "text/plain": [
       "<Figure size 1296x720 with 6 Axes>"
      ]
     },
     "metadata": {
      "needs_background": "light"
     },
     "output_type": "display_data"
    }
   ],
   "source": [
    "chart_title_font = 16\n",
    "y_axis_label_font = 14\n",
    "\n",
    "#set color properties for box plots https://stackoverflow.com/questions/43434020/black-and-white-boxplots-in-seaborn\n",
    "PROPS = {\n",
    "    'boxprops':{'edgecolor':'black'},\n",
    "    'medianprops':{'color':'black'},\n",
    "    'whiskerprops':{'color':'black'},\n",
    "    'capprops':{'color':'black'}\n",
    "}\n",
    "\n",
    "colors = [\"#FFFFFF\", \"#D9D9D9\"]\n",
    "\n",
    "\n",
    "def wrap_labels(ax, width, break_long_words=False): #This wraps the x tick labels\n",
    "    labels = []\n",
    "    for label in ax.get_xticklabels():\n",
    "        text = label.get_text()\n",
    "        labels.append(textwrap.fill(text, width=width,\n",
    "                      break_long_words=break_long_words))\n",
    "    ax.set_xticklabels(labels, rotation=0, fontsize=14)\n",
    "\n",
    "fig, axes = plt.subplots(2, 3, figsize=(18, 10))\n",
    "\n",
    "ax1 = sns.boxplot(ax=axes[0, 0], data=dftitle, x='repotype', y='words', palette=sns.color_palette(colors, 2),**PROPS)\n",
    "ax1.set(xlabel=None)\n",
    "ax1.axes.xaxis.set_ticklabels([])\n",
    "ax1.set_ylabel('Number of Words', fontsize=y_axis_label_font)\n",
    "ax1.set_title('Length of Title', fontsize=chart_title_font)\n",
    "ax1.text(0.5,0.8,'*', ha='center', fontsize = 40, transform=ax1.transAxes)\n",
    "\n",
    "\n",
    "ax2 = sns.boxplot(ax=axes[0, 1], data=dfdesc, x='repotype', y='words', palette=sns.color_palette(colors, 2),**PROPS)#, palette=\"Blues_d\")\n",
    "ax2.set(xlabel=None)\n",
    "ax2.axes.xaxis.set_ticklabels([])\n",
    "ax2.set_ylabel('Number of Words', fontsize=y_axis_label_font)\n",
    "ax2.set_title('Length of Description', fontsize=chart_title_font)\n",
    "ax2.text(0.5,0.8,'*', ha='center', fontsize = 40, transform=ax2.transAxes)\n",
    "\n",
    "ax3 = sns.boxplot(ax=axes[0, 2], data=df, x='repotype', y='log_count_categories', palette=sns.color_palette(colors, 2),**PROPS)#, palette=\"Blues_d\")#, showfliers = False)\n",
    "ax3.set(xlabel=None)\n",
    "ax3.axes.xaxis.set_ticklabels([])\n",
    "ax3.set_ylabel('Log Number of Categories', fontsize=y_axis_label_font)\n",
    "ax3.set_title('Categories', fontsize=chart_title_font)\n",
    "# setting log axis\n",
    "#ax3.set_yscale('log')\n",
    "\n",
    "ax4 = sns.boxplot(ax=axes[1, 0], data=df, x='repotype', y='count_tags', palette=sns.color_palette(colors, 2),**PROPS)#, palette=\"Blues_d\")\n",
    "ax4.set(xlabel=None)\n",
    "wrap_labels(ax4,14)\n",
    "ax4.set_ylabel('Number of Keywords', fontsize=y_axis_label_font)\n",
    "ax4.set_title('Keywords', fontsize=chart_title_font)\n",
    "ax4.text(0.5,0.8,'*', ha='center', fontsize = 40, transform=ax4.transAxes)\n",
    "\n",
    "ax5 = sns.boxplot(ax=axes[1, 1], data=df, x='repotype', y='count_references', palette=sns.color_palette(colors, 2),**PROPS)#, palette=\"Blues_d\")\n",
    "ax5.set(xlabel=None)\n",
    "wrap_labels(ax5,14)\n",
    "ax5.set_ylabel('Number of Reference Links', fontsize=y_axis_label_font)\n",
    "ax5.set_title('References', fontsize=chart_title_font)\n",
    "ax5.text(0.5,0.8,'*', ha='center', fontsize = 40, transform=ax5.transAxes)\n",
    "\n",
    "\n",
    "ax6 = sns.boxplot(ax=axes[1, 2], data=dfviews, x='repotype', y='log_views_per_month', palette=sns.color_palette(colors, 2),**PROPS)#, palette=\"Blues_d\")\n",
    "ax6.set(xlabel=None)\n",
    "wrap_labels(ax6,14)\n",
    "ax6.set_ylabel('Log Number of Views/Month', fontsize=y_axis_label_font)\n",
    "ax6.set_title('Views per Month', fontsize=chart_title_font)\n",
    "ax6.text(0.5, 0.8,'*', ha='center', fontsize = 40, transform=ax6.transAxes)\n",
    "# setting log axis\n",
    "#ax6.set_yscale('log')\n",
    "\n",
    "#Save Figure\n",
    "plt.savefig('fig2.jpg', dpi=1200, format=\"jpg\")\n",
    "\n"
   ]
  },
  {
   "cell_type": "markdown",
   "metadata": {},
   "source": [
    "## Charts over time"
   ]
  },
  {
   "cell_type": "code",
   "execution_count": 25,
   "metadata": {},
   "outputs": [
    {
     "data": {
      "image/png": "[encoded data removed]",
      "text/plain": [
       "<Figure size 1296x720 with 4 Axes>"
      ]
     },
     "metadata": {
      "needs_background": "light"
     },
     "output_type": "display_data"
    }
   ],
   "source": [
    "#Charts over time\n",
    "\n",
    "chart_title_font = 16\n",
    "axis_label_font = 14\n",
    "lgd_font = 14\n",
    "colors = [\"#FFFFFF\", \"#D9D9D9\"]\n",
    "PROPS = {\n",
    "    'boxprops':{'edgecolor':'black'},\n",
    "    'medianprops':{'color':'black'},\n",
    "    'whiskerprops':{'color':'black'},\n",
    "    'capprops':{'color':'black'}\n",
    "}\n",
    "\n",
    "fig, axes = plt.subplots(2, 2, figsize=(18, 10))\n",
    "\n",
    "ax1 = sns.boxplot(ax=axes[0,0], data=dftitle,x=\"year_posted\", y=\"words\", hue='repotype', palette=sns.color_palette(colors, 2),**PROPS, linewidth=0.75)#palette=\"Blues_d\")\n",
    "ax1.set_ylabel('Number of Words', fontsize=axis_label_font)\n",
    "ax1.set(xlabel=None)\n",
    "ax1.axes.xaxis.set_ticklabels([])\n",
    "ax1.tick_params(axis='x', labelsize=14)\n",
    "ax1.tick_params(axis='y', labelsize=14)\n",
    "ax1.set_title('Length of Title', fontsize=chart_title_font)\n",
    "ax1.legend(title='Repository', title_fontsize = lgd_font, loc='upper left', fontsize=lgd_font)\n",
    "\n",
    "ax2 = sns.boxplot(ax=axes[0,1], data=dfdesc,x=\"year_posted\", y=\"words\", hue='repotype', palette=sns.color_palette(colors, 2),**PROPS, linewidth=0.75)# palette=\"Blues_d\")\n",
    "ax2.set_ylabel('Number of Words', fontsize=axis_label_font)\n",
    "ax2.set(xlabel=None)\n",
    "ax2.axes.xaxis.set_ticklabels([])\n",
    "ax2.tick_params(axis='x', labelsize=14)\n",
    "ax2.tick_params(axis='y', labelsize=14)\n",
    "ax2.set_title('Length of Description', fontsize=chart_title_font)\n",
    "ax2.legend([])\n",
    "\n",
    "ax3 = sns.boxplot(ax=axes[1,0], data=df, x=\"year_posted\", y=\"count_tags\", hue='repotype', palette=sns.color_palette(colors, 2),**PROPS, linewidth=0.75)# palette=\"Blues_d\")\n",
    "ax3.set_ylabel('Number of Keywords', fontsize=axis_label_font)\n",
    "ax3.set_xlabel('Year Published', fontsize=axis_label_font)\n",
    "ax3.tick_params(axis='x', labelsize=12)\n",
    "ax3.set_xticklabels(ax3.get_xticklabels(), rotation=45, ha='right')\n",
    "ax3.tick_params(axis='y', labelsize=14)\n",
    "ax3.set_title('Keywords', fontsize=chart_title_font)\n",
    "ax3.legend([])\n",
    "\n",
    "ax4 = sns.boxplot(ax=axes[1,1], data=df, x=\"year_posted\", y=\"count_references\", hue='repotype', palette=sns.color_palette(colors, 2),**PROPS, linewidth=0.75)# palette=\"Blues_d\")\n",
    "ax4.set_ylabel('Number of Reference Links', fontsize=axis_label_font)\n",
    "ax4.set_xlabel('Year Published', fontsize=axis_label_font)\n",
    "ax4.tick_params(axis='x', labelsize=12)\n",
    "ax4.set_xticklabels(ax4.get_xticklabels(), rotation=45, ha='right')\n",
    "ax4.tick_params(axis='y', labelsize=14)\n",
    "ax4.set_title('References', fontsize=chart_title_font)\n",
    "ax4.legend([])\n",
    "\n",
    "plt.savefig('fig3.jpg', dpi=1200, format=\"jpg\")"
   ]
  },
  {
   "cell_type": "markdown",
   "metadata": {},
   "source": [
    "# Should look for readme files in the collected records"
   ]
  },
  {
   "cell_type": "code",
   "execution_count": null,
   "metadata": {},
   "outputs": [],
   "source": []
  }
 ],
 "metadata": {
  "kernelspec": {
   "display_name": "Python 3",
   "language": "python",
   "name": "python3"
  },
  "language_info": {
   "codemirror_mode": {
    "name": "ipython",
    "version": 3
   },
   "file_extension": ".py",
   "mimetype": "text/x-python",
   "name": "python",
   "nbconvert_exporter": "python",
   "pygments_lexer": "ipython3",
   "version": "3.9.1"
  }
 },
 "nbformat": 4,
 "nbformat_minor": 4
}
