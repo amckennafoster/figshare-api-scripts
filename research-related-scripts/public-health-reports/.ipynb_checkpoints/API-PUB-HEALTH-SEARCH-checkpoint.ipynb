{
 "cells": [
  {
   "cell_type": "markdown",
   "id": "talented-holmes",
   "metadata": {},
   "source": [
    "# Gather reports related to public health"
   ]
  },
  {
   "cell_type": "markdown",
   "id": "touched-guidance",
   "metadata": {},
   "source": [
    "## Import libraries"
   ]
  },
  {
   "cell_type": "code",
   "execution_count": 1,
   "id": "f7e37a43",
   "metadata": {},
   "outputs": [],
   "source": [
    "import json\n",
    "import requests\n",
    "import pandas as pd\n",
    "import datetime\n",
    "import csv\n",
    "import numpy as np\n",
    "import matplotlib.pyplot as plt\n",
    "import seaborn as sns"
   ]
  },
  {
   "cell_type": "markdown",
   "id": "educated-share",
   "metadata": {},
   "source": [
    "## Set variables"
   ]
  },
  {
   "cell_type": "code",
   "execution_count": 2,
   "id": "62b4d3ec",
   "metadata": {},
   "outputs": [],
   "source": [
    "BASE_URL = \"https://api.figshare.com/v2\""
   ]
  },
  {
   "cell_type": "code",
   "execution_count": 3,
   "id": "concrete-seafood",
   "metadata": {},
   "outputs": [],
   "source": [
    "categories = [\"'Public Health and Health Services not elsewhere classified'\",\"'Health Promotion'\",\"'Public health not elsewhere classified'\",\"'Health Policy'\",\"'Health and Community Services'\",\n",
    "             \"'Urban planning and health'\",\"'Health and community services'\",\"'Indigenous health'\",\"'Health surveillance'\",\"'Global Indigenous studies health and wellbeing'\",\"'Community Child Health'\",\n",
    "             \"'Community child health'\"]\n",
    "\n"
   ]
  },
  {
   "cell_type": "code",
   "execution_count": 4,
   "id": "enhanced-evolution",
   "metadata": {},
   "outputs": [],
   "source": [
    "test = [\"'Community child health'\"]"
   ]
  },
  {
   "cell_type": "code",
   "execution_count": 7,
   "id": "b014b476",
   "metadata": {},
   "outputs": [
    {
     "name": "stdout",
     "output_type": "stream",
     "text": [
      "276 articles retrieved\n"
     ]
    }
   ],
   "source": [
    "#Gather basic metadata for items (articles) that meet your search criteria\n",
    "results = []\n",
    "for i in categories:\n",
    "    query = '{\"item_type\": 18, \"search_for\":\":category: ' + i + '\"}' #Search for reports\n",
    "    y = json.loads(query) #Figshare API requires json paramaters\n",
    "    for j in range(1,10):\n",
    "        records = json.loads(requests.post(BASE_URL + '/articles/search?page_size=1000&page={}'.format(j), params=y).content)\n",
    "        results.extend(records)\n",
    "    \n",
    "#See the number of articles\n",
    "print(len(results),'articles retrieved')"
   ]
  },
  {
   "cell_type": "code",
   "execution_count": 8,
   "id": "needed-hamilton",
   "metadata": {},
   "outputs": [],
   "source": [
    "#Save the json.\n",
    "with open('pub-health-reports'+str(datetime.datetime.now().strftime(\"%Y-%m-%d\"))+'.json', 'w') as f:\n",
    "    json.dump(results, f)"
   ]
  },
  {
   "cell_type": "code",
   "execution_count": 9,
   "id": "imported-subdivision",
   "metadata": {},
   "outputs": [],
   "source": [
    "#Create a dataframe from the JSON formatted data\n",
    "dfall = pd.DataFrame(results)"
   ]
  },
  {
   "cell_type": "code",
   "execution_count": 13,
   "id": "swiss-ecology",
   "metadata": {},
   "outputs": [
    {
     "name": "stdout",
     "output_type": "stream",
     "text": [
      "50 records removed, 226 unique records remain\n"
     ]
    }
   ],
   "source": [
    "#Remove duplicates\n",
    "dfunique = dfall.drop_duplicates(subset='id', keep=\"first\")\n",
    "print(len(dfall)-len(dfunique),'records removed,',len(dfunique),'unique records remain')"
   ]
  },
  {
   "cell_type": "code",
   "execution_count": 17,
   "id": "civil-fishing",
   "metadata": {},
   "outputs": [
    {
     "name": "stdout",
     "output_type": "stream",
     "text": [
      "0 records removed, 226 unique records remain\n"
     ]
    },
    {
     "name": "stderr",
     "output_type": "stream",
     "text": [
      "c:\\users\\andre.desktop-dfg3gu2\\appdata\\local\\programs\\python\\python39\\lib\\site-packages\\pandas\\core\\frame.py:4524: SettingWithCopyWarning: \n",
      "A value is trying to be set on a copy of a slice from a DataFrame\n",
      "\n",
      "See the caveats in the documentation: https://pandas.pydata.org/pandas-docs/stable/user_guide/indexing.html#returning-a-view-versus-a-copy\n",
      "  return super().replace(\n"
     ]
    }
   ],
   "source": [
    "#Remove records that have a handle not a doi - this doesn't work and you don't need to do this\n",
    "#nan_value = float(\"NaN\")\n",
    "#dfuniquedoi = dfunique.copy()\n",
    "#dfuniquedoi.replace(\"\", nan_value, inplace=True) #Replace blanks with nan\n",
    "#dfuniquedoi.dropna(subset = [\"doi\"])\n",
    "#print(len(dfunique)-len(dfuniquedoi),'records removed,',len(dfuniquedoi),'unique records remain')"
   ]
  },
  {
   "cell_type": "code",
   "execution_count": 19,
   "id": "absolute-throw",
   "metadata": {},
   "outputs": [],
   "source": [
    "#Save a file of all the metadata\n",
    "save_file = dfunique.to_csv('pub-health-reports-'+str(datetime.datetime.now().strftime(\"%Y-%m-%d\"))+'.csv')"
   ]
  },
  {
   "cell_type": "code",
   "execution_count": 19,
   "id": "respiratory-parker",
   "metadata": {},
   "outputs": [],
   "source": [
    "#Open a file if needed\n",
    "dfunique = pd.read_csv('pub-health-reports-07-01.csv',encoding='utf8')"
   ]
  },
  {
   "cell_type": "code",
   "execution_count": 21,
   "id": "retained-newcastle",
   "metadata": {},
   "outputs": [],
   "source": [
    "#Create a list of all the article ids\n",
    "article_ids = dfunique['id'].tolist()"
   ]
  },
  {
   "cell_type": "code",
   "execution_count": 22,
   "id": "temporal-breakfast",
   "metadata": {},
   "outputs": [
    {
     "data": {
      "text/plain": [
       "226"
      ]
     },
     "execution_count": 22,
     "metadata": {},
     "output_type": "execute_result"
    }
   ],
   "source": [
    "#article_ids2 = article_ids[12679:16047]\n",
    "len(article_ids)"
   ]
  },
  {
   "cell_type": "code",
   "execution_count": 23,
   "id": "blond-assist",
   "metadata": {},
   "outputs": [
    {
     "name": "stdout",
     "output_type": "stream",
     "text": [
      "The resulting dataframe has 226 rows\n"
     ]
    }
   ],
   "source": [
    "# Create a csv file, use an API to gather data, reopen the csv as a dataframe\n",
    "   \n",
    "\n",
    "#Create csv file\n",
    "metadata=open('article-stats'+str(datetime.datetime.now().strftime(\"%Y-%m-%d\"))+'.csv', 'w', newline='')\n",
    "#Write header row to csv\n",
    "csv.writer(metadata).writerow(['id','views','downloads','shares'])            \n",
    "\n",
    "            \n",
    "for l in article_ids:\n",
    "    s=requests.get('https://stats.figshare.com/total/views/article/'+ str(l),headers={\"mailto\":\"andrew@figshare.com\"})\n",
    "    r=json.loads(s.text)\n",
    "    t=requests.get('https://stats.figshare.com/total/downloads/article/'+ str(l),headers={\"mailto\":\"andrew@figshare.com\"})\n",
    "    q=json.loads(t.text)\n",
    "    u=requests.get('https://stats.figshare.com/total/shares/article/'+ str(l),headers={\"mailto\":\"andrew@figshare.com\"})\n",
    "    v=json.loads(u.text)\n",
    "    \n",
    "    #write the values to the csv file. Dates in json files are seconds from jan 1 1970 so datetime.datetime.fromtimestamp converts\n",
    "    csv.writer(metadata).writerow([\n",
    "        l,\n",
    "        r.get('totals'), #For any of these .get(), adding \",'N/A'\" will fill the null cells with 'N/A'. However, metadata assessment counts non nulls\n",
    "        q.get('totals'),\n",
    "        v.get('totals')]) \n",
    "    \n",
    "    \n",
    "metadata.close() #Close the output file, release all locks\n",
    "\n",
    "#Open up the same file as a dataframe. Encode cp1252 avoids a utf8 error.\n",
    "dfstats = pd.read_csv('article-stats'+str(datetime.datetime.now().strftime(\"%Y-%m-%d\"))+'.csv',encoding='utf8')\n",
    "\n",
    "print('The resulting dataframe has',len(dfstats),'rows')"
   ]
  },
  {
   "cell_type": "code",
   "execution_count": 13,
   "id": "unauthorized-blowing",
   "metadata": {},
   "outputs": [],
   "source": [
    "#Open existing file if needed\n",
    "dfstats = pd.read_csv('article-stats-all-2022-07-02.csv',encoding='utf8')"
   ]
  },
  {
   "cell_type": "code",
   "execution_count": 24,
   "id": "regulation-python",
   "metadata": {},
   "outputs": [],
   "source": [
    "df_full1 = dfunique.merge(dfstats, how='left', on='id').reset_index(drop=True) #left to keep all records, the stats frame is missing 3"
   ]
  },
  {
   "cell_type": "markdown",
   "id": "integrated-consensus",
   "metadata": {},
   "source": [
    "### Gather keyword, category, funder, license, number of files metadata"
   ]
  },
  {
   "cell_type": "code",
   "execution_count": 25,
   "id": "vietnamese-recommendation",
   "metadata": {},
   "outputs": [
    {
     "name": "stdout",
     "output_type": "stream",
     "text": [
      "226 records collected\n"
     ]
    }
   ],
   "source": [
    "def exists(obj, chain):\n",
    "    _key = chain.pop(0)\n",
    "    if _key in obj:\n",
    "        return exists(obj[_key], chain) if chain else obj[_key]\n",
    "\n",
    "#-----------------------------Create csv files---------------------------------------\n",
    "metadata=open('extra-metadata.csv', 'w', encoding='utf-8', newline='')\n",
    "#Write header row to csv\n",
    "\n",
    "csv.writer(metadata).writerow(['id','license','categories','tags','funders','count_references','count_files'])\n",
    "\n",
    "\n",
    "for i in article_ids:\n",
    "    record = json.loads(requests.get('https://api.figshare.com/v2/articles/' + str(i)).content)\n",
    "    #Get publish date, title, categories\n",
    "    #First get a list of category names and funder information from record\n",
    "    cats = []\n",
    "    for c in record['categories']:\n",
    "        cats.append(c['title'])\n",
    "    \n",
    "    funders = [] #funder name might be duplicated across multiple grants for an item. Create a dictionary to deduplicate later\n",
    "    for f in record['funding_list']:\n",
    "        entry = {\"id\":i, \"funder_name\":f['funder_name']}\n",
    "        funders.append(entry)\n",
    "\n",
    "    \n",
    "    #Then write to csv\n",
    "    csv.writer(metadata).writerow([\n",
    "                    i,\n",
    "                    record['license']['name'],\n",
    "                    cats,\n",
    "                    record['tags'],\n",
    "                    funders,\n",
    "                    len(exists(record,['references'])) if exists(record,['references'])!=None else 0,\n",
    "                    len(exists(record,['files'])) if exists(record,['files'])!=None else 0\n",
    "                    ])\n",
    "\n",
    "\n",
    "metadata.close() #Close the output file, release all locks\n",
    "\n",
    "\n",
    "#Load file just created as a dataframe\n",
    "metadata = pd.read_csv('extra-metadata.csv')\n",
    "\n",
    "\n",
    "print(len(metadata),\"records collected\")\n",
    "\n"
   ]
  },
  {
   "cell_type": "code",
   "execution_count": 26,
   "id": "numerous-heaven",
   "metadata": {},
   "outputs": [],
   "source": [
    "df_full = df_full1.merge(metadata, how='inner', on='id').reset_index(drop=True)"
   ]
  },
  {
   "cell_type": "code",
   "execution_count": 27,
   "id": "competent-header",
   "metadata": {},
   "outputs": [],
   "source": [
    "#Save the json.\n",
    "with open('pub-health-reports-funding'+str(datetime.datetime.now().strftime(\"%Y-%m-%d\"))+'.json', 'w') as f:\n",
    "    json.dump(funders, f)"
   ]
  },
  {
   "cell_type": "code",
   "execution_count": 5,
   "id": "agreed-fleece",
   "metadata": {},
   "outputs": [
    {
     "data": {
      "text/html": [
       "<div>\n",
       "<style scoped>\n",
       "    .dataframe tbody tr th:only-of-type {\n",
       "        vertical-align: middle;\n",
       "    }\n",
       "\n",
       "    .dataframe tbody tr th {\n",
       "        vertical-align: top;\n",
       "    }\n",
       "\n",
       "    .dataframe thead th {\n",
       "        text-align: right;\n",
       "    }\n",
       "</style>\n",
       "<table border=\"1\" class=\"dataframe\">\n",
       "  <thead>\n",
       "    <tr style=\"text-align: right;\">\n",
       "      <th></th>\n",
       "      <th>Unnamed: 0</th>\n",
       "      <th>project_id</th>\n",
       "      <th>id</th>\n",
       "      <th>title</th>\n",
       "      <th>doi</th>\n",
       "      <th>handle</th>\n",
       "      <th>url</th>\n",
       "      <th>published_date</th>\n",
       "      <th>thumb</th>\n",
       "      <th>defined_type</th>\n",
       "      <th>...</th>\n",
       "      <th>resource_doi</th>\n",
       "      <th>views</th>\n",
       "      <th>downloads</th>\n",
       "      <th>shares</th>\n",
       "      <th>license</th>\n",
       "      <th>categories</th>\n",
       "      <th>tags</th>\n",
       "      <th>funders</th>\n",
       "      <th>count_references</th>\n",
       "      <th>count_files</th>\n",
       "    </tr>\n",
       "  </thead>\n",
       "  <tbody>\n",
       "  </tbody>\n",
       "</table>\n",
       "<p>0 rows × 28 columns</p>\n",
       "</div>"
      ],
      "text/plain": [
       "Empty DataFrame\n",
       "Columns: [Unnamed: 0, project_id, id, title, doi, handle, url, published_date, thumb, defined_type, defined_type_name, group_id, url_private_api, url_public_api, url_private_html, url_public_html, timeline, resource_title, resource_doi, views, downloads, shares, license, categories, tags, funders, count_references, count_files]\n",
       "Index: []\n",
       "\n",
       "[0 rows x 28 columns]"
      ]
     },
     "execution_count": 5,
     "metadata": {},
     "output_type": "execute_result"
    }
   ],
   "source": [
    "#Are any missing stats?\n",
    "missing_stats = df_full[df_full['views'].isna()]\n",
    "missing_stats.head()"
   ]
  },
  {
   "cell_type": "code",
   "execution_count": 28,
   "id": "chief-ceiling",
   "metadata": {},
   "outputs": [],
   "source": [
    "#Save a file of all the metadata\n",
    "save_file = df_full.to_csv('RAW-pub-health-reports-'+str(datetime.datetime.now().strftime(\"%Y-%m-%d\"))+'.csv')"
   ]
  },
  {
   "cell_type": "markdown",
   "id": "atlantic-walker",
   "metadata": {},
   "source": [
    "## Format dates and time related columns"
   ]
  },
  {
   "cell_type": "code",
   "execution_count": 2,
   "id": "mobile-partition",
   "metadata": {},
   "outputs": [
    {
     "data": {
      "text/plain": [
       "226"
      ]
     },
     "execution_count": 2,
     "metadata": {},
     "output_type": "execute_result"
    }
   ],
   "source": [
    "#Open a file if needed\n",
    "df_full = pd.read_csv('RAW-pub-health-reports-2022-07-15.csv',encoding='utf8')\n",
    "len(df_full)"
   ]
  },
  {
   "cell_type": "code",
   "execution_count": 3,
   "id": "sporting-deviation",
   "metadata": {},
   "outputs": [],
   "source": [
    "with open(\"pub-health-reports2022-07-15.json\", \"r\", encoding='utf8') as read_file: #Replace this with the filename of your choice\n",
    "    full_records = json.load(read_file)\n"
   ]
  },
  {
   "cell_type": "code",
   "execution_count": 5,
   "id": "thermal-pitch",
   "metadata": {},
   "outputs": [
    {
     "name": "stdout",
     "output_type": "stream",
     "text": [
      "Dates split out and merged, 226 records in dataframe\n"
     ]
    }
   ],
   "source": [
    "#The dates are all contained within one column called 'timeline'. Flatten that column and associate the values\n",
    "#with the proper article id in a new dataframe\n",
    "\n",
    "temp_date_list = []\n",
    "\n",
    "for item in full_records:\n",
    "    dateitem = item['timeline']\n",
    "    dateitem['id'] = item['id']\n",
    "    #dateitem['doi'] = item['doi']\n",
    "    temp_date_list.append(dateitem)\n",
    "\n",
    "df_dates = pd.json_normalize(\n",
    "    temp_date_list \n",
    ")\n",
    "\n",
    "#Have to de-duplicate to match df_full\n",
    "df_ids_unique = df_dates.drop_duplicates(subset='id', keep=\"first\")\n",
    "#Remove records that have a handle not a doi\n",
    "#df_dates_full = dfunique[dfunique['doi'] != \"\"]\n",
    "\n",
    "\n",
    "#Merge the dataframes\n",
    "df_full = df_full.merge(df_ids_unique, how='left', on='id').reset_index(drop=True)\n",
    "\n",
    "print(\"Dates split out and merged,\",len(df_full),'records in dataframe')"
   ]
  },
  {
   "cell_type": "markdown",
   "id": "dietary-switzerland",
   "metadata": {},
   "source": [
    "### Calculate views per month since posted"
   ]
  },
  {
   "cell_type": "code",
   "execution_count": 6,
   "id": "assigned-training",
   "metadata": {},
   "outputs": [
    {
     "name": "stderr",
     "output_type": "stream",
     "text": [
      "<ipython-input-6-358a186d92db>:23: UserWarning: FixedFormatter should only be used together with FixedLocator\n",
      "  ax.set_yticklabels(ax.get_yticks(), fontsize = 12)\n"
     ]
    },
    {
     "data": {
      "text/plain": [
       "[Text(0, 0.0, '0.0'),\n",
       " Text(0, 10.0, '10.0'),\n",
       " Text(0, 20.0, '20.0'),\n",
       " Text(0, 30.0, '30.0'),\n",
       " Text(0, 40.0, '40.0'),\n",
       " Text(0, 50.0, '50.0'),\n",
       " Text(0, 60.0, '60.0'),\n",
       " Text(0, 70.0, '70.0'),\n",
       " Text(0, 80.0, '80.0')]"
      ]
     },
     "execution_count": 6,
     "metadata": {},
     "output_type": "execute_result"
    },
    {
     "data": {
      "image/png": "[encoded data removed]",
      "text/plain": [
       "<Figure size 1080x576 with 1 Axes>"
      ]
     },
     "metadata": {
      "needs_background": "light"
     },
     "output_type": "display_data"
    }
   ],
   "source": [
    "#Use the posted date because the firstOnline date may not align with the actual Figshare record. \n",
    "#The posted date as this is the date posted on Figshare.\n",
    "\n",
    "#Add year and month posted columns\n",
    "df_full['year_posted'] = pd.DatetimeIndex(df_full['posted']).year\n",
    "df_full['month_posted'] = pd.DatetimeIndex(df_full['posted']).month\n",
    "\n",
    "#Another way to do it...Split the year out and add it as a column\n",
    "#year = df_full[\"firstOnline\"].str.split(\"-\", n = 1, expand = True)\n",
    "#df_full['year'] = year[0]\n",
    "\n",
    "#Group by year\n",
    "datechart = df_full.groupby(['year_posted']).count().reset_index()\n",
    "\n",
    "#Chart it all out\n",
    "#sns.color_palette(\"husl\", 8)\n",
    "plt.rcParams[\"figure.figsize\"] = (15,8)\n",
    "ax = sns.barplot(data=datechart, x=\"year_posted\", y=\"id\", palette=[\"C0\"])\n",
    "#ax.set(xlabel='year', ylabel='number of records published')\n",
    "ax.set_ylabel(\"number of records published\", fontsize = 14)\n",
    "ax.set_xlabel(\"year_posted\", fontsize = 14)\n",
    "ax.set_xticklabels(datechart['year_posted'], fontsize = 10, rotation=60, ha=\"right\")\n",
    "ax.set_yticklabels(ax.get_yticks(), fontsize = 12)"
   ]
  },
  {
   "cell_type": "code",
   "execution_count": 7,
   "id": "flexible-concert",
   "metadata": {},
   "outputs": [],
   "source": [
    "\n",
    "#Look at views per month\n",
    "\n",
    "# Could use this: current_year = datetime.datetime.now().year but I hard coded in the month and year for the dataset\n",
    "\n",
    "def calc(row):\n",
    "    if row['month_posted'] != 7 and row['year_posted'] == 2022: #If the month is less than data collection month but same year\n",
    "        return (7-row['month_posted']) #return number of months posted\n",
    "    elif row['month_posted'] == 7 and row['year_posted'] == 2022: #If posted same month as data collection\n",
    "        return 0.5 #data was collected July 15 so if item posted in July 2022 just assign it 0.5\n",
    "    else:\n",
    "        return ((2022-(row['year_posted']+1))*12)+(12-row['month_posted'])+7 #add 1 to year posted, then subtract to get full years, then add the months from posted year, then months for current year\n",
    "\n",
    "df_full['months_since_posted'] = df_full.apply(calc, axis=1)\n",
    "    \n",
    "df_full['views_per_month'] = df_full['views']/df_full['months_since_posted']\n",
    "#df_full['log_views_per_month'] = np.log(dfviews['views_per_month'])\n",
    "#df['downloads_per_month'] = df['downloads']/df['months_since_posted']\n"
   ]
  },
  {
   "cell_type": "code",
   "execution_count": 8,
   "id": "creative-independence",
   "metadata": {},
   "outputs": [],
   "source": [
    "#Save a file of all the metadata with dates separated\n",
    "\n",
    "save_file = df_full.to_csv('MASTER-pub-health-reports-2022-07-15.csv')\n",
    "#save_file = df_full.to_csv('MASTER-pub-health-reports-'+str(datetime.datetime.now().strftime(\"%Y-%m-%d\"))+'.csv')"
   ]
  },
  {
   "cell_type": "code",
   "execution_count": 11,
   "id": "technological-german",
   "metadata": {},
   "outputs": [
    {
     "name": "stdout",
     "output_type": "stream",
     "text": [
      "<class 'pandas.core.frame.DataFrame'>\n",
      "Int64Index: 226 entries, 0 to 225\n",
      "Data columns (total 35 columns):\n",
      " #   Column                Non-Null Count  Dtype  \n",
      "---  ------                --------------  -----  \n",
      " 0   Unnamed: 0            226 non-null    int64  \n",
      " 1   project_id            66 non-null     float64\n",
      " 2   id                    226 non-null    int64  \n",
      " 3   title                 226 non-null    object \n",
      " 4   doi                   195 non-null    object \n",
      " 5   handle                31 non-null     object \n",
      " 6   url                   226 non-null    object \n",
      " 7   published_date        226 non-null    object \n",
      " 8   thumb                 202 non-null    object \n",
      " 9   defined_type          226 non-null    int64  \n",
      " 10  defined_type_name     226 non-null    object \n",
      " 11  group_id              226 non-null    int64  \n",
      " 12  url_private_api       226 non-null    object \n",
      " 13  url_public_api        226 non-null    object \n",
      " 14  url_private_html      226 non-null    object \n",
      " 15  url_public_html       226 non-null    object \n",
      " 16  timeline              226 non-null    object \n",
      " 17  resource_title        18 non-null     object \n",
      " 18  resource_doi          18 non-null     object \n",
      " 19  views                 226 non-null    int64  \n",
      " 20  downloads             226 non-null    int64  \n",
      " 21  shares                226 non-null    int64  \n",
      " 22  license               226 non-null    object \n",
      " 23  categories            226 non-null    object \n",
      " 24  tags                  226 non-null    object \n",
      " 25  funders               226 non-null    object \n",
      " 26  count_references      226 non-null    int64  \n",
      " 27  count_files           226 non-null    int64  \n",
      " 28  posted                226 non-null    object \n",
      " 29  firstOnline           226 non-null    object \n",
      " 30  publisherPublication  38 non-null     object \n",
      " 31  year_posted           226 non-null    int64  \n",
      " 32  month_posted          226 non-null    int64  \n",
      " 33  months_since_posted   226 non-null    float64\n",
      " 34  views_per_month       226 non-null    float64\n",
      "dtypes: float64(3), int64(11), object(21)\n",
      "memory usage: 63.6+ KB\n"
     ]
    }
   ],
   "source": [
    "df_full.info()"
   ]
  },
  {
   "cell_type": "markdown",
   "id": "serial-hydrogen",
   "metadata": {},
   "source": [
    "# Analysis"
   ]
  },
  {
   "cell_type": "code",
   "execution_count": 2,
   "id": "strategic-identification",
   "metadata": {},
   "outputs": [],
   "source": [
    "#Open a file if needed\n",
    "df_full = pd.read_csv('MASTER-pub-health-reports-2022-07-15.csv',encoding='utf8')\n",
    "len(df_full)"
   ]
  },
  {
   "cell_type": "code",
   "execution_count": 12,
   "id": "perceived-ghana",
   "metadata": {},
   "outputs": [
    {
     "name": "stdout",
     "output_type": "stream",
     "text": [
      "Earliest date: 2016-10-04T01:14:48 ; Most recent date: 2022-07-12T00:23:48\n"
     ]
    }
   ],
   "source": [
    "post_dates = df_full['posted'].tolist()\n",
    "post_dates.sort()\n",
    "first_date = post_dates[0]\n",
    "last_date = post_dates[-1]\n",
    "print('Earliest date:',first_date,'; Most recent date:',last_date)"
   ]
  },
  {
   "cell_type": "code",
   "execution_count": 13,
   "id": "possible-orleans",
   "metadata": {},
   "outputs": [
    {
     "name": "stdout",
     "output_type": "stream",
     "text": [
      "Earliest date: 2003-01-01T00:00:00 ; Most recent date: 2022-07-12T00:23:48\n"
     ]
    }
   ],
   "source": [
    "online_dates = df_full['firstOnline'].tolist()\n",
    "online_dates.sort()\n",
    "first_date = online_dates[0]\n",
    "last_date = online_dates[-1]\n",
    "print('Earliest date:',first_date,'; Most recent date:',last_date)"
   ]
  },
  {
   "cell_type": "code",
   "execution_count": 14,
   "id": "killing-bridal",
   "metadata": {},
   "outputs": [
    {
     "name": "stdout",
     "output_type": "stream",
     "text": [
      "Earliest date: 2016-10-04T01:14:48Z ; Most recent date: 2022-07-12T00:23:48Z\n"
     ]
    }
   ],
   "source": [
    "pub_dates = df_full['published_date'].tolist()\n",
    "pub_dates.sort()\n",
    "first_date = pub_dates[0]\n",
    "last_date = pub_dates[-1]\n",
    "print('Earliest date:',first_date,'; Most recent date:',last_date)"
   ]
  },
  {
   "cell_type": "code",
   "execution_count": 19,
   "id": "first-episode",
   "metadata": {},
   "outputs": [
    {
     "data": {
      "text/plain": [
       "report    226\n",
       "Name: defined_type_name, dtype: int64"
      ]
     },
     "execution_count": 19,
     "metadata": {},
     "output_type": "execute_result"
    }
   ],
   "source": [
    "#Look at item type list\n",
    "df_full['defined_type_name'].value_counts()"
   ]
  },
  {
   "cell_type": "code",
   "execution_count": 20,
   "id": "approximate-individual",
   "metadata": {},
   "outputs": [
    {
     "data": {
      "text/plain": [
       "In Copyright                    59\n",
       "CC BY 4.0                       56\n",
       "CC BY-NC-SA 4.0                 37\n",
       "CQUniversity General 1.0        25\n",
       "CC BY-NC-ND 4.0                 20\n",
       "CC BY-NC 4.0                     8\n",
       "CC BY-ND 4.0                     8\n",
       "CQUniversity Open Access 1.0     7\n",
       "CC BY-SA 4.0                     3\n",
       "CC BY 3.0                        1\n",
       "Public Domain                    1\n",
       "All Rights Reserved 1.0          1\n",
       "Name: license, dtype: int64"
      ]
     },
     "execution_count": 20,
     "metadata": {},
     "output_type": "execute_result"
    }
   ],
   "source": [
    "#Look at license list\n",
    "df_full['license'].value_counts()"
   ]
  },
  {
   "cell_type": "code",
   "execution_count": 21,
   "id": "productive-criminal",
   "metadata": {},
   "outputs": [],
   "source": [
    "#Replace the [] with NaN in the funders col. This just has linked funder names\n",
    "df_full['funders'].replace('[]', np.NaN, inplace = True)\n"
   ]
  },
  {
   "cell_type": "code",
   "execution_count": 23,
   "id": "distributed-interval",
   "metadata": {},
   "outputs": [
    {
     "name": "stdout",
     "output_type": "stream",
     "text": [
      "142 records list at least one funder\n"
     ]
    }
   ],
   "source": [
    "#Count references to at least one funder. I manually counted links to Dimentions = 29\n",
    "print(df_full['funders'].count(),'records list at least one funder')"
   ]
  },
  {
   "cell_type": "code",
   "execution_count": 24,
   "id": "different-allergy",
   "metadata": {},
   "outputs": [
    {
     "data": {
      "text/plain": [
       "1.261061946902655"
      ]
     },
     "execution_count": 24,
     "metadata": {},
     "output_type": "execute_result"
    }
   ],
   "source": [
    "mean_files = df_full['count_files'].mean()\n",
    "mean_files"
   ]
  },
  {
   "cell_type": "code",
   "execution_count": 25,
   "id": "norwegian-carpet",
   "metadata": {},
   "outputs": [
    {
     "name": "stdout",
     "output_type": "stream",
     "text": [
      "183 records with one or fewer files; 22 with zero files; 43 filesets\n"
     ]
    }
   ],
   "source": [
    "#Number of records with 1 or fewer files\n",
    "print(len(df_full[df_full['count_files'] <= 1]),'records with one or fewer files;',\n",
    "      len(df_full[df_full['count_files'] == 0]),'with zero files;',\n",
    "      len(df_full[df_full['count_files'] > 1]),'filesets')\n",
    "\n",
    "      "
   ]
  },
  {
   "cell_type": "code",
   "execution_count": 27,
   "id": "applied-daily",
   "metadata": {},
   "outputs": [
    {
     "data": {
      "text/plain": [
       "1581"
      ]
     },
     "execution_count": 27,
     "metadata": {},
     "output_type": "execute_result"
    }
   ],
   "source": [
    "tags = df_full['tags'].to_frame()\n",
    "\n",
    "#Clean up the strings so each value is words separated by commas and a space\n",
    "tags['tags_clean'] = tags['tags'].str.replace('[','', regex=False)\n",
    "tags['tags_clean'] = tags['tags_clean'].str.replace(']','', regex=False)\n",
    "tags['tags_clean'] = tags['tags_clean'].str.replace(\"'\",\"\", regex=False)\n",
    "\n",
    "#Create a list to hold the list of words for each row, the tags are added to the sublists based on the ', '\n",
    "tags_clean = []\n",
    "for y in tags['tags_clean']:\n",
    "    value = y.split(', ')\n",
    "    tags_clean.append(value)\n",
    "\n",
    "#Make the list of lists to one list:\n",
    "all_tags = [word for tag in tags_clean for word in tag]\n",
    "len(all_tags)"
   ]
  },
  {
   "cell_type": "code",
   "execution_count": 28,
   "id": "combined-battle",
   "metadata": {},
   "outputs": [],
   "source": [
    "all_tags_df = pd.DataFrame(all_tags, columns = ['tag'])\n",
    "tops = all_tags_df.value_counts()"
   ]
  },
  {
   "cell_type": "code",
   "execution_count": 29,
   "id": "national-spare",
   "metadata": {},
   "outputs": [
    {
     "data": {
      "text/plain": [
       "tag                                                       \n",
       "Public Health and Health Services not elsewhere classified    34\n",
       "Epidemiology                                                  28\n",
       "Built Environment and Design not elsewhere classified         26\n",
       "Urban Policy                                                  25\n",
       "Urban Analysis and Development                                25\n",
       "Urban Design                                                  25\n",
       "Human Geography not elsewhere classified                      25\n",
       "Health and Community Services                                 17\n",
       "Health Care                                                   14\n",
       "Health Information Systems (incl. Surveillance)               13\n",
       "Health Care Administration                                    13\n",
       "10,000 steps                                                  11\n",
       "Physical activity                                             11\n",
       "Community Child Health                                        11\n",
       "Primary Health Care                                            9\n",
       "Health Policy                                                  9\n",
       "Health                                                         8\n",
       "Health Promotion                                               7\n",
       "nutrition                                                      7\n",
       "COVID-19                                                       7\n",
       "dtype: int64"
      ]
     },
     "execution_count": 29,
     "metadata": {},
     "output_type": "execute_result"
    }
   ],
   "source": [
    "tops.head(20)"
   ]
  },
  {
   "cell_type": "code",
   "execution_count": 30,
   "id": "valuable-delivery",
   "metadata": {},
   "outputs": [
    {
     "data": {
      "text/plain": [
       "0"
      ]
     },
     "execution_count": 30,
     "metadata": {},
     "output_type": "execute_result"
    }
   ],
   "source": [
    "#How many records are on figshare.com, that is, don't have a group_id\n",
    "test = df_full['group_id'].isna().sum()\n",
    "test"
   ]
  },
  {
   "cell_type": "code",
   "execution_count": null,
   "id": "collectible-dating",
   "metadata": {},
   "outputs": [],
   "source": []
  }
 ],
 "metadata": {
  "kernelspec": {
   "display_name": "Python 3",
   "language": "python",
   "name": "python3"
  },
  "language_info": {
   "codemirror_mode": {
    "name": "ipython",
    "version": 3
   },
   "file_extension": ".py",
   "mimetype": "text/x-python",
   "name": "python",
   "nbconvert_exporter": "python",
   "pygments_lexer": "ipython3",
   "version": "3.9.1"
  }
 },
 "nbformat": 4,
 "nbformat_minor": 5
}
