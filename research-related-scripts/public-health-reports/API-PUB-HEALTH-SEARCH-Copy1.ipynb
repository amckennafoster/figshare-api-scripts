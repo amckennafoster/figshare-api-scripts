{
 "cells": [
  {
   "cell_type": "markdown",
   "id": "talented-holmes",
   "metadata": {},
   "source": [
    "# Summarize reports related to public health"
   ]
  },
  {
   "cell_type": "markdown",
   "id": "touched-guidance",
   "metadata": {},
   "source": [
    "## Import libraries"
   ]
  },
  {
   "cell_type": "code",
   "execution_count": 1,
   "id": "f7e37a43",
   "metadata": {},
   "outputs": [],
   "source": [
    "import json\n",
    "import requests\n",
    "import pandas as pd\n",
    "import datetime\n",
    "import csv\n",
    "import numpy as np\n",
    "import matplotlib.pyplot as plt\n",
    "import seaborn as sns"
   ]
  },
  {
   "cell_type": "code",
   "execution_count": null,
   "id": "stock-market",
   "metadata": {},
   "outputs": [],
   "source": [
    "#********************DON'T NEED TO RUN AGAIN*********************\n",
    "#dfmetadata = pd.read_csv('MASTER-pub-health-reports-2022-07-15.csv',encoding='utf8')\n",
    "#dfalt = pd.read_csv('Altmetric-report-22-08-17.csv',encoding='utf8')\n",
    "#df_full = dfmetadata.merge(dfalt, how='left', on='doi').reset_index(drop=True)\n",
    "#Save a file of combined information\n",
    "#save_file = df_full.to_csv('ANALYSIS-pub-health-reports.csv')"
   ]
  },
  {
   "cell_type": "code",
   "execution_count": null,
   "id": "least-brown",
   "metadata": {},
   "outputs": [],
   "source": []
  },
  {
   "cell_type": "code",
   "execution_count": null,
   "id": "forced-reach",
   "metadata": {},
   "outputs": [],
   "source": []
  },
  {
   "cell_type": "markdown",
   "id": "serial-hydrogen",
   "metadata": {},
   "source": [
    "# Analysis"
   ]
  },
  {
   "cell_type": "code",
   "execution_count": 2,
   "id": "strategic-identification",
   "metadata": {},
   "outputs": [
    {
     "data": {
      "text/plain": [
       "226"
      ]
     },
     "execution_count": 2,
     "metadata": {},
     "output_type": "execute_result"
    }
   ],
   "source": [
    "#Open a file if needed\n",
    "df_full = pd.read_csv('ANALYSIS-pub-health-reports.csv',encoding='utf8')\n",
    "len(df_full)"
   ]
  },
  {
   "cell_type": "code",
   "execution_count": 3,
   "id": "perceived-ghana",
   "metadata": {},
   "outputs": [
    {
     "name": "stdout",
     "output_type": "stream",
     "text": [
      "Earliest date: 2016-10-04T01:14:48 ; Most recent date: 2022-07-12T00:23:48\n"
     ]
    }
   ],
   "source": [
    "post_dates = df_full['posted'].tolist()\n",
    "post_dates.sort()\n",
    "first_date = post_dates[0]\n",
    "last_date = post_dates[-1]\n",
    "print('Earliest date:',first_date,'; Most recent date:',last_date)"
   ]
  },
  {
   "cell_type": "code",
   "execution_count": 13,
   "id": "possible-orleans",
   "metadata": {},
   "outputs": [
    {
     "name": "stdout",
     "output_type": "stream",
     "text": [
      "Earliest date: 2003-01-01T00:00:00 ; Most recent date: 2022-07-12T00:23:48\n"
     ]
    }
   ],
   "source": [
    "online_dates = df_full['firstOnline'].tolist()\n",
    "online_dates.sort()\n",
    "first_date = online_dates[0]\n",
    "last_date = online_dates[-1]\n",
    "print('Earliest date:',first_date,'; Most recent date:',last_date)"
   ]
  },
  {
   "cell_type": "code",
   "execution_count": 14,
   "id": "killing-bridal",
   "metadata": {},
   "outputs": [
    {
     "name": "stdout",
     "output_type": "stream",
     "text": [
      "Earliest date: 2016-10-04T01:14:48Z ; Most recent date: 2022-07-12T00:23:48Z\n"
     ]
    }
   ],
   "source": [
    "pub_dates = df_full['published_date'].tolist()\n",
    "pub_dates.sort()\n",
    "first_date = pub_dates[0]\n",
    "last_date = pub_dates[-1]\n",
    "print('Earliest date:',first_date,'; Most recent date:',last_date)"
   ]
  },
  {
   "cell_type": "code",
   "execution_count": 19,
   "id": "first-episode",
   "metadata": {},
   "outputs": [
    {
     "data": {
      "text/plain": [
       "report    226\n",
       "Name: defined_type_name, dtype: int64"
      ]
     },
     "execution_count": 19,
     "metadata": {},
     "output_type": "execute_result"
    }
   ],
   "source": [
    "#Look at item type list\n",
    "df_full['defined_type_name'].value_counts()"
   ]
  },
  {
   "cell_type": "code",
   "execution_count": 4,
   "id": "approximate-individual",
   "metadata": {},
   "outputs": [
    {
     "data": {
      "text/plain": [
       "In Copyright                    59\n",
       "CC BY 4.0                       56\n",
       "CC BY-NC-SA 4.0                 37\n",
       "CQUniversity General 1.0        25\n",
       "CC BY-NC-ND 4.0                 20\n",
       "CC BY-NC 4.0                     8\n",
       "CC BY-ND 4.0                     8\n",
       "CQUniversity Open Access 1.0     7\n",
       "CC BY-SA 4.0                     3\n",
       "All Rights Reserved 1.0          1\n",
       "Public Domain                    1\n",
       "CC BY 3.0                        1\n",
       "Name: license, dtype: int64"
      ]
     },
     "execution_count": 4,
     "metadata": {},
     "output_type": "execute_result"
    }
   ],
   "source": [
    "#Look at license list\n",
    "df_full['license'].value_counts()"
   ]
  },
  {
   "cell_type": "code",
   "execution_count": 5,
   "id": "productive-criminal",
   "metadata": {},
   "outputs": [],
   "source": [
    "#Replace the [] with NaN in the funders col. This just has linked funder names\n",
    "df_full['funders'].replace('[]', np.NaN, inplace = True)\n"
   ]
  },
  {
   "cell_type": "code",
   "execution_count": 6,
   "id": "distributed-interval",
   "metadata": {},
   "outputs": [
    {
     "name": "stdout",
     "output_type": "stream",
     "text": [
      "142 records list at least one funder\n"
     ]
    }
   ],
   "source": [
    "#Count references to at least one funder. I manually counted links to Dimentions = 29\n",
    "print(df_full['funders'].count(),'records list at least one funder')"
   ]
  },
  {
   "cell_type": "code",
   "execution_count": 7,
   "id": "different-allergy",
   "metadata": {},
   "outputs": [
    {
     "data": {
      "text/plain": [
       "1.261061946902655"
      ]
     },
     "execution_count": 7,
     "metadata": {},
     "output_type": "execute_result"
    }
   ],
   "source": [
    "mean_files = df_full['count_files'].mean()\n",
    "mean_files"
   ]
  },
  {
   "cell_type": "code",
   "execution_count": 8,
   "id": "norwegian-carpet",
   "metadata": {},
   "outputs": [
    {
     "name": "stdout",
     "output_type": "stream",
     "text": [
      "183 records with one or fewer files; 22 with zero files; 43 filesets\n"
     ]
    }
   ],
   "source": [
    "#Number of records with 1 or fewer files\n",
    "print(len(df_full[df_full['count_files'] <= 1]),'records with one or fewer files;',\n",
    "      len(df_full[df_full['count_files'] == 0]),'with zero files;',\n",
    "      len(df_full[df_full['count_files'] > 1]),'filesets')\n",
    "\n",
    "      "
   ]
  },
  {
   "cell_type": "code",
   "execution_count": 27,
   "id": "applied-daily",
   "metadata": {},
   "outputs": [
    {
     "data": {
      "text/plain": [
       "1581"
      ]
     },
     "execution_count": 27,
     "metadata": {},
     "output_type": "execute_result"
    }
   ],
   "source": [
    "tags = df_full['tags'].to_frame()\n",
    "\n",
    "#Clean up the strings so each value is words separated by commas and a space\n",
    "tags['tags_clean'] = tags['tags'].str.replace('[','', regex=False)\n",
    "tags['tags_clean'] = tags['tags_clean'].str.replace(']','', regex=False)\n",
    "tags['tags_clean'] = tags['tags_clean'].str.replace(\"'\",\"\", regex=False)\n",
    "\n",
    "#Create a list to hold the list of words for each row, the tags are added to the sublists based on the ', '\n",
    "tags_clean = []\n",
    "for y in tags['tags_clean']:\n",
    "    value = y.split(', ')\n",
    "    tags_clean.append(value)\n",
    "\n",
    "#Make the list of lists to one list:\n",
    "all_tags = [word for tag in tags_clean for word in tag]\n",
    "len(all_tags)"
   ]
  },
  {
   "cell_type": "code",
   "execution_count": 28,
   "id": "combined-battle",
   "metadata": {},
   "outputs": [],
   "source": [
    "all_tags_df = pd.DataFrame(all_tags, columns = ['tag'])\n",
    "tops = all_tags_df.value_counts()"
   ]
  },
  {
   "cell_type": "code",
   "execution_count": 29,
   "id": "national-spare",
   "metadata": {},
   "outputs": [
    {
     "data": {
      "text/plain": [
       "tag                                                       \n",
       "Public Health and Health Services not elsewhere classified    34\n",
       "Epidemiology                                                  28\n",
       "Built Environment and Design not elsewhere classified         26\n",
       "Urban Policy                                                  25\n",
       "Urban Analysis and Development                                25\n",
       "Urban Design                                                  25\n",
       "Human Geography not elsewhere classified                      25\n",
       "Health and Community Services                                 17\n",
       "Health Care                                                   14\n",
       "Health Information Systems (incl. Surveillance)               13\n",
       "Health Care Administration                                    13\n",
       "10,000 steps                                                  11\n",
       "Physical activity                                             11\n",
       "Community Child Health                                        11\n",
       "Primary Health Care                                            9\n",
       "Health Policy                                                  9\n",
       "Health                                                         8\n",
       "Health Promotion                                               7\n",
       "nutrition                                                      7\n",
       "COVID-19                                                       7\n",
       "dtype: int64"
      ]
     },
     "execution_count": 29,
     "metadata": {},
     "output_type": "execute_result"
    }
   ],
   "source": [
    "tops.head(20)"
   ]
  },
  {
   "cell_type": "code",
   "execution_count": 30,
   "id": "valuable-delivery",
   "metadata": {},
   "outputs": [
    {
     "data": {
      "text/plain": [
       "0"
      ]
     },
     "execution_count": 30,
     "metadata": {},
     "output_type": "execute_result"
    }
   ],
   "source": [
    "#How many records are on figshare.com, that is, don't have a group_id\n",
    "test = df_full['group_id'].isna().sum()\n",
    "test"
   ]
  },
  {
   "cell_type": "code",
   "execution_count": 9,
   "id": "impressive-earth",
   "metadata": {},
   "outputs": [
    {
     "name": "stdout",
     "output_type": "stream",
     "text": [
      "<class 'pandas.core.frame.DataFrame'>\n",
      "RangeIndex: 226 entries, 0 to 225\n",
      "Data columns (total 62 columns):\n",
      " #   Column                          Non-Null Count  Dtype  \n",
      "---  ------                          --------------  -----  \n",
      " 0   Unnamed: 0                      226 non-null    int64  \n",
      " 1   index                           226 non-null    int64  \n",
      " 2   project_id                      66 non-null     float64\n",
      " 3   id                              226 non-null    int64  \n",
      " 4   title                           226 non-null    object \n",
      " 5   doiVersioned                    195 non-null    object \n",
      " 6   doi                             195 non-null    object \n",
      " 7   handle                          31 non-null     object \n",
      " 8   url                             226 non-null    object \n",
      " 9   published_date                  226 non-null    object \n",
      " 10  thumb                           202 non-null    object \n",
      " 11  defined_type                    226 non-null    int64  \n",
      " 12  defined_type_name               226 non-null    object \n",
      " 13  group_id                        226 non-null    int64  \n",
      " 14  url_private_api                 226 non-null    object \n",
      " 15  url_public_api                  226 non-null    object \n",
      " 16  url_private_html                226 non-null    object \n",
      " 17  url_public_html                 226 non-null    object \n",
      " 18  timeline                        226 non-null    object \n",
      " 19  resource_title                  18 non-null     object \n",
      " 20  resource_doi                    18 non-null     object \n",
      " 21  views                           226 non-null    int64  \n",
      " 22  downloads                       226 non-null    int64  \n",
      " 23  shares                          226 non-null    int64  \n",
      " 24  license                         226 non-null    object \n",
      " 25  categories                      226 non-null    object \n",
      " 26  tags                            226 non-null    object \n",
      " 27  funders                         142 non-null    object \n",
      " 28  count_references                226 non-null    int64  \n",
      " 29  count_files                     226 non-null    int64  \n",
      " 30  posted                          226 non-null    object \n",
      " 31  firstOnline                     226 non-null    object \n",
      " 32  publisherPublication            38 non-null     object \n",
      " 33  year_posted                     226 non-null    int64  \n",
      " 34  month_posted                    226 non-null    int64  \n",
      " 35  months_since_posted             226 non-null    float64\n",
      " 36  views_per_month                 226 non-null    float64\n",
      " 37  Altmetric Attention Score       51 non-null     float64\n",
      " 38  Title                           51 non-null     object \n",
      " 39  Collection Title                43 non-null     object \n",
      " 40  Output Type                     51 non-null     object \n",
      " 41  News mentions                   51 non-null     float64\n",
      " 42  Blog mentions                   51 non-null     float64\n",
      " 43  Policy mentions                 51 non-null     float64\n",
      " 44  Patent mentions                 51 non-null     float64\n",
      " 45  Twitter mentions                51 non-null     float64\n",
      " 46  Peer review mentions            51 non-null     float64\n",
      " 47  Weibo mentions                  51 non-null     float64\n",
      " 48  Facebook mentions               51 non-null     float64\n",
      " 49  Wikipedia mentions              51 non-null     float64\n",
      " 50  GooglePlus mentions             51 non-null     float64\n",
      " 51  LinkedIn mentions               51 non-null     float64\n",
      " 52  Reddit mentions                 51 non-null     float64\n",
      " 53  Pinterest mentions              51 non-null     float64\n",
      " 54  F1000 mentions                  51 non-null     float64\n",
      " 55  QandA mentions                  51 non-null     float64\n",
      " 56  Video mentions                  51 non-null     float64\n",
      " 57  Syllabi mentions                51 non-null     float64\n",
      " 58  Number of Mendeley readers      51 non-null     float64\n",
      " 59  Number of Dimensions citations  51 non-null     float64\n",
      " 60  Details Page URL                51 non-null     object \n",
      " 61  Badge URL                       51 non-null     object \n",
      "dtypes: float64(23), int64(12), object(27)\n",
      "memory usage: 109.6+ KB\n"
     ]
    }
   ],
   "source": [
    "df_full.info()"
   ]
  },
  {
   "cell_type": "code",
   "execution_count": 11,
   "id": "collectible-dating",
   "metadata": {},
   "outputs": [
    {
     "name": "stdout",
     "output_type": "stream",
     "text": [
      "120761 views and 50830 downloads\n"
     ]
    }
   ],
   "source": [
    "views = df_full['views'].sum()\n",
    "downloads = df_full['downloads'].sum()\n",
    "print(views,'views and', downloads,'downloads')"
   ]
  },
  {
   "cell_type": "code",
   "execution_count": null,
   "id": "together-contractor",
   "metadata": {},
   "outputs": [],
   "source": []
  }
 ],
 "metadata": {
  "kernelspec": {
   "display_name": "Python 3",
   "language": "python",
   "name": "python3"
  },
  "language_info": {
   "codemirror_mode": {
    "name": "ipython",
    "version": 3
   },
   "file_extension": ".py",
   "mimetype": "text/x-python",
   "name": "python",
   "nbconvert_exporter": "python",
   "pygments_lexer": "ipython3",
   "version": "3.9.1"
  }
 },
 "nbformat": 4,
 "nbformat_minor": 5
}
