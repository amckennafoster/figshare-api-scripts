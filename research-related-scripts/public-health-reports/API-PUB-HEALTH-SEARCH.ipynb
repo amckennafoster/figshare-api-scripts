{
 "cells": [
  {
   "cell_type": "markdown",
   "id": "talented-holmes",
   "metadata": {},
   "source": [
    "# Gather reports related to public health"
   ]
  },
  {
   "cell_type": "markdown",
   "id": "touched-guidance",
   "metadata": {},
   "source": [
    "## Import libraries"
   ]
  },
  {
   "cell_type": "code",
   "execution_count": 1,
   "id": "f7e37a43",
   "metadata": {},
   "outputs": [],
   "source": [
    "import json\n",
    "import requests\n",
    "import pandas as pd\n",
    "import datetime\n",
    "import csv\n",
    "import numpy as np\n",
    "import matplotlib.pyplot as plt\n",
    "import seaborn as sns"
   ]
  },
  {
   "cell_type": "markdown",
   "id": "educated-share",
   "metadata": {},
   "source": [
    "## Set variables"
   ]
  },
  {
   "cell_type": "code",
   "execution_count": 2,
   "id": "62b4d3ec",
   "metadata": {},
   "outputs": [],
   "source": [
    "BASE_URL = \"https://api.figshare.com/v2\""
   ]
  },
  {
   "cell_type": "code",
   "execution_count": 3,
   "id": "concrete-seafood",
   "metadata": {},
   "outputs": [],
   "source": [
    "categories = [\"'Public Health and Health Services not elsewhere classified'\",\"'Health Promotion'\",\"'Public health not elsewhere classified'\",\"'Health Policy'\",\"'Health and Community Services'\",\n",
    "             \"'Urban planning and health'\",\"'Health and community services'\",\"'Indigenous health'\",\"'Health surveillance'\",\"'Global Indigenous studies health and wellbeing'\",\"'Community Child Health'\",\n",
    "             \"'Community child health'\"]\n",
    "\n"
   ]
  },
  {
   "cell_type": "code",
   "execution_count": 4,
   "id": "enhanced-evolution",
   "metadata": {},
   "outputs": [],
   "source": [
    "test = [\"'Community child health'\"]"
   ]
  },
  {
   "cell_type": "code",
   "execution_count": 7,
   "id": "b014b476",
   "metadata": {},
   "outputs": [
    {
     "name": "stdout",
     "output_type": "stream",
     "text": [
      "276 articles retrieved\n"
     ]
    }
   ],
   "source": [
    "#Gather basic metadata for items (articles) that meet your search criteria\n",
    "results = []\n",
    "for i in categories:\n",
    "    query = '{\"item_type\": 18, \"search_for\":\":category: ' + i + '\"}' #Search for reports\n",
    "    y = json.loads(query) #Figshare API requires json paramaters\n",
    "    for j in range(1,10):\n",
    "        records = json.loads(requests.post(BASE_URL + '/articles/search?page_size=1000&page={}'.format(j), params=y).content)\n",
    "        results.extend(records)\n",
    "    \n",
    "#See the number of articles\n",
    "print(len(results),'articles retrieved')"
   ]
  },
  {
   "cell_type": "code",
   "execution_count": 8,
   "id": "needed-hamilton",
   "metadata": {},
   "outputs": [],
   "source": [
    "#Save the json.\n",
    "with open('pub-health-reports'+str(datetime.datetime.now().strftime(\"%Y-%m-%d\"))+'.json', 'w') as f:\n",
    "    json.dump(results, f)"
   ]
  },
  {
   "cell_type": "code",
   "execution_count": 9,
   "id": "imported-subdivision",
   "metadata": {},
   "outputs": [],
   "source": [
    "#Create a dataframe from the JSON formatted data\n",
    "dfall = pd.DataFrame(results)"
   ]
  },
  {
   "cell_type": "code",
   "execution_count": 13,
   "id": "swiss-ecology",
   "metadata": {},
   "outputs": [
    {
     "name": "stdout",
     "output_type": "stream",
     "text": [
      "50 records removed, 226 unique records remain\n"
     ]
    }
   ],
   "source": [
    "dfunique = dfall.drop_duplicates(subset='id', keep=\"first\")\n",
    "print(len(dfall)-len(dfunique),'records removed,',len(dfunique),'unique records remain')"
   ]
  },
  {
   "cell_type": "code",
   "execution_count": 17,
   "id": "civil-fishing",
   "metadata": {},
   "outputs": [
    {
     "name": "stdout",
     "output_type": "stream",
     "text": [
      "0 records removed, 226 unique records remain\n"
     ]
    },
    {
     "name": "stderr",
     "output_type": "stream",
     "text": [
      "c:\\users\\andre.desktop-dfg3gu2\\appdata\\local\\programs\\python\\python39\\lib\\site-packages\\pandas\\core\\frame.py:4524: SettingWithCopyWarning: \n",
      "A value is trying to be set on a copy of a slice from a DataFrame\n",
      "\n",
      "See the caveats in the documentation: https://pandas.pydata.org/pandas-docs/stable/user_guide/indexing.html#returning-a-view-versus-a-copy\n",
      "  return super().replace(\n"
     ]
    }
   ],
   "source": [
    "#Remove records that have a handle not a doi\n",
    "nan_value = float(\"NaN\")\n",
    "dfuniquedoi = dfunique\n",
    "dfuniquedoi.replace(\"\", nan_value, inplace=True) #Replace blanks with nan\n",
    "dfuniquedoi.dropna(subset = [\"doi\"])\n",
    "print(len(dfunique)-len(dfuniquedoi),'records removed,',len(dfuniquedoi),'unique records remain')"
   ]
  },
  {
   "cell_type": "code",
   "execution_count": 19,
   "id": "absolute-throw",
   "metadata": {},
   "outputs": [],
   "source": [
    "#Save a file of all the metadata\n",
    "save_file = dfuniquedoi.to_csv('pub-health-reports-'+str(datetime.datetime.now().strftime(\"%Y-%m-%d\"))+'.csv')"
   ]
  },
  {
   "cell_type": "code",
   "execution_count": 19,
   "id": "respiratory-parker",
   "metadata": {},
   "outputs": [],
   "source": [
    "#Open a file if needed\n",
    "dfuniquedoi = pd.read_csv('pub-health-reports-07-01.csv',encoding='utf8')"
   ]
  },
  {
   "cell_type": "code",
   "execution_count": 21,
   "id": "retained-newcastle",
   "metadata": {},
   "outputs": [],
   "source": [
    "#Create a list of all the article ids\n",
    "article_ids = dfuniquedoi['id'].tolist()"
   ]
  },
  {
   "cell_type": "code",
   "execution_count": 22,
   "id": "temporal-breakfast",
   "metadata": {},
   "outputs": [
    {
     "data": {
      "text/plain": [
       "226"
      ]
     },
     "execution_count": 22,
     "metadata": {},
     "output_type": "execute_result"
    }
   ],
   "source": [
    "#article_ids2 = article_ids[12679:16047]\n",
    "len(article_ids)"
   ]
  },
  {
   "cell_type": "code",
   "execution_count": 23,
   "id": "blond-assist",
   "metadata": {},
   "outputs": [
    {
     "name": "stdout",
     "output_type": "stream",
     "text": [
      "The resulting dataframe has 226 rows\n"
     ]
    }
   ],
   "source": [
    "# Create a csv file, use an API to gather data, reopen the csv as a dataframe\n",
    "   \n",
    "\n",
    "#Create csv file\n",
    "metadata=open('article-stats'+str(datetime.datetime.now().strftime(\"%Y-%m-%d\"))+'.csv', 'w', newline='')\n",
    "#Write header row to csv\n",
    "csv.writer(metadata).writerow(['id','views','downloads','shares'])            \n",
    "\n",
    "            \n",
    "for l in article_ids:\n",
    "    s=requests.get('https://stats.figshare.com/total/views/article/'+ str(l),headers={\"mailto\":\"andrew@figshare.com\"})\n",
    "    r=json.loads(s.text)\n",
    "    t=requests.get('https://stats.figshare.com/total/downloads/article/'+ str(l),headers={\"mailto\":\"andrew@figshare.com\"})\n",
    "    q=json.loads(t.text)\n",
    "    u=requests.get('https://stats.figshare.com/total/shares/article/'+ str(l),headers={\"mailto\":\"andrew@figshare.com\"})\n",
    "    v=json.loads(u.text)\n",
    "    \n",
    "    #write the values to the csv file. Dates in json files are seconds from jan 1 1970 so datetime.datetime.fromtimestamp converts\n",
    "    csv.writer(metadata).writerow([\n",
    "        l,\n",
    "        r.get('totals'), #For any of these .get(), adding \",'N/A'\" will fill the null cells with 'N/A'. However, metadata assessment counts non nulls\n",
    "        q.get('totals'),\n",
    "        v.get('totals')]) \n",
    "    \n",
    "    \n",
    "metadata.close() #Close the output file, release all locks\n",
    "\n",
    "#Open up the same file as a dataframe. Encode cp1252 avoids a utf8 error.\n",
    "dfstats = pd.read_csv('article-stats'+str(datetime.datetime.now().strftime(\"%Y-%m-%d\"))+'.csv',encoding='utf8')\n",
    "\n",
    "print('The resulting dataframe has',len(dfstats),'rows')"
   ]
  },
  {
   "cell_type": "code",
   "execution_count": 13,
   "id": "unauthorized-blowing",
   "metadata": {},
   "outputs": [],
   "source": [
    "dfstats = pd.read_csv('article-stats-all-2022-07-02.csv',encoding='utf8')"
   ]
  },
  {
   "cell_type": "code",
   "execution_count": 24,
   "id": "regulation-python",
   "metadata": {},
   "outputs": [],
   "source": [
    "df_full1 = dfuniquedoi.merge(dfstats, how='left', on='id') #left to keep all records, the stats frame is missing 3"
   ]
  },
  {
   "cell_type": "markdown",
   "id": "integrated-consensus",
   "metadata": {},
   "source": [
    "### Gather keyword, category, funder, license, number of files metadata"
   ]
  },
  {
   "cell_type": "code",
   "execution_count": 25,
   "id": "vietnamese-recommendation",
   "metadata": {},
   "outputs": [
    {
     "name": "stdout",
     "output_type": "stream",
     "text": [
      "226 records collected\n"
     ]
    }
   ],
   "source": [
    "def exists(obj, chain):\n",
    "    _key = chain.pop(0)\n",
    "    if _key in obj:\n",
    "        return exists(obj[_key], chain) if chain else obj[_key]\n",
    "\n",
    "#-----------------------------Create csv files---------------------------------------\n",
    "metadata=open('extra-metadata.csv', 'w', encoding='utf-8', newline='')\n",
    "#Write header row to csv\n",
    "\n",
    "csv.writer(metadata).writerow(['id','license','categories','tags','funders','count_references','count_files'])\n",
    "\n",
    "\n",
    "for i in article_ids:\n",
    "    record = json.loads(requests.get('https://api.figshare.com/v2/articles/' + str(i)).content)\n",
    "    #Get publish date, title, categories\n",
    "    #First get a list of category names and funder information from record\n",
    "    cats = []\n",
    "    for c in record['categories']:\n",
    "        cats.append(c['title'])\n",
    "    \n",
    "    funders = [] #funder name might be duplicated across multiple grants for an item. Create a dictionary to deduplicate later\n",
    "    for f in record['funding_list']:\n",
    "        entry = {\"id\":i, \"funder_name\":f['funder_name']}\n",
    "        funders.append(entry)\n",
    "\n",
    "    \n",
    "    #Then write to csv\n",
    "    csv.writer(metadata).writerow([\n",
    "                    i,\n",
    "                    record['license']['name'],\n",
    "                    cats,\n",
    "                    record['tags'],\n",
    "                    funders,\n",
    "                    len(exists(record,['references'])) if exists(record,['references'])!=None else 0,\n",
    "                    len(exists(record,['files'])) if exists(record,['files'])!=None else 0\n",
    "                    ])\n",
    "\n",
    "\n",
    "metadata.close() #Close the output file, release all locks\n",
    "\n",
    "\n",
    "#Load file just created as a dataframe\n",
    "metadata = pd.read_csv('extra-metadata.csv')\n",
    "\n",
    "\n",
    "print(len(metadata),\"records collected\")\n",
    "\n"
   ]
  },
  {
   "cell_type": "code",
   "execution_count": 26,
   "id": "numerous-heaven",
   "metadata": {},
   "outputs": [],
   "source": [
    "df_full = df_full1.merge(metadata, how='inner', on='id')"
   ]
  },
  {
   "cell_type": "code",
   "execution_count": 27,
   "id": "competent-header",
   "metadata": {},
   "outputs": [],
   "source": [
    "#Save the json.\n",
    "with open('pub-health-reports-funding'+str(datetime.datetime.now().strftime(\"%Y-%m-%d\"))+'.json', 'w') as f:\n",
    "    json.dump(funders, f)"
   ]
  },
  {
   "cell_type": "code",
   "execution_count": 28,
   "id": "chief-ceiling",
   "metadata": {},
   "outputs": [],
   "source": [
    "#Save a file of all the metadata\n",
    "save_file = df_full.to_csv('MASTER-pub-health-reports-'+str(datetime.datetime.now().strftime(\"%Y-%m-%d\"))+'.csv')"
   ]
  },
  {
   "cell_type": "code",
   "execution_count": null,
   "id": "regulated-chick",
   "metadata": {},
   "outputs": [],
   "source": []
  },
  {
   "cell_type": "markdown",
   "id": "intimate-medication",
   "metadata": {},
   "source": [
    "## Analysis"
   ]
  },
  {
   "cell_type": "code",
   "execution_count": 22,
   "id": "strategic-identification",
   "metadata": {},
   "outputs": [],
   "source": [
    "#Open a file if needed\n",
    "df_full = pd.read_csv('MASTER-humanities-metadata2022-07-05.csv',encoding='utf8')"
   ]
  },
  {
   "cell_type": "code",
   "execution_count": 58,
   "id": "freelance-terror",
   "metadata": {},
   "outputs": [
    {
     "data": {
      "text/plain": [
       "16048"
      ]
     },
     "execution_count": 58,
     "metadata": {},
     "output_type": "execute_result"
    }
   ],
   "source": [
    "len(df_full)"
   ]
  },
  {
   "cell_type": "code",
   "execution_count": 60,
   "id": "agreed-fleece",
   "metadata": {},
   "outputs": [
    {
     "data": {
      "text/html": [
       "<div>\n",
       "<style scoped>\n",
       "    .dataframe tbody tr th:only-of-type {\n",
       "        vertical-align: middle;\n",
       "    }\n",
       "\n",
       "    .dataframe tbody tr th {\n",
       "        vertical-align: top;\n",
       "    }\n",
       "\n",
       "    .dataframe thead th {\n",
       "        text-align: right;\n",
       "    }\n",
       "</style>\n",
       "<table border=\"1\" class=\"dataframe\">\n",
       "  <thead>\n",
       "    <tr style=\"text-align: right;\">\n",
       "      <th></th>\n",
       "      <th>Unnamed: 0</th>\n",
       "      <th>project_id</th>\n",
       "      <th>id</th>\n",
       "      <th>title</th>\n",
       "      <th>doi</th>\n",
       "      <th>handle</th>\n",
       "      <th>url</th>\n",
       "      <th>published_date</th>\n",
       "      <th>thumb</th>\n",
       "      <th>defined_type</th>\n",
       "      <th>...</th>\n",
       "      <th>resource_doi</th>\n",
       "      <th>views</th>\n",
       "      <th>downloads</th>\n",
       "      <th>shares</th>\n",
       "      <th>license</th>\n",
       "      <th>categories</th>\n",
       "      <th>tags</th>\n",
       "      <th>funders</th>\n",
       "      <th>count_references</th>\n",
       "      <th>count_files</th>\n",
       "    </tr>\n",
       "  </thead>\n",
       "  <tbody>\n",
       "    <tr>\n",
       "      <th>8677</th>\n",
       "      <td>9399</td>\n",
       "      <td>NaN</td>\n",
       "      <td>13696192</td>\n",
       "      <td>Interview with Curtis Martin</td>\n",
       "      <td>10.15786/13696192.v3</td>\n",
       "      <td>NaN</td>\n",
       "      <td>https://api.figshare.com/v2/articles/13696192</td>\n",
       "      <td>2021-11-15T19:18:55Z</td>\n",
       "      <td>https://s3-eu-west-1.amazonaws.com/ppreviews-u...</td>\n",
       "      <td>2</td>\n",
       "      <td>...</td>\n",
       "      <td>NaN</td>\n",
       "      <td>NaN</td>\n",
       "      <td>NaN</td>\n",
       "      <td>NaN</td>\n",
       "      <td>CC BY 4.0</td>\n",
       "      <td>['History']</td>\n",
       "      <td>['Western Wyoming Community College (1989- )',...</td>\n",
       "      <td>[]</td>\n",
       "      <td>0</td>\n",
       "      <td>5</td>\n",
       "    </tr>\n",
       "    <tr>\n",
       "      <th>12678</th>\n",
       "      <td>17833</td>\n",
       "      <td>18224.0</td>\n",
       "      <td>4539143</td>\n",
       "      <td>Russian Wiktionary thesaurus in Gephi format (...</td>\n",
       "      <td>10.6084/m9.figshare.4539143.v1</td>\n",
       "      <td>NaN</td>\n",
       "      <td>https://api.figshare.com/v2/articles/4539143</td>\n",
       "      <td>2017-01-11T05:26:52Z</td>\n",
       "      <td>NaN</td>\n",
       "      <td>3</td>\n",
       "      <td>...</td>\n",
       "      <td>NaN</td>\n",
       "      <td>NaN</td>\n",
       "      <td>NaN</td>\n",
       "      <td>NaN</td>\n",
       "      <td>CC BY 4.0</td>\n",
       "      <td>['Linguistics', 'Computer Graphics']</td>\n",
       "      <td>['thesaurus', 'Gephi', 'Wiktionary']</td>\n",
       "      <td>[{'id': 4539143, 'funder_name': None}]</td>\n",
       "      <td>0</td>\n",
       "      <td>1</td>\n",
       "    </tr>\n",
       "    <tr>\n",
       "      <th>16047</th>\n",
       "      <td>22373</td>\n",
       "      <td>NaN</td>\n",
       "      <td>4684120</td>\n",
       "      <td>Experience as a Catalyst for Healing Ministry:...</td>\n",
       "      <td>10.6084/m9.figshare.4684120.v1</td>\n",
       "      <td>NaN</td>\n",
       "      <td>https://api.figshare.com/v2/articles/4684120</td>\n",
       "      <td>2017-02-23T14:46:22Z</td>\n",
       "      <td>https://s3-eu-west-1.amazonaws.com/pfigshare-u...</td>\n",
       "      <td>14</td>\n",
       "      <td>...</td>\n",
       "      <td>NaN</td>\n",
       "      <td>NaN</td>\n",
       "      <td>NaN</td>\n",
       "      <td>NaN</td>\n",
       "      <td>CC BY 4.0</td>\n",
       "      <td>['History', 'Religious Studies']</td>\n",
       "      <td>['F.F. Bosworth', 'William Branham', 'Miracles...</td>\n",
       "      <td>[]</td>\n",
       "      <td>5</td>\n",
       "      <td>1</td>\n",
       "    </tr>\n",
       "  </tbody>\n",
       "</table>\n",
       "<p>3 rows × 28 columns</p>\n",
       "</div>"
      ],
      "text/plain": [
       "       Unnamed: 0  project_id        id  \\\n",
       "8677         9399         NaN  13696192   \n",
       "12678       17833     18224.0   4539143   \n",
       "16047       22373         NaN   4684120   \n",
       "\n",
       "                                                   title  \\\n",
       "8677                        Interview with Curtis Martin   \n",
       "12678  Russian Wiktionary thesaurus in Gephi format (...   \n",
       "16047  Experience as a Catalyst for Healing Ministry:...   \n",
       "\n",
       "                                  doi  handle  \\\n",
       "8677             10.15786/13696192.v3     NaN   \n",
       "12678  10.6084/m9.figshare.4539143.v1     NaN   \n",
       "16047  10.6084/m9.figshare.4684120.v1     NaN   \n",
       "\n",
       "                                                 url        published_date  \\\n",
       "8677   https://api.figshare.com/v2/articles/13696192  2021-11-15T19:18:55Z   \n",
       "12678   https://api.figshare.com/v2/articles/4539143  2017-01-11T05:26:52Z   \n",
       "16047   https://api.figshare.com/v2/articles/4684120  2017-02-23T14:46:22Z   \n",
       "\n",
       "                                                   thumb  defined_type  ...  \\\n",
       "8677   https://s3-eu-west-1.amazonaws.com/ppreviews-u...             2  ...   \n",
       "12678                                                NaN             3  ...   \n",
       "16047  https://s3-eu-west-1.amazonaws.com/pfigshare-u...            14  ...   \n",
       "\n",
       "      resource_doi  views downloads shares    license  \\\n",
       "8677           NaN    NaN       NaN    NaN  CC BY 4.0   \n",
       "12678          NaN    NaN       NaN    NaN  CC BY 4.0   \n",
       "16047          NaN    NaN       NaN    NaN  CC BY 4.0   \n",
       "\n",
       "                                 categories  \\\n",
       "8677                            ['History']   \n",
       "12678  ['Linguistics', 'Computer Graphics']   \n",
       "16047      ['History', 'Religious Studies']   \n",
       "\n",
       "                                                    tags  \\\n",
       "8677   ['Western Wyoming Community College (1989- )',...   \n",
       "12678               ['thesaurus', 'Gephi', 'Wiktionary']   \n",
       "16047  ['F.F. Bosworth', 'William Branham', 'Miracles...   \n",
       "\n",
       "                                      funders count_references  count_files  \n",
       "8677                                       []                0            5  \n",
       "12678  [{'id': 4539143, 'funder_name': None}]                0            1  \n",
       "16047                                      []                5            1  \n",
       "\n",
       "[3 rows x 28 columns]"
      ]
     },
     "execution_count": 60,
     "metadata": {},
     "output_type": "execute_result"
    }
   ],
   "source": [
    "missing_stats = df_full[df_full['views'].isna()]\n",
    "missing_stats.head()"
   ]
  },
  {
   "cell_type": "code",
   "execution_count": 29,
   "id": "international-newspaper",
   "metadata": {},
   "outputs": [
    {
     "name": "stdout",
     "output_type": "stream",
     "text": [
      "<class 'pandas.core.frame.DataFrame'>\n",
      "Int64Index: 226 entries, 0 to 225\n",
      "Data columns (total 27 columns):\n",
      " #   Column             Non-Null Count  Dtype  \n",
      "---  ------             --------------  -----  \n",
      " 0   project_id         66 non-null     float64\n",
      " 1   id                 226 non-null    int64  \n",
      " 2   title              226 non-null    object \n",
      " 3   doi                195 non-null    object \n",
      " 4   handle             31 non-null     object \n",
      " 5   url                226 non-null    object \n",
      " 6   published_date     226 non-null    object \n",
      " 7   thumb              202 non-null    object \n",
      " 8   defined_type       226 non-null    int64  \n",
      " 9   defined_type_name  226 non-null    object \n",
      " 10  group_id           226 non-null    int64  \n",
      " 11  url_private_api    226 non-null    object \n",
      " 12  url_public_api     226 non-null    object \n",
      " 13  url_private_html   226 non-null    object \n",
      " 14  url_public_html    226 non-null    object \n",
      " 15  timeline           226 non-null    object \n",
      " 16  resource_title     18 non-null     object \n",
      " 17  resource_doi       18 non-null     object \n",
      " 18  views              226 non-null    int64  \n",
      " 19  downloads          226 non-null    int64  \n",
      " 20  shares             226 non-null    int64  \n",
      " 21  license            226 non-null    object \n",
      " 22  categories         226 non-null    object \n",
      " 23  tags               226 non-null    object \n",
      " 24  funders            226 non-null    object \n",
      " 25  count_references   226 non-null    int64  \n",
      " 26  count_files        226 non-null    int64  \n",
      "dtypes: float64(1), int64(8), object(18)\n",
      "memory usage: 49.4+ KB\n"
     ]
    }
   ],
   "source": [
    "df_full.info()"
   ]
  },
  {
   "cell_type": "markdown",
   "id": "atlantic-walker",
   "metadata": {},
   "source": [
    "## Look at dates"
   ]
  },
  {
   "cell_type": "code",
   "execution_count": 31,
   "id": "sporting-deviation",
   "metadata": {},
   "outputs": [],
   "source": [
    "with open(\"pub-health-reports2022-07-15.json\", \"r\", encoding='utf8') as read_file: #Replace this with the filename of your choice\n",
    "    full_records = json.load(read_file)\n"
   ]
  },
  {
   "cell_type": "code",
   "execution_count": 32,
   "id": "thermal-pitch",
   "metadata": {},
   "outputs": [
    {
     "name": "stdout",
     "output_type": "stream",
     "text": [
      "Dates split out and merged, 226 records in dataframe\n"
     ]
    }
   ],
   "source": [
    "#The dates are all contained within one column called 'timeline'. Flatten that column and associate the values\n",
    "#with the proper article id in a new dataframe\n",
    "\n",
    "temp_date_list = []\n",
    "\n",
    "for item in full_records:\n",
    "    dateitem = item['timeline']\n",
    "    dateitem['id'] = item['id']\n",
    "    dateitem['doi'] = item['doi']\n",
    "    temp_date_list.append(dateitem)\n",
    "\n",
    "df_dates = pd.json_normalize(\n",
    "    temp_date_list \n",
    ")\n",
    "\n",
    "#Have to de-duplicate and remove handles to match df_full\n",
    "dfunique = df_dates.drop_duplicates(subset='id', keep=\"first\")\n",
    "#Remove records that have a handle not a doi\n",
    "df_dates_full = dfunique[dfunique['doi'] != \"\"]\n",
    "\n",
    "\n",
    "#Merge the dataframes\n",
    "df_full = df_full.merge(df_dates_full, how='left', on='id')\n",
    "\n",
    "print(\"Dates split out and merged,\",len(df_full),'records in dataframe')"
   ]
  },
  {
   "cell_type": "code",
   "execution_count": 33,
   "id": "perceived-ghana",
   "metadata": {},
   "outputs": [
    {
     "ename": "TypeError",
     "evalue": "'<' not supported between instances of 'float' and 'str'",
     "output_type": "error",
     "traceback": [
      "\u001b[1;31m---------------------------------------------------------------------------\u001b[0m",
      "\u001b[1;31mTypeError\u001b[0m                                 Traceback (most recent call last)",
      "\u001b[1;32m<ipython-input-33-576cf2186014>\u001b[0m in \u001b[0;36m<module>\u001b[1;34m\u001b[0m\n\u001b[0;32m      1\u001b[0m \u001b[0mpost_dates\u001b[0m \u001b[1;33m=\u001b[0m \u001b[0mdf_full\u001b[0m\u001b[1;33m[\u001b[0m\u001b[1;34m'posted'\u001b[0m\u001b[1;33m]\u001b[0m\u001b[1;33m.\u001b[0m\u001b[0mtolist\u001b[0m\u001b[1;33m(\u001b[0m\u001b[1;33m)\u001b[0m\u001b[1;33m\u001b[0m\u001b[1;33m\u001b[0m\u001b[0m\n\u001b[1;32m----> 2\u001b[1;33m \u001b[0mpost_dates\u001b[0m\u001b[1;33m.\u001b[0m\u001b[0msort\u001b[0m\u001b[1;33m(\u001b[0m\u001b[1;33m)\u001b[0m\u001b[1;33m\u001b[0m\u001b[1;33m\u001b[0m\u001b[0m\n\u001b[0m\u001b[0;32m      3\u001b[0m \u001b[0mfirst_date\u001b[0m \u001b[1;33m=\u001b[0m \u001b[0mpost_dates\u001b[0m\u001b[1;33m[\u001b[0m\u001b[1;36m0\u001b[0m\u001b[1;33m]\u001b[0m\u001b[1;33m\u001b[0m\u001b[1;33m\u001b[0m\u001b[0m\n\u001b[0;32m      4\u001b[0m \u001b[0mlast_date\u001b[0m \u001b[1;33m=\u001b[0m \u001b[0mpost_dates\u001b[0m\u001b[1;33m[\u001b[0m\u001b[1;33m-\u001b[0m\u001b[1;36m1\u001b[0m\u001b[1;33m]\u001b[0m\u001b[1;33m\u001b[0m\u001b[1;33m\u001b[0m\u001b[0m\n\u001b[0;32m      5\u001b[0m \u001b[0mprint\u001b[0m\u001b[1;33m(\u001b[0m\u001b[1;34m'Earliest date:'\u001b[0m\u001b[1;33m,\u001b[0m\u001b[0mfirst_date\u001b[0m\u001b[1;33m,\u001b[0m\u001b[1;34m'; Most recent date:'\u001b[0m\u001b[1;33m,\u001b[0m\u001b[0mlast_date\u001b[0m\u001b[1;33m)\u001b[0m\u001b[1;33m\u001b[0m\u001b[1;33m\u001b[0m\u001b[0m\n",
      "\u001b[1;31mTypeError\u001b[0m: '<' not supported between instances of 'float' and 'str'"
     ]
    }
   ],
   "source": [
    "post_dates = df_full['posted'].tolist()\n",
    "post_dates.sort()\n",
    "first_date = post_dates[0]\n",
    "last_date = post_dates[-1]\n",
    "print('Earliest date:',first_date,'; Most recent date:',last_date)"
   ]
  },
  {
   "cell_type": "code",
   "execution_count": 67,
   "id": "possible-orleans",
   "metadata": {},
   "outputs": [
    {
     "name": "stdout",
     "output_type": "stream",
     "text": [
      "Earliest date: 1960-01-01T00:00:00 ; Most recent date: 2022-07-01T04:15:04\n"
     ]
    }
   ],
   "source": [
    "online_dates = df_full['firstOnline'].tolist()\n",
    "online_dates.sort()\n",
    "first_date = online_dates[0]\n",
    "last_date = online_dates[-1]\n",
    "print('Earliest date:',first_date,'; Most recent date:',last_date)"
   ]
  },
  {
   "cell_type": "code",
   "execution_count": 68,
   "id": "killing-bridal",
   "metadata": {},
   "outputs": [
    {
     "name": "stdout",
     "output_type": "stream",
     "text": [
      "Earliest date: 1970-01-01T00:00:00Z ; Most recent date: 2022-07-01T12:12:59Z\n"
     ]
    }
   ],
   "source": [
    "pub_dates = df_full['published_date'].tolist()\n",
    "pub_dates.sort()\n",
    "first_date = pub_dates[0]\n",
    "last_date = pub_dates[-1]\n",
    "print('Earliest date:',first_date,'; Most recent date:',last_date)"
   ]
  },
  {
   "cell_type": "code",
   "execution_count": 34,
   "id": "first-episode",
   "metadata": {},
   "outputs": [
    {
     "data": {
      "text/plain": [
       "report    226\n",
       "Name: defined_type_name, dtype: int64"
      ]
     },
     "execution_count": 34,
     "metadata": {},
     "output_type": "execute_result"
    }
   ],
   "source": [
    "#Look at item type list\n",
    "df_full['defined_type_name'].value_counts()"
   ]
  },
  {
   "cell_type": "code",
   "execution_count": 35,
   "id": "approximate-individual",
   "metadata": {},
   "outputs": [
    {
     "data": {
      "text/plain": [
       "In Copyright                    59\n",
       "CC BY 4.0                       56\n",
       "CC BY-NC-SA 4.0                 37\n",
       "CQUniversity General 1.0        25\n",
       "CC BY-NC-ND 4.0                 20\n",
       "CC BY-ND 4.0                     8\n",
       "CC BY-NC 4.0                     8\n",
       "CQUniversity Open Access 1.0     7\n",
       "CC BY-SA 4.0                     3\n",
       "Public Domain                    1\n",
       "All Rights Reserved 1.0          1\n",
       "CC BY 3.0                        1\n",
       "Name: license, dtype: int64"
      ]
     },
     "execution_count": 35,
     "metadata": {},
     "output_type": "execute_result"
    }
   ],
   "source": [
    "#Look at item type list\n",
    "df_full['license'].value_counts()"
   ]
  },
  {
   "cell_type": "code",
   "execution_count": 36,
   "id": "productive-criminal",
   "metadata": {},
   "outputs": [],
   "source": [
    "#Replace the [] with NaN\n",
    "df_full['funders'].replace('[]', np.NaN, inplace = True)\n"
   ]
  },
  {
   "cell_type": "code",
   "execution_count": 37,
   "id": "distributed-interval",
   "metadata": {},
   "outputs": [
    {
     "data": {
      "text/plain": [
       "142"
      ]
     },
     "execution_count": 37,
     "metadata": {},
     "output_type": "execute_result"
    }
   ],
   "source": [
    "#Count links to funder (this is not just a funder listed, its the name of a funder from Dimensions)\n",
    "df_full['funders'].count()"
   ]
  },
  {
   "cell_type": "code",
   "execution_count": 38,
   "id": "different-allergy",
   "metadata": {},
   "outputs": [
    {
     "data": {
      "text/plain": [
       "1.261061946902655"
      ]
     },
     "execution_count": 38,
     "metadata": {},
     "output_type": "execute_result"
    }
   ],
   "source": [
    "mean_files = df_full['count_files'].mean()\n",
    "mean_files"
   ]
  },
  {
   "cell_type": "code",
   "execution_count": 78,
   "id": "norwegian-carpet",
   "metadata": {},
   "outputs": [
    {
     "name": "stdout",
     "output_type": "stream",
     "text": [
      "13350 records with one or fewer files; 4952 with zero files; 2698 filesets\n"
     ]
    }
   ],
   "source": [
    "#Number of records with 1 or fewer files\n",
    "print(len(df_full[df_full['count_files'] <= 1]),'records with one or fewer files;',\n",
    "      len(df_full[df_full['count_files'] == 0]),'with zero files;',\n",
    "      len(df_full[df_full['count_files'] > 1]),'filesets')\n",
    "\n",
    "      "
   ]
  },
  {
   "cell_type": "code",
   "execution_count": 39,
   "id": "assigned-training",
   "metadata": {},
   "outputs": [
    {
     "name": "stderr",
     "output_type": "stream",
     "text": [
      "<ipython-input-39-fa608e74ad89>:16: UserWarning: FixedFormatter should only be used together with FixedLocator\n",
      "  ax.set_yticklabels(ax.get_yticks(), fontsize = 12)\n"
     ]
    },
    {
     "data": {
      "text/plain": [
       "[Text(0, 0.0, '0.0'),\n",
       " Text(0, 10.0, '10.0'),\n",
       " Text(0, 20.0, '20.0'),\n",
       " Text(0, 30.0, '30.0'),\n",
       " Text(0, 40.0, '40.0'),\n",
       " Text(0, 50.0, '50.0'),\n",
       " Text(0, 60.0, '60.0'),\n",
       " Text(0, 70.0, '70.0'),\n",
       " Text(0, 80.0, '80.0')]"
      ]
     },
     "execution_count": 39,
     "metadata": {},
     "output_type": "execute_result"
    },
    {
     "data": {
      "image/png": "[encoded data removed]",
      "text/plain": [
       "<Figure size 1080x576 with 1 Axes>"
      ]
     },
     "metadata": {
      "needs_background": "light"
     },
     "output_type": "display_data"
    }
   ],
   "source": [
    "#Split the year out and add it as a column\n",
    "year = df_full[\"published_date\"].str.split(\"-\", n = 1, expand = True)\n",
    "df_full['year'] = year[0]\n",
    "\n",
    "#Group by year\n",
    "datechart = df_full.groupby(['year']).count().reset_index()\n",
    "\n",
    "#Chart it all out\n",
    "#sns.color_palette(\"husl\", 8)\n",
    "plt.rcParams[\"figure.figsize\"] = (15,8)\n",
    "ax = sns.barplot(data=datechart, x=\"year\", y=\"id\", palette=[\"C0\"])\n",
    "#ax.set(xlabel='year', ylabel='number of records published')\n",
    "ax.set_ylabel(\"number of records published\", fontsize = 14)\n",
    "ax.set_xlabel(\"year\", fontsize = 14)\n",
    "ax.set_xticklabels(datechart['year'], fontsize = 10, rotation=60, ha=\"right\")\n",
    "ax.set_yticklabels(ax.get_yticks(), fontsize = 12)"
   ]
  },
  {
   "cell_type": "code",
   "execution_count": 80,
   "id": "applied-daily",
   "metadata": {},
   "outputs": [
    {
     "data": {
      "text/plain": [
       "67605"
      ]
     },
     "execution_count": 80,
     "metadata": {},
     "output_type": "execute_result"
    }
   ],
   "source": [
    "tags = df_full['tags'].to_frame()\n",
    "\n",
    "#Clean up the strings so each value is words separated by commas and a space\n",
    "tags['tags_clean'] = tags['tags'].str.replace('[','', regex=False)\n",
    "tags['tags_clean'] = tags['tags_clean'].str.replace(']','', regex=False)\n",
    "tags['tags_clean'] = tags['tags_clean'].str.replace(\"'\",\"\", regex=False)\n",
    "\n",
    "#Create a list to hold the list of words for each row, the tags are added to the sublists based on the ', '\n",
    "tags_clean = []\n",
    "for y in tags['tags_clean']:\n",
    "    value = y.split(', ')\n",
    "    tags_clean.append(value)\n",
    "\n",
    "#Make the list of lists to one list:\n",
    "all_tags = [word for tag in tags_clean for word in tag]\n",
    "len(all_tags)"
   ]
  },
  {
   "cell_type": "code",
   "execution_count": 81,
   "id": "combined-battle",
   "metadata": {},
   "outputs": [],
   "source": [
    "all_tags_df = pd.DataFrame(all_tags, columns = ['tag'])\n",
    "tops = all_tags_df.value_counts()"
   ]
  },
  {
   "cell_type": "code",
   "execution_count": 82,
   "id": "national-spare",
   "metadata": {},
   "outputs": [
    {
     "data": {
      "text/plain": [
       "tag                                       \n",
       "Philosophy                                    499\n",
       "Photography                                   316\n",
       "Stereoscopic                                  297\n",
       "Yellowstone National Park                     297\n",
       "Wyoming                                       297\n",
       "S00033                                        252\n",
       "S00050                                        229\n",
       "Oral history                                  225\n",
       "S00036                                        201\n",
       "S00060                                        182\n",
       "Oral tradition                                164\n",
       "Western Wyoming Community College (1989- )    164\n",
       "digital humanities                            144\n",
       "S00020                                        139\n",
       "S00008                                        138\n",
       "S00030                                        105\n",
       "S00518                                        102\n",
       "History                                        95\n",
       "history                                        94\n",
       "Bioethics                                      93\n",
       "dtype: int64"
      ]
     },
     "execution_count": 82,
     "metadata": {},
     "output_type": "execute_result"
    }
   ],
   "source": [
    "tops.head(20)"
   ]
  },
  {
   "cell_type": "code",
   "execution_count": 40,
   "id": "valuable-delivery",
   "metadata": {},
   "outputs": [
    {
     "data": {
      "text/plain": [
       "0"
      ]
     },
     "execution_count": 40,
     "metadata": {},
     "output_type": "execute_result"
    }
   ],
   "source": [
    "#How many records are on figshare.com, that is, don't have a group_id\n",
    "test = df_full['group_id'].isna().sum()\n",
    "test"
   ]
  },
  {
   "cell_type": "code",
   "execution_count": null,
   "id": "collectible-dating",
   "metadata": {},
   "outputs": [],
   "source": []
  }
 ],
 "metadata": {
  "kernelspec": {
   "display_name": "Python 3",
   "language": "python",
   "name": "python3"
  },
  "language_info": {
   "codemirror_mode": {
    "name": "ipython",
    "version": 3
   },
   "file_extension": ".py",
   "mimetype": "text/x-python",
   "name": "python",
   "nbconvert_exporter": "python",
   "pygments_lexer": "ipython3",
   "version": "3.9.1"
  }
 },
 "nbformat": 4,
 "nbformat_minor": 5
}
