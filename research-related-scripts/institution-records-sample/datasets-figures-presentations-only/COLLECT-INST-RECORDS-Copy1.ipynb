{
 "cells": [
  {
   "cell_type": "markdown",
   "id": "prostate-brand",
   "metadata": {},
   "source": [
    "# Collect metadata from institutions for non-traditional outputs\n",
    "\n",
    "This collects metadata from records in institutional repositories that are using Figshare as the repository platform to create a comparison dataset of non traditional research outputs. \n",
    "\n",
    "The assumption is that these records go through some type of vetting. Five institutions are sampled:\n",
    "- University of Cape Town\n",
    "- Monash University\n",
    "- University of Sheffield\n",
    "- 4TU\n",
    "- University of Arizona\n",
    "\n",
    "50 recent records from the following items types are collected from each institution:\n",
    "- figure\n",
    "- media\n",
    "- dataset\n"
   ]
  },
  {
   "cell_type": "code",
   "execution_count": 1,
   "id": "happy-infection",
   "metadata": {},
   "outputs": [],
   "source": [
    "import csv\n",
    "import requests\n",
    "import json as json\n",
    "import datetime\n",
    "import pandas as pd"
   ]
  },
  {
   "cell_type": "code",
   "execution_count": 37,
   "id": "united-nashville",
   "metadata": {},
   "outputs": [],
   "source": [
    "#List of Institution ids (283-Uni of Cape Town,21-Monash,54-sheffield,898-4tu,797-u Az)\n",
    "INST_LIST = [283,21,54,898,797]"
   ]
  },
  {
   "cell_type": "code",
   "execution_count": 77,
   "id": "blocked-frost",
   "metadata": {},
   "outputs": [
    {
     "name": "stdout",
     "output_type": "stream",
     "text": [
      "156 records collected\n"
     ]
    }
   ],
   "source": [
    "#Get 50 Figures from each institution\n",
    "figures = []\n",
    "\n",
    "for i in INST_LIST:\n",
    "    query = '{\"item_type\":1,\"institution\": ' + str(i) + ',\"page\": 1, \"page_size\": 50}' #add more using a comma\n",
    "    y = json.loads(query) #Figshare API requires json paramaters\n",
    "    response = requests.post('https://api.figshare.com/v2/articles/search', params=y)\n",
    "    j=json.loads(response.text) #parse the json into a list named j\n",
    "    figures.extend(j)\n",
    "    #for x in j:\n",
    "    #    figures.append(x) #Above creates a list. So append each record from that list to the master list\n",
    "    \n",
    "print(len(figures),'records collected')"
   ]
  },
  {
   "cell_type": "code",
   "execution_count": 78,
   "id": "victorian-zoning",
   "metadata": {},
   "outputs": [
    {
     "name": "stdout",
     "output_type": "stream",
     "text": [
      "129 records collected\n"
     ]
    }
   ],
   "source": [
    "#Get 50 Media from each institution\n",
    "media = []\n",
    "\n",
    "for i in INST_LIST:\n",
    "    query = '{\"item_type\":2,\"institution\": ' + str(i) + ',\"page\": 1, \"page_size\": 50}' #add more using a comma\n",
    "    y = json.loads(query) #Figshare API requires json paramaters\n",
    "    response = requests.post('https://api.figshare.com/v2/articles/search', params=y)\n",
    "    j=json.loads(response.text) #parse the json into a list named j\n",
    "    media.extend(j)\n",
    "    \n",
    "print(len(media),'records collected')"
   ]
  },
  {
   "cell_type": "code",
   "execution_count": 79,
   "id": "applied-spine",
   "metadata": {},
   "outputs": [
    {
     "name": "stdout",
     "output_type": "stream",
     "text": [
      "250 records collected\n"
     ]
    }
   ],
   "source": [
    "#Get 50 Datasets from each institution\n",
    "datasets = []\n",
    "\n",
    "for i in INST_LIST:\n",
    "    query = '{\"item_type\":3,\"institution\": ' + str(i) + ',\"page\": 1, \"page_size\": 50}' #add more using a comma\n",
    "    y = json.loads(query) #Figshare API requires json paramaters\n",
    "    response = requests.post('https://api.figshare.com/v2/articles/search', params=y)\n",
    "    j=json.loads(response.text) #parse the json into a list named j\n",
    "    datasets.extend(j)\n",
    "    \n",
    "print(len(datasets),'records collected')"
   ]
  },
  {
   "cell_type": "code",
   "execution_count": 81,
   "id": "wooden-mouse",
   "metadata": {},
   "outputs": [
    {
     "data": {
      "text/plain": [
       "535"
      ]
     },
     "execution_count": 81,
     "metadata": {},
     "output_type": "execute_result"
    }
   ],
   "source": [
    "sample = figures\n",
    "sample.extend(media)\n",
    "sample.extend(datasets)\n",
    "\n",
    "len(sample)"
   ]
  },
  {
   "cell_type": "code",
   "execution_count": 84,
   "id": "compliant-mattress",
   "metadata": {},
   "outputs": [],
   "source": [
    "#Save Master File\n",
    "with open('raw-inst-basic-metadata.json', \"w\") as write_file:\n",
    "    json.dump(sample, write_file)"
   ]
  },
  {
   "cell_type": "code",
   "execution_count": 9,
   "id": "expected-network",
   "metadata": {},
   "outputs": [],
   "source": [
    "#Create a dataframe from the JSON formatted data\n",
    "df = pd.DataFrame(sample)"
   ]
  },
  {
   "cell_type": "code",
   "execution_count": null,
   "id": "distributed-reunion",
   "metadata": {},
   "outputs": [],
   "source": [
    "#Save a file of all the metadata\n",
    "#save_file = df.to_excel(\"xxxxxxxxx.xlsx\")"
   ]
  },
  {
   "cell_type": "code",
   "execution_count": 2,
   "id": "challenging-newspaper",
   "metadata": {},
   "outputs": [
    {
     "name": "stdout",
     "output_type": "stream",
     "text": [
      "535 records\n"
     ]
    }
   ],
   "source": [
    "#Open up the same file for reading\n",
    "with open(\"raw-inst-basic-metadata.json\", \"r\", encoding='utf8') as read_file: #Replace this with the filename of your choice\n",
    "    sample = json.load(read_file)\n",
    "\n",
    "print(len(sample),\"records\")"
   ]
  },
  {
   "cell_type": "code",
   "execution_count": 3,
   "id": "inappropriate-wages",
   "metadata": {},
   "outputs": [
    {
     "name": "stdout",
     "output_type": "stream",
     "text": [
      "535\n"
     ]
    }
   ],
   "source": [
    "#Create list of ids\n",
    "#article_ids = [item['id'] for item in sample]\n",
    "article_ids = []\n",
    "for item in sample:\n",
    "    article_ids.append(item['id'])\n",
    "print(len(article_ids))"
   ]
  },
  {
   "cell_type": "code",
   "execution_count": 8,
   "id": "continental-harvest",
   "metadata": {},
   "outputs": [
    {
     "name": "stdout",
     "output_type": "stream",
     "text": [
      "The resulting dataframe has 535  rows\n"
     ]
    }
   ],
   "source": [
    "# Create a csv file, use the API to gather data, reopen the csv as a dataframe\n",
    "\n",
    "\n",
    "#This function deals with multiply nested json elements in the csv write line below\n",
    "#https://stackoverflow.com/questions/43491287/elegant-way-to-check-if-a-nested-key-exists-in-a-python-dict\n",
    "def exists(obj, chain):\n",
    "    _key = chain.pop(0)\n",
    "    if _key in obj:\n",
    "        return exists(obj[_key], chain) if chain else obj[_key]\n",
    "\n",
    "#Create csv file\n",
    "metadata=open('institution-sample-full-metadata'+str(datetime.datetime.now().strftime(\"%Y-%m-%d\"))+'.csv', 'w', encoding='utf-8', newline='')\n",
    "#Write header row to csv\n",
    "csv.writer(metadata).writerow(['id','description','is_embargoed','funding_list','is_metadata_record','resource_doi','count_categories','count_references','count_tags'])\n",
    "       \n",
    "                      \n",
    "              \n",
    "for l in article_ids:\n",
    "    s=requests.get('https://api.figshare.com/v2/articles/'+str(l))\n",
    "    r=json.loads(s.text)\n",
    "    \n",
    "    #write the values to the csv file.\n",
    "    csv.writer(metadata).writerow([\n",
    "        r['id'],\n",
    "        r.get('description'), #For any of these .get(), adding \",'N/A'\" will fill the null cells with 'N/A'. However, metadata assessment counts non nulls\n",
    "        r.get('is_embargoed'),\n",
    "        exists(r,['funding_list']) if exists(r,['funding_list']) !=None else 0,\n",
    "        r.get('is_metadata_record'),\n",
    "        exists(r,['resource_doi']) if exists(r,['resource_doi']) !=None else 0,\n",
    "        len(exists(r,['categories'])) if exists(r,['categories'])!=None else 0,\n",
    "        len(exists(r,['references'])) if exists(r,['references'])!=None else 0,\n",
    "        len(exists(r,['tags'])) if exists(r,['tags'])!=None else 0]) #write one line to csv file\n",
    "    \n",
    "metadata.close() #Close the output file, release all locks\n",
    "\n",
    "#Open up the same file as a dataframe. Encode cp1252 avoids a utf8 error.\n",
    "dffull = pd.read_csv('institution-sample-full-metadata'+str(datetime.datetime.now().strftime(\"%Y-%m-%d\"))+'.csv',encoding='utf8')\n",
    "\n",
    "print('The resulting dataframe has',len(dffull),' rows')"
   ]
  },
  {
   "cell_type": "code",
   "execution_count": 12,
   "id": "coated-process",
   "metadata": {},
   "outputs": [
    {
     "data": {
      "text/html": [
       "<div>\n",
       "<style scoped>\n",
       "    .dataframe tbody tr th:only-of-type {\n",
       "        vertical-align: middle;\n",
       "    }\n",
       "\n",
       "    .dataframe tbody tr th {\n",
       "        vertical-align: top;\n",
       "    }\n",
       "\n",
       "    .dataframe thead th {\n",
       "        text-align: right;\n",
       "    }\n",
       "</style>\n",
       "<table border=\"1\" class=\"dataframe\">\n",
       "  <thead>\n",
       "    <tr style=\"text-align: right;\">\n",
       "      <th></th>\n",
       "      <th>project_id</th>\n",
       "      <th>id</th>\n",
       "      <th>title</th>\n",
       "      <th>doi</th>\n",
       "      <th>handle</th>\n",
       "      <th>url</th>\n",
       "      <th>published_date</th>\n",
       "      <th>thumb</th>\n",
       "      <th>defined_type</th>\n",
       "      <th>defined_type_name</th>\n",
       "      <th>...</th>\n",
       "      <th>resource_title</th>\n",
       "      <th>resource_doi_x</th>\n",
       "      <th>description</th>\n",
       "      <th>is_embargoed</th>\n",
       "      <th>funding_list</th>\n",
       "      <th>is_metadata_record</th>\n",
       "      <th>resource_doi_y</th>\n",
       "      <th>count_categories</th>\n",
       "      <th>count_references</th>\n",
       "      <th>count_tags</th>\n",
       "    </tr>\n",
       "  </thead>\n",
       "  <tbody>\n",
       "    <tr>\n",
       "      <th>0</th>\n",
       "      <td>NaN</td>\n",
       "      <td>19630440</td>\n",
       "      <td>Acoustic Flight Path Example</td>\n",
       "      <td>10.25375/uct.19630440.v1</td>\n",
       "      <td></td>\n",
       "      <td>https://api.figshare.com/v2/articles/19630440</td>\n",
       "      <td>2022-05-05T13:06:43Z</td>\n",
       "      <td>https://s3-eu-west-1.amazonaws.com/ppreviews-u...</td>\n",
       "      <td>1</td>\n",
       "      <td>figure</td>\n",
       "      <td>...</td>\n",
       "      <td></td>\n",
       "      <td></td>\n",
       "      <td>&lt;p&gt;Example of all the calls recorded from&lt;em&gt; ...</td>\n",
       "      <td>False</td>\n",
       "      <td>[]</td>\n",
       "      <td>False</td>\n",
       "      <td>0</td>\n",
       "      <td>0</td>\n",
       "      <td>0</td>\n",
       "      <td>2</td>\n",
       "    </tr>\n",
       "    <tr>\n",
       "      <th>1</th>\n",
       "      <td>NaN</td>\n",
       "      <td>16866583</td>\n",
       "      <td>A Comparison of Fluorescent Microscopy Methods...</td>\n",
       "      <td>10.25375/uct.16866583.v1</td>\n",
       "      <td></td>\n",
       "      <td>https://api.figshare.com/v2/articles/16866583</td>\n",
       "      <td>2022-04-08T06:28:09Z</td>\n",
       "      <td>https://s3-eu-west-1.amazonaws.com/ppreviews-u...</td>\n",
       "      <td>1</td>\n",
       "      <td>figure</td>\n",
       "      <td>...</td>\n",
       "      <td></td>\n",
       "      <td></td>\n",
       "      <td>&lt;p&gt;&lt;a&gt;&lt;/a&gt;&lt;i&gt;Chlamydia trachomatis&lt;/i&gt; (&lt;i&gt;C. ...</td>\n",
       "      <td>False</td>\n",
       "      <td>[{'id': 21352057, 'title': 'MSC', 'grant_code'...</td>\n",
       "      <td>False</td>\n",
       "      <td>0</td>\n",
       "      <td>0</td>\n",
       "      <td>0</td>\n",
       "      <td>5</td>\n",
       "    </tr>\n",
       "    <tr>\n",
       "      <th>2</th>\n",
       "      <td>128348.0</td>\n",
       "      <td>19227846</td>\n",
       "      <td>A note on the extent of autocorrelation of res...</td>\n",
       "      <td>10.25375/uct.19227846.v1</td>\n",
       "      <td></td>\n",
       "      <td>https://api.figshare.com/v2/articles/19227846</td>\n",
       "      <td>2022-04-07T13:35:46Z</td>\n",
       "      <td>https://s3-eu-west-1.amazonaws.com/ppreviews-u...</td>\n",
       "      <td>1</td>\n",
       "      <td>figure</td>\n",
       "      <td>...</td>\n",
       "      <td></td>\n",
       "      <td></td>\n",
       "      <td>&lt;div&gt;One of the observations by the December 2...</td>\n",
       "      <td>False</td>\n",
       "      <td>[]</td>\n",
       "      <td>False</td>\n",
       "      <td>0</td>\n",
       "      <td>0</td>\n",
       "      <td>0</td>\n",
       "      <td>8</td>\n",
       "    </tr>\n",
       "    <tr>\n",
       "      <th>3</th>\n",
       "      <td>129353.0</td>\n",
       "      <td>19396754</td>\n",
       "      <td>Comparison of t values for different sets of s...</td>\n",
       "      <td>10.25375/uct.19396754.v1</td>\n",
       "      <td></td>\n",
       "      <td>https://api.figshare.com/v2/articles/19396754</td>\n",
       "      <td>2022-04-04T11:25:54Z</td>\n",
       "      <td>https://s3-eu-west-1.amazonaws.com/ppreviews-u...</td>\n",
       "      <td>1</td>\n",
       "      <td>figure</td>\n",
       "      <td>...</td>\n",
       "      <td></td>\n",
       "      <td></td>\n",
       "      <td>Annex E of Report of the ‘Second’ Internationa...</td>\n",
       "      <td>False</td>\n",
       "      <td>[]</td>\n",
       "      <td>False</td>\n",
       "      <td>0</td>\n",
       "      <td>0</td>\n",
       "      <td>1</td>\n",
       "      <td>7</td>\n",
       "    </tr>\n",
       "    <tr>\n",
       "      <th>4</th>\n",
       "      <td>128348.0</td>\n",
       "      <td>19352099</td>\n",
       "      <td>A note on comparisons of recent west coast roc...</td>\n",
       "      <td>10.25375/uct.19352099.v1</td>\n",
       "      <td></td>\n",
       "      <td>https://api.figshare.com/v2/articles/19352099</td>\n",
       "      <td>2022-04-04T09:57:48Z</td>\n",
       "      <td>https://s3-eu-west-1.amazonaws.com/ppreviews-u...</td>\n",
       "      <td>1</td>\n",
       "      <td>figure</td>\n",
       "      <td>...</td>\n",
       "      <td></td>\n",
       "      <td></td>\n",
       "      <td>Recent assessment results in FISHERIES/2015/JA...</td>\n",
       "      <td>False</td>\n",
       "      <td>[]</td>\n",
       "      <td>False</td>\n",
       "      <td>0</td>\n",
       "      <td>0</td>\n",
       "      <td>0</td>\n",
       "      <td>6</td>\n",
       "    </tr>\n",
       "  </tbody>\n",
       "</table>\n",
       "<p>5 rows × 26 columns</p>\n",
       "</div>"
      ],
      "text/plain": [
       "   project_id        id                                              title  \\\n",
       "0         NaN  19630440                       Acoustic Flight Path Example   \n",
       "1         NaN  16866583  A Comparison of Fluorescent Microscopy Methods...   \n",
       "2    128348.0  19227846  A note on the extent of autocorrelation of res...   \n",
       "3    129353.0  19396754  Comparison of t values for different sets of s...   \n",
       "4    128348.0  19352099  A note on comparisons of recent west coast roc...   \n",
       "\n",
       "                        doi handle  \\\n",
       "0  10.25375/uct.19630440.v1          \n",
       "1  10.25375/uct.16866583.v1          \n",
       "2  10.25375/uct.19227846.v1          \n",
       "3  10.25375/uct.19396754.v1          \n",
       "4  10.25375/uct.19352099.v1          \n",
       "\n",
       "                                             url        published_date  \\\n",
       "0  https://api.figshare.com/v2/articles/19630440  2022-05-05T13:06:43Z   \n",
       "1  https://api.figshare.com/v2/articles/16866583  2022-04-08T06:28:09Z   \n",
       "2  https://api.figshare.com/v2/articles/19227846  2022-04-07T13:35:46Z   \n",
       "3  https://api.figshare.com/v2/articles/19396754  2022-04-04T11:25:54Z   \n",
       "4  https://api.figshare.com/v2/articles/19352099  2022-04-04T09:57:48Z   \n",
       "\n",
       "                                               thumb  defined_type  \\\n",
       "0  https://s3-eu-west-1.amazonaws.com/ppreviews-u...             1   \n",
       "1  https://s3-eu-west-1.amazonaws.com/ppreviews-u...             1   \n",
       "2  https://s3-eu-west-1.amazonaws.com/ppreviews-u...             1   \n",
       "3  https://s3-eu-west-1.amazonaws.com/ppreviews-u...             1   \n",
       "4  https://s3-eu-west-1.amazonaws.com/ppreviews-u...             1   \n",
       "\n",
       "  defined_type_name  ...  resource_title resource_doi_x  \\\n",
       "0            figure  ...                                  \n",
       "1            figure  ...                                  \n",
       "2            figure  ...                                  \n",
       "3            figure  ...                                  \n",
       "4            figure  ...                                  \n",
       "\n",
       "                                         description is_embargoed  \\\n",
       "0  <p>Example of all the calls recorded from<em> ...        False   \n",
       "1  <p><a></a><i>Chlamydia trachomatis</i> (<i>C. ...        False   \n",
       "2  <div>One of the observations by the December 2...        False   \n",
       "3  Annex E of Report of the ‘Second’ Internationa...        False   \n",
       "4  Recent assessment results in FISHERIES/2015/JA...        False   \n",
       "\n",
       "                                        funding_list is_metadata_record  \\\n",
       "0                                                 []              False   \n",
       "1  [{'id': 21352057, 'title': 'MSC', 'grant_code'...              False   \n",
       "2                                                 []              False   \n",
       "3                                                 []              False   \n",
       "4                                                 []              False   \n",
       "\n",
       "  resource_doi_y count_categories count_references  count_tags  \n",
       "0              0                0                0           2  \n",
       "1              0                0                0           5  \n",
       "2              0                0                0           8  \n",
       "3              0                0                1           7  \n",
       "4              0                0                0           6  \n",
       "\n",
       "[5 rows x 26 columns]"
      ]
     },
     "execution_count": 12,
     "metadata": {},
     "output_type": "execute_result"
    }
   ],
   "source": [
    "#Merge the basic metadata with the detailed metadata\n",
    "df_master = df.merge(dffull, how='inner', on='id')\n",
    "#Save a CSV file of all the metadata.\n",
    "save_file = df_master.to_csv('institution-sample-MASTER-metadata-'+str(datetime.datetime.now().strftime(\"%Y-%m-%d\"))+'.csv',encoding='utf-8')\n",
    "df_master.head()"
   ]
  },
  {
   "cell_type": "code",
   "execution_count": 13,
   "id": "prostate-argentina",
   "metadata": {},
   "outputs": [],
   "source": []
  },
  {
   "cell_type": "code",
   "execution_count": null,
   "id": "confidential-funds",
   "metadata": {},
   "outputs": [],
   "source": []
  }
 ],
 "metadata": {
  "kernelspec": {
   "display_name": "Python 3",
   "language": "python",
   "name": "python3"
  },
  "language_info": {
   "codemirror_mode": {
    "name": "ipython",
    "version": 3
   },
   "file_extension": ".py",
   "mimetype": "text/x-python",
   "name": "python",
   "nbconvert_exporter": "python",
   "pygments_lexer": "ipython3",
   "version": "3.9.1"
  }
 },
 "nbformat": 4,
 "nbformat_minor": 5
}
