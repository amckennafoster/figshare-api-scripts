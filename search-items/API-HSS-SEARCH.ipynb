{
 "cells": [
  {
   "cell_type": "markdown",
   "id": "touched-guidance",
   "metadata": {},
   "source": [
    "## Import libraries"
   ]
  },
  {
   "cell_type": "code",
   "execution_count": 122,
   "id": "f7e37a43",
   "metadata": {},
   "outputs": [],
   "source": [
    "import json\n",
    "import requests\n",
    "import pandas as pd\n",
    "import datetime\n",
    "import csv"
   ]
  },
  {
   "cell_type": "markdown",
   "id": "educated-share",
   "metadata": {},
   "source": [
    "## Set variables"
   ]
  },
  {
   "cell_type": "code",
   "execution_count": 23,
   "id": "62b4d3ec",
   "metadata": {},
   "outputs": [],
   "source": [
    "BASE_URL = \"https://api.figshare.com/v2\""
   ]
  },
  {
   "cell_type": "code",
   "execution_count": 53,
   "id": "concrete-seafood",
   "metadata": {},
   "outputs": [],
   "source": [
    "categories = [\"'Art'\",\"'Digital Humanities'\",\"'Disability Studies'\",\"'Entertainment'\",\"'Environmental Humanities'\",\n",
    "             \"'Ethnic Studies'\",\"'Gender Studies'\",\"'History'\",\"'Language'\",\"'Law'\",\"'Linguistics'\",\"'Literature'\",\n",
    "             \"'Media Studies'\",\"'Museology'\",\"'Performing Arts'\",\"'Philosophy'\",\"'Rhetoric'\",\"'Religious Studies'\"]"
   ]
  },
  {
   "cell_type": "code",
   "execution_count": 72,
   "id": "enhanced-evolution",
   "metadata": {},
   "outputs": [],
   "source": [
    "test = [\"'Art'\"] #86 and 150 Textile and Fashion Design"
   ]
  },
  {
   "cell_type": "code",
   "execution_count": 61,
   "id": "distant-defense",
   "metadata": {},
   "outputs": [
    {
     "data": {
      "text/plain": [
       "['search_for']"
      ]
     },
     "execution_count": 61,
     "metadata": {},
     "output_type": "execute_result"
    }
   ],
   "source": [
    "res=[]\n",
    "for i in test:\n",
    "    query = '{\"search_for\":\":category: ' + i + '\"}'\n",
    "    y = json.loads(query) #Figshare API requires json paramaters\n",
    "    res.extend(y)\n",
    "res"
   ]
  },
  {
   "cell_type": "code",
   "execution_count": 74,
   "id": "biological-behavior",
   "metadata": {},
   "outputs": [
    {
     "data": {
      "text/plain": [
       "{'search_for': \":category: 'Art'\"}"
      ]
     },
     "execution_count": 74,
     "metadata": {},
     "output_type": "execute_result"
    }
   ],
   "source": [
    "y"
   ]
  },
  {
   "cell_type": "code",
   "execution_count": 77,
   "id": "b014b476",
   "metadata": {},
   "outputs": [
    {
     "name": "stdout",
     "output_type": "stream",
     "text": [
      "22374 articles retrieved\n"
     ]
    }
   ],
   "source": [
    "#Gather basic metadata for items (articles) that meet your search criteria\n",
    "results = []\n",
    "for i in categories:\n",
    "    query = '{\"search_for\":\":category: ' + i + '\"}'\n",
    "    y = json.loads(query) #Figshare API requires json paramaters\n",
    "    for j in range(1,10):\n",
    "        records = json.loads(requests.post(BASE_URL + '/articles/search?page_size=1000&page={}'.format(j), params=y).content)\n",
    "        results.extend(records)\n",
    "    \n",
    "#See the number of articles\n",
    "print(len(results),'articles retrieved')"
   ]
  },
  {
   "cell_type": "code",
   "execution_count": 80,
   "id": "needed-hamilton",
   "metadata": {},
   "outputs": [],
   "source": [
    "#Save the json.\n",
    "with open('humanities-records'+str(datetime.datetime.now().strftime(\"%Y-%m-%d\"))+'.json', 'w') as f:\n",
    "    json.dump(results, f)"
   ]
  },
  {
   "cell_type": "code",
   "execution_count": 112,
   "id": "imported-subdivision",
   "metadata": {},
   "outputs": [],
   "source": [
    "#Create a dataframe from the JSON formatted data\n",
    "dfall = pd.DataFrame(results)"
   ]
  },
  {
   "cell_type": "code",
   "execution_count": 115,
   "id": "swiss-ecology",
   "metadata": {},
   "outputs": [
    {
     "name": "stdout",
     "output_type": "stream",
     "text": [
      "6001 records removed, 16373 unique records remain\n"
     ]
    }
   ],
   "source": [
    "dfunique = dfall.drop_duplicates(subset='id', keep=\"first\")\n",
    "print(len(dfall)-len(df),'records removed,',len(df),'unique records remain')"
   ]
  },
  {
   "cell_type": "code",
   "execution_count": 134,
   "id": "civil-fishing",
   "metadata": {},
   "outputs": [
    {
     "name": "stdout",
     "output_type": "stream",
     "text": [
      "325 records removed, 16048 unique records remain\n"
     ]
    },
    {
     "name": "stderr",
     "output_type": "stream",
     "text": [
      "c:\\users\\andre.desktop-dfg3gu2\\appdata\\local\\programs\\python\\python39\\lib\\site-packages\\pandas\\core\\frame.py:4524: SettingWithCopyWarning: \n",
      "A value is trying to be set on a copy of a slice from a DataFrame\n",
      "\n",
      "See the caveats in the documentation: https://pandas.pydata.org/pandas-docs/stable/user_guide/indexing.html#returning-a-view-versus-a-copy\n",
      "  return super().replace(\n"
     ]
    }
   ],
   "source": [
    "#Remove records that have a handle not a doi\n",
    "nan_value = float(\"NaN\")\n",
    "dfunique = dfunique.replace(\"\", nan_value, inplace=True) #Replace blanks with nan\n",
    "df = dfunique.dropna(subset = [\"doi\"])\n",
    "print(len(dfunique)-len(df),'records removed,',len(df),'unique records remain')"
   ]
  },
  {
   "cell_type": "code",
   "execution_count": 137,
   "id": "absolute-throw",
   "metadata": {},
   "outputs": [],
   "source": [
    "#Save a file of all the metadata\n",
    "save_file = df.to_csv('humanities-metadata'+str(datetime.datetime.now().strftime(\"%Y-%m-%d\"))+'.csv')"
   ]
  },
  {
   "cell_type": "code",
   "execution_count": 135,
   "id": "retained-newcastle",
   "metadata": {},
   "outputs": [],
   "source": [
    "#Create a list of all the article ids\n",
    "article_ids = df['id'].tolist()"
   ]
  },
  {
   "cell_type": "code",
   "execution_count": null,
   "id": "blond-assist",
   "metadata": {},
   "outputs": [],
   "source": [
    "# Create a csv file, use an API to gather data, reopen the csv as a dataframe\n",
    "   \n",
    "\n",
    "#Create csv file\n",
    "metadata=open('article-stats'+str(datetime.datetime.now().strftime(\"%Y-%m-%d\"))+'.csv', 'w', newline='')\n",
    "#Write header row to csv\n",
    "csv.writer(metadata).writerow(['id','views','downloads','shares'])            \n",
    "\n",
    "            \n",
    "for l in article_ids:\n",
    "    s=requests.get('https://stats.figshare.com/total/views/article/'+ str(l))\n",
    "    r=json.loads(s.text)\n",
    "    t=requests.get('https://stats.figshare.com/total/downloads/article/'+ str(l))\n",
    "    q=json.loads(t.text)\n",
    "    u=requests.get('https://stats.figshare.com/total/shares/article/'+ str(l))\n",
    "    v=json.loads(u.text)\n",
    "    \n",
    "    #write the values to the csv file. Dates in json files are seconds from jan 1 1970 so datetime.datetime.fromtimestamp converts\n",
    "    csv.writer(metadata).writerow([\n",
    "        l,\n",
    "        r.get('totals'), #For any of these .get(), adding \",'N/A'\" will fill the null cells with 'N/A'. However, metadata assessment counts non nulls\n",
    "        q.get('totals'),\n",
    "        v.get('totals')]) \n",
    "    \n",
    "    \n",
    "metadata.close() #Close the output file, release all locks\n",
    "\n",
    "#Open up the same file as a dataframe. Encode cp1252 avoids a utf8 error.\n",
    "dfstats = pd.read_csv('article-stats'+str(datetime.datetime.now().strftime(\"%Y-%m-%d\"))+'.csv',encoding='utf8')\n",
    "\n",
    "print('The resulting dataframe has',len(dfstats),'rows')"
   ]
  },
  {
   "cell_type": "code",
   "execution_count": 139,
   "id": "2149a183",
   "metadata": {},
   "outputs": [],
   "source": [
    "metadata.close() #Close the output file, release all locks"
   ]
  },
  {
   "cell_type": "code",
   "execution_count": 128,
   "id": "unauthorized-blowing",
   "metadata": {},
   "outputs": [],
   "source": [
    "#Save a file of all the metadata\n",
    "save_file = dois.to_csv(\"dois.csv\")"
   ]
  },
  {
   "cell_type": "code",
   "execution_count": null,
   "id": "personalized-opinion",
   "metadata": {},
   "outputs": [],
   "source": []
  },
  {
   "cell_type": "code",
   "execution_count": 20,
   "id": "russian-victoria",
   "metadata": {},
   "outputs": [
    {
     "name": "stdout",
     "output_type": "stream",
     "text": [
      "b'<html>\\n <head>\\n  <title>404 Not Found</title>\\n </head>\\n <body>\\n  <h1>404 Not Found</h1>\\n  The resource could not be found.<br/><br/>\\npredicate mismatch for view InstitutionView (request_method = GET,HEAD)\\n\\n\\n </body>\\n</html>'\n"
     ]
    }
   ],
   "source": [
    "print(x.content)"
   ]
  },
  {
   "cell_type": "code",
   "execution_count": null,
   "id": "regulation-python",
   "metadata": {},
   "outputs": [],
   "source": []
  }
 ],
 "metadata": {
  "kernelspec": {
   "display_name": "Python 3",
   "language": "python",
   "name": "python3"
  },
  "language_info": {
   "codemirror_mode": {
    "name": "ipython",
    "version": 3
   },
   "file_extension": ".py",
   "mimetype": "text/x-python",
   "name": "python",
   "nbconvert_exporter": "python",
   "pygments_lexer": "ipython3",
   "version": "3.9.1"
  }
 },
 "nbformat": 4,
 "nbformat_minor": 5
}
