{
 "cells": [
  {
   "cell_type": "markdown",
   "id": "touched-guidance",
   "metadata": {},
   "source": [
    "## Import libraries"
   ]
  },
  {
   "cell_type": "code",
   "execution_count": 1,
   "id": "f7e37a43",
   "metadata": {},
   "outputs": [],
   "source": [
    "import json\n",
    "import requests\n",
    "import pandas as pd"
   ]
  },
  {
   "cell_type": "markdown",
   "id": "educated-share",
   "metadata": {},
   "source": [
    "## Set variables"
   ]
  },
  {
   "cell_type": "code",
   "execution_count": 2,
   "id": "62b4d3ec",
   "metadata": {},
   "outputs": [],
   "source": [
    "BASE_URL = \"https://api.figshare.com/v2\""
   ]
  },
  {
   "cell_type": "markdown",
   "id": "dutch-tactics",
   "metadata": {},
   "source": [
    "## Retrieve Metadata\n",
    "1. Retrieve basic metadata based on search parameters (you can use searchable attributes - https://docs.figshare.com/#search)\n",
    "    \n",
    "    a. For example to look for a misspelling of the word University in the description use \"search_for\":\":description: Universty\" \n",
    "\n",
    "\n",
    "2. Pull out a list of article ids\n",
    "3. Use those ids to retrieve all metadata fields for each article\n",
    "4. Convert the resulting JSON to a dataframe\n",
    "5. Save the dataframe to an excel file called \"search-results.xlsx\""
   ]
  },
  {
   "cell_type": "code",
   "execution_count": 3,
   "id": "b014b476",
   "metadata": {},
   "outputs": [],
   "source": [
    "#Gather basic metadata for items (articles) that meet your search criteria\n",
    "query = '{\"search_for\":\"brine\", \"institution\":\"929\", \"page_size\":1000}' #Can used advanced syntax for 'search_for'\n",
    "\n",
    "y = json.loads(query) #Figshare API requires json paramaters\n",
    "articles = json.loads(requests.post(BASE_URL + \"/articles/search\", params=y).content)\n"
   ]
  },
  {
   "cell_type": "code",
   "execution_count": 4,
   "id": "70041c4c",
   "metadata": {},
   "outputs": [
    {
     "data": {
      "text/plain": [
       "9"
      ]
     },
     "execution_count": 4,
     "metadata": {},
     "output_type": "execute_result"
    }
   ],
   "source": [
    "#See the number of articles\n",
    "len(articles)"
   ]
  },
  {
   "cell_type": "code",
   "execution_count": 15,
   "id": "910a7a14",
   "metadata": {},
   "outputs": [],
   "source": [
    "#Create a list of all the article ids\n",
    "article_ids = [item['id'] for item in articles]"
   ]
  },
  {
   "cell_type": "code",
   "execution_count": 16,
   "id": "bac45c32",
   "metadata": {},
   "outputs": [],
   "source": [
    "#For each id in the article id list, retrieve all the metadata for the article by visiting the Figshare article API endpoint \n",
    "#This may take a while depending on how many articles you are retrieving\n",
    "full_articles = []\n",
    "for art_id in article_ids:\n",
    "    article = json.loads(requests.get(BASE_URL + \"articles/{}\".format(art_id)).content)\n",
    "    full_articles.append(article)"
   ]
  },
  {
   "cell_type": "code",
   "execution_count": 17,
   "id": "020e99ca",
   "metadata": {},
   "outputs": [
    {
     "data": {
      "text/plain": [
       "9"
      ]
     },
     "execution_count": 17,
     "metadata": {},
     "output_type": "execute_result"
    }
   ],
   "source": [
    "#See the number of articles\n",
    "len(full_articles)"
   ]
  },
  {
   "cell_type": "code",
   "execution_count": 18,
   "id": "1180acba",
   "metadata": {},
   "outputs": [
    {
     "data": {
      "text/plain": [
       "{'files': [{'id': 26329708,\n",
       "   'name': 'UGRD_2017_Spring_Hollman_Moss_Robeson_Samet_Wilde.pdf.txt',\n",
       "   'size': 8333,\n",
       "   'is_link_only': False,\n",
       "   'download_url': 'https://ndownloader.figshare.com/files/26329708',\n",
       "   'supplied_md5': 'e11b50ab92337aa292046c2cf09c801e',\n",
       "   'computed_md5': 'e11b50ab92337aa292046c2cf09c801e'},\n",
       "  {'id': 26329711,\n",
       "   'name': 'UGRD_2017_Spring_Hollman_Moss_Robeson_Samet_Wilde.pdf.jpg',\n",
       "   'size': 2773,\n",
       "   'is_link_only': False,\n",
       "   'download_url': 'https://ndownloader.figshare.com/files/26329711',\n",
       "   'supplied_md5': 'ec0b8e807f51e2a64efc88e678feb10f',\n",
       "   'computed_md5': 'ec0b8e807f51e2a64efc88e678feb10f'},\n",
       "  {'id': 26329714,\n",
       "   'name': 'UGRD_2017_Spring_Hollman_Moss_Robeson_Samet_Wilde.pdf',\n",
       "   'size': 2202433,\n",
       "   'is_link_only': False,\n",
       "   'download_url': 'https://ndownloader.figshare.com/files/26329714',\n",
       "   'supplied_md5': '69a05281dd1e87c9bcc45ad62cef7006',\n",
       "   'computed_md5': '69a05281dd1e87c9bcc45ad62cef7006'}],\n",
       " 'custom_fields': [{'name': 'Advisor', 'value': 'Bell, David'},\n",
       "  {'name': 'Alternative title', 'value': ''},\n",
       "  {'name': 'Article number', 'value': ''},\n",
       "  {'name': 'Comments', 'value': ''},\n",
       "  {'name': 'Committee members', 'value': ''},\n",
       "  {'name': 'Country', 'value': ''},\n",
       "  {'name': 'Custom citation', 'value': ''},\n",
       "  {'name': 'Degree', 'value': ''},\n",
       "  {'name': 'First page', 'value': ''},\n",
       "  {'name': 'Last page', 'value': ''},\n",
       "  {'name': 'Graduation date', 'value': ''},\n",
       "  {'name': 'ISBN', 'value': ''},\n",
       "  {'name': 'ISSN', 'value': ''},\n",
       "  {'name': 'Issnum', 'value': ''},\n",
       "  {'name': 'ISO', 'value': 'eng'},\n",
       "  {'name': 'Language', 'value': 'English'},\n",
       "  {'name': 'Publisher', 'value': 'University of Wyoming. Libraries'},\n",
       "  {'name': 'Full text URL', 'value': ''},\n",
       "  {'name': 'Journal title', 'value': ''},\n",
       "  {'name': 'Subject', 'value': ''},\n",
       "  {'name': 'Version', 'value': ''},\n",
       "  {'name': 'Volume number', 'value': ''},\n",
       "  {'name': 'Contributor', 'value': ''},\n",
       "  {'name': 'Contributing institution', 'value': ''},\n",
       "  {'name': 'Duration', 'value': ''},\n",
       "  {'name': 'Collection', 'value': ''},\n",
       "  {'name': 'Handle', 'value': ['https://hdl.handle.net/20.500.11919/2743']}],\n",
       " 'authors': [{'id': 10087930,\n",
       "   'full_name': 'Mhamed Samet',\n",
       "   'is_active': False,\n",
       "   'url_name': '_',\n",
       "   'orcid_id': ''},\n",
       "  {'id': 10087933,\n",
       "   'full_name': 'Josef Robeson',\n",
       "   'is_active': False,\n",
       "   'url_name': '_',\n",
       "   'orcid_id': ''},\n",
       "  {'id': 10087936,\n",
       "   'full_name': 'Mathew Hollmann',\n",
       "   'is_active': False,\n",
       "   'url_name': '_',\n",
       "   'orcid_id': ''},\n",
       "  {'id': 7504592,\n",
       "   'full_name': 'Alexander Moss',\n",
       "   'is_active': False,\n",
       "   'url_name': '_',\n",
       "   'orcid_id': ''},\n",
       "  {'id': 10079578,\n",
       "   'full_name': 'Brandon Wilde',\n",
       "   'is_active': False,\n",
       "   'url_name': '_',\n",
       "   'orcid_id': ''}],\n",
       " 'figshare_url': 'https://wyoscholar.uwyo.edu/articles/presentation/Water_and_Lithium_Recovery_from_Rock_Springs_Uplift_Brines/13704460',\n",
       " 'description': 'The efficient and productive treatment of brines produced during carbon capture and sequestration (CCS) is vital to the sustainability aspect of carbon capture. The Rock Springs Uplift saline formations contain brines with significant amounts of dissolved salts (sodium chloride, lithium carbonate, etc.). This project aims to design a safe and economically feasible brine treatment process for water recovery, and analyze the profitability of the recovery of lithium and other salts. Lithium carbonate is a major battery component with an increasing demand and price worldwide and road salt (sodium chloride) is a commodity valuable in the state of Wyoming and the United States. The water recovered from the brine will be recycled back to the power plant to be used for cooling.',\n",
       " 'funding': None,\n",
       " 'funding_list': [],\n",
       " 'version': 1,\n",
       " 'status': 'public',\n",
       " 'size': 2213539,\n",
       " 'created_date': '2021-02-03T14:30:53Z',\n",
       " 'modified_date': '2021-02-03T16:31:59Z',\n",
       " 'is_public': True,\n",
       " 'is_confidential': False,\n",
       " 'is_metadata_record': False,\n",
       " 'confidential_reason': '',\n",
       " 'metadata_reason': '',\n",
       " 'license': {'value': 1,\n",
       "  'name': 'CC BY 4.0',\n",
       "  'url': 'https://creativecommons.org/licenses/by/4.0/'},\n",
       " 'tags': ['Education'],\n",
       " 'categories': [{'id': 129, 'title': 'Education', 'parent_id': 26}],\n",
       " 'references': [],\n",
       " 'has_linked_file': False,\n",
       " 'citation': 'Samet, Mhamed; Robeson, Josef; Hollmann, Mathew; Moss, Alexander; Wilde, Brandon (2017): Water and Lithium Recovery from Rock Springs Uplift Brines. University of Wyoming. Presentation. https://doi.org/10.15786/13704460.v1',\n",
       " 'is_embargoed': False,\n",
       " 'embargo_date': None,\n",
       " 'embargo_type': None,\n",
       " 'embargo_title': '',\n",
       " 'embargo_reason': '',\n",
       " 'embargo_options': [],\n",
       " 'id': 13704460,\n",
       " 'title': 'Water and Lithium Recovery from Rock Springs Uplift Brines',\n",
       " 'doi': '10.15786/13704460.v1',\n",
       " 'handle': '',\n",
       " 'url': 'https://api.figshare.com/v2/articles/13704460',\n",
       " 'published_date': '2017-06-19T00:00:00Z',\n",
       " 'thumb': 'https://s3-eu-west-1.amazonaws.com/ppreviews-uwyo-0868812688/26329711/thumb.png',\n",
       " 'defined_type': 7,\n",
       " 'defined_type_name': 'presentation',\n",
       " 'group_id': 31589,\n",
       " 'url_private_api': 'https://api.figshare.com/v2/account/articles/13704460',\n",
       " 'url_public_api': 'https://api.figshare.com/v2/articles/13704460',\n",
       " 'url_private_html': 'https://figshare.com/account/articles/13704460',\n",
       " 'url_public_html': 'https://wyoscholar.uwyo.edu/articles/presentation/Water_and_Lithium_Recovery_from_Rock_Springs_Uplift_Brines/13704460',\n",
       " 'timeline': {'posted': '2017-06-19T00:00:00',\n",
       "  'publisherPublication': '2017-06-19T00:00:00',\n",
       "  'firstOnline': '2018-06-10T00:00:00'},\n",
       " 'resource_title': None,\n",
       " 'resource_doi': None}"
      ]
     },
     "execution_count": 18,
     "metadata": {},
     "output_type": "execute_result"
    }
   ],
   "source": [
    "#View the metadata for the first article in JSON format\n",
    "full_articles[0]"
   ]
  },
  {
   "cell_type": "code",
   "execution_count": 19,
   "id": "2149a183",
   "metadata": {},
   "outputs": [],
   "source": [
    "#Create a dataframe from the JSON formatted data\n",
    "df = pd.DataFrame(full_articles)"
   ]
  },
  {
   "cell_type": "code",
   "execution_count": 20,
   "id": "unauthorized-blowing",
   "metadata": {},
   "outputs": [],
   "source": [
    "#Save a file of all the metadata\n",
    "save_file = df.to_excel(\"search-results.xlsx\")"
   ]
  },
  {
   "cell_type": "code",
   "execution_count": null,
   "id": "personalized-opinion",
   "metadata": {},
   "outputs": [],
   "source": []
  },
  {
   "cell_type": "code",
   "execution_count": 2,
   "id": "seeing-carbon",
   "metadata": {},
   "outputs": [],
   "source": [
    "BASE_URL = \"https://api.figsh.com/v2/\""
   ]
  },
  {
   "cell_type": "code",
   "execution_count": 3,
   "id": "dangerous-judgment",
   "metadata": {},
   "outputs": [],
   "source": [
    "api_call_headers = {'Authorization': 'token TOKEN'}"
   ]
  },
  {
   "cell_type": "code",
   "execution_count": 7,
   "id": "second-riverside",
   "metadata": {},
   "outputs": [
    {
     "ename": "JSONDecodeError",
     "evalue": "Expecting value: line 1 column 1 (char 0)",
     "output_type": "error",
     "traceback": [
      "\u001b[1;31m---------------------------------------------------------------------------\u001b[0m",
      "\u001b[1;31mJSONDecodeError\u001b[0m                           Traceback (most recent call last)",
      "\u001b[1;32m<ipython-input-7-79d10d5093ca>\u001b[0m in \u001b[0;36m<module>\u001b[1;34m\u001b[0m\n\u001b[0;32m      4\u001b[0m \u001b[1;33m\u001b[0m\u001b[0m\n\u001b[0;32m      5\u001b[0m \u001b[0my\u001b[0m \u001b[1;33m=\u001b[0m \u001b[0mjson\u001b[0m\u001b[1;33m.\u001b[0m\u001b[0mloads\u001b[0m\u001b[1;33m(\u001b[0m\u001b[0mquery\u001b[0m\u001b[1;33m)\u001b[0m \u001b[1;31m#Figshare API requires json paramaters\u001b[0m\u001b[1;33m\u001b[0m\u001b[1;33m\u001b[0m\u001b[0m\n\u001b[1;32m----> 6\u001b[1;33m \u001b[0marticles\u001b[0m \u001b[1;33m=\u001b[0m \u001b[0mjson\u001b[0m\u001b[1;33m.\u001b[0m\u001b[0mloads\u001b[0m\u001b[1;33m(\u001b[0m\u001b[0mrequests\u001b[0m\u001b[1;33m.\u001b[0m\u001b[0mpost\u001b[0m\u001b[1;33m(\u001b[0m\u001b[0mBASE_URL\u001b[0m \u001b[1;33m+\u001b[0m \u001b[1;34m\"account/institution/articles?page_size=10&order=published_date&order_direction=desc&published_since=2020-01-11&item_type=3\"\u001b[0m\u001b[1;33m,\u001b[0m \u001b[0mheaders\u001b[0m\u001b[1;33m=\u001b[0m\u001b[0mapi_call_headers\u001b[0m\u001b[1;33m)\u001b[0m\u001b[1;33m.\u001b[0m\u001b[0mcontent\u001b[0m\u001b[1;33m)\u001b[0m\u001b[1;33m\u001b[0m\u001b[1;33m\u001b[0m\u001b[0m\n\u001b[0m",
      "\u001b[1;32mc:\\users\\andre.desktop-dfg3gu2\\appdata\\local\\programs\\python\\python39\\lib\\json\\__init__.py\u001b[0m in \u001b[0;36mloads\u001b[1;34m(s, cls, object_hook, parse_float, parse_int, parse_constant, object_pairs_hook, **kw)\u001b[0m\n\u001b[0;32m    344\u001b[0m             \u001b[0mparse_int\u001b[0m \u001b[1;32mis\u001b[0m \u001b[1;32mNone\u001b[0m \u001b[1;32mand\u001b[0m \u001b[0mparse_float\u001b[0m \u001b[1;32mis\u001b[0m \u001b[1;32mNone\u001b[0m \u001b[1;32mand\u001b[0m\u001b[1;33m\u001b[0m\u001b[1;33m\u001b[0m\u001b[0m\n\u001b[0;32m    345\u001b[0m             parse_constant is None and object_pairs_hook is None and not kw):\n\u001b[1;32m--> 346\u001b[1;33m         \u001b[1;32mreturn\u001b[0m \u001b[0m_default_decoder\u001b[0m\u001b[1;33m.\u001b[0m\u001b[0mdecode\u001b[0m\u001b[1;33m(\u001b[0m\u001b[0ms\u001b[0m\u001b[1;33m)\u001b[0m\u001b[1;33m\u001b[0m\u001b[1;33m\u001b[0m\u001b[0m\n\u001b[0m\u001b[0;32m    347\u001b[0m     \u001b[1;32mif\u001b[0m \u001b[0mcls\u001b[0m \u001b[1;32mis\u001b[0m \u001b[1;32mNone\u001b[0m\u001b[1;33m:\u001b[0m\u001b[1;33m\u001b[0m\u001b[1;33m\u001b[0m\u001b[0m\n\u001b[0;32m    348\u001b[0m         \u001b[0mcls\u001b[0m \u001b[1;33m=\u001b[0m \u001b[0mJSONDecoder\u001b[0m\u001b[1;33m\u001b[0m\u001b[1;33m\u001b[0m\u001b[0m\n",
      "\u001b[1;32mc:\\users\\andre.desktop-dfg3gu2\\appdata\\local\\programs\\python\\python39\\lib\\json\\decoder.py\u001b[0m in \u001b[0;36mdecode\u001b[1;34m(self, s, _w)\u001b[0m\n\u001b[0;32m    335\u001b[0m \u001b[1;33m\u001b[0m\u001b[0m\n\u001b[0;32m    336\u001b[0m         \"\"\"\n\u001b[1;32m--> 337\u001b[1;33m         \u001b[0mobj\u001b[0m\u001b[1;33m,\u001b[0m \u001b[0mend\u001b[0m \u001b[1;33m=\u001b[0m \u001b[0mself\u001b[0m\u001b[1;33m.\u001b[0m\u001b[0mraw_decode\u001b[0m\u001b[1;33m(\u001b[0m\u001b[0ms\u001b[0m\u001b[1;33m,\u001b[0m \u001b[0midx\u001b[0m\u001b[1;33m=\u001b[0m\u001b[0m_w\u001b[0m\u001b[1;33m(\u001b[0m\u001b[0ms\u001b[0m\u001b[1;33m,\u001b[0m \u001b[1;36m0\u001b[0m\u001b[1;33m)\u001b[0m\u001b[1;33m.\u001b[0m\u001b[0mend\u001b[0m\u001b[1;33m(\u001b[0m\u001b[1;33m)\u001b[0m\u001b[1;33m)\u001b[0m\u001b[1;33m\u001b[0m\u001b[1;33m\u001b[0m\u001b[0m\n\u001b[0m\u001b[0;32m    338\u001b[0m         \u001b[0mend\u001b[0m \u001b[1;33m=\u001b[0m \u001b[0m_w\u001b[0m\u001b[1;33m(\u001b[0m\u001b[0ms\u001b[0m\u001b[1;33m,\u001b[0m \u001b[0mend\u001b[0m\u001b[1;33m)\u001b[0m\u001b[1;33m.\u001b[0m\u001b[0mend\u001b[0m\u001b[1;33m(\u001b[0m\u001b[1;33m)\u001b[0m\u001b[1;33m\u001b[0m\u001b[1;33m\u001b[0m\u001b[0m\n\u001b[0;32m    339\u001b[0m         \u001b[1;32mif\u001b[0m \u001b[0mend\u001b[0m \u001b[1;33m!=\u001b[0m \u001b[0mlen\u001b[0m\u001b[1;33m(\u001b[0m\u001b[0ms\u001b[0m\u001b[1;33m)\u001b[0m\u001b[1;33m:\u001b[0m\u001b[1;33m\u001b[0m\u001b[1;33m\u001b[0m\u001b[0m\n",
      "\u001b[1;32mc:\\users\\andre.desktop-dfg3gu2\\appdata\\local\\programs\\python\\python39\\lib\\json\\decoder.py\u001b[0m in \u001b[0;36mraw_decode\u001b[1;34m(self, s, idx)\u001b[0m\n\u001b[0;32m    353\u001b[0m             \u001b[0mobj\u001b[0m\u001b[1;33m,\u001b[0m \u001b[0mend\u001b[0m \u001b[1;33m=\u001b[0m \u001b[0mself\u001b[0m\u001b[1;33m.\u001b[0m\u001b[0mscan_once\u001b[0m\u001b[1;33m(\u001b[0m\u001b[0ms\u001b[0m\u001b[1;33m,\u001b[0m \u001b[0midx\u001b[0m\u001b[1;33m)\u001b[0m\u001b[1;33m\u001b[0m\u001b[1;33m\u001b[0m\u001b[0m\n\u001b[0;32m    354\u001b[0m         \u001b[1;32mexcept\u001b[0m \u001b[0mStopIteration\u001b[0m \u001b[1;32mas\u001b[0m \u001b[0merr\u001b[0m\u001b[1;33m:\u001b[0m\u001b[1;33m\u001b[0m\u001b[1;33m\u001b[0m\u001b[0m\n\u001b[1;32m--> 355\u001b[1;33m             \u001b[1;32mraise\u001b[0m \u001b[0mJSONDecodeError\u001b[0m\u001b[1;33m(\u001b[0m\u001b[1;34m\"Expecting value\"\u001b[0m\u001b[1;33m,\u001b[0m \u001b[0ms\u001b[0m\u001b[1;33m,\u001b[0m \u001b[0merr\u001b[0m\u001b[1;33m.\u001b[0m\u001b[0mvalue\u001b[0m\u001b[1;33m)\u001b[0m \u001b[1;32mfrom\u001b[0m \u001b[1;32mNone\u001b[0m\u001b[1;33m\u001b[0m\u001b[1;33m\u001b[0m\u001b[0m\n\u001b[0m\u001b[0;32m    356\u001b[0m         \u001b[1;32mreturn\u001b[0m \u001b[0mobj\u001b[0m\u001b[1;33m,\u001b[0m \u001b[0mend\u001b[0m\u001b[1;33m\u001b[0m\u001b[1;33m\u001b[0m\u001b[0m\n",
      "\u001b[1;31mJSONDecodeError\u001b[0m: Expecting value: line 1 column 1 (char 0)"
     ]
    }
   ],
   "source": [
    "#Gather basic metadata for items (articles) that meet your search criteria\n",
    "query = '{\"search_for\":\"brine\", \"institution\":\"929\", \"page_size\":\"1000\"}' #Can used advanced syntax for 'search_for'\n",
    "\n",
    "\n",
    "y = json.loads(query) #Figshare API requires json paramaters\n",
    "articles = json.loads(requests.post(BASE_URL + \"account/institution/articles?page_size=10&order=published_date&order_direction=desc&published_since=2020-01-11&item_type=3\", headers=api_call_headers).content)"
   ]
  },
  {
   "cell_type": "code",
   "execution_count": 19,
   "id": "moderate-complement",
   "metadata": {},
   "outputs": [
    {
     "ename": "JSONDecodeError",
     "evalue": "Expecting value: line 1 column 1 (char 0)",
     "output_type": "error",
     "traceback": [
      "\u001b[1;31m---------------------------------------------------------------------------\u001b[0m",
      "\u001b[1;31mJSONDecodeError\u001b[0m                           Traceback (most recent call last)",
      "\u001b[1;32m<ipython-input-19-ca6f6a86bc3d>\u001b[0m in \u001b[0;36m<module>\u001b[1;34m\u001b[0m\n\u001b[0;32m      1\u001b[0m \u001b[0mx\u001b[0m \u001b[1;33m=\u001b[0m \u001b[0mrequests\u001b[0m\u001b[1;33m.\u001b[0m\u001b[0mpost\u001b[0m\u001b[1;33m(\u001b[0m\u001b[1;34m\"https://api.figsh.com/v2/account/institution/articles?page_size=10&order=published_date&order_direction=desc&published_since=2020-01-11&item_type=3\"\u001b[0m\u001b[1;33m,\u001b[0m \u001b[0mheaders\u001b[0m\u001b[1;33m=\u001b[0m\u001b[0mapi_call_headers\u001b[0m\u001b[1;33m)\u001b[0m\u001b[1;33m\u001b[0m\u001b[1;33m\u001b[0m\u001b[0m\n\u001b[1;32m----> 2\u001b[1;33m \u001b[0marticles\u001b[0m \u001b[1;33m=\u001b[0m \u001b[0mjson\u001b[0m\u001b[1;33m.\u001b[0m\u001b[0mloads\u001b[0m\u001b[1;33m(\u001b[0m\u001b[0mx\u001b[0m\u001b[1;33m.\u001b[0m\u001b[0mtext\u001b[0m\u001b[1;33m)\u001b[0m\u001b[1;33m\u001b[0m\u001b[1;33m\u001b[0m\u001b[0m\n\u001b[0m",
      "\u001b[1;32mc:\\users\\andre.desktop-dfg3gu2\\appdata\\local\\programs\\python\\python39\\lib\\json\\__init__.py\u001b[0m in \u001b[0;36mloads\u001b[1;34m(s, cls, object_hook, parse_float, parse_int, parse_constant, object_pairs_hook, **kw)\u001b[0m\n\u001b[0;32m    344\u001b[0m             \u001b[0mparse_int\u001b[0m \u001b[1;32mis\u001b[0m \u001b[1;32mNone\u001b[0m \u001b[1;32mand\u001b[0m \u001b[0mparse_float\u001b[0m \u001b[1;32mis\u001b[0m \u001b[1;32mNone\u001b[0m \u001b[1;32mand\u001b[0m\u001b[1;33m\u001b[0m\u001b[1;33m\u001b[0m\u001b[0m\n\u001b[0;32m    345\u001b[0m             parse_constant is None and object_pairs_hook is None and not kw):\n\u001b[1;32m--> 346\u001b[1;33m         \u001b[1;32mreturn\u001b[0m \u001b[0m_default_decoder\u001b[0m\u001b[1;33m.\u001b[0m\u001b[0mdecode\u001b[0m\u001b[1;33m(\u001b[0m\u001b[0ms\u001b[0m\u001b[1;33m)\u001b[0m\u001b[1;33m\u001b[0m\u001b[1;33m\u001b[0m\u001b[0m\n\u001b[0m\u001b[0;32m    347\u001b[0m     \u001b[1;32mif\u001b[0m \u001b[0mcls\u001b[0m \u001b[1;32mis\u001b[0m \u001b[1;32mNone\u001b[0m\u001b[1;33m:\u001b[0m\u001b[1;33m\u001b[0m\u001b[1;33m\u001b[0m\u001b[0m\n\u001b[0;32m    348\u001b[0m         \u001b[0mcls\u001b[0m \u001b[1;33m=\u001b[0m \u001b[0mJSONDecoder\u001b[0m\u001b[1;33m\u001b[0m\u001b[1;33m\u001b[0m\u001b[0m\n",
      "\u001b[1;32mc:\\users\\andre.desktop-dfg3gu2\\appdata\\local\\programs\\python\\python39\\lib\\json\\decoder.py\u001b[0m in \u001b[0;36mdecode\u001b[1;34m(self, s, _w)\u001b[0m\n\u001b[0;32m    335\u001b[0m \u001b[1;33m\u001b[0m\u001b[0m\n\u001b[0;32m    336\u001b[0m         \"\"\"\n\u001b[1;32m--> 337\u001b[1;33m         \u001b[0mobj\u001b[0m\u001b[1;33m,\u001b[0m \u001b[0mend\u001b[0m \u001b[1;33m=\u001b[0m \u001b[0mself\u001b[0m\u001b[1;33m.\u001b[0m\u001b[0mraw_decode\u001b[0m\u001b[1;33m(\u001b[0m\u001b[0ms\u001b[0m\u001b[1;33m,\u001b[0m \u001b[0midx\u001b[0m\u001b[1;33m=\u001b[0m\u001b[0m_w\u001b[0m\u001b[1;33m(\u001b[0m\u001b[0ms\u001b[0m\u001b[1;33m,\u001b[0m \u001b[1;36m0\u001b[0m\u001b[1;33m)\u001b[0m\u001b[1;33m.\u001b[0m\u001b[0mend\u001b[0m\u001b[1;33m(\u001b[0m\u001b[1;33m)\u001b[0m\u001b[1;33m)\u001b[0m\u001b[1;33m\u001b[0m\u001b[1;33m\u001b[0m\u001b[0m\n\u001b[0m\u001b[0;32m    338\u001b[0m         \u001b[0mend\u001b[0m \u001b[1;33m=\u001b[0m \u001b[0m_w\u001b[0m\u001b[1;33m(\u001b[0m\u001b[0ms\u001b[0m\u001b[1;33m,\u001b[0m \u001b[0mend\u001b[0m\u001b[1;33m)\u001b[0m\u001b[1;33m.\u001b[0m\u001b[0mend\u001b[0m\u001b[1;33m(\u001b[0m\u001b[1;33m)\u001b[0m\u001b[1;33m\u001b[0m\u001b[1;33m\u001b[0m\u001b[0m\n\u001b[0;32m    339\u001b[0m         \u001b[1;32mif\u001b[0m \u001b[0mend\u001b[0m \u001b[1;33m!=\u001b[0m \u001b[0mlen\u001b[0m\u001b[1;33m(\u001b[0m\u001b[0ms\u001b[0m\u001b[1;33m)\u001b[0m\u001b[1;33m:\u001b[0m\u001b[1;33m\u001b[0m\u001b[1;33m\u001b[0m\u001b[0m\n",
      "\u001b[1;32mc:\\users\\andre.desktop-dfg3gu2\\appdata\\local\\programs\\python\\python39\\lib\\json\\decoder.py\u001b[0m in \u001b[0;36mraw_decode\u001b[1;34m(self, s, idx)\u001b[0m\n\u001b[0;32m    353\u001b[0m             \u001b[0mobj\u001b[0m\u001b[1;33m,\u001b[0m \u001b[0mend\u001b[0m \u001b[1;33m=\u001b[0m \u001b[0mself\u001b[0m\u001b[1;33m.\u001b[0m\u001b[0mscan_once\u001b[0m\u001b[1;33m(\u001b[0m\u001b[0ms\u001b[0m\u001b[1;33m,\u001b[0m \u001b[0midx\u001b[0m\u001b[1;33m)\u001b[0m\u001b[1;33m\u001b[0m\u001b[1;33m\u001b[0m\u001b[0m\n\u001b[0;32m    354\u001b[0m         \u001b[1;32mexcept\u001b[0m \u001b[0mStopIteration\u001b[0m \u001b[1;32mas\u001b[0m \u001b[0merr\u001b[0m\u001b[1;33m:\u001b[0m\u001b[1;33m\u001b[0m\u001b[1;33m\u001b[0m\u001b[0m\n\u001b[1;32m--> 355\u001b[1;33m             \u001b[1;32mraise\u001b[0m \u001b[0mJSONDecodeError\u001b[0m\u001b[1;33m(\u001b[0m\u001b[1;34m\"Expecting value\"\u001b[0m\u001b[1;33m,\u001b[0m \u001b[0ms\u001b[0m\u001b[1;33m,\u001b[0m \u001b[0merr\u001b[0m\u001b[1;33m.\u001b[0m\u001b[0mvalue\u001b[0m\u001b[1;33m)\u001b[0m \u001b[1;32mfrom\u001b[0m \u001b[1;32mNone\u001b[0m\u001b[1;33m\u001b[0m\u001b[1;33m\u001b[0m\u001b[0m\n\u001b[0m\u001b[0;32m    356\u001b[0m         \u001b[1;32mreturn\u001b[0m \u001b[0mobj\u001b[0m\u001b[1;33m,\u001b[0m \u001b[0mend\u001b[0m\u001b[1;33m\u001b[0m\u001b[1;33m\u001b[0m\u001b[0m\n",
      "\u001b[1;31mJSONDecodeError\u001b[0m: Expecting value: line 1 column 1 (char 0)"
     ]
    }
   ],
   "source": [
    "x = requests.post(\"https://api.figsh.com/v2/account/institution/articles?page_size=10&order=published_date&order_direction=desc&published_since=2020-01-11&item_type=3\", headers=api_call_headers)\n",
    "articles = json.loads(x.text)"
   ]
  },
  {
   "cell_type": "code",
   "execution_count": 20,
   "id": "russian-victoria",
   "metadata": {},
   "outputs": [
    {
     "name": "stdout",
     "output_type": "stream",
     "text": [
      "b'<html>\\n <head>\\n  <title>404 Not Found</title>\\n </head>\\n <body>\\n  <h1>404 Not Found</h1>\\n  The resource could not be found.<br/><br/>\\npredicate mismatch for view InstitutionView (request_method = GET,HEAD)\\n\\n\\n </body>\\n</html>'\n"
     ]
    }
   ],
   "source": [
    "print(x.content)"
   ]
  },
  {
   "cell_type": "code",
   "execution_count": null,
   "id": "regulation-python",
   "metadata": {},
   "outputs": [],
   "source": []
  }
 ],
 "metadata": {
  "kernelspec": {
   "display_name": "Python 3",
   "language": "python",
   "name": "python3"
  },
  "language_info": {
   "codemirror_mode": {
    "name": "ipython",
    "version": 3
   },
   "file_extension": ".py",
   "mimetype": "text/x-python",
   "name": "python",
   "nbconvert_exporter": "python",
   "pygments_lexer": "ipython3",
   "version": "3.9.1"
  }
 },
 "nbformat": 4,
 "nbformat_minor": 5
}
