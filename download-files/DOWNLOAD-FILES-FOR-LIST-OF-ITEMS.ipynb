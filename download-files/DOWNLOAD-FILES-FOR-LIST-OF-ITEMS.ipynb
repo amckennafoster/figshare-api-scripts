{
 "cells": [
  {
   "cell_type": "markdown",
   "id": "blind-freight",
   "metadata": {},
   "source": [
    "# Download files and all metadata for records in a group\n",
    "\n",
    "This uses an endpoint for private files. It saves the files for one or more records and it creates JSON and CSV versions of both the record metadata and file metadata.\n",
    "\n",
    "Instructions:\n",
    "1. Save a CSV called item-ids.csv in the same folder as this notebook. Include a header row called item_id\n",
    "2. Add the list of item ids (even if it's only one) to the first column of that CSV. The item id is the number at the end of the URL for a record. You'll also see this referred to as 'article id'.\n",
    "4. Create a token for your account (https://help.figshare.com/article/how-to-get-a-personal-token)\n",
    "5. Paste the token into a text document called my-token.txt and put that in the same folder as this notebook\n",
    "\n",
    "Caveat: This is not an official Figshare script - it is an example to demostrate API functionality."
   ]
  },
  {
   "cell_type": "code",
   "execution_count": null,
   "id": "closing-drive",
   "metadata": {},
   "outputs": [],
   "source": [
    "import json\n",
    "import requests\n",
    "import pandas as pd\n",
    "import csv\n",
    "from pathlib import Path"
   ]
  },
  {
   "cell_type": "code",
   "execution_count": null,
   "id": "molecular-thickness",
   "metadata": {},
   "outputs": [],
   "source": [
    "#Set the token in the header and base URL\n",
    "\n",
    "text_file = open(\"my-token.txt\", \"r\")\n",
    "TOKEN = text_file.read()\n",
    "TOKEN.strip() #removes any hidden spaces\n",
    "text_file.close()\n",
    "\n",
    "\n",
    "api_call_headers = {'Authorization': 'token ' + TOKEN}\n",
    "\n",
    "#Set the base URL\n",
    "BASE_URL = 'https://api.figshare.com/v2'"
   ]
  },
  {
   "cell_type": "code",
   "execution_count": null,
   "id": "close-ambassador",
   "metadata": {},
   "outputs": [],
   "source": [
    "#Open a file\n",
    "df_ids = pd.read_csv('item-ids.csv',encoding='utf-8')\n",
    "#Make a list\n",
    "ids = df_ids.values.tolist()\n",
    "#This is a list of list. Get the first value of each list\n",
    "ids = [item[0] for item in ids]\n",
    "print(len(ids))"
   ]
  },
  {
   "cell_type": "markdown",
   "id": "polar-invention",
   "metadata": {},
   "source": [
    "## Download all the metadata from your group\n",
    "This creates a JSON and CSV of the full metadata record for each item as well as a JSON file for just file info: article id, file id, file name, computed md5 (this was computed by Figshare during upload so you can check against this later if you like)"
   ]
  },
  {
   "cell_type": "code",
   "execution_count": null,
   "id": "biblical-exchange",
   "metadata": {},
   "outputs": [],
   "source": [
    "#This function deals with nested json values\n",
    "def exists(obj, chain):\n",
    "    _key = chain.pop(0)\n",
    "    if _key in obj:\n",
    "        return exists(obj[_key], chain) if chain else obj[_key]\n",
    "\n",
    "#Create an empty list to hold all metadata and the file info\n",
    "full_metadata = []\n",
    "file_info = []\n",
    "\n",
    "#Make the API call to get metadata for each id\n",
    "for i in ids:\n",
    "    record = json.loads(requests.get('https://api.figshare.com/v2/account/articles/' + str(i), headers=api_call_headers).content)\n",
    "    \n",
    "    for j in record['files']:\n",
    "        entry = {\"article_id\":i, \"file_id\":j['id'], \"name\":j['name'], \"computed_md5\":j['computed_md5']}\n",
    "        file_info.append(entry)\n",
    "\n",
    "    \n",
    "    #add the full metadata to a growing dictionary\n",
    "    full_metadata.append(record)\n",
    "\n",
    "#file_download_info.close()\n",
    "\n",
    "#Save the JSON\n",
    "with open('full-metadata.json', 'w') as f:\n",
    "    json.dump(full_metadata, f)\n",
    "    \n",
    "with open('file-info.json', 'w') as f:\n",
    "    json.dump(file_info, f)\n",
    "\n",
    "#Create a dataframe from the JSON formatted full metaddata\n",
    "df_full = pd.DataFrame(full_metadata)\n",
    "#Save a CSV file of all the metadata\n",
    "save_file = df_full.to_csv('full-metadata.csv',encoding='utf-8')\n",
    "\n",
    "#Create a dataframe from the JSON formatted file metadata\n",
    "df_files = pd.DataFrame(file_info)\n",
    "#Save a CSV file of all the metadata\n",
    "save_file = df_files.to_csv('file-metadata.csv',encoding='utf-8')\n",
    "\n",
    "print('Metadata files created.', len(full_metadata),'full records saved and',len(file_info), 'file records saved.')\n"
   ]
  },
  {
   "cell_type": "markdown",
   "id": "institutional-filename",
   "metadata": {},
   "source": [
    "## Download files to one folder"
   ]
  },
  {
   "cell_type": "code",
   "execution_count": null,
   "id": "precious-writing",
   "metadata": {},
   "outputs": [],
   "source": [
    "#Download each file to a 'files' subfolder and save with the file name\n",
    "\n",
    "for k in file_info:\n",
    "    response = requests.get('https://api.figshare.com/v2/file/download/' + str(k['file_id']), headers=api_call_headers)\n",
    "    Path('files').mkdir(exist_ok=True)\n",
    "    open('files/' + k['name'], 'wb').write(response.content)\n",
    "\n",
    "print('All done.')"
   ]
  },
  {
   "cell_type": "markdown",
   "id": "breeding-antique",
   "metadata": {},
   "source": [
    "## OR download the files to folders labeled by article id"
   ]
  },
  {
   "cell_type": "code",
   "execution_count": null,
   "id": "adverse-appendix",
   "metadata": {},
   "outputs": [],
   "source": [
    "#Download each file to a subfolder named for the article id and save with the file name\n",
    "\n",
    "for k in file_info:\n",
    "    response = requests.get('https://api.figshare.com/v2/file/download/' + str(k['file_id']), headers=api_call_headers)\n",
    "    Path(str(k['article_id'])).mkdir(exist_ok=True)\n",
    "    open(str(k['article_id']) + '/' + k['name'], 'wb').write(response.content)\n",
    "    \n",
    "print('All done.')"
   ]
  }
 ],
 "metadata": {
  "kernelspec": {
   "display_name": "Python 3",
   "language": "python",
   "name": "python3"
  },
  "language_info": {
   "codemirror_mode": {
    "name": "ipython",
    "version": 3
   },
   "file_extension": ".py",
   "mimetype": "text/x-python",
   "name": "python",
   "nbconvert_exporter": "python",
   "pygments_lexer": "ipython3",
   "version": "3.9.1"
  }
 },
 "nbformat": 4,
 "nbformat_minor": 5
}
