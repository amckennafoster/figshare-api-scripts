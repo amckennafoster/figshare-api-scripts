{
 "cells": [
  {
   "cell_type": "markdown",
   "id": "thorough-dictionary",
   "metadata": {},
   "source": [
    "## Bulk upload metadata records for papers from Zotero JSON export\n",
    "This formats the json export from Zotero (CSL-JSON) for upload to Figshare. This uses the create private article API endpoint: https://docs.figsh.com/#private_article_create\n",
    "\n",
    "The json file must have a DOI, URL.\n",
    "\n",
    "\n",
    "Here are the steps:\n",
    "1. Open a json file\n",
    "2. Pull out the relevant fields and give them the proper keys (account for partial dates, author formatting,and missing abstracts)\n",
    "3. Interate through and upload the records\n",
    " - convert the json record to a string with double quotes\n",
    " - upload the record\n",
    " - log the api response details if it fails\n",
    " - update the author list of the new record (removes the admin account as an author). The create record response returns the api endpoint for updating.\n",
    "4. This uploads to a specific group with specific custom metadata. You can change the api key to upload to different accounts. "
   ]
  },
  {
   "cell_type": "markdown",
   "id": "pressed-williams",
   "metadata": {},
   "source": [
    "## Import libraries"
   ]
  },
  {
   "cell_type": "code",
   "execution_count": 2,
   "id": "f7e37a43",
   "metadata": {},
   "outputs": [],
   "source": [
    "import json\n",
    "import requests\n",
    "import pandas as pd"
   ]
  },
  {
   "cell_type": "markdown",
   "id": "authentic-lending",
   "metadata": {},
   "source": [
    "## Set token and descriptor"
   ]
  },
  {
   "cell_type": "code",
   "execution_count": 3,
   "id": "continued-screen",
   "metadata": {},
   "outputs": [],
   "source": [
    "#Set the token in the header. SET FOR OTHER PORTAL\n",
    "#api_call_headers = {'Authorization': 'token ' + '1af0cadb1a50b7f4d7deb383615da4a0e3e583bdae8d5de1b122cd5f30bcde967cc5107c57098605a36853eeb4190fe48ffce0d6ff29c43b44b8e53a9b9e2cee'}\n",
    "\n",
    "#faber: \n",
    "api_call_headers = {'Authorization': 'token ' + 'a6d0c17472139d5f40922625ba5b686b3f52e032c5489926ed2fcf887152f1b2ad3ce452e48e4a1ad537605cef5ca6f6edb32c303b6689afc2a41a622e94b3f5'}\n",
    "\n",
    "#Set the base URL\n",
    "BASE_URL = 'https://api.figsh.com/v2'\n",
    "\n",
    "#Set the group where you'd like to upload items to. Any custom metadata needs to match the code below.\n",
    "#GROUP_ID = 42326\n",
    "\n",
    "#faber group:\n",
    "#GROUP_ID = 10051\n",
    "group_ids = [43686,43690,43684,43686]"
   ]
  },
  {
   "cell_type": "markdown",
   "id": "executed-harbor",
   "metadata": {},
   "source": [
    "## Load the json file"
   ]
  },
  {
   "cell_type": "code",
   "execution_count": 5,
   "id": "amended-notice",
   "metadata": {},
   "outputs": [],
   "source": [
    "#Open the file\n",
    "with open(\"pcu-metadata-upload-zotero.json\", \"r\", encoding='utf8') as read_file: #Replace this with the filename of your choice\n",
    "    jsonfile = json.load(read_file)"
   ]
  },
  {
   "cell_type": "markdown",
   "id": "pressing-heritage",
   "metadata": {},
   "source": [
    "## Format for upload"
   ]
  },
  {
   "cell_type": "code",
   "execution_count": 6,
   "id": "pleased-recognition",
   "metadata": {},
   "outputs": [
    {
     "name": "stdout",
     "output_type": "stream",
     "text": [
      "4 records are ready for upload.\n"
     ]
    }
   ],
   "source": [
    "#Format records for upload. Customize the Custom field section for your group.\n",
    "\n",
    "result = []\n",
    "count = 0\n",
    "for item in jsonfile:\n",
    "    my_dict={}\n",
    "    my_dict['title']=item.get('title')\n",
    "    if 'abstract' in item: #abstract isn't always present\n",
    "        my_dict['description']=item.get('abstract')\n",
    "    else:\n",
    "        my_dict['description']=\"\"\n",
    "    authors = [] #format authors\n",
    "    for name in item['author']:\n",
    "        authorname = {\"name\" : name['given'] + \" \" + name['family']}\n",
    "        authors.append(authorname)\n",
    "    my_dict['authors']= authors\n",
    "    my_dict['defined_type'] = \"journal contribution\"\n",
    "    my_dict['resource_doi']= item.get('DOI')\n",
    "    my_dict['resource_title']=item.get('title')\n",
    "#    if 'issue' in item: #Add custom fields\n",
    "#        my_dict['custom_fields'] = {\"Journal\": jsonfile[0]['container-title'],\"Volume\": jsonfile[0]['volume'],\"Issue\": jsonfile[0]['issue']}\n",
    "#    else:\n",
    "#        my_dict['custom_fields'] = {\"Journal\": jsonfile[0]['container-title'],\"Volume\": jsonfile[0]['volume'],\"Issue\": \"\"}\n",
    "    my_dict['references'] = [item.get('URL')]\n",
    "    date = item['issued']['date-parts'][0] #Use if statements to deal with partial dates\n",
    "    if len(date) == 3:\n",
    "        my_dict['timeline'] =  {\"firstOnline\" : date[0] + \"-\" + str(date[1]) + \"-\" + str(date[2])}\n",
    "    elif len(date) == 2:\n",
    "        my_dict['timeline'] =  {\"firstOnline\" : date[0] + \"-\" + str(date[1]) + \"-01\"} #year and month\n",
    "    else:\n",
    "        my_dict['timeline'] =  {\"firstOnline\" : date[0] + \"-01-01\"} #year only\n",
    "    result.append(my_dict)\n",
    "    #my_dict['group_id'] = GROUP_ID\n",
    "    my_dict['group_id'] = group_ids[count]\n",
    "    count += 1\n",
    "\n",
    "\n",
    "print(len(result),\"records are ready for upload.\")"
   ]
  },
  {
   "cell_type": "code",
   "execution_count": 7,
   "id": "related-paintball",
   "metadata": {},
   "outputs": [
    {
     "name": "stdout",
     "output_type": "stream",
     "text": [
      "{\"title\": \"Improvement of stability of polidocanol foam for nonsurgical permanent contraception\", \"description\": \"Polidocanol foam (PF), used clinically as a venous sclerosant, has recently been studied as a safe and inexpensive means for permanent contraception. Delivering the sclerosant to the fallopian tubes as a foam rather than a liquid increases the surface areas and thus enhances the desired epithelial disrupting activity of the agent. However, the foam is inherently unstable and degrades with time. Therefore, increasing foam stability and thus duration of the agent exposure time could increase epithelial effect while allowing reduction in agent concentration and potential toxicity.\", \"authors\": [{\"name\": \"Jian Xin Guo\"}, {\"name\": \"Lisa Lucchesi\"}, {\"name\": \"Kenton W. Gregory\"}], \"defined_type\": \"journal contribution\", \"resource_doi\": \"10.1016/j.contraception.2015.06.004\", \"resource_title\": \"Improvement of stability of polidocanol foam for nonsurgical permanent contraception\", \"references\": [\"https://www.contraceptionjournal.org/article/S0010-7824(15)00231-0/fulltext\"], \"timeline\": {\"firstOnline\": \"2015-8-1\"}, \"group_id\": 43690}\n"
     ]
    }
   ],
   "source": [
    "print(json.dumps(result[1]))"
   ]
  },
  {
   "cell_type": "markdown",
   "id": "sorted-better",
   "metadata": {},
   "source": [
    "## Upload the records"
   ]
  },
  {
   "cell_type": "code",
   "execution_count": 8,
   "id": "generous-supervisor",
   "metadata": {},
   "outputs": [
    {
     "name": "stdout",
     "output_type": "stream",
     "text": [
      "4 records created.  0 records failed. Failed record indexes: []\n"
     ]
    }
   ],
   "source": [
    "#Upload the records\n",
    "\n",
    "record_fails = []\n",
    "success_count = 0\n",
    "for index, item in enumerate(result):\n",
    "    jsonresult = json.dumps(item) #Takes one record and makes it a json string (double quotes)\n",
    "    r = requests.post(BASE_URL + '/account/articles', headers=api_call_headers, data = jsonresult)\n",
    "    if r.status_code != 201:\n",
    "        record_fails.append(str(index) + \":\" + str(r.content[0:75])) #Add failed index to list with partial description\n",
    "    else:\n",
    "        success_count += 1\n",
    "        #Remove the admin account as an author by updating the record just created\n",
    "        #This uses the article url returned by the API response (r)\n",
    "        authordict = {}\n",
    "        authordict['authors'] = item['authors']\n",
    "        authorjson = json.dumps(authordict) #formats everything with double quotes\n",
    "        s = requests.put(str(r.content)[38:-19], headers=api_call_headers, data = authorjson) #Cut the response to just the URL\n",
    "\n",
    "print(success_count,\"records created. \",len(record_fails),\"records failed. Failed record indexes:\",record_fails)\n"
   ]
  },
  {
   "cell_type": "markdown",
   "id": "considered-westminster",
   "metadata": {},
   "source": [
    "## Next Steps\n",
    "\n",
    "The metadata is uploaded but not published. Log into the account and you can add files, fill in the last of the metadata (like Categories), and publish."
   ]
  }
 ],
 "metadata": {
  "kernelspec": {
   "display_name": "Python 3",
   "language": "python",
   "name": "python3"
  },
  "language_info": {
   "codemirror_mode": {
    "name": "ipython",
    "version": 3
   },
   "file_extension": ".py",
   "mimetype": "text/x-python",
   "name": "python",
   "nbconvert_exporter": "python",
   "pygments_lexer": "ipython3",
   "version": "3.9.1"
  }
 },
 "nbformat": 4,
 "nbformat_minor": 5
}
