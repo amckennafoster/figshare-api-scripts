{
 "cells": [
  {
   "cell_type": "markdown",
   "id": "blind-freight",
   "metadata": {},
   "source": [
    "# Demonstration: Upload metadata with impersonation\n",
    "\n",
    "This takes a properly formatted metadata record with a linked file and uploads it to a user account using impersonation."
   ]
  },
  {
   "cell_type": "code",
   "execution_count": 1,
   "id": "closing-drive",
   "metadata": {},
   "outputs": [],
   "source": [
    "import json\n",
    "import requests"
   ]
  },
  {
   "cell_type": "code",
   "execution_count": 11,
   "id": "molecular-thickness",
   "metadata": {},
   "outputs": [],
   "source": [
    "#Set the token in the header and base URL\n",
    "\n",
    "text_file = open(\"symp-figsh-token.txt\", \"r\")\n",
    "TOKEN = text_file.read()\n",
    "TOKEN.strip() #removes any hidden spaces\n",
    "text_file.close()\n",
    "\n",
    "\n",
    "api_call_headers = {'Authorization': 'token ' + TOKEN}\n",
    "\n",
    "account_id = 2023414 #account id for impersonation\n",
    "\n",
    "#Set the base URL\n",
    "BASE_URL = 'https://api.figsh.com/v2'"
   ]
  },
  {
   "cell_type": "code",
   "execution_count": 42,
   "id": "close-ambassador",
   "metadata": {},
   "outputs": [],
   "source": [
    "#Open a file\n",
    "with open(\"beckham-record.json\", \"r\", encoding='utf8') as read_file: #Replace this with the filename of your choice\n",
    "    jsonfile = json.load(read_file)\n",
    "    \n",
    "#Add the impersonation value\n",
    "jsonfile['impersonate'] = account_id"
   ]
  },
  {
   "cell_type": "code",
   "execution_count": 43,
   "id": "sought-pressing",
   "metadata": {},
   "outputs": [
    {
     "name": "stdout",
     "output_type": "stream",
     "text": [
      "0 record fails. Failed record indexes: []\n"
     ]
    }
   ],
   "source": [
    "#Upload the records\n",
    "\n",
    "record_fails = []\n",
    "\n",
    "jsonresult = json.dumps(jsonfile)\n",
    "r = requests.post(BASE_URL + '/account/articles', headers=api_call_headers, data = jsonresult)\n",
    "\n",
    "if r.status_code != 201:\n",
    "    record_fails.append(str(r.content[0:75])) #Add failed index to list with partial description\n",
    "else:\n",
    "\n",
    "    #Remove the admin account as an author by updating the record just created\n",
    "    #This uses the article url returned by the API response (r)\n",
    "    authordict = {}\n",
    "    authordict['authors'] = jsonfile['authors']\n",
    "    authordict['impersonate'] = account_id\n",
    "    authorjson = json.dumps(authordict) #formats everything with double quotes\n",
    "    #new_url = str(r.content)[39:-19] #Cut the response to just the URL\n",
    "    response_json = json.loads(r.content)\n",
    "    new_url = response_json['location']\n",
    "    s = requests.put(new_url, headers=api_call_headers, data = authorjson) \n",
    "    \n",
    "    #Upload a link as a file\n",
    "    link = '{\"link\":\"https://doi.org/10.1038/s41557-022-01030-y\",\"impersonate\":' + str(account_id) + '}' #hand send it for stage\n",
    "    tup = new_url.rpartition('/') #From end of URL, split string '/' \n",
    "    article_id = str(tup[2]) #Then select the id from the resulting tuple.\n",
    "    t = requests.post(BASE_URL + '/account/articles/' + str(article_id) +'/files', headers=api_call_headers, data = link)\n",
    "\n",
    "    #Publish the record\n",
    "    body = '{\"impersonate\":' + str(account_id) + '}'\n",
    "    u = requests.post(BASE_URL + '/account/articles/' + str(article_id) +'/publish', headers=api_call_headers, data = body)\n",
    "    \n",
    "        \n",
    "print('The record is created and available here:',json.loads(u.content)['location'])\n"
   ]
  }
 ],
 "metadata": {
  "kernelspec": {
   "display_name": "Python 3",
   "language": "python",
   "name": "python3"
  },
  "language_info": {
   "codemirror_mode": {
    "name": "ipython",
    "version": 3
   },
   "file_extension": ".py",
   "mimetype": "text/x-python",
   "name": "python",
   "nbconvert_exporter": "python",
   "pygments_lexer": "ipython3",
   "version": "3.9.1"
  }
 },
 "nbformat": 4,
 "nbformat_minor": 5
}
